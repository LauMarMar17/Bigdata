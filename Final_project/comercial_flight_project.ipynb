{
 "cells": [
  {
   "cell_type": "markdown",
   "metadata": {},
   "source": [
    "# Spark Practical Work\n",
    "\n",
    "We are supposed to create a model capable of predicting the arrival delay time of a commercial flight based on several parameters known at the take-off time. Tasks:\n",
    "* Load the input data, previously stored at a known location.\n",
    "* Select, process and transform the input variables, to prepare them for training the model.\n",
    "* Perform some basic analysis of each input variable. \n",
    "* Create a ML model that predicts the arrival delay time.\n",
    "* Validate the created model and provide some measures of its accuracy.\n"
   ]
  },
  {
   "cell_type": "code",
   "execution_count": 1,
   "metadata": {},
   "outputs": [
    {
     "data": {
      "text/plain": [
       "'/home/dslab/workspaces/rrunix/spark/final_project'"
      ]
     },
     "execution_count": 1,
     "metadata": {},
     "output_type": "execute_result"
    }
   ],
   "source": [
    "import os\n",
    "os.getcwd()"
   ]
  },
  {
   "cell_type": "code",
   "execution_count": 5,
   "metadata": {},
   "outputs": [],
   "source": [
    "from pyspark.sql import SparkSession\n",
    "from pyspark.conf import SparkConf\n",
    "from pyspark.sql.types import *\n",
    "from pyspark.sql.functions import *\n",
    "\n",
    "conf = SparkConf().set(\"spark.driver.memory\", \"4g\").set(\"spark.executor.memory\", \"4g\").set(\"loglevel\", \"ERROR\")\n",
    "spark = SparkSession.builder \\\n",
    "            .appName(\"ComercialFlights\") \\\n",
    "            .master(\"local[*]\") \\\n",
    "            .config(conf=conf) \\\n",
    "            .getOrCreate()\n"
   ]
  },
  {
   "cell_type": "code",
   "execution_count": 4,
   "metadata": {},
   "outputs": [],
   "source": [
    "# spark.stop()"
   ]
  },
  {
   "cell_type": "markdown",
   "metadata": {},
   "source": [
    "# 1. Load data"
   ]
  },
  {
   "cell_type": "code",
   "execution_count": 6,
   "metadata": {},
   "outputs": [],
   "source": [
    "# load files .bz2 from data folder\n",
    "# extract files and read them into pyspark dataframe\n",
    "\n",
    "files = os.listdir(\"data/\")\n",
    "files = [file for file in files if file.endswith('.bz2')]\n",
    "\n",
    "# read files into spark dataframes\n",
    "dfs = []\n",
    "for file in files:\n",
    "\t# read them into df\n",
    "\tdf_ = spark.read.csv(\"data/\" + files[0], header=True, sep=\",\")\n",
    "\tdfs.append(df_)\n",
    "\n",
    "from functools import reduce\n",
    "# union all dataframes into one\n",
    "df = reduce(DataFrame.unionAll, dfs)"
   ]
  },
  {
   "cell_type": "code",
   "execution_count": 7,
   "metadata": {},
   "outputs": [
    {
     "name": "stderr",
     "output_type": "stream",
     "text": [
      "23/12/26 14:58:49 WARN SparkStringUtils: Truncated the string representation of a plan since it was too large. This behavior can be adjusted by setting 'spark.sql.debug.maxToStringFields'.\n"
     ]
    },
    {
     "name": "stdout",
     "output_type": "stream",
     "text": [
      "+----+-----+----------+---------+-------+----------+-------+----------+-------------+---------+-------+-----------------+--------------+-------+--------+--------+------+----+--------+------+-------+---------+----------------+--------+------------+------------+--------+-------------+-----------------+\n",
      "|Year|Month|DayofMonth|DayOfWeek|DepTime|CRSDepTime|ArrTime|CRSArrTime|UniqueCarrier|FlightNum|TailNum|ActualElapsedTime|CRSElapsedTime|AirTime|ArrDelay|DepDelay|Origin|Dest|Distance|TaxiIn|TaxiOut|Cancelled|CancellationCode|Diverted|CarrierDelay|WeatherDelay|NASDelay|SecurityDelay|LateAircraftDelay|\n",
      "+----+-----+----------+---------+-------+----------+-------+----------+-------------+---------+-------+-----------------+--------------+-------+--------+--------+------+----+--------+------+-------+---------+----------------+--------+------------+------------+--------+-------------+-----------------+\n",
      "|1988|    1|         9|        6|   1348|      1331|   1458|      1435|           PI|      942|     NA|               70|            64|     NA|      23|      17|   SYR| BWI|     273|    NA|     NA|        0|              NA|       0|          NA|          NA|      NA|           NA|               NA|\n",
      "|1988|    1|        10|        7|   1334|      1331|   1443|      1435|           PI|      942|     NA|               69|            64|     NA|       8|       3|   SYR| BWI|     273|    NA|     NA|        0|              NA|       0|          NA|          NA|      NA|           NA|               NA|\n",
      "|1988|    1|        11|        1|   1446|      1331|   1553|      1435|           PI|      942|     NA|               67|            64|     NA|      78|      75|   SYR| BWI|     273|    NA|     NA|        0|              NA|       0|          NA|          NA|      NA|           NA|               NA|\n",
      "|1988|    1|        12|        2|   1334|      1331|   1438|      1435|           PI|      942|     NA|               64|            64|     NA|       3|       3|   SYR| BWI|     273|    NA|     NA|        0|              NA|       0|          NA|          NA|      NA|           NA|               NA|\n",
      "|1988|    1|        13|        3|   1341|      1331|   1503|      1435|           PI|      942|     NA|               82|            64|     NA|      28|      10|   SYR| BWI|     273|    NA|     NA|        0|              NA|       0|          NA|          NA|      NA|           NA|               NA|\n",
      "+----+-----+----------+---------+-------+----------+-------+----------+-------------+---------+-------+-----------------+--------------+-------+--------+--------+------+----+--------+------+-------+---------+----------------+--------+------------+------------+--------+-------------+-----------------+\n",
      "only showing top 5 rows\n",
      "\n"
     ]
    }
   ],
   "source": [
    "df.show(5)"
   ]
  },
  {
   "cell_type": "code",
   "execution_count": 6,
   "metadata": {},
   "outputs": [
    {
     "name": "stdout",
     "output_type": "stream",
     "text": [
      "root\n",
      " |-- Year: string (nullable = true)\n",
      " |-- Month: string (nullable = true)\n",
      " |-- DayofMonth: string (nullable = true)\n",
      " |-- DayOfWeek: string (nullable = true)\n",
      " |-- DepTime: string (nullable = true)\n",
      " |-- CRSDepTime: string (nullable = true)\n",
      " |-- ArrTime: string (nullable = true)\n",
      " |-- CRSArrTime: string (nullable = true)\n",
      " |-- UniqueCarrier: string (nullable = true)\n",
      " |-- FlightNum: string (nullable = true)\n",
      " |-- TailNum: string (nullable = true)\n",
      " |-- ActualElapsedTime: string (nullable = true)\n",
      " |-- CRSElapsedTime: string (nullable = true)\n",
      " |-- AirTime: string (nullable = true)\n",
      " |-- ArrDelay: string (nullable = true)\n",
      " |-- DepDelay: string (nullable = true)\n",
      " |-- Origin: string (nullable = true)\n",
      " |-- Dest: string (nullable = true)\n",
      " |-- Distance: string (nullable = true)\n",
      " |-- TaxiIn: string (nullable = true)\n",
      " |-- TaxiOut: string (nullable = true)\n",
      " |-- Cancelled: string (nullable = true)\n",
      " |-- CancellationCode: string (nullable = true)\n",
      " |-- Diverted: string (nullable = true)\n",
      " |-- CarrierDelay: string (nullable = true)\n",
      " |-- WeatherDelay: string (nullable = true)\n",
      " |-- NASDelay: string (nullable = true)\n",
      " |-- SecurityDelay: string (nullable = true)\n",
      " |-- LateAircraftDelay: string (nullable = true)\n",
      "\n"
     ]
    }
   ],
   "source": [
    "df.printSchema()"
   ]
  },
  {
   "cell_type": "code",
   "execution_count": 7,
   "metadata": {},
   "outputs": [
    {
     "name": "stderr",
     "output_type": "stream",
     "text": [
      "[Stage 4:=====================================================>   (34 + 2) / 36]\r"
     ]
    },
    {
     "name": "stdout",
     "output_type": "stream",
     "text": [
      "Number of rows:  15606288\n",
      "Number of columns:  29\n"
     ]
    },
    {
     "name": "stderr",
     "output_type": "stream",
     "text": [
      "                                                                                \r"
     ]
    }
   ],
   "source": [
    "# comprobar el numero de filas de df \n",
    "n_rows = df.count()\n",
    "n_cols1 = len(df.columns)\n",
    "\n",
    "print(\"Number of rows: \", n_rows)\n",
    "# comprobar el numero de columnas de df\n",
    "print(\"Number of columns: \", n_cols1)"
   ]
  },
  {
   "cell_type": "markdown",
   "metadata": {},
   "source": [
    "# 2. Process data"
   ]
  },
  {
   "cell_type": "markdown",
   "metadata": {},
   "source": [
    "The dataset has 29 columns. We won't use all of them. The ones that should be droped are: \n",
    "* ArrTime\n",
    "* ActualElapsedTime\n",
    "* AirTime\n",
    "* TaxiIn\n",
    "* Diverted\n",
    "* CarrierDelay\n",
    "* WeatherDelay\n",
    "* NASDelay\n",
    "* SecurityDelay\n",
    "* LateAircraftDelay\n",
    "\n",
    "Meaning of the variables that we keep: \n",
    "1. Year 1987-2008 \n",
    "2. Month 1-12 \n",
    "3. DayofMonth 1-31 \n",
    "4. DayOfWeek 1 (Monday) - 7 (Sunday)\n",
    "5. DepTime actual departure time (local, hhm m) \n",
    "6. CRSDepTime scheduled departure time (local, hhmm) \n",
    "7. CRSArrTime scheduled arrival time (local, hhmm) \n",
    "8. UniqueCarrier Airline code \n",
    "9. FlightNum flight number \n",
    "10. TailNum plane tail number \n",
    "11. CRSElapsedTime in minutes (estimated flight time)\n",
    "12. ArrDelay arrival delay, in minutes -- TARGET VARIABLE\n",
    "13. DepDelay departure delay, in minutes \n",
    "14. Origin origin IATA airport code \n",
    "15. Dest destination IATA airport code \n",
    "16. Distance in miles \n",
    "17. TaxiOut taxi out time in minutes (tiempo que tarda el avión desde la puerta de embarque hasta el despegue\")\n",
    "18. Cancelled was the flight cancelled? \n",
    "19. CancellationCode reason for cancellation (A = carrier, B = weather, C = NAS, D = security) "
   ]
  },
  {
   "cell_type": "markdown",
   "metadata": {},
   "source": [
    "### Useful functions"
   ]
  },
  {
   "cell_type": "code",
   "execution_count": 8,
   "metadata": {},
   "outputs": [],
   "source": [
    "from pyspark.sql.functions import *\n",
    "from pyspark.ml.feature import StringIndexer\n",
    "\n",
    "# rename columns:\n",
    "def edit_column_names(df):\n",
    "    \"\"\"\n",
    "    Edit column names to lowercase and replace spaces with underscores.\n",
    "    \n",
    "    Param:\n",
    "    - df: spark dataframe\n",
    "    \n",
    "    Return:\n",
    "    - df: spark dataframe with edited column names\n",
    "    \"\"\"\n",
    "    df =  df.withColumnRenamed('DayofMonth','day_of_month').\\\n",
    "                withColumnRenamed('DayOfWeek','day_of_week').\\\n",
    "                withColumnRenamed('DepTime','actual_departure_time').\\\n",
    "                withColumnRenamed('CRSDepTime','scheduled_departure_time').\\\n",
    "                withColumnRenamed('ArrTime','actual_arrival_time').\\\n",
    "                withColumnRenamed('CRSArrTime','scheduled_arrival_time').\\\n",
    "                withColumnRenamed('UniqueCarrier','airline_code').\\\n",
    "                withColumnRenamed('FlightNum','flight_number').\\\n",
    "                withColumnRenamed('TailNum','plane_number').\\\n",
    "                withColumnRenamed('ActualElapsedTime','actual_flight_time').\\\n",
    "                withColumnRenamed('CRSElapsedTime','scheduled_flight_time').\\\n",
    "                withColumnRenamed('AirTime','air_time').\\\n",
    "                withColumnRenamed('ArrDelay','arrival_delay').\\\n",
    "                withColumnRenamed('DepDelay','departure_delay').\\\n",
    "                withColumnRenamed('TaxiIn','taxi_in').\\\n",
    "                withColumnRenamed('TaxiOut','taxi_out').\\\n",
    "                withColumnRenamed('CancellationCode','cancellation_code').\\\n",
    "                withColumnRenamed('CarrierDelay','carrier_delay').\\\n",
    "                withColumnRenamed('WeatherDelay','weather_delay').\\\n",
    "                withColumnRenamed('NASDelay','nas_delay').\\\n",
    "                withColumnRenamed('SecurityDelay','security_delay').\\\n",
    "                withColumnRenamed('LateAircraftDelay','late_aircraft_delay')\n",
    "    for col in df.columns:\n",
    "        df = df.withColumnRenamed(col, col.lower())\n",
    "    return df\n",
    "\n",
    "# some strings to float:\n",
    "def string_to_float(df):\n",
    "    \"\"\" \n",
    "    Convert some columns from string to float.\n",
    "    \n",
    "    Param:\n",
    "    - df: spark dataframe\n",
    "    \n",
    "    Return:\n",
    "    - df: spark dataframe with some columns converted to float\n",
    "    \"\"\"\n",
    "    df = df.withColumn('year', col('year').cast('float'))\n",
    "    df = df.withColumn('month', col('month').cast('float'))\n",
    "    df = df.withColumn('day_of_month', col('day_of_month').cast('float'))\n",
    "    df = df.withColumn('day_of_week', col('day_of_week').cast('float'))\n",
    "    df = df.withColumn('arrival_delay', col('arrival_delay').cast('float'))\n",
    "    df = df.withColumn('departure_delay', col('departure_delay').cast('float'))\n",
    "    df = df.withColumn('taxi_out', col('taxi_out').cast('float'))\n",
    "    df = df.withColumn('distance', col('distance').cast('float'))\n",
    "    df = df.withColumn('cancelled', col('cancelled').cast('float'))\n",
    "    df = df.withColumn('flight_number', col('flight_number').cast('float'))\n",
    "\n",
    "\n",
    "    return df\n",
    "\n",
    "# encode categorical features:\n",
    "def encode_categorical_features(df):\n",
    "    \"\"\" \n",
    "    Encode categorical features using StringIndexer. \n",
    "    The output is a new column with the index of the category (0, 1, 2, ...)\n",
    "    \n",
    "    Param:\n",
    "    - df: spark dataframe\n",
    "    \n",
    "    Return:\n",
    "    - df: spark dataframe with categorical features encoded\n",
    "    \"\"\"\n",
    "    \n",
    "    indexer = StringIndexer(inputCols=['airline_code', 'origin', 'dest', 'cancellation_code', 'plane_number'],\n",
    "                            outputCols=['airline_index', 'origin_index', 'dest_index', 'cancellation_index', 'plane_index'])\n",
    "    \n",
    "    df = indexer.fit(df).transform(df)\n",
    "    return df\n",
    "    \n",
    "# convert time to minutes:\n",
    "def convert_time_to_minutes(df):\n",
    "    \"\"\" \n",
    "    Convert time to minutes. Creates new columns with the time in minutes and drop the original ones.\n",
    "    To compute it we take the first two digits and multiply by 60 and add the last two digits.\n",
    "    This is applied to: actual_departure_time, scheduled_departure_time, scheduled_arrival_time, scheduled_flight_time\n",
    "    Param:\n",
    "    - df: spark dataframe\n",
    "    \n",
    "    Return:\n",
    "    - df: spark dataframe with new columns with time in minutes\n",
    "    \"\"\"\n",
    "    df = df.withColumn('actual_departure_hour', (col('actual_departure_time') / 100).cast('int'))\n",
    "    df = df.withColumn('scheduled_departure_hour', (col('scheduled_departure_time') / 100).cast('int'))\n",
    "    df = df.withColumn('scheduled_arrival_hour', (col('scheduled_arrival_time') / 100).cast('int'))\n",
    "    df = df.withColumn('scheduled_flight_hour', (col('scheduled_flight_time') / 100).cast('int'))\n",
    "    \n",
    "    df = df.withColumn('actual_departure_time_mins', (col('actual_departure_hour') * 60) + (col('actual_departure_time') % 100))\n",
    "    df = df.withColumn('scheduled_departure_time_mins', (col('scheduled_departure_hour') * 60) + (col('scheduled_departure_time') % 100))\n",
    "    df = df.withColumn('scheduled_arrival_time_mins', (col('scheduled_arrival_hour') * 60) + (col('scheduled_arrival_time') % 100))\n",
    "    df = df.withColumn('scheduled_flight_time_mins', (col('scheduled_flight_hour') * 60) + (col('scheduled_flight_time') % 100))\n",
    "    \n",
    "    df = df.drop('actual_departure_hour', 'scheduled_departure_hour', 'scheduled_arrival_hour', 'scheduled_flight_hour')\n",
    "    \n",
    "    return df\n",
    "\n",
    "# drop columns:\n",
    "def my_df(df):\n",
    "    \"\"\"\n",
    "    Select columns to keep in the dataframe. \n",
    "    Some columns are dropped as asked in the project instructions.\n",
    "    Others are dropped because they are not useful for the model since they are derived from the original ones.\n",
    "    \n",
    "    Params: \n",
    "    - df: spark dataframe\n",
    "    \n",
    "    Return:\n",
    "    - df: spark dataframe with selected columns\n",
    "    \"\"\"\n",
    "    df = df.select('year', 'month', 'day_of_month', 'day_of_week', 'actual_departure_time_mins',\n",
    " \t\t\t\t\t'scheduled_departure_time_mins', 'scheduled_arrival_time_mins', 'airline_index',\n",
    " \t\t\t\t\t'flight_number', 'scheduled_flight_time_mins', 'departure_delay',\n",
    " \t\t\t\t\t'origin_index', 'dest_index', 'distance', 'cancelled',\n",
    " \t\t\t\t\t'arrival_delay')\n",
    "    return df\n",
    "\n",
    "# drop nulls:\n",
    "def drop_nulls(df):\n",
    "    \"\"\" \n",
    "    Drop rows with null values in the following columns: arrival_delay, scheduled_flight_time_mins, distance.\n",
    "\n",
    "    Param:\n",
    "    - df: spark dataframe\n",
    "\n",
    "    Return:\n",
    "    - df: spark dataframe with rows with null values dropped\n",
    "    \"\"\"\n",
    "    # remove rows in arrival_delay where arrival_delay is null\n",
    "    df = df.filter(df.arrival_delay.isNotNull())\n",
    "    # remove rows in scheduled_flight_time_mins where departure_delay is null\n",
    "    df = df.filter(df.scheduled_flight_time_mins.isNotNull())\n",
    "    # remove rows in distance where distance is null\n",
    "    df = df.filter(df.distance.isNotNull())\n",
    "    return df\n",
    "\n",
    "# drop cancelled flights:\n",
    "def drop_cancelled(df):\n",
    "    \"\"\" \n",
    "    Drop rows with cancelled flights.\n",
    "    \n",
    "    Param:\n",
    "    - df: spark dataframe\n",
    "    \n",
    "    Return:\n",
    "    - df: spark dataframe with cancelled flights dropped\n",
    "    \"\"\"\n",
    "    df = df.filter(df.cancelled == 0)\n",
    "    return df\n"
   ]
  },
  {
   "cell_type": "markdown",
   "metadata": {},
   "source": [
    "###"
   ]
  },
  {
   "cell_type": "code",
   "execution_count": 9,
   "metadata": {},
   "outputs": [
    {
     "name": "stdout",
     "output_type": "stream",
     "text": [
      "+----+-----+------------+-----------+---------------------+------------------------+-------------------+----------------------+------------+-------------+------------+------------------+---------------------+--------+-------------+---------------+------+----+--------+-------+--------+---------+-----------------+--------+-------------+-------------+---------+--------------+-------------------+\n",
      "|year|month|day_of_month|day_of_week|actual_departure_time|scheduled_departure_time|actual_arrival_time|scheduled_arrival_time|airline_code|flight_number|plane_number|actual_flight_time|scheduled_flight_time|air_time|arrival_delay|departure_delay|origin|dest|distance|taxi_in|taxi_out|cancelled|cancellation_code|diverted|carrier_delay|weather_delay|nas_delay|security_delay|late_aircraft_delay|\n",
      "+----+-----+------------+-----------+---------------------+------------------------+-------------------+----------------------+------------+-------------+------------+------------------+---------------------+--------+-------------+---------------+------+----+--------+-------+--------+---------+-----------------+--------+-------------+-------------+---------+--------------+-------------------+\n",
      "|1988|    1|           9|          6|                 1348|                    1331|               1458|                  1435|          PI|          942|          NA|                70|                   64|      NA|           23|             17|   SYR| BWI|     273|     NA|      NA|        0|               NA|       0|           NA|           NA|       NA|            NA|                 NA|\n",
      "|1988|    1|          10|          7|                 1334|                    1331|               1443|                  1435|          PI|          942|          NA|                69|                   64|      NA|            8|              3|   SYR| BWI|     273|     NA|      NA|        0|               NA|       0|           NA|           NA|       NA|            NA|                 NA|\n",
      "|1988|    1|          11|          1|                 1446|                    1331|               1553|                  1435|          PI|          942|          NA|                67|                   64|      NA|           78|             75|   SYR| BWI|     273|     NA|      NA|        0|               NA|       0|           NA|           NA|       NA|            NA|                 NA|\n",
      "|1988|    1|          12|          2|                 1334|                    1331|               1438|                  1435|          PI|          942|          NA|                64|                   64|      NA|            3|              3|   SYR| BWI|     273|     NA|      NA|        0|               NA|       0|           NA|           NA|       NA|            NA|                 NA|\n",
      "|1988|    1|          13|          3|                 1341|                    1331|               1503|                  1435|          PI|          942|          NA|                82|                   64|      NA|           28|             10|   SYR| BWI|     273|     NA|      NA|        0|               NA|       0|           NA|           NA|       NA|            NA|                 NA|\n",
      "+----+-----+------------+-----------+---------------------+------------------------+-------------------+----------------------+------------+-------------+------------+------------------+---------------------+--------+-------------+---------------+------+----+--------+-------+--------+---------+-----------------+--------+-------------+-------------+---------+--------------+-------------------+\n",
      "only showing top 5 rows\n",
      "\n"
     ]
    }
   ],
   "source": [
    "# renamed columns:\n",
    "df1 = edit_column_names(df)\n",
    "df1.show(5)"
   ]
  },
  {
   "cell_type": "code",
   "execution_count": 10,
   "metadata": {},
   "outputs": [
    {
     "name": "stdout",
     "output_type": "stream",
     "text": [
      "root\n",
      " |-- year: float (nullable = true)\n",
      " |-- month: float (nullable = true)\n",
      " |-- day_of_month: float (nullable = true)\n",
      " |-- day_of_week: float (nullable = true)\n",
      " |-- actual_departure_time: string (nullable = true)\n",
      " |-- scheduled_departure_time: string (nullable = true)\n",
      " |-- actual_arrival_time: string (nullable = true)\n",
      " |-- scheduled_arrival_time: string (nullable = true)\n",
      " |-- airline_code: string (nullable = true)\n",
      " |-- flight_number: float (nullable = true)\n",
      " |-- plane_number: string (nullable = true)\n",
      " |-- actual_flight_time: string (nullable = true)\n",
      " |-- scheduled_flight_time: string (nullable = true)\n",
      " |-- air_time: string (nullable = true)\n",
      " |-- arrival_delay: float (nullable = true)\n",
      " |-- departure_delay: float (nullable = true)\n",
      " |-- origin: string (nullable = true)\n",
      " |-- dest: string (nullable = true)\n",
      " |-- distance: float (nullable = true)\n",
      " |-- taxi_in: string (nullable = true)\n",
      " |-- taxi_out: float (nullable = true)\n",
      " |-- cancelled: float (nullable = true)\n",
      " |-- cancellation_code: string (nullable = true)\n",
      " |-- diverted: string (nullable = true)\n",
      " |-- carrier_delay: string (nullable = true)\n",
      " |-- weather_delay: string (nullable = true)\n",
      " |-- nas_delay: string (nullable = true)\n",
      " |-- security_delay: string (nullable = true)\n",
      " |-- late_aircraft_delay: string (nullable = true)\n",
      "\n"
     ]
    }
   ],
   "source": [
    "# convert strings to float: arrival_delay, departure_delay, taxi_out, distance\n",
    "df2 = string_to_float(df1)\n",
    "df2.printSchema()"
   ]
  },
  {
   "cell_type": "code",
   "execution_count": 11,
   "metadata": {},
   "outputs": [
    {
     "name": "stderr",
     "output_type": "stream",
     "text": [
      "[Stage 5:=====================================================>   (34 + 2) / 36]\r"
     ]
    },
    {
     "name": "stdout",
     "output_type": "stream",
     "text": [
      "root\n",
      " |-- year: float (nullable = true)\n",
      " |-- month: float (nullable = true)\n",
      " |-- day_of_month: float (nullable = true)\n",
      " |-- day_of_week: float (nullable = true)\n",
      " |-- actual_departure_time: string (nullable = true)\n",
      " |-- scheduled_departure_time: string (nullable = true)\n",
      " |-- actual_arrival_time: string (nullable = true)\n",
      " |-- scheduled_arrival_time: string (nullable = true)\n",
      " |-- airline_code: string (nullable = true)\n",
      " |-- flight_number: float (nullable = true)\n",
      " |-- plane_number: string (nullable = true)\n",
      " |-- actual_flight_time: string (nullable = true)\n",
      " |-- scheduled_flight_time: string (nullable = true)\n",
      " |-- air_time: string (nullable = true)\n",
      " |-- arrival_delay: float (nullable = true)\n",
      " |-- departure_delay: float (nullable = true)\n",
      " |-- origin: string (nullable = true)\n",
      " |-- dest: string (nullable = true)\n",
      " |-- distance: float (nullable = true)\n",
      " |-- taxi_in: string (nullable = true)\n",
      " |-- taxi_out: float (nullable = true)\n",
      " |-- cancelled: float (nullable = true)\n",
      " |-- cancellation_code: string (nullable = true)\n",
      " |-- diverted: string (nullable = true)\n",
      " |-- carrier_delay: string (nullable = true)\n",
      " |-- weather_delay: string (nullable = true)\n",
      " |-- nas_delay: string (nullable = true)\n",
      " |-- security_delay: string (nullable = true)\n",
      " |-- late_aircraft_delay: string (nullable = true)\n",
      " |-- airline_index: double (nullable = false)\n",
      " |-- origin_index: double (nullable = false)\n",
      " |-- dest_index: double (nullable = false)\n",
      " |-- cancellation_index: double (nullable = false)\n",
      " |-- plane_index: double (nullable = false)\n",
      "\n"
     ]
    },
    {
     "name": "stderr",
     "output_type": "stream",
     "text": [
      "                                                                                \r"
     ]
    }
   ],
   "source": [
    "# encode categorical features: airline_code, origin, dest, cancellation_code, plane_number (When null --> 0.0)\n",
    "df3 = encode_categorical_features(df2)\n",
    "df3.printSchema()"
   ]
  },
  {
   "cell_type": "code",
   "execution_count": 12,
   "metadata": {},
   "outputs": [
    {
     "name": "stdout",
     "output_type": "stream",
     "text": [
      "+------+-----+------------+-----------+---------------------+------------------------+-------------------+----------------------+------------+-------------+------------+------------------+---------------------+--------+-------------+---------------+------+----+--------+-------+--------+---------+-----------------+--------+-------------+-------------+---------+--------------+-------------------+-------------+------------+----------+------------------+-----------+--------------------------+-----------------------------+---------------------------+--------------------------+\n",
      "|  year|month|day_of_month|day_of_week|actual_departure_time|scheduled_departure_time|actual_arrival_time|scheduled_arrival_time|airline_code|flight_number|plane_number|actual_flight_time|scheduled_flight_time|air_time|arrival_delay|departure_delay|origin|dest|distance|taxi_in|taxi_out|cancelled|cancellation_code|diverted|carrier_delay|weather_delay|nas_delay|security_delay|late_aircraft_delay|airline_index|origin_index|dest_index|cancellation_index|plane_index|actual_departure_time_mins|scheduled_departure_time_mins|scheduled_arrival_time_mins|scheduled_flight_time_mins|\n",
      "+------+-----+------------+-----------+---------------------+------------------------+-------------------+----------------------+------------+-------------+------------+------------------+---------------------+--------+-------------+---------------+------+----+--------+-------+--------+---------+-----------------+--------+-------------+-------------+---------+--------------+-------------------+-------------+------------+----------+------------------+-----------+--------------------------+-----------------------------+---------------------------+--------------------------+\n",
      "|1988.0|  1.0|         9.0|        6.0|                 1348|                    1331|               1458|                  1435|          PI|        942.0|          NA|                70|                   64|      NA|         23.0|           17.0|   SYR| BWI|   273.0|     NA|    NULL|      0.0|               NA|       0|           NA|           NA|       NA|            NA|                 NA|          4.0|        44.0|      24.0|               0.0|        0.0|                     828.0|                        811.0|                      875.0|                      64.0|\n",
      "|1988.0|  1.0|        10.0|        7.0|                 1334|                    1331|               1443|                  1435|          PI|        942.0|          NA|                69|                   64|      NA|          8.0|            3.0|   SYR| BWI|   273.0|     NA|    NULL|      0.0|               NA|       0|           NA|           NA|       NA|            NA|                 NA|          4.0|        44.0|      24.0|               0.0|        0.0|                     814.0|                        811.0|                      875.0|                      64.0|\n",
      "|1988.0|  1.0|        11.0|        1.0|                 1446|                    1331|               1553|                  1435|          PI|        942.0|          NA|                67|                   64|      NA|         78.0|           75.0|   SYR| BWI|   273.0|     NA|    NULL|      0.0|               NA|       0|           NA|           NA|       NA|            NA|                 NA|          4.0|        44.0|      24.0|               0.0|        0.0|                     886.0|                        811.0|                      875.0|                      64.0|\n",
      "|1988.0|  1.0|        12.0|        2.0|                 1334|                    1331|               1438|                  1435|          PI|        942.0|          NA|                64|                   64|      NA|          3.0|            3.0|   SYR| BWI|   273.0|     NA|    NULL|      0.0|               NA|       0|           NA|           NA|       NA|            NA|                 NA|          4.0|        44.0|      24.0|               0.0|        0.0|                     814.0|                        811.0|                      875.0|                      64.0|\n",
      "|1988.0|  1.0|        13.0|        3.0|                 1341|                    1331|               1503|                  1435|          PI|        942.0|          NA|                82|                   64|      NA|         28.0|           10.0|   SYR| BWI|   273.0|     NA|    NULL|      0.0|               NA|       0|           NA|           NA|       NA|            NA|                 NA|          4.0|        44.0|      24.0|               0.0|        0.0|                     821.0|                        811.0|                      875.0|                      64.0|\n",
      "+------+-----+------------+-----------+---------------------+------------------------+-------------------+----------------------+------------+-------------+------------+------------------+---------------------+--------+-------------+---------------+------+----+--------+-------+--------+---------+-----------------+--------+-------------+-------------+---------+--------------+-------------------+-------------+------------+----------+------------------+-----------+--------------------------+-----------------------------+---------------------------+--------------------------+\n",
      "only showing top 5 rows\n",
      "\n"
     ]
    }
   ],
   "source": [
    "# convert time (hh:mm) to minutes: actual_departure_time, scheduled_departure_time, scheduled_arrival_time, scheduled_flight_time\n",
    "df4 = convert_time_to_minutes(df3)\n",
    "df4.show(5)"
   ]
  },
  {
   "cell_type": "code",
   "execution_count": 16,
   "metadata": {},
   "outputs": [
    {
     "data": {
      "text/plain": [
       "['year',\n",
       " 'month',\n",
       " 'day_of_month',\n",
       " 'day_of_week',\n",
       " 'actual_departure_time',\n",
       " 'scheduled_departure_time',\n",
       " 'actual_arrival_time',\n",
       " 'scheduled_arrival_time',\n",
       " 'airline_code',\n",
       " 'flight_number',\n",
       " 'plane_number',\n",
       " 'actual_flight_time',\n",
       " 'scheduled_flight_time',\n",
       " 'air_time',\n",
       " 'arrival_delay',\n",
       " 'departure_delay',\n",
       " 'origin',\n",
       " 'dest',\n",
       " 'distance',\n",
       " 'taxi_in',\n",
       " 'taxi_out',\n",
       " 'cancelled',\n",
       " 'cancellation_code',\n",
       " 'diverted',\n",
       " 'carrier_delay',\n",
       " 'weather_delay',\n",
       " 'nas_delay',\n",
       " 'security_delay',\n",
       " 'late_aircraft_delay',\n",
       " 'airline_index',\n",
       " 'origin_index',\n",
       " 'dest_index',\n",
       " 'cancellation_index',\n",
       " 'plane_index',\n",
       " 'actual_departure_time_mins',\n",
       " 'scheduled_departure_time_mins',\n",
       " 'scheduled_arrival_time_mins',\n",
       " 'scheduled_flight_time_mins']"
      ]
     },
     "execution_count": 16,
     "metadata": {},
     "output_type": "execute_result"
    }
   ],
   "source": [
    "df4.columns"
   ]
  },
  {
   "cell_type": "code",
   "execution_count": 42,
   "metadata": {},
   "outputs": [
    {
     "name": "stderr",
     "output_type": "stream",
     "text": [
      "[Stage 39:==============> (13 + 1) / 14][Stage 41:>                 (0 + 0) / 1]\r"
     ]
    },
    {
     "name": "stdout",
     "output_type": "stream",
     "text": [
      "+----+-----+------------+-----------+---------------------+------------------------+----------------------+------------+-------------+------------+---------------------+-------------+---------------+------+----+--------+--------+---------+-----------------+-------------+------------+----------+------------------+-----------+--------------------------+-----------------------------+---------------------------+--------------------------+\n",
      "|year|month|day_of_month|day_of_week|actual_departure_time|scheduled_departure_time|scheduled_arrival_time|airline_code|flight_number|plane_number|scheduled_flight_time|arrival_delay|departure_delay|origin|dest|distance|taxi_out|cancelled|cancellation_code|airline_index|origin_index|dest_index|cancellation_index|plane_index|actual_departure_time_mins|scheduled_departure_time_mins|scheduled_arrival_time_mins|scheduled_flight_time_mins|\n",
      "+----+-----+------------+-----------+---------------------+------------------------+----------------------+------------+-------------+------------+---------------------+-------------+---------------+------+----+--------+--------+---------+-----------------+-------------+------------+----------+------------------+-----------+--------------------------+-----------------------------+---------------------------+--------------------------+\n",
      "|   0|    0|           0|          0|               518228|                       0|                     0|           0|            0|    10404192|                 5586|            0|              0|     0|   0|       0|       0|        0|         21173634|            0|           0|         0|                 0|          0|                         0|                            0|                          0|                         0|\n",
      "+----+-----+------------+-----------+---------------------+------------------------+----------------------+------------+-------------+------------+---------------------+-------------+---------------+------+----+--------+--------+---------+-----------------+-------------+------------+----------+------------------+-----------+--------------------------+-----------------------------+---------------------------+--------------------------+\n",
      "\n"
     ]
    },
    {
     "name": "stderr",
     "output_type": "stream",
     "text": [
      "                                                                                \r"
     ]
    }
   ],
   "source": [
    "# check for missing values (NULL, NAN, NA)\n",
    "# count Na values in each column\n",
    "from pyspark.sql.functions import isnan, when, count, col\n",
    "\n",
    "# df4.select([count(when(col(c) == \"NA\", c)).alias(c) for c in df4.columns]).show()"
   ]
  },
  {
   "cell_type": "code",
   "execution_count": 43,
   "metadata": {},
   "outputs": [
    {
     "name": "stderr",
     "output_type": "stream",
     "text": [
      "[Stage 44:====================================================>   (13 + 1) / 14]\r"
     ]
    },
    {
     "name": "stdout",
     "output_type": "stream",
     "text": [
      "+----+-----+------------+-----------+---------------------+------------------------+----------------------+------------+-------------+------------+---------------------+-------------+---------------+------+----+--------+--------+---------+-----------------+-------------+------------+----------+------------------+-----------+--------------------------+-----------------------------+---------------------------+--------------------------+\n",
      "|year|month|day_of_month|day_of_week|actual_departure_time|scheduled_departure_time|scheduled_arrival_time|airline_code|flight_number|plane_number|scheduled_flight_time|arrival_delay|departure_delay|origin|dest|distance|taxi_out|cancelled|cancellation_code|airline_index|origin_index|dest_index|cancellation_index|plane_index|actual_departure_time_mins|scheduled_departure_time_mins|scheduled_arrival_time_mins|scheduled_flight_time_mins|\n",
      "+----+-----+------------+-----------+---------------------+------------------------+----------------------+------------+-------------+------------+---------------------+-------------+---------------+------+----+--------+--------+---------+-----------------+-------------+------------+----------+------------------+-----------+--------------------------+-----------------------------+---------------------------+--------------------------+\n",
      "|   0|    0|           0|          0|                    0|                       0|                     0|           0|            0|       84904|                    0|       584730|         518228|     0|   0|   22204|10533076|        0|          4649550|            0|           0|         0|                 0|          0|                    518228|                            0|                          0|                      5586|\n",
      "+----+-----+------------+-----------+---------------------+------------------------+----------------------+------------+-------------+------------+---------------------+-------------+---------------+------+----+--------+--------+---------+-----------------+-------------+------------+----------+------------------+-----------+--------------------------+-----------------------------+---------------------------+--------------------------+\n",
      "\n"
     ]
    },
    {
     "name": "stderr",
     "output_type": "stream",
     "text": [
      "                                                                                \r"
     ]
    }
   ],
   "source": [
    "# count NULL values in each column\n",
    "# df4.select([count(when(col(c).isNull(), c)).alias(c) for c in df4.columns]).show()"
   ]
  },
  {
   "cell_type": "markdown",
   "metadata": {},
   "source": [
    "__Missing Values__\n",
    "\n",
    "_NA_\n",
    "* actual_departure_time: 518228 --- (0.0199%) ---> DROP\n",
    "* plane_number: 10404192 --- (0.4009%) ---> DROP COLLUMN (dont keep plane_index either bc it has the same info)\n",
    "* scheduled_flight_time: 5586 --- (0.0002%) --> DROP\n",
    "* cancellation_code: 21173634 --- (0.8158%) ---> DROP COLLUMN (dont keep cancellation_index either bc it has the same info)\n",
    "\n",
    "_NULL_\n",
    "* plane_number: 84904 --- (0.0032%) ---> DROP COLLUMN .\n",
    "* arrival_delay: 584730 --- (0.0225%) ---> REMOVE ROWS (ES LA TARGET) .\n",
    "* departure_delay: 518228 --- (0.0199%) ---> IMPUT MEAN OF THE AIRLINE __train/test__\n",
    "* distance: 22204 --- (0.0008%) ---> BUSCAR OTROS VUELOS CON MISMO ORIGINY DEST Y PONER LA MEDIA __train/test__\n",
    "* taxi_out: 10533076 --- (0.4058%) ---> DROP COLLUMN .\n",
    "* cancellation_code: 4649550 --- (0.1791%) ---> DROP COLLUMN .\n",
    "* actual_departure_time_mins: 518228 --- (0.0199%) ---> schedule_departure_time + deparutre delay __train/test__\n",
    "* scheduled_flight_time_mins: 5586 --- (0.0002%) ---> REMOVE ROWS ."
   ]
  },
  {
   "cell_type": "code",
   "execution_count": 13,
   "metadata": {},
   "outputs": [
    {
     "name": "stdout",
     "output_type": "stream",
     "text": [
      "+------+-----+------------+-----------+--------------------------+-----------------------------+---------------------------+-------------+-------------+--------------------------+---------------+------------+----------+--------+---------+-------------+\n",
      "|  year|month|day_of_month|day_of_week|actual_departure_time_mins|scheduled_departure_time_mins|scheduled_arrival_time_mins|airline_index|flight_number|scheduled_flight_time_mins|departure_delay|origin_index|dest_index|distance|cancelled|arrival_delay|\n",
      "+------+-----+------------+-----------+--------------------------+-----------------------------+---------------------------+-------------+-------------+--------------------------+---------------+------------+----------+--------+---------+-------------+\n",
      "|1988.0|  1.0|         9.0|        6.0|                     828.0|                        811.0|                      875.0|          4.0|        942.0|                      64.0|           17.0|        44.0|      24.0|   273.0|      0.0|         23.0|\n",
      "|1988.0|  1.0|        10.0|        7.0|                     814.0|                        811.0|                      875.0|          4.0|        942.0|                      64.0|            3.0|        44.0|      24.0|   273.0|      0.0|          8.0|\n",
      "|1988.0|  1.0|        11.0|        1.0|                     886.0|                        811.0|                      875.0|          4.0|        942.0|                      64.0|           75.0|        44.0|      24.0|   273.0|      0.0|         78.0|\n",
      "|1988.0|  1.0|        12.0|        2.0|                     814.0|                        811.0|                      875.0|          4.0|        942.0|                      64.0|            3.0|        44.0|      24.0|   273.0|      0.0|          3.0|\n",
      "|1988.0|  1.0|        13.0|        3.0|                     821.0|                        811.0|                      875.0|          4.0|        942.0|                      64.0|           10.0|        44.0|      24.0|   273.0|      0.0|         28.0|\n",
      "+------+-----+------------+-----------+--------------------------+-----------------------------+---------------------------+-------------+-------------+--------------------------+---------------+------------+----------+--------+---------+-------------+\n",
      "only showing top 5 rows\n",
      "\n"
     ]
    }
   ],
   "source": [
    "# keep only useful columns: 'year', 'month', 'day_of_month', 'day_of_week', 'actual_departure_time_mins',\n",
    "# \t\t\t\t\t\t\t'scheduled_departure_time_mins', 'scheduled_arrival_time_mins', 'airline_index',\n",
    "# \t\t\t\t\t\t\t'flight_number', 'scheduled_flight_time_mins', 'departure_delay',\n",
    "# \t\t\t\t\t\t\t'origin_index', 'dest_index', 'distance', 'cancelled',\n",
    "# \t\t\t\t\t\t\t'arrival_delay',\n",
    "\n",
    "df5 = my_df(df4)\n",
    "df5.show(5)"
   ]
  },
  {
   "cell_type": "code",
   "execution_count": 14,
   "metadata": {},
   "outputs": [],
   "source": [
    "df6 = drop_nulls(df5)"
   ]
  },
  {
   "cell_type": "code",
   "execution_count": 59,
   "metadata": {},
   "outputs": [
    {
     "name": "stderr",
     "output_type": "stream",
     "text": [
      "[Stage 38:======================================================> (35 + 1) / 36]\r"
     ]
    },
    {
     "name": "stdout",
     "output_type": "stream",
     "text": [
      "+----+-----+------------+-----------+--------------------------+-----------------------------+---------------------------+-------------+-------------+--------------------------+---------------+------------+----------+--------+---------+-------------+\n",
      "|year|month|day_of_month|day_of_week|actual_departure_time_mins|scheduled_departure_time_mins|scheduled_arrival_time_mins|airline_index|flight_number|scheduled_flight_time_mins|departure_delay|origin_index|dest_index|distance|cancelled|arrival_delay|\n",
      "+----+-----+------------+-----------+--------------------------+-----------------------------+---------------------------+-------------+-------------+--------------------------+---------------+------------+----------+--------+---------+-------------+\n",
      "|   0|    0|           0|          0|                         0|                            0|                          0|            0|            0|                         0|              0|           0|         0|       0|        0|            0|\n",
      "+----+-----+------------+-----------+--------------------------+-----------------------------+---------------------------+-------------+-------------+--------------------------+---------------+------------+----------+--------+---------+-------------+\n",
      "\n"
     ]
    },
    {
     "name": "stderr",
     "output_type": "stream",
     "text": [
      "                                                                                \r"
     ]
    }
   ],
   "source": [
    "# # count NULL values in each column\n",
    "# df6.select([count(when(col(c).isNull(), c)).alias(c) for c in df6.columns]).show()"
   ]
  },
  {
   "cell_type": "code",
   "execution_count": 15,
   "metadata": {},
   "outputs": [],
   "source": [
    "# drop cancelled flights (cancelled = 1)\n",
    "df7 = drop_cancelled(df6)"
   ]
  },
  {
   "cell_type": "code",
   "execution_count": 54,
   "metadata": {},
   "outputs": [
    {
     "name": "stdout",
     "output_type": "stream",
     "text": [
      "Number of rows before:  25952068\n",
      "Number of rows now:  25345340 ( 606728  rows dropped )\n",
      "Number of columns before:  29\n",
      "Number of columns now:  16 ( 13  columns dropped )\n"
     ]
    }
   ],
   "source": [
    "n_rows2 = df7.count()\n",
    "n_cols2 = len(df7.columns)\n",
    "\n",
    "print(\"Number of rows before: \", n_rows)\n",
    "print(\"Number of rows now: \", n_rows2, \"(\", n_rows - n_rows2, \" rows dropped )\")\n",
    "\n",
    "# comprobar el numero de columnas de df\n",
    "print(\"Number of columns before: \", n_cols1)\n",
    "print(\"Number of columns now: \", n_cols2, \"(\", n_cols1 - n_cols2, \" columns dropped )\")\n",
    "\n"
   ]
  },
  {
   "cell_type": "code",
   "execution_count": 61,
   "metadata": {},
   "outputs": [
    {
     "name": "stdout",
     "output_type": "stream",
     "text": [
      "root\n",
      " |-- year: float (nullable = true)\n",
      " |-- month: float (nullable = true)\n",
      " |-- day_of_month: float (nullable = true)\n",
      " |-- day_of_week: float (nullable = true)\n",
      " |-- actual_departure_time_mins: double (nullable = true)\n",
      " |-- scheduled_departure_time_mins: double (nullable = true)\n",
      " |-- scheduled_arrival_time_mins: double (nullable = true)\n",
      " |-- airline_index: double (nullable = false)\n",
      " |-- flight_number: float (nullable = true)\n",
      " |-- scheduled_flight_time_mins: double (nullable = true)\n",
      " |-- departure_delay: float (nullable = true)\n",
      " |-- origin_index: double (nullable = false)\n",
      " |-- dest_index: double (nullable = false)\n",
      " |-- distance: float (nullable = true)\n",
      " |-- cancelled: float (nullable = true)\n",
      " |-- arrival_delay: float (nullable = true)\n",
      "\n"
     ]
    }
   ],
   "source": [
    "df7.printSchema()"
   ]
  },
  {
   "cell_type": "code",
   "execution_count": 40,
   "metadata": {},
   "outputs": [
    {
     "name": "stdout",
     "output_type": "stream",
     "text": [
      "+------+-----+------------+-----------+--------------------------+-----------------------------+---------------------------+-------------+-------------+--------------------------+---------------+------------+----------+--------+---------+-------------+\n",
      "|  year|month|day_of_month|day_of_week|actual_departure_time_mins|scheduled_departure_time_mins|scheduled_arrival_time_mins|airline_index|flight_number|scheduled_flight_time_mins|departure_delay|origin_index|dest_index|distance|cancelled|arrival_delay|\n",
      "+------+-----+------------+-----------+--------------------------+-----------------------------+---------------------------+-------------+-------------+--------------------------+---------------+------------+----------+--------+---------+-------------+\n",
      "|1988.0|  1.0|         9.0|        6.0|                     828.0|                        811.0|                      875.0|          4.0|          942|                      64.0|           17.0|        44.0|      24.0|   273.0|        0|         23.0|\n",
      "|1988.0|  1.0|        10.0|        7.0|                     814.0|                        811.0|                      875.0|          4.0|          942|                      64.0|            3.0|        44.0|      24.0|   273.0|        0|          8.0|\n",
      "|1988.0|  1.0|        11.0|        1.0|                     886.0|                        811.0|                      875.0|          4.0|          942|                      64.0|           75.0|        44.0|      24.0|   273.0|        0|         78.0|\n",
      "|1988.0|  1.0|        12.0|        2.0|                     814.0|                        811.0|                      875.0|          4.0|          942|                      64.0|            3.0|        44.0|      24.0|   273.0|        0|          3.0|\n",
      "|1988.0|  1.0|        13.0|        3.0|                     821.0|                        811.0|                      875.0|          4.0|          942|                      64.0|           10.0|        44.0|      24.0|   273.0|        0|         28.0|\n",
      "+------+-----+------------+-----------+--------------------------+-----------------------------+---------------------------+-------------+-------------+--------------------------+---------------+------------+----------+--------+---------+-------------+\n",
      "only showing top 5 rows\n",
      "\n"
     ]
    }
   ],
   "source": [
    "df7.show(5)"
   ]
  },
  {
   "cell_type": "markdown",
   "metadata": {},
   "source": [
    "# 3. Creating the Model\n",
    "\n",
    "__VECTOR ASSEMBLER__"
   ]
  },
  {
   "cell_type": "code",
   "execution_count": 16,
   "metadata": {},
   "outputs": [
    {
     "name": "stderr",
     "output_type": "stream",
     "text": [
      "23/12/26 14:59:45 WARN InstanceBuilder: Failed to load implementation from:dev.ludovic.netlib.blas.VectorBLAS\n",
      "                                                                                \r"
     ]
    }
   ],
   "source": [
    "from pyspark.ml.feature import VectorAssembler\n",
    "from pyspark.ml.feature import Normalizer\n",
    "from pyspark.ml import Pipeline\n",
    "from pyspark.ml.regression import LinearRegression\n",
    "\n",
    "# Split the data (Train/Test)(0.7, 0.3)\n",
    "train, test = df7.randomSplit([0.7, 0.3], seed=42)\n",
    "\n",
    "#####################################################################\n",
    "### WE SHOULD EXPLORE WHICH FEATURES ARE THE MOST IMPORTANT ONES ###\n",
    "#####################################################################\n",
    "# Create a VectorAssembler\n",
    "my_features = ['year', 'month', 'day_of_month', 'day_of_week', 'actual_departure_time_mins',\n",
    "               'scheduled_departure_time_mins', 'scheduled_arrival_time_mins', 'airline_index',\n",
    "               'flight_number', 'scheduled_flight_time_mins', 'departure_delay',\n",
    "               'origin_index', 'dest_index', 'distance', 'cancelled']\n",
    "featureassembler = VectorAssembler(inputCols=my_features, outputCol=\"features\")\n",
    "\n",
    "\n",
    "#####################################################################\n",
    "### WE SHOUL EXPLORE DIFFERENT PARAMETERS AND UNDERSTAND THEM  ######\n",
    "#####################################################################\n",
    "# Create a Normalizer\n",
    "normalizer = Normalizer(inputCol=\"features\", outputCol=\"features_norm\", p=1.0)\n",
    "\n",
    "# Create LinearRegression\n",
    "lr = LinearRegression(labelCol=\"arrival_delay\", featuresCol=\"features_norm\", maxIter=10, regParam=0.3, elasticNetParam=0.8)\n",
    "\n",
    "# Create a pipeline\n",
    "pipeline = Pipeline(stages=[featureassembler, normalizer, lr])\n",
    "\n",
    "# Fit the pipeline on training data\n",
    "model = pipeline.fit(train)\n"
   ]
  },
  {
   "cell_type": "code",
   "execution_count": 17,
   "metadata": {},
   "outputs": [
    {
     "name": "stdout",
     "output_type": "stream",
     "text": [
      "Coefficients: [-2.5876331084565702,-199.45338920528982,0.0,-1030.1496556312516,3.2910944431428066,0.0,2.632636058924014,-28.771590948661537,0.0,-69.87580034429028,5722.592918216993,0.0,-15.494917193037427,0.0,0.0]\n",
      "Intercept: 2.604005208645188\n"
     ]
    }
   ],
   "source": [
    "# coefficients and intercept for linear regression\n",
    "print(\"Coefficients: \" + str(model.stages[2].coefficients))\n",
    "print(\"Intercept: \" + str(model.stages[2].intercept))\n"
   ]
  },
  {
   "cell_type": "code",
   "execution_count": 18,
   "metadata": {},
   "outputs": [
    {
     "data": {
      "text/html": [
       "<div>\n",
       "<style scoped>\n",
       "    .dataframe tbody tr th:only-of-type {\n",
       "        vertical-align: middle;\n",
       "    }\n",
       "\n",
       "    .dataframe tbody tr th {\n",
       "        vertical-align: top;\n",
       "    }\n",
       "\n",
       "    .dataframe thead th {\n",
       "        text-align: right;\n",
       "    }\n",
       "</style>\n",
       "<table border=\"1\" class=\"dataframe\">\n",
       "  <thead>\n",
       "    <tr style=\"text-align: right;\">\n",
       "      <th></th>\n",
       "      <th>feature</th>\n",
       "      <th>coefficients</th>\n",
       "    </tr>\n",
       "  </thead>\n",
       "  <tbody>\n",
       "    <tr>\n",
       "      <th>0</th>\n",
       "      <td>year</td>\n",
       "      <td>-2.587633</td>\n",
       "    </tr>\n",
       "    <tr>\n",
       "      <th>1</th>\n",
       "      <td>month</td>\n",
       "      <td>-199.453389</td>\n",
       "    </tr>\n",
       "    <tr>\n",
       "      <th>2</th>\n",
       "      <td>day_of_month</td>\n",
       "      <td>0.000000</td>\n",
       "    </tr>\n",
       "    <tr>\n",
       "      <th>3</th>\n",
       "      <td>day_of_week</td>\n",
       "      <td>-1030.149656</td>\n",
       "    </tr>\n",
       "    <tr>\n",
       "      <th>4</th>\n",
       "      <td>actual_departure_time_mins</td>\n",
       "      <td>3.291094</td>\n",
       "    </tr>\n",
       "    <tr>\n",
       "      <th>5</th>\n",
       "      <td>scheduled_departure_time_mins</td>\n",
       "      <td>0.000000</td>\n",
       "    </tr>\n",
       "    <tr>\n",
       "      <th>6</th>\n",
       "      <td>scheduled_arrival_time_mins</td>\n",
       "      <td>2.632636</td>\n",
       "    </tr>\n",
       "    <tr>\n",
       "      <th>7</th>\n",
       "      <td>airline_index</td>\n",
       "      <td>-28.771591</td>\n",
       "    </tr>\n",
       "    <tr>\n",
       "      <th>8</th>\n",
       "      <td>flight_number</td>\n",
       "      <td>0.000000</td>\n",
       "    </tr>\n",
       "    <tr>\n",
       "      <th>9</th>\n",
       "      <td>scheduled_flight_time_mins</td>\n",
       "      <td>-69.875800</td>\n",
       "    </tr>\n",
       "    <tr>\n",
       "      <th>10</th>\n",
       "      <td>departure_delay</td>\n",
       "      <td>5722.592918</td>\n",
       "    </tr>\n",
       "    <tr>\n",
       "      <th>11</th>\n",
       "      <td>origin_index</td>\n",
       "      <td>0.000000</td>\n",
       "    </tr>\n",
       "    <tr>\n",
       "      <th>12</th>\n",
       "      <td>dest_index</td>\n",
       "      <td>-15.494917</td>\n",
       "    </tr>\n",
       "    <tr>\n",
       "      <th>13</th>\n",
       "      <td>distance</td>\n",
       "      <td>0.000000</td>\n",
       "    </tr>\n",
       "    <tr>\n",
       "      <th>14</th>\n",
       "      <td>cancelled</td>\n",
       "      <td>0.000000</td>\n",
       "    </tr>\n",
       "  </tbody>\n",
       "</table>\n",
       "</div>"
      ],
      "text/plain": [
       "                          feature  coefficients\n",
       "0                            year     -2.587633\n",
       "1                           month   -199.453389\n",
       "2                    day_of_month      0.000000\n",
       "3                     day_of_week  -1030.149656\n",
       "4      actual_departure_time_mins      3.291094\n",
       "5   scheduled_departure_time_mins      0.000000\n",
       "6     scheduled_arrival_time_mins      2.632636\n",
       "7                   airline_index    -28.771591\n",
       "8                   flight_number      0.000000\n",
       "9      scheduled_flight_time_mins    -69.875800\n",
       "10                departure_delay   5722.592918\n",
       "11                   origin_index      0.000000\n",
       "12                     dest_index    -15.494917\n",
       "13                       distance      0.000000\n",
       "14                      cancelled      0.000000"
      ]
     },
     "execution_count": 18,
     "metadata": {},
     "output_type": "execute_result"
    }
   ],
   "source": [
    "# print a table with the coefficients and the features\n",
    "import pandas as pd\n",
    "coefficients_table = pd.DataFrame(list(zip(my_features, model.stages[2].coefficients.toArray())),\n",
    "\t\t\t\t\t\t\t\t  columns=['feature', 'coefficients'])\n",
    "coefficients_table\n"
   ]
  },
  {
   "cell_type": "markdown",
   "metadata": {},
   "source": [
    "# 4. Validating the model"
   ]
  },
  {
   "cell_type": "code",
   "execution_count": 19,
   "metadata": {},
   "outputs": [
    {
     "name": "stderr",
     "output_type": "stream",
     "text": [
      "[Stage 14:>                                                         (0 + 1) / 1]\r"
     ]
    },
    {
     "name": "stdout",
     "output_type": "stream",
     "text": [
      "+-------------------+-------------+--------------------+\n",
      "|         prediction|arrival_delay|       features_norm|\n",
      "+-------------------+-------------+--------------------+\n",
      "|  6.893789069248802|         13.0|[0.34975369458128...|\n",
      "| 24.913004028412743|         18.0|[0.34658298465829...|\n",
      "|  3.898686287090401|         -8.0|[0.30864772550846...|\n",
      "| 123.24510591220924|        114.0|[0.34134615384615...|\n",
      "|-3.3812604477404484|         13.0|[0.73493530499075...|\n",
      "+-------------------+-------------+--------------------+\n",
      "only showing top 5 rows\n",
      "\n"
     ]
    },
    {
     "name": "stderr",
     "output_type": "stream",
     "text": [
      "                                                                                \r"
     ]
    }
   ],
   "source": [
    "# Make predictions on test data\n",
    "predictions = model.transform(test)\n",
    "predictions.select(\"prediction\", \"arrival_delay\", \"features_norm\").show(5)"
   ]
  },
  {
   "cell_type": "code",
   "execution_count": 20,
   "metadata": {},
   "outputs": [
    {
     "name": "stderr",
     "output_type": "stream",
     "text": [
      "[Stage 15:>                                                         (0 + 1) / 1]\r"
     ]
    },
    {
     "name": "stdout",
     "output_type": "stream",
     "text": [
      "+------+-----+------------+-----------+--------------------------+-----------------------------+---------------------------+-------------+-------------+--------------------------+---------------+------------+----------+--------+---------+-------------+--------------------+--------------------+-------------------+\n",
      "|  year|month|day_of_month|day_of_week|actual_departure_time_mins|scheduled_departure_time_mins|scheduled_arrival_time_mins|airline_index|flight_number|scheduled_flight_time_mins|departure_delay|origin_index|dest_index|distance|cancelled|arrival_delay|            features|       features_norm|         prediction|\n",
      "+------+-----+------------+-----------+--------------------------+-----------------------------+---------------------------+-------------+-------------+--------------------------+---------------+------------+----------+--------+---------+-------------+--------------------+--------------------+-------------------+\n",
      "|1988.0|  1.0|         1.0|        5.0|                       2.0|                       1435.0|                       65.0|         13.0|       1751.0|                      70.0|            7.0|         3.0|       6.0|   337.0|      0.0|         13.0|[1988.0,1.0,1.0,5...|[0.34975369458128...|  6.893789069248802|\n",
      "|1988.0|  1.0|         1.0|        5.0|                       3.0|                       1418.0|                       25.0|          0.0|       1596.0|                      67.0|           25.0|         1.0|       0.0|   606.0|      0.0|         18.0|[1988.0,1.0,1.0,5...|[0.34658298465829...| 24.913004028412743|\n",
      "|1988.0|  1.0|         1.0|        5.0|                       4.0|                       1439.0|                      310.0|          2.0|        954.0|                     151.0|            5.0|        83.0|       0.0|  1498.0|      0.0|         -8.0|[1988.0,1.0,1.0,5...|[0.30864772550846...|  3.898686287090401|\n",
      "|1988.0|  1.0|         1.0|        5.0|                       7.0|                       1320.0|                       35.0|          2.0|        291.0|                     195.0|          127.0|         0.0|       6.0|  1846.0|      0.0|        114.0|[1988.0,1.0,1.0,5...|[0.34134615384615...| 123.24510591220924|\n",
      "|1988.0|  1.0|         1.0|        5.0|                      10.0|                         10.0|                       60.0|         11.0|         99.0|                      50.0|            0.0|        75.0|     134.0|   261.0|      0.0|         13.0|[1988.0,1.0,1.0,5...|[0.73493530499075...|-3.3812604477404484|\n",
      "+------+-----+------------+-----------+--------------------------+-----------------------------+---------------------------+-------------+-------------+--------------------------+---------------+------------+----------+--------+---------+-------------+--------------------+--------------------+-------------------+\n",
      "only showing top 5 rows\n",
      "\n"
     ]
    },
    {
     "name": "stderr",
     "output_type": "stream",
     "text": [
      "                                                                                \r"
     ]
    }
   ],
   "source": [
    "# evalute model\n",
    "predictions.show(5)"
   ]
  },
  {
   "cell_type": "code",
   "execution_count": 21,
   "metadata": {},
   "outputs": [
    {
     "name": "stderr",
     "output_type": "stream",
     "text": [
      "                                                                                \r"
     ]
    },
    {
     "name": "stdout",
     "output_type": "stream",
     "text": [
      "MAE = 8.21691\n"
     ]
    },
    {
     "name": "stderr",
     "output_type": "stream",
     "text": [
      "                                                                                \r"
     ]
    },
    {
     "name": "stdout",
     "output_type": "stream",
     "text": [
      "MSE = 192.968\n"
     ]
    },
    {
     "name": "stderr",
     "output_type": "stream",
     "text": [
      "                                                                                \r"
     ]
    },
    {
     "name": "stdout",
     "output_type": "stream",
     "text": [
      "RMSE = 13.8913\n"
     ]
    },
    {
     "name": "stderr",
     "output_type": "stream",
     "text": [
      "[Stage 22:======================================================> (35 + 1) / 36]\r"
     ]
    },
    {
     "name": "stdout",
     "output_type": "stream",
     "text": [
      "R2 = 0.645487\n"
     ]
    },
    {
     "name": "stderr",
     "output_type": "stream",
     "text": [
      "                                                                                \r"
     ]
    }
   ],
   "source": [
    "# MAE, MSE, RMSE, R2\n",
    "\n",
    "from pyspark.ml.evaluation import RegressionEvaluator\n",
    "\n",
    "# Select (prediction, true label) and compute test error\n",
    "evaluator = RegressionEvaluator(labelCol=\"arrival_delay\", predictionCol=\"prediction\", metricName=\"mae\")\n",
    "mae = evaluator.evaluate(predictions)\n",
    "print(\"MAE = %g\" % mae)\n",
    "\n",
    "evaluator = RegressionEvaluator(labelCol=\"arrival_delay\", predictionCol=\"prediction\", metricName=\"mse\")\n",
    "mse = evaluator.evaluate(predictions)\n",
    "print(\"MSE = %g\" % mse)\n",
    "\n",
    "evaluator = RegressionEvaluator(labelCol=\"arrival_delay\", predictionCol=\"prediction\", metricName=\"rmse\")\n",
    "rmse = evaluator.evaluate(predictions)\n",
    "print(\"RMSE = %g\" % rmse)\n",
    "\n",
    "evaluator = RegressionEvaluator(labelCol=\"arrival_delay\", predictionCol=\"prediction\", metricName=\"r2\")\n",
    "r2 = evaluator.evaluate(predictions)\n",
    "print(\"R2 = %g\" % r2)\n",
    "\n"
   ]
  },
  {
   "cell_type": "code",
   "execution_count": 22,
   "metadata": {},
   "outputs": [],
   "source": [
    "spark.stop()"
   ]
  },
  {
   "cell_type": "code",
   "execution_count": null,
   "metadata": {},
   "outputs": [],
   "source": []
  }
 ],
 "metadata": {
  "kernelspec": {
   "display_name": "spark",
   "language": "python",
   "name": "python3"
  },
  "language_info": {
   "codemirror_mode": {
    "name": "ipython",
    "version": 3
   },
   "file_extension": ".py",
   "mimetype": "text/x-python",
   "name": "python",
   "nbconvert_exporter": "python",
   "pygments_lexer": "ipython3",
   "version": "3.8.18"
  }
 },
 "nbformat": 4,
 "nbformat_minor": 2
}
