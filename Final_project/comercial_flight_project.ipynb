{
 "cells": [
  {
   "cell_type": "markdown",
   "metadata": {},
   "source": [
    "# Spark Practical Work\n",
    "\n",
    "We are supposed to create a model capable of predicting the arrival delay time of a commercial flight based on several parameters known at the take-off time. Tasks:\n",
    "* Load the input data, previously stored at a known location.\n",
    "* Select, process and transform the input variables, to prepare them for training the model.\n",
    "* Perform some basic analysis of each input variable. \n",
    "* Create a ML model that predicts the arrival delay time.\n",
    "* Validate the created model and provide some measures of its accuracy.\n"
   ]
  },
  {
   "cell_type": "code",
   "execution_count": 29,
   "metadata": {},
   "outputs": [
    {
     "data": {
      "text/plain": [
       "'/home/dslab/workspaces/rrunix/spark/Final_project'"
      ]
     },
     "execution_count": 29,
     "metadata": {},
     "output_type": "execute_result"
    }
   ],
   "source": [
    "import os\n",
    "os.getcwd()"
   ]
  },
  {
   "cell_type": "code",
   "execution_count": 30,
   "metadata": {},
   "outputs": [],
   "source": [
    "from pyspark.sql import SparkSession\n",
    "from pyspark.conf import SparkConf\n",
    "from pyspark.sql.types import *\n",
    "from pyspark.sql.functions import *\n",
    "\n",
    "conf = SparkConf().set(\"spark.driver.memory\", \"4g\").set(\"spark.executor.memory\", \"4g\").set(\"loglevel\", \"ERROR\")\n",
    "spark = SparkSession.builder \\\n",
    "            .appName(\"ComercialFlights\") \\\n",
    "            .master(\"local[*]\") \\\n",
    "            .config(conf=conf) \\\n",
    "            .getOrCreate()\n"
   ]
  },
  {
   "cell_type": "code",
   "execution_count": 31,
   "metadata": {},
   "outputs": [],
   "source": [
    "# spark.stop()"
   ]
  },
  {
   "cell_type": "markdown",
   "metadata": {},
   "source": [
    "# 1. Load data"
   ]
  },
  {
   "cell_type": "code",
   "execution_count": 32,
   "metadata": {},
   "outputs": [],
   "source": [
    "# load files .bz2 from data folder\n",
    "# extract files and read them into pyspark dataframe\n",
    "\n",
    "# if \"data/my_df.csv/\" existe cargarlo, sino crar un nuevo df\n",
    "if os.path.exists(\"data/my_df.csv\"):\n",
    "\tdf = spark.read.csv(\"data/my_df.csv\", header=True, sep=\",\")\n",
    "\n",
    "else:\n",
    "\tfiles = os.listdir(\"data/\")\n",
    "\tfiles = [file for file in files if file.endswith('.bz2')]\n",
    "\n",
    "\t# read files into spark dataframes\n",
    "\tdfs = []\n",
    "\tfor file in files:\n",
    "\t\t# read them into df\n",
    "\t\tdf_ = spark.read.csv(\"data/\" + files[0], header=True, sep=\",\")\n",
    "\t\tdfs.append(df_)\n",
    "\n",
    "\tfrom functools import reduce\n",
    "\t# union all dataframes into one\n",
    "\tdf = reduce(DataFrame.unionAll, dfs)"
   ]
  },
  {
   "cell_type": "code",
   "execution_count": 4,
   "metadata": {},
   "outputs": [
    {
     "name": "stderr",
     "output_type": "stream",
     "text": [
      "24/01/02 10:24:45 WARN SparkStringUtils: Truncated the string representation of a plan since it was too large. This behavior can be adjusted by setting 'spark.sql.debug.maxToStringFields'.\n"
     ]
    },
    {
     "name": "stdout",
     "output_type": "stream",
     "text": [
      "+----+-----+----------+---------+-------+----------+-------+----------+-------------+---------+-------+-----------------+--------------+-------+--------+--------+------+----+--------+------+-------+---------+----------------+--------+------------+------------+--------+-------------+-----------------+\n",
      "|Year|Month|DayofMonth|DayOfWeek|DepTime|CRSDepTime|ArrTime|CRSArrTime|UniqueCarrier|FlightNum|TailNum|ActualElapsedTime|CRSElapsedTime|AirTime|ArrDelay|DepDelay|Origin|Dest|Distance|TaxiIn|TaxiOut|Cancelled|CancellationCode|Diverted|CarrierDelay|WeatherDelay|NASDelay|SecurityDelay|LateAircraftDelay|\n",
      "+----+-----+----------+---------+-------+----------+-------+----------+-------------+---------+-------+-----------------+--------------+-------+--------+--------+------+----+--------+------+-------+---------+----------------+--------+------------+------------+--------+-------------+-----------------+\n",
      "|1988|   10|        21|        5|   2146|      2115|   2326|      2305|           US|     2744|     NA|              100|           110|     NA|      21|      31|   SFO| PHX|     651|    NA|     NA|        0|              NA|       0|          NA|          NA|      NA|           NA|               NA|\n",
      "|1988|   10|        23|        7|   2159|      2115|   2342|      2305|           US|     2744|     NA|              103|           110|     NA|      37|      44|   SFO| PHX|     651|    NA|     NA|        0|              NA|       0|          NA|          NA|      NA|           NA|               NA|\n",
      "|1988|   10|        24|        1|   2215|      2115|   2359|      2305|           US|     2744|     NA|              104|           110|     NA|      54|      60|   SFO| PHX|     651|    NA|     NA|        0|              NA|       0|          NA|          NA|      NA|           NA|               NA|\n",
      "|1988|   10|        25|        2|   2136|      2115|   2317|      2305|           US|     2744|     NA|              101|           110|     NA|      12|      21|   SFO| PHX|     651|    NA|     NA|        0|              NA|       0|          NA|          NA|      NA|           NA|               NA|\n",
      "|1988|   10|        26|        3|   2321|      2115|     58|      2305|           US|     2744|     NA|               97|           110|     NA|     113|     126|   SFO| PHX|     651|    NA|     NA|        0|              NA|       0|          NA|          NA|      NA|           NA|               NA|\n",
      "+----+-----+----------+---------+-------+----------+-------+----------+-------------+---------+-------+-----------------+--------------+-------+--------+--------+------+----+--------+------+-------+---------+----------------+--------+------------+------------+--------+-------------+-----------------+\n",
      "only showing top 5 rows\n",
      "\n"
     ]
    }
   ],
   "source": [
    "df.show(5)"
   ]
  },
  {
   "cell_type": "code",
   "execution_count": 6,
   "metadata": {},
   "outputs": [
    {
     "name": "stdout",
     "output_type": "stream",
     "text": [
      "root\n",
      " |-- Year: string (nullable = true)\n",
      " |-- Month: string (nullable = true)\n",
      " |-- DayofMonth: string (nullable = true)\n",
      " |-- DayOfWeek: string (nullable = true)\n",
      " |-- DepTime: string (nullable = true)\n",
      " |-- CRSDepTime: string (nullable = true)\n",
      " |-- ArrTime: string (nullable = true)\n",
      " |-- CRSArrTime: string (nullable = true)\n",
      " |-- UniqueCarrier: string (nullable = true)\n",
      " |-- FlightNum: string (nullable = true)\n",
      " |-- TailNum: string (nullable = true)\n",
      " |-- ActualElapsedTime: string (nullable = true)\n",
      " |-- CRSElapsedTime: string (nullable = true)\n",
      " |-- AirTime: string (nullable = true)\n",
      " |-- ArrDelay: string (nullable = true)\n",
      " |-- DepDelay: string (nullable = true)\n",
      " |-- Origin: string (nullable = true)\n",
      " |-- Dest: string (nullable = true)\n",
      " |-- Distance: string (nullable = true)\n",
      " |-- TaxiIn: string (nullable = true)\n",
      " |-- TaxiOut: string (nullable = true)\n",
      " |-- Cancelled: string (nullable = true)\n",
      " |-- CancellationCode: string (nullable = true)\n",
      " |-- Diverted: string (nullable = true)\n",
      " |-- CarrierDelay: string (nullable = true)\n",
      " |-- WeatherDelay: string (nullable = true)\n",
      " |-- NASDelay: string (nullable = true)\n",
      " |-- SecurityDelay: string (nullable = true)\n",
      " |-- LateAircraftDelay: string (nullable = true)\n",
      "\n"
     ]
    }
   ],
   "source": [
    "df.printSchema()"
   ]
  },
  {
   "cell_type": "code",
   "execution_count": 17,
   "metadata": {},
   "outputs": [
    {
     "name": "stderr",
     "output_type": "stream",
     "text": [
      "[Stage 13:=================================================>      (32 + 4) / 36]\r"
     ]
    },
    {
     "name": "stdout",
     "output_type": "stream",
     "text": [
      "Number of rows:  15606288\n",
      "Number of columns:  29\n"
     ]
    },
    {
     "name": "stderr",
     "output_type": "stream",
     "text": [
      "                                                                                \r"
     ]
    }
   ],
   "source": [
    "# comprobar el numero de filas de df \n",
    "n_rows = df.count()\n",
    "n_cols1 = len(df.columns)\n",
    "\n",
    "print(\"Number of rows: \", n_rows)\n",
    "# comprobar el numero de columnas de df\n",
    "print(\"Number of columns: \", n_cols1)"
   ]
  },
  {
   "cell_type": "markdown",
   "metadata": {},
   "source": [
    "# 2. Process data"
   ]
  },
  {
   "cell_type": "markdown",
   "metadata": {},
   "source": [
    "The dataset has 29 columns. We won't use all of them. The ones that should be droped are: \n",
    "* ArrTime\n",
    "* ActualElapsedTime\n",
    "* AirTime\n",
    "* TaxiIn\n",
    "* Diverted\n",
    "* CarrierDelay\n",
    "* WeatherDelay\n",
    "* NASDelay\n",
    "* SecurityDelay\n",
    "* LateAircraftDelay\n",
    "\n",
    "Meaning of the variables that we keep: \n",
    "1. Year 1987-2008 \n",
    "2. Month 1-12 \n",
    "3. DayofMonth 1-31 \n",
    "4. DayOfWeek 1 (Monday) - 7 (Sunday)\n",
    "5. DepTime actual departure time (local, hhm m) \n",
    "6. CRSDepTime scheduled departure time (local, hhmm) \n",
    "7. CRSArrTime scheduled arrival time (local, hhmm) \n",
    "8. UniqueCarrier Airline code \n",
    "9. FlightNum flight number \n",
    "10. TailNum plane tail number \n",
    "11. CRSElapsedTime in minutes (estimated flight time)\n",
    "12. ArrDelay arrival delay, in minutes -- TARGET VARIABLE\n",
    "13. DepDelay departure delay, in minutes \n",
    "14. Origin origin IATA airport code \n",
    "15. Dest destination IATA airport code \n",
    "16. Distance in miles \n",
    "17. TaxiOut taxi out time in minutes (tiempo que tarda el avión desde la puerta de embarque hasta el despegue\")\n",
    "18. Cancelled was the flight cancelled? \n",
    "19. CancellationCode reason for cancellation (A = carrier, B = weather, C = NAS, D = security) "
   ]
  },
  {
   "cell_type": "markdown",
   "metadata": {},
   "source": [
    "### Useful functions"
   ]
  },
  {
   "cell_type": "code",
   "execution_count": 33,
   "metadata": {},
   "outputs": [],
   "source": [
    "from pyspark.sql.functions import *\n",
    "from pyspark.ml.feature import StringIndexer, OneHotEncoder\n",
    "from pyspark.ml import Pipeline\n",
    "\n",
    "# rename columns:\n",
    "def edit_column_names(df):\n",
    "    \"\"\"\n",
    "    Edit column names to lowercase and replace spaces with underscores.\n",
    "    \n",
    "    Param:\n",
    "    - df: spark dataframe\n",
    "    \n",
    "    Return:\n",
    "    - df: spark dataframe with edited column names\n",
    "    \"\"\"\n",
    "    df =  df.withColumnRenamed('DayofMonth','day_of_month').\\\n",
    "                withColumnRenamed('DayOfWeek','day_of_week').\\\n",
    "                withColumnRenamed('DepTime','actual_departure_time').\\\n",
    "                withColumnRenamed('CRSDepTime','scheduled_departure_time').\\\n",
    "                withColumnRenamed('ArrTime','actual_arrival_time').\\\n",
    "                withColumnRenamed('CRSArrTime','scheduled_arrival_time').\\\n",
    "                withColumnRenamed('UniqueCarrier','airline_code').\\\n",
    "                withColumnRenamed('FlightNum','flight_number').\\\n",
    "                withColumnRenamed('TailNum','plane_number').\\\n",
    "                withColumnRenamed('ActualElapsedTime','actual_flight_time').\\\n",
    "                withColumnRenamed('CRSElapsedTime','scheduled_flight_time').\\\n",
    "                withColumnRenamed('AirTime','air_time').\\\n",
    "                withColumnRenamed('ArrDelay','arrival_delay').\\\n",
    "                withColumnRenamed('DepDelay','departure_delay').\\\n",
    "                withColumnRenamed('TaxiIn','taxi_in').\\\n",
    "                withColumnRenamed('TaxiOut','taxi_out').\\\n",
    "                withColumnRenamed('CancellationCode','cancellation_code').\\\n",
    "                withColumnRenamed('CarrierDelay','carrier_delay').\\\n",
    "                withColumnRenamed('WeatherDelay','weather_delay').\\\n",
    "                withColumnRenamed('NASDelay','nas_delay').\\\n",
    "                withColumnRenamed('SecurityDelay','security_delay').\\\n",
    "                withColumnRenamed('LateAircraftDelay','late_aircraft_delay')\n",
    "    for col in df.columns:\n",
    "        df = df.withColumnRenamed(col, col.lower())\n",
    "    return df\n",
    "\n",
    "# some strings to float:\n",
    "def string_to_float(df):\n",
    "    \"\"\" \n",
    "    Convert some columns from string to float.\n",
    "    \n",
    "    Param:\n",
    "    - df: spark dataframe\n",
    "    \n",
    "    Return:\n",
    "    - df: spark dataframe with some columns converted to float\n",
    "    \"\"\"\n",
    "    df = df.withColumn('year', col('year').cast('float'))\n",
    "    df = df.withColumn('month', col('month').cast('float'))\n",
    "    df = df.withColumn('day_of_month', col('day_of_month').cast('float'))\n",
    "    df = df.withColumn('day_of_week', col('day_of_week').cast('float'))\n",
    "    df = df.withColumn('arrival_delay', col('arrival_delay').cast('float'))\n",
    "    df = df.withColumn('departure_delay', col('departure_delay').cast('float'))\n",
    "    df = df.withColumn('taxi_out', col('taxi_out').cast('float'))\n",
    "    df = df.withColumn('distance', col('distance').cast('float'))\n",
    "    df = df.withColumn('cancelled', col('cancelled').cast('float'))\n",
    "    df = df.withColumn('flight_number', col('flight_number').cast('float'))\n",
    "\n",
    "\n",
    "    return df\n",
    "\n",
    "# encode categorical features:\n",
    "def encode_categorical_features(df):\n",
    "    \"\"\" \n",
    "    Encode categorical features using StringIndexer and OneHotEncoder. \n",
    "    The output is a new DataFrame with the specified columns encoded.\n",
    "    \n",
    "    Params:\n",
    "    - df: Spark DataFrame\n",
    "    \n",
    "    Returns:\n",
    "    - df_encoded: Spark DataFrame with categorical features encoded\n",
    "    \"\"\"\n",
    "    # StringIndexer\n",
    "    indexer = StringIndexer(inputCols=['airline_code', 'origin', 'dest',  'plane_number'],\n",
    "                            outputCols=['airline_index', 'origin_index', 'dest_index', 'plane_index'],\n",
    "                            handleInvalid=\"keep\")\n",
    "    \n",
    "    # OneHotEncoder\n",
    "    encoder = OneHotEncoder(inputCols=['airline_index', 'origin_index', 'dest_index',  'plane_index'],\n",
    "                            outputCols=['airline_encoded', 'origin_encoded', 'dest_encoded', 'plane_encoded'])\n",
    "    \n",
    "    # Pipeline\n",
    "    pipeline = Pipeline(stages=[indexer, encoder])\n",
    "    df_encoded = pipeline.fit(df).transform(df)\n",
    "    \n",
    "    return df_encoded\n",
    "    \n",
    "# convert time to minutes:\n",
    "def convert_time_to_minutes(df):\n",
    "    \"\"\" \n",
    "    Convert time to minutes. Creates new columns with the time in minutes and drop the original ones.\n",
    "    To compute it we take the first two digits and multiply by 60 and add the last two digits.\n",
    "    This is applied to: actual_departure_time, scheduled_departure_time, scheduled_arrival_time, scheduled_flight_time\n",
    "    Param:\n",
    "    - df: spark dataframe\n",
    "    \n",
    "    Return:\n",
    "    - df: spark dataframe with new columns with time in minutes\n",
    "    \"\"\"\n",
    "    df = df.withColumn('actual_departure_hour', (col('actual_departure_time') / 100).cast('int'))\n",
    "    df = df.withColumn('scheduled_departure_hour', (col('scheduled_departure_time') / 100).cast('int'))\n",
    "    df = df.withColumn('scheduled_arrival_hour', (col('scheduled_arrival_time') / 100).cast('int'))\n",
    "    df = df.withColumn('scheduled_flight_hour', (col('scheduled_flight_time') / 100).cast('int'))\n",
    "    \n",
    "    df = df.withColumn('actual_departure_time_mins', (col('actual_departure_hour') * 60) + (col('actual_departure_time') % 100))\n",
    "    df = df.withColumn('scheduled_departure_time_mins', (col('scheduled_departure_hour') * 60) + (col('scheduled_departure_time') % 100))\n",
    "    df = df.withColumn('scheduled_arrival_time_mins', (col('scheduled_arrival_hour') * 60) + (col('scheduled_arrival_time') % 100))\n",
    "    df = df.withColumn('scheduled_flight_time_mins', (col('scheduled_flight_hour') * 60) + (col('scheduled_flight_time') % 100))\n",
    "    \n",
    "    df = df.drop('actual_departure_hour', 'scheduled_departure_hour', 'scheduled_arrival_hour', 'scheduled_flight_hour')\n",
    "    \n",
    "    return df\n",
    "\n",
    "# drop columns:\n",
    "def my_df(df):\n",
    "    \"\"\"\n",
    "    Select columns to keep in the dataframe. \n",
    "    Some columns are dropped as asked in the project instructions.\n",
    "    Others are dropped because they are not useful for the model since they are derived from the original ones.\n",
    "    \n",
    "    Params: \n",
    "    - df: spark dataframe\n",
    "    \n",
    "    Return:\n",
    "    - df: spark dataframe with selected columns\n",
    "    \"\"\"\n",
    "    df = df.select('year', 'month', 'day_of_month', 'day_of_week', 'actual_departure_time_mins',\n",
    " \t\t\t\t\t'scheduled_departure_time_mins', 'scheduled_arrival_time_mins', 'airline_encoded',\n",
    " \t\t\t\t\t'flight_number', 'scheduled_flight_time_mins', 'departure_delay',\n",
    " \t\t\t\t\t'origin_encoded', 'dest_encoded', 'distance', 'cancelled',\n",
    " \t\t\t\t\t'arrival_delay')\n",
    "    return df\n",
    "\n",
    "# drop nulls:\n",
    "def drop_nulls(df):\n",
    "    \"\"\" \n",
    "    Drop rows with null values in the following columns: arrival_delay, scheduled_flight_time_mins, distance.\n",
    "\n",
    "    Param:\n",
    "    - df: spark dataframe\n",
    "\n",
    "    Return:\n",
    "    - df: spark dataframe with rows with null values dropped\n",
    "    \"\"\"\n",
    "    # remove rows in arrival_delay where arrival_delay is null\n",
    "    df = df.filter(df.arrival_delay.isNotNull())\n",
    "    # remove rows in scheduled_flight_time_mins where departure_delay is null\n",
    "    df = df.filter(df.scheduled_flight_time_mins.isNotNull())\n",
    "    # remove rows in distance where distance is null\n",
    "    df = df.filter(df.distance.isNotNull())\n",
    "    return df\n",
    "\n",
    "# drop cancelled flights:\n",
    "def drop_cancelled(df):\n",
    "    \"\"\" \n",
    "    Drop rows with cancelled flights.\n",
    "    \n",
    "    Param:\n",
    "    - df: spark dataframe\n",
    "    \n",
    "    Return:\n",
    "    - df: spark dataframe with cancelled flights dropped\n",
    "    \"\"\"\n",
    "    df = df.filter(df.cancelled == 0)\n",
    "    # drop cancelled column\n",
    "    df = df.drop('cancelled')\n",
    "    return df\n"
   ]
  },
  {
   "cell_type": "markdown",
   "metadata": {},
   "source": [
    "###"
   ]
  },
  {
   "cell_type": "code",
   "execution_count": 38,
   "metadata": {},
   "outputs": [
    {
     "name": "stdout",
     "output_type": "stream",
     "text": [
      "+----+-----+------------+-----------+---------------------+------------------------+-------------------+----------------------+------------+-------------+------------+------------------+---------------------+--------+-------------+---------------+------+----+--------+-------+--------+---------+-----------------+--------+-------------+-------------+---------+--------------+-------------------+\n",
      "|year|month|day_of_month|day_of_week|actual_departure_time|scheduled_departure_time|actual_arrival_time|scheduled_arrival_time|airline_code|flight_number|plane_number|actual_flight_time|scheduled_flight_time|air_time|arrival_delay|departure_delay|origin|dest|distance|taxi_in|taxi_out|cancelled|cancellation_code|diverted|carrier_delay|weather_delay|nas_delay|security_delay|late_aircraft_delay|\n",
      "+----+-----+------------+-----------+---------------------+------------------------+-------------------+----------------------+------------+-------------+------------+------------------+---------------------+--------+-------------+---------------+------+----+--------+-------+--------+---------+-----------------+--------+-------------+-------------+---------+--------------+-------------------+\n",
      "|1988|   10|          21|          5|                 2146|                    2115|               2326|                  2305|          US|         2744|          NA|               100|                  110|      NA|           21|             31|   SFO| PHX|     651|     NA|      NA|        0|               NA|       0|           NA|           NA|       NA|            NA|                 NA|\n",
      "|1988|   10|          23|          7|                 2159|                    2115|               2342|                  2305|          US|         2744|          NA|               103|                  110|      NA|           37|             44|   SFO| PHX|     651|     NA|      NA|        0|               NA|       0|           NA|           NA|       NA|            NA|                 NA|\n",
      "|1988|   10|          24|          1|                 2215|                    2115|               2359|                  2305|          US|         2744|          NA|               104|                  110|      NA|           54|             60|   SFO| PHX|     651|     NA|      NA|        0|               NA|       0|           NA|           NA|       NA|            NA|                 NA|\n",
      "|1988|   10|          25|          2|                 2136|                    2115|               2317|                  2305|          US|         2744|          NA|               101|                  110|      NA|           12|             21|   SFO| PHX|     651|     NA|      NA|        0|               NA|       0|           NA|           NA|       NA|            NA|                 NA|\n",
      "|1988|   10|          26|          3|                 2321|                    2115|                 58|                  2305|          US|         2744|          NA|                97|                  110|      NA|          113|            126|   SFO| PHX|     651|     NA|      NA|        0|               NA|       0|           NA|           NA|       NA|            NA|                 NA|\n",
      "+----+-----+------------+-----------+---------------------+------------------------+-------------------+----------------------+------------+-------------+------------+------------------+---------------------+--------+-------------+---------------+------+----+--------+-------+--------+---------+-----------------+--------+-------------+-------------+---------+--------------+-------------------+\n",
      "only showing top 5 rows\n",
      "\n"
     ]
    }
   ],
   "source": [
    "# renamed columns:\n",
    "df1 = edit_column_names(df)\n",
    "df1.show(5)"
   ]
  },
  {
   "cell_type": "code",
   "execution_count": 39,
   "metadata": {},
   "outputs": [
    {
     "name": "stdout",
     "output_type": "stream",
     "text": [
      "root\n",
      " |-- year: float (nullable = true)\n",
      " |-- month: float (nullable = true)\n",
      " |-- day_of_month: float (nullable = true)\n",
      " |-- day_of_week: float (nullable = true)\n",
      " |-- actual_departure_time: string (nullable = true)\n",
      " |-- scheduled_departure_time: string (nullable = true)\n",
      " |-- actual_arrival_time: string (nullable = true)\n",
      " |-- scheduled_arrival_time: string (nullable = true)\n",
      " |-- airline_code: string (nullable = true)\n",
      " |-- flight_number: float (nullable = true)\n",
      " |-- plane_number: string (nullable = true)\n",
      " |-- actual_flight_time: string (nullable = true)\n",
      " |-- scheduled_flight_time: string (nullable = true)\n",
      " |-- air_time: string (nullable = true)\n",
      " |-- arrival_delay: float (nullable = true)\n",
      " |-- departure_delay: float (nullable = true)\n",
      " |-- origin: string (nullable = true)\n",
      " |-- dest: string (nullable = true)\n",
      " |-- distance: float (nullable = true)\n",
      " |-- taxi_in: string (nullable = true)\n",
      " |-- taxi_out: float (nullable = true)\n",
      " |-- cancelled: float (nullable = true)\n",
      " |-- cancellation_code: string (nullable = true)\n",
      " |-- diverted: string (nullable = true)\n",
      " |-- carrier_delay: string (nullable = true)\n",
      " |-- weather_delay: string (nullable = true)\n",
      " |-- nas_delay: string (nullable = true)\n",
      " |-- security_delay: string (nullable = true)\n",
      " |-- late_aircraft_delay: string (nullable = true)\n",
      "\n"
     ]
    }
   ],
   "source": [
    "# convert strings to float: arrival_delay, departure_delay, taxi_out, distance\n",
    "df2 = string_to_float(df1)\n",
    "df2.printSchema()"
   ]
  },
  {
   "cell_type": "code",
   "execution_count": 40,
   "metadata": {},
   "outputs": [
    {
     "name": "stderr",
     "output_type": "stream",
     "text": [
      "                                                                                \r"
     ]
    },
    {
     "name": "stdout",
     "output_type": "stream",
     "text": [
      "+------+-----+------------+-----------+---------------------+------------------------+-------------------+----------------------+------------+-------------+------------+------------------+---------------------+--------+-------------+---------------+------+----+--------+-------+--------+---------+-----------------+--------+-------------+-------------+---------+--------------+-------------------+-------------+------------+----------+-----------+---------------+---------------+---------------+-------------+\n",
      "|  year|month|day_of_month|day_of_week|actual_departure_time|scheduled_departure_time|actual_arrival_time|scheduled_arrival_time|airline_code|flight_number|plane_number|actual_flight_time|scheduled_flight_time|air_time|arrival_delay|departure_delay|origin|dest|distance|taxi_in|taxi_out|cancelled|cancellation_code|diverted|carrier_delay|weather_delay|nas_delay|security_delay|late_aircraft_delay|airline_index|origin_index|dest_index|plane_index|airline_encoded| origin_encoded|   dest_encoded|plane_encoded|\n",
      "+------+-----+------------+-----------+---------------------+------------------------+-------------------+----------------------+------------+-------------+------------+------------------+---------------------+--------+-------------+---------------+------+----+--------+-------+--------+---------+-----------------+--------+-------------+-------------+---------+--------------+-------------------+-------------+------------+----------+-----------+---------------+---------------+---------------+-------------+\n",
      "|1988.0| 10.0|        21.0|        5.0|                 2146|                    2115|               2326|                  2305|          US|       2744.0|          NA|               100|                  110|      NA|         21.0|           31.0|   SFO| PHX|   651.0|     NA|    NULL|      0.0|               NA|       0|           NA|           NA|       NA|            NA|                 NA|          3.0|         5.0|       8.0|        0.0| (14,[3],[1.0])|(238,[5],[1.0])|(236,[8],[1.0])|(1,[0],[1.0])|\n",
      "|1988.0| 10.0|        23.0|        7.0|                 2159|                    2115|               2342|                  2305|          US|       2744.0|          NA|               103|                  110|      NA|         37.0|           44.0|   SFO| PHX|   651.0|     NA|    NULL|      0.0|               NA|       0|           NA|           NA|       NA|            NA|                 NA|          3.0|         5.0|       8.0|        0.0| (14,[3],[1.0])|(238,[5],[1.0])|(236,[8],[1.0])|(1,[0],[1.0])|\n",
      "|1988.0| 10.0|        24.0|        1.0|                 2215|                    2115|               2359|                  2305|          US|       2744.0|          NA|               104|                  110|      NA|         54.0|           60.0|   SFO| PHX|   651.0|     NA|    NULL|      0.0|               NA|       0|           NA|           NA|       NA|            NA|                 NA|          3.0|         5.0|       8.0|        0.0| (14,[3],[1.0])|(238,[5],[1.0])|(236,[8],[1.0])|(1,[0],[1.0])|\n",
      "|1988.0| 10.0|        25.0|        2.0|                 2136|                    2115|               2317|                  2305|          US|       2744.0|          NA|               101|                  110|      NA|         12.0|           21.0|   SFO| PHX|   651.0|     NA|    NULL|      0.0|               NA|       0|           NA|           NA|       NA|            NA|                 NA|          3.0|         5.0|       8.0|        0.0| (14,[3],[1.0])|(238,[5],[1.0])|(236,[8],[1.0])|(1,[0],[1.0])|\n",
      "|1988.0| 10.0|        26.0|        3.0|                 2321|                    2115|                 58|                  2305|          US|       2744.0|          NA|                97|                  110|      NA|        113.0|          126.0|   SFO| PHX|   651.0|     NA|    NULL|      0.0|               NA|       0|           NA|           NA|       NA|            NA|                 NA|          3.0|         5.0|       8.0|        0.0| (14,[3],[1.0])|(238,[5],[1.0])|(236,[8],[1.0])|(1,[0],[1.0])|\n",
      "+------+-----+------------+-----------+---------------------+------------------------+-------------------+----------------------+------------+-------------+------------+------------------+---------------------+--------+-------------+---------------+------+----+--------+-------+--------+---------+-----------------+--------+-------------+-------------+---------+--------------+-------------------+-------------+------------+----------+-----------+---------------+---------------+---------------+-------------+\n",
      "only showing top 5 rows\n",
      "\n"
     ]
    }
   ],
   "source": [
    "# encode categorical features: airline_code, origin, dest, plane_number (When null --> 0.0)\n",
    "df3 = encode_categorical_features(df2)\n",
    "df3.show(5)\n",
    "# df3.printSchema()"
   ]
  },
  {
   "cell_type": "code",
   "execution_count": 41,
   "metadata": {},
   "outputs": [
    {
     "name": "stdout",
     "output_type": "stream",
     "text": [
      "root\n",
      " |-- year: float (nullable = true)\n",
      " |-- month: float (nullable = true)\n",
      " |-- day_of_month: float (nullable = true)\n",
      " |-- day_of_week: float (nullable = true)\n",
      " |-- actual_departure_time: string (nullable = true)\n",
      " |-- scheduled_departure_time: string (nullable = true)\n",
      " |-- actual_arrival_time: string (nullable = true)\n",
      " |-- scheduled_arrival_time: string (nullable = true)\n",
      " |-- airline_code: string (nullable = true)\n",
      " |-- flight_number: float (nullable = true)\n",
      " |-- plane_number: string (nullable = true)\n",
      " |-- actual_flight_time: string (nullable = true)\n",
      " |-- scheduled_flight_time: string (nullable = true)\n",
      " |-- air_time: string (nullable = true)\n",
      " |-- arrival_delay: float (nullable = true)\n",
      " |-- departure_delay: float (nullable = true)\n",
      " |-- origin: string (nullable = true)\n",
      " |-- dest: string (nullable = true)\n",
      " |-- distance: float (nullable = true)\n",
      " |-- taxi_in: string (nullable = true)\n",
      " |-- taxi_out: float (nullable = true)\n",
      " |-- cancelled: float (nullable = true)\n",
      " |-- cancellation_code: string (nullable = true)\n",
      " |-- diverted: string (nullable = true)\n",
      " |-- carrier_delay: string (nullable = true)\n",
      " |-- weather_delay: string (nullable = true)\n",
      " |-- nas_delay: string (nullable = true)\n",
      " |-- security_delay: string (nullable = true)\n",
      " |-- late_aircraft_delay: string (nullable = true)\n",
      " |-- airline_index: double (nullable = false)\n",
      " |-- origin_index: double (nullable = false)\n",
      " |-- dest_index: double (nullable = false)\n",
      " |-- plane_index: double (nullable = false)\n",
      " |-- airline_encoded: vector (nullable = true)\n",
      " |-- origin_encoded: vector (nullable = true)\n",
      " |-- dest_encoded: vector (nullable = true)\n",
      " |-- plane_encoded: vector (nullable = true)\n",
      "\n"
     ]
    }
   ],
   "source": [
    "df3.printSchema()"
   ]
  },
  {
   "cell_type": "code",
   "execution_count": 42,
   "metadata": {},
   "outputs": [
    {
     "name": "stdout",
     "output_type": "stream",
     "text": [
      "+------+-----+------------+-----------+---------------------+------------------------+-------------------+----------------------+------------+-------------+------------+------------------+---------------------+--------+-------------+---------------+------+----+--------+-------+--------+---------+-----------------+--------+-------------+-------------+---------+--------------+-------------------+-------------+------------+----------+-----------+---------------+---------------+---------------+-------------+--------------------------+-----------------------------+---------------------------+--------------------------+\n",
      "|  year|month|day_of_month|day_of_week|actual_departure_time|scheduled_departure_time|actual_arrival_time|scheduled_arrival_time|airline_code|flight_number|plane_number|actual_flight_time|scheduled_flight_time|air_time|arrival_delay|departure_delay|origin|dest|distance|taxi_in|taxi_out|cancelled|cancellation_code|diverted|carrier_delay|weather_delay|nas_delay|security_delay|late_aircraft_delay|airline_index|origin_index|dest_index|plane_index|airline_encoded| origin_encoded|   dest_encoded|plane_encoded|actual_departure_time_mins|scheduled_departure_time_mins|scheduled_arrival_time_mins|scheduled_flight_time_mins|\n",
      "+------+-----+------------+-----------+---------------------+------------------------+-------------------+----------------------+------------+-------------+------------+------------------+---------------------+--------+-------------+---------------+------+----+--------+-------+--------+---------+-----------------+--------+-------------+-------------+---------+--------------+-------------------+-------------+------------+----------+-----------+---------------+---------------+---------------+-------------+--------------------------+-----------------------------+---------------------------+--------------------------+\n",
      "|1988.0| 10.0|        21.0|        5.0|                 2146|                    2115|               2326|                  2305|          US|       2744.0|          NA|               100|                  110|      NA|         21.0|           31.0|   SFO| PHX|   651.0|     NA|    NULL|      0.0|               NA|       0|           NA|           NA|       NA|            NA|                 NA|          3.0|         5.0|       8.0|        0.0| (14,[3],[1.0])|(238,[5],[1.0])|(236,[8],[1.0])|(1,[0],[1.0])|                    1306.0|                       1275.0|                     1385.0|                      70.0|\n",
      "|1988.0| 10.0|        23.0|        7.0|                 2159|                    2115|               2342|                  2305|          US|       2744.0|          NA|               103|                  110|      NA|         37.0|           44.0|   SFO| PHX|   651.0|     NA|    NULL|      0.0|               NA|       0|           NA|           NA|       NA|            NA|                 NA|          3.0|         5.0|       8.0|        0.0| (14,[3],[1.0])|(238,[5],[1.0])|(236,[8],[1.0])|(1,[0],[1.0])|                    1319.0|                       1275.0|                     1385.0|                      70.0|\n",
      "|1988.0| 10.0|        24.0|        1.0|                 2215|                    2115|               2359|                  2305|          US|       2744.0|          NA|               104|                  110|      NA|         54.0|           60.0|   SFO| PHX|   651.0|     NA|    NULL|      0.0|               NA|       0|           NA|           NA|       NA|            NA|                 NA|          3.0|         5.0|       8.0|        0.0| (14,[3],[1.0])|(238,[5],[1.0])|(236,[8],[1.0])|(1,[0],[1.0])|                    1335.0|                       1275.0|                     1385.0|                      70.0|\n",
      "|1988.0| 10.0|        25.0|        2.0|                 2136|                    2115|               2317|                  2305|          US|       2744.0|          NA|               101|                  110|      NA|         12.0|           21.0|   SFO| PHX|   651.0|     NA|    NULL|      0.0|               NA|       0|           NA|           NA|       NA|            NA|                 NA|          3.0|         5.0|       8.0|        0.0| (14,[3],[1.0])|(238,[5],[1.0])|(236,[8],[1.0])|(1,[0],[1.0])|                    1296.0|                       1275.0|                     1385.0|                      70.0|\n",
      "|1988.0| 10.0|        26.0|        3.0|                 2321|                    2115|                 58|                  2305|          US|       2744.0|          NA|                97|                  110|      NA|        113.0|          126.0|   SFO| PHX|   651.0|     NA|    NULL|      0.0|               NA|       0|           NA|           NA|       NA|            NA|                 NA|          3.0|         5.0|       8.0|        0.0| (14,[3],[1.0])|(238,[5],[1.0])|(236,[8],[1.0])|(1,[0],[1.0])|                    1401.0|                       1275.0|                     1385.0|                      70.0|\n",
      "+------+-----+------------+-----------+---------------------+------------------------+-------------------+----------------------+------------+-------------+------------+------------------+---------------------+--------+-------------+---------------+------+----+--------+-------+--------+---------+-----------------+--------+-------------+-------------+---------+--------------+-------------------+-------------+------------+----------+-----------+---------------+---------------+---------------+-------------+--------------------------+-----------------------------+---------------------------+--------------------------+\n",
      "only showing top 5 rows\n",
      "\n"
     ]
    }
   ],
   "source": [
    "# convert time (hh:mm) to minutes: actual_departure_time, scheduled_departure_time, scheduled_arrival_time, scheduled_flight_time\n",
    "df4 = convert_time_to_minutes(df3)\n",
    "df4.show(5)"
   ]
  },
  {
   "cell_type": "code",
   "execution_count": 43,
   "metadata": {},
   "outputs": [
    {
     "name": "stdout",
     "output_type": "stream",
     "text": [
      "root\n",
      " |-- year: float (nullable = true)\n",
      " |-- month: float (nullable = true)\n",
      " |-- day_of_month: float (nullable = true)\n",
      " |-- day_of_week: float (nullable = true)\n",
      " |-- actual_departure_time: string (nullable = true)\n",
      " |-- scheduled_departure_time: string (nullable = true)\n",
      " |-- actual_arrival_time: string (nullable = true)\n",
      " |-- scheduled_arrival_time: string (nullable = true)\n",
      " |-- airline_code: string (nullable = true)\n",
      " |-- flight_number: float (nullable = true)\n",
      " |-- plane_number: string (nullable = true)\n",
      " |-- actual_flight_time: string (nullable = true)\n",
      " |-- scheduled_flight_time: string (nullable = true)\n",
      " |-- air_time: string (nullable = true)\n",
      " |-- arrival_delay: float (nullable = true)\n",
      " |-- departure_delay: float (nullable = true)\n",
      " |-- origin: string (nullable = true)\n",
      " |-- dest: string (nullable = true)\n",
      " |-- distance: float (nullable = true)\n",
      " |-- taxi_in: string (nullable = true)\n",
      " |-- taxi_out: float (nullable = true)\n",
      " |-- cancelled: float (nullable = true)\n",
      " |-- cancellation_code: string (nullable = true)\n",
      " |-- diverted: string (nullable = true)\n",
      " |-- carrier_delay: string (nullable = true)\n",
      " |-- weather_delay: string (nullable = true)\n",
      " |-- nas_delay: string (nullable = true)\n",
      " |-- security_delay: string (nullable = true)\n",
      " |-- late_aircraft_delay: string (nullable = true)\n",
      " |-- airline_index: double (nullable = false)\n",
      " |-- origin_index: double (nullable = false)\n",
      " |-- dest_index: double (nullable = false)\n",
      " |-- plane_index: double (nullable = false)\n",
      " |-- airline_encoded: vector (nullable = true)\n",
      " |-- origin_encoded: vector (nullable = true)\n",
      " |-- dest_encoded: vector (nullable = true)\n",
      " |-- plane_encoded: vector (nullable = true)\n",
      " |-- actual_departure_time_mins: double (nullable = true)\n",
      " |-- scheduled_departure_time_mins: double (nullable = true)\n",
      " |-- scheduled_arrival_time_mins: double (nullable = true)\n",
      " |-- scheduled_flight_time_mins: double (nullable = true)\n",
      "\n"
     ]
    }
   ],
   "source": [
    "df4.printSchema()"
   ]
  },
  {
   "cell_type": "code",
   "execution_count": 44,
   "metadata": {},
   "outputs": [
    {
     "data": {
      "text/plain": [
       "['year',\n",
       " 'month',\n",
       " 'day_of_month',\n",
       " 'day_of_week',\n",
       " 'actual_departure_time',\n",
       " 'scheduled_departure_time',\n",
       " 'actual_arrival_time',\n",
       " 'scheduled_arrival_time',\n",
       " 'airline_code',\n",
       " 'flight_number',\n",
       " 'plane_number',\n",
       " 'actual_flight_time',\n",
       " 'scheduled_flight_time',\n",
       " 'air_time',\n",
       " 'arrival_delay',\n",
       " 'departure_delay',\n",
       " 'origin',\n",
       " 'dest',\n",
       " 'distance',\n",
       " 'taxi_in',\n",
       " 'taxi_out',\n",
       " 'cancelled',\n",
       " 'cancellation_code',\n",
       " 'diverted',\n",
       " 'carrier_delay',\n",
       " 'weather_delay',\n",
       " 'nas_delay',\n",
       " 'security_delay',\n",
       " 'late_aircraft_delay',\n",
       " 'airline_index',\n",
       " 'origin_index',\n",
       " 'dest_index',\n",
       " 'plane_index',\n",
       " 'airline_encoded',\n",
       " 'origin_encoded',\n",
       " 'dest_encoded',\n",
       " 'plane_encoded',\n",
       " 'actual_departure_time_mins',\n",
       " 'scheduled_departure_time_mins',\n",
       " 'scheduled_arrival_time_mins',\n",
       " 'scheduled_flight_time_mins']"
      ]
     },
     "execution_count": 44,
     "metadata": {},
     "output_type": "execute_result"
    }
   ],
   "source": [
    "df4.columns"
   ]
  },
  {
   "cell_type": "code",
   "execution_count": 45,
   "metadata": {},
   "outputs": [],
   "source": [
    "# check for missing values (NULL, NAN, NA)\n",
    "# count Na values in each column\n",
    "from pyspark.sql.functions import isnan, when, count, col\n",
    "\n",
    "# df4.select([count(when(col(c) == \"NA\", c)).alias(c) for c in df4.columns]).show()"
   ]
  },
  {
   "cell_type": "code",
   "execution_count": 46,
   "metadata": {},
   "outputs": [],
   "source": [
    "# count NULL values in each column\n",
    "# df4.select([count(when(col(c).isNull(), c)).alias(c) for c in df4.columns]).show()"
   ]
  },
  {
   "cell_type": "markdown",
   "metadata": {},
   "source": [
    "__Missing Values__\n",
    "\n",
    "_NA_\n",
    "* actual_departure_time: 518228 --- (0.0199%) ---> DROP\n",
    "* plane_number: 10404192 --- (0.4009%) ---> DROP COLLUMN (dont keep plane_index either bc it has the same info)\n",
    "* scheduled_flight_time: 5586 --- (0.0002%) --> DROP\n",
    "* cancellation_code: 21173634 --- (0.8158%) ---> DROP COLLUMN (dont keep cancellation_index either bc it has the same info)\n",
    "\n",
    "_NULL_\n",
    "* plane_number: 84904 --- (0.0032%) ---> DROP COLLUMN .\n",
    "* arrival_delay: 584730 --- (0.0225%) ---> REMOVE ROWS (ES LA TARGET) .\n",
    "* departure_delay: 518228 --- (0.0199%) ---> IMPUT MEAN OF THE AIRLINE __train/test__\n",
    "* distance: 22204 --- (0.0008%) ---> BUSCAR OTROS VUELOS CON MISMO ORIGINY DEST Y PONER LA MEDIA __train/test__\n",
    "* taxi_out: 10533076 --- (0.4058%) ---> DROP COLLUMN .\n",
    "* cancellation_code: 4649550 --- (0.1791%) ---> DROP COLLUMN .\n",
    "* actual_departure_time_mins: 518228 --- (0.0199%) ---> schedule_departure_time + deparutre delay __train/test__\n",
    "* scheduled_flight_time_mins: 5586 --- (0.0002%) ---> REMOVE ROWS ."
   ]
  },
  {
   "cell_type": "code",
   "execution_count": 47,
   "metadata": {},
   "outputs": [
    {
     "name": "stdout",
     "output_type": "stream",
     "text": [
      "+------+-----+------------+-----------+--------------------------+-----------------------------+---------------------------+---------------+-------------+--------------------------+---------------+---------------+---------------+--------+---------+-------------+\n",
      "|  year|month|day_of_month|day_of_week|actual_departure_time_mins|scheduled_departure_time_mins|scheduled_arrival_time_mins|airline_encoded|flight_number|scheduled_flight_time_mins|departure_delay| origin_encoded|   dest_encoded|distance|cancelled|arrival_delay|\n",
      "+------+-----+------------+-----------+--------------------------+-----------------------------+---------------------------+---------------+-------------+--------------------------+---------------+---------------+---------------+--------+---------+-------------+\n",
      "|1988.0| 10.0|        21.0|        5.0|                    1306.0|                       1275.0|                     1385.0| (14,[3],[1.0])|       2744.0|                      70.0|           31.0|(238,[5],[1.0])|(236,[8],[1.0])|   651.0|      0.0|         21.0|\n",
      "|1988.0| 10.0|        23.0|        7.0|                    1319.0|                       1275.0|                     1385.0| (14,[3],[1.0])|       2744.0|                      70.0|           44.0|(238,[5],[1.0])|(236,[8],[1.0])|   651.0|      0.0|         37.0|\n",
      "|1988.0| 10.0|        24.0|        1.0|                    1335.0|                       1275.0|                     1385.0| (14,[3],[1.0])|       2744.0|                      70.0|           60.0|(238,[5],[1.0])|(236,[8],[1.0])|   651.0|      0.0|         54.0|\n",
      "|1988.0| 10.0|        25.0|        2.0|                    1296.0|                       1275.0|                     1385.0| (14,[3],[1.0])|       2744.0|                      70.0|           21.0|(238,[5],[1.0])|(236,[8],[1.0])|   651.0|      0.0|         12.0|\n",
      "|1988.0| 10.0|        26.0|        3.0|                    1401.0|                       1275.0|                     1385.0| (14,[3],[1.0])|       2744.0|                      70.0|          126.0|(238,[5],[1.0])|(236,[8],[1.0])|   651.0|      0.0|        113.0|\n",
      "+------+-----+------------+-----------+--------------------------+-----------------------------+---------------------------+---------------+-------------+--------------------------+---------------+---------------+---------------+--------+---------+-------------+\n",
      "only showing top 5 rows\n",
      "\n"
     ]
    }
   ],
   "source": [
    "# keep only useful columns: 'year', 'month', 'day_of_month', 'day_of_week', 'actual_departure_time_mins',\n",
    "# \t\t\t\t\t\t\t'scheduled_departure_time_mins', 'scheduled_arrival_time_mins', 'airline_encoded',\n",
    "# \t\t\t\t\t\t\t'flight_number', 'scheduled_flight_time_mins', 'departure_delay',\n",
    "# \t\t\t\t\t\t\t'origin_encoded', 'dest_encoded', 'distance', 'cancelled',\n",
    "# \t\t\t\t\t\t\t'arrival_delay',\n",
    "\n",
    "df5 = my_df(df4)\n",
    "df5.show(5)"
   ]
  },
  {
   "cell_type": "code",
   "execution_count": 48,
   "metadata": {},
   "outputs": [],
   "source": [
    "df6 = drop_nulls(df5)"
   ]
  },
  {
   "cell_type": "code",
   "execution_count": 49,
   "metadata": {},
   "outputs": [],
   "source": [
    "# # count NULL values in each column\n",
    "# df6.select([count(when(col(c).isNull(), c)).alias(c) for c in df6.columns]).show()"
   ]
  },
  {
   "cell_type": "code",
   "execution_count": 50,
   "metadata": {},
   "outputs": [],
   "source": [
    "# drop cancelled flights (cancelled = 1)\n",
    "df7 = drop_cancelled(df6)"
   ]
  },
  {
   "cell_type": "code",
   "execution_count": 51,
   "metadata": {},
   "outputs": [
    {
     "name": "stderr",
     "output_type": "stream",
     "text": [
      "[Stage 10:===================================================>    (33 + 3) / 36]\r"
     ]
    },
    {
     "name": "stdout",
     "output_type": "stream",
     "text": [
      "Number of rows before:  15606288\n",
      "Number of rows now:  15379494 ( 226794  rows dropped )\n",
      "Number of columns before:  29\n",
      "Number of columns now:  15 ( 14  columns dropped )\n"
     ]
    },
    {
     "name": "stderr",
     "output_type": "stream",
     "text": [
      "                                                                                \r"
     ]
    }
   ],
   "source": [
    "n_rows2 = df7.count()\n",
    "n_cols2 = len(df7.columns)\n",
    "\n",
    "print(\"Number of rows before: \", n_rows)\n",
    "print(\"Number of rows now: \", n_rows2, \"(\", n_rows - n_rows2, \" rows dropped )\")\n",
    "\n",
    "# comprobar el numero de columnas de df\n",
    "print(\"Number of columns before: \", n_cols1)\n",
    "print(\"Number of columns now: \", n_cols2, \"(\", n_cols1 - n_cols2, \" columns dropped )\")\n",
    "\n"
   ]
  },
  {
   "cell_type": "code",
   "execution_count": 19,
   "metadata": {},
   "outputs": [
    {
     "name": "stdout",
     "output_type": "stream",
     "text": [
      "root\n",
      " |-- year: float (nullable = true)\n",
      " |-- month: float (nullable = true)\n",
      " |-- day_of_month: float (nullable = true)\n",
      " |-- day_of_week: float (nullable = true)\n",
      " |-- actual_departure_time_mins: double (nullable = true)\n",
      " |-- scheduled_departure_time_mins: double (nullable = true)\n",
      " |-- scheduled_arrival_time_mins: double (nullable = true)\n",
      " |-- airline_encoded: vector (nullable = true)\n",
      " |-- flight_number: float (nullable = true)\n",
      " |-- scheduled_flight_time_mins: double (nullable = true)\n",
      " |-- departure_delay: float (nullable = true)\n",
      " |-- origin_encoded: vector (nullable = true)\n",
      " |-- dest_encoded: vector (nullable = true)\n",
      " |-- distance: float (nullable = true)\n",
      " |-- arrival_delay: float (nullable = true)\n",
      "\n"
     ]
    }
   ],
   "source": [
    "df7.printSchema()"
   ]
  },
  {
   "cell_type": "code",
   "execution_count": 20,
   "metadata": {},
   "outputs": [
    {
     "name": "stdout",
     "output_type": "stream",
     "text": [
      "+------+-----+------------+-----------+--------------------------+-----------------------------+---------------------------+---------------+-------------+--------------------------+---------------+---------------+---------------+--------+-------------+\n",
      "|  year|month|day_of_month|day_of_week|actual_departure_time_mins|scheduled_departure_time_mins|scheduled_arrival_time_mins|airline_encoded|flight_number|scheduled_flight_time_mins|departure_delay| origin_encoded|   dest_encoded|distance|arrival_delay|\n",
      "+------+-----+------------+-----------+--------------------------+-----------------------------+---------------------------+---------------+-------------+--------------------------+---------------+---------------+---------------+--------+-------------+\n",
      "|1988.0| 10.0|        21.0|        5.0|                    1306.0|                       1275.0|                     1385.0| (14,[3],[1.0])|       2744.0|                      70.0|           31.0|(238,[5],[1.0])|(236,[8],[1.0])|   651.0|         21.0|\n",
      "|1988.0| 10.0|        23.0|        7.0|                    1319.0|                       1275.0|                     1385.0| (14,[3],[1.0])|       2744.0|                      70.0|           44.0|(238,[5],[1.0])|(236,[8],[1.0])|   651.0|         37.0|\n",
      "|1988.0| 10.0|        24.0|        1.0|                    1335.0|                       1275.0|                     1385.0| (14,[3],[1.0])|       2744.0|                      70.0|           60.0|(238,[5],[1.0])|(236,[8],[1.0])|   651.0|         54.0|\n",
      "|1988.0| 10.0|        25.0|        2.0|                    1296.0|                       1275.0|                     1385.0| (14,[3],[1.0])|       2744.0|                      70.0|           21.0|(238,[5],[1.0])|(236,[8],[1.0])|   651.0|         12.0|\n",
      "|1988.0| 10.0|        26.0|        3.0|                    1401.0|                       1275.0|                     1385.0| (14,[3],[1.0])|       2744.0|                      70.0|          126.0|(238,[5],[1.0])|(236,[8],[1.0])|   651.0|        113.0|\n",
      "+------+-----+------------+-----------+--------------------------+-----------------------------+---------------------------+---------------+-------------+--------------------------+---------------+---------------+---------------+--------+-------------+\n",
      "only showing top 5 rows\n",
      "\n"
     ]
    }
   ],
   "source": [
    "df7.show(5)"
   ]
  },
  {
   "cell_type": "markdown",
   "metadata": {},
   "source": [
    "# 3. Creating the Model\n",
    "\n",
    "__VECTOR ASSEMBLER__"
   ]
  },
  {
   "cell_type": "code",
   "execution_count": 52,
   "metadata": {},
   "outputs": [
    {
     "name": "stderr",
     "output_type": "stream",
     "text": [
      "                                                                                \r"
     ]
    }
   ],
   "source": [
    "from pyspark.ml.feature import VectorAssembler\n",
    "from pyspark.ml.feature import Normalizer\n",
    "from pyspark.ml import Pipeline\n",
    "from pyspark.ml.regression import LinearRegression\n",
    "\n",
    "# Split the data (Train/Test)(0.7, 0.3)\n",
    "train, test = df7.randomSplit([0.7, 0.3], seed=42)\n",
    "\n",
    "#####################################################################\n",
    "### WE SHOULD EXPLORE WHICH FEATURES ARE THE MOST IMPORTANT ONES ###\n",
    "#####################################################################\n",
    "# Create a VectorAssembler\n",
    "my_features = ['year', 'month', 'day_of_month', 'day_of_week', 'actual_departure_time_mins',\n",
    "               'scheduled_departure_time_mins', 'scheduled_arrival_time_mins', 'airline_encoded',\n",
    "               'flight_number', 'scheduled_flight_time_mins', 'departure_delay',\n",
    "               'origin_encoded', 'dest_encoded', 'distance']\n",
    "featureassembler = VectorAssembler(inputCols=my_features, outputCol=\"features\")\n",
    "\n",
    "\n",
    "#####################################################################\n",
    "### WE SHOUL EXPLORE DIFFERENT PARAMETERS AND UNDERSTAND THEM  ######\n",
    "#####################################################################\n",
    "# Create a Normalizer\n",
    "normalizer = Normalizer(inputCol=\"features\", outputCol=\"features_norm\", p=1.0)\n",
    "\n",
    "# Create LinearRegression\n",
    "lr = LinearRegression(labelCol=\"arrival_delay\", featuresCol=\"features_norm\", maxIter=10, regParam=0.3, elasticNetParam=0.8)\n",
    "\n",
    "# Create a pipeline\n",
    "pipeline = Pipeline(stages=[featureassembler, normalizer, lr])\n",
    "\n",
    "# Fit the pipeline on training data\n",
    "model = pipeline.fit(train)\n"
   ]
  },
  {
   "cell_type": "code",
   "execution_count": 53,
   "metadata": {},
   "outputs": [
    {
     "name": "stdout",
     "output_type": "stream",
     "text": [
      "Coefficients: [-2.5829914745548765,-212.20343641478436,0.0,-1039.8628245958892,2.2901568759113218,0.0,2.7961724857291452,71.70706949255045,-5888.884105662422,0.0,0.0,0.0,-9373.008164213083,2948.0212196738917,-996.2528223462382,0.0,-12863.699177032591,0.0,0.0,405.0428721556513,-4936.804086955268,0.0,-54.12084015415666,5638.4354569582,0.0,0.0,0.0,-10931.066070429353,-6552.958519218816,0.0,0.0,0.0,0.0,0.0,0.0,0.0,0.0,0.0,0.0,0.0,-4875.745873278625,0.0,0.0,0.0,0.0,0.0,0.0,0.0,0.0,0.0,0.0,0.0,0.0,0.0,0.0,0.0,0.0,0.0,0.0,0.0,0.0,0.0,0.0,0.0,0.0,0.0,0.0,0.0,0.0,0.0,0.0,0.0,0.0,0.0,0.0,0.0,0.0,0.0,0.0,0.0,0.0,0.0,0.0,0.0,0.0,0.0,0.0,0.0,0.0,-0.0,0.0,0.0,0.0,0.0,0.0,0.0,0.0,0.0,0.0,0.0,0.0,0.0,0.0,0.0,0.0,0.0,0.0,0.0,0.0,0.0,0.0,0.0,0.0,0.0,0.0,0.0,0.0,0.0,0.0,0.0,0.0,0.0,0.0,0.0,0.0,0.0,0.0,0.0,0.0,0.0,0.0,0.0,0.0,0.0,0.0,0.0,0.0,0.0,0.0,0.0,0.0,0.0,0.0,0.0,0.0,0.0,0.0,0.0,0.0,0.0,0.0,0.0,0.0,0.0,0.0,0.0,0.0,0.0,0.0,0.0,0.0,0.0,0.0,0.0,0.0,0.0,0.0,0.0,0.0,0.0,0.0,0.0,0.0,0.0,0.0,0.0,0.0,0.0,0.0,0.0,0.0,0.0,0.0,0.0,0.0,0.0,0.0,0.0,0.0,0.0,0.0,0.0,0.0,0.0,0.0,0.0,0.0,0.0,0.0,0.0,0.0,0.0,0.0,0.0,0.0,0.0,0.0,0.0,0.0,0.0,0.0,0.0,0.0,0.0,0.0,0.0,0.0,0.0,0.0,0.0,0.0,0.0,0.0,0.0,0.0,0.0,0.0,0.0,0.0,0.0,0.0,0.0,0.0,0.0,0.0,0.0,0.0,0.0,0.0,0.0,0.0,0.0,0.0,0.0,0.0,0.0,0.0,0.0,0.0,0.0,0.0,0.0,0.0,0.0,0.0,0.0,0.0,0.0,0.0,0.0,0.0,0.0,0.0,0.0,0.0,-113.4004088789024,0.0,0.0,0.0,5005.784470845781,0.0,0.0,0.0,0.0,0.0,0.0,0.0,0.0,0.0,0.0,0.0,0.0,0.0,0.0,0.0,0.0,0.0,0.0,0.0,0.0,0.0,0.0,0.0,0.0,0.0,0.0,0.0,0.0,0.0,0.0,0.0,0.0,0.0,0.0,0.0,0.0,0.0,0.0,0.0,0.0,0.0,0.0,0.0,0.0,0.0,0.0,0.0,0.0,0.0,0.0,0.0,0.0,0.0,0.0,0.0,0.0,0.0,0.0,0.0,0.0,0.0,0.0,0.0,0.0,-2859.332413321507,0.0,0.0,0.0,0.0,0.0,0.0,0.0,0.0,0.0,0.0,0.0,0.0,0.0,0.0,0.0,0.0,0.0,0.0,0.0,0.0,0.0,0.0,0.0,0.0,0.0,0.0,0.0,0.0,0.0,0.0,0.0,0.0,0.0,0.0,0.0,0.0,0.0,0.0,0.0,0.0,0.0,0.0,0.0,0.0,0.0,0.0,0.0,0.0,0.0,0.0,0.0,0.0,0.0,0.0,0.0,0.0,0.0,0.0,0.0,0.0,0.0,0.0,0.0,0.0,0.0,0.0,0.0,0.0,0.0,0.0,0.0,0.0,0.0,0.0,0.0,0.0,0.0,0.0,0.0,0.0,0.0,0.0,0.0,0.0,0.0,0.0,0.0,0.0,0.0,0.0,0.0,0.0,0.0,0.0,0.0,0.0,0.0,0.0,0.0,0.0,0.0,0.0,0.0,0.0,0.0,0.0,0.0,0.0,0.0,0.0,0.0,0.0,0.0,0.0,0.0,0.0,0.0,0.0,0.0,0.0,0.0,0.0,0.0,0.0,0.0,0.0,0.0,0.0,0.0,0.0,0.0,0.0,0.0,0.0,0.0,0.0,0.0,0.0,0.0,0.0,0.0,0.0,0.0,0.0,0.0,0.0,0.0,0.0,0.0,0.0,0.0,0.0,0.0,0.0,0.0,0.0,0.0,0.0,0.0,0.0,0.0,0.0,0.0,0.0]\n",
      "Intercept: 2.9032926596219752\n"
     ]
    }
   ],
   "source": [
    "# coefficients and intercept for linear regression\n",
    "print(\"Coefficients: \" + str(model.stages[2].coefficients))\n",
    "print(\"Intercept: \" + str(model.stages[2].intercept))\n"
   ]
  },
  {
   "cell_type": "code",
   "execution_count": 54,
   "metadata": {},
   "outputs": [],
   "source": [
    "# print a table with the coefficients and the features\n",
    "import pandas as pd\n",
    "coefficients_table = pd.DataFrame(list(zip(my_features, model.stages[2].coefficients.toArray())),\n",
    "\t\t\t\t\t\t\t\t  columns=['feature', 'coefficients'])\n",
    "# ordenar por valor absoluto de los coeficientes\n",
    "coefficients_table['abs_coefficients'] = coefficients_table['coefficients'].abs()\n",
    "coefficients_table = coefficients_table.sort_values(by=['abs_coefficients'], ascending=False)\n",
    "coefficients_table = coefficients_table.drop('abs_coefficients', axis=1)\n",
    "\n",
    "coefficients_table\n",
    "# save\n",
    "coefficients_table.to_csv('data/coefficients_table.csv', index=False)\n"
   ]
  },
  {
   "cell_type": "code",
   "execution_count": 55,
   "metadata": {},
   "outputs": [
    {
     "data": {
      "text/html": [
       "<div>\n",
       "<style scoped>\n",
       "    .dataframe tbody tr th:only-of-type {\n",
       "        vertical-align: middle;\n",
       "    }\n",
       "\n",
       "    .dataframe tbody tr th {\n",
       "        vertical-align: top;\n",
       "    }\n",
       "\n",
       "    .dataframe thead th {\n",
       "        text-align: right;\n",
       "    }\n",
       "</style>\n",
       "<table border=\"1\" class=\"dataframe\">\n",
       "  <thead>\n",
       "    <tr style=\"text-align: right;\">\n",
       "      <th></th>\n",
       "      <th>feature</th>\n",
       "      <th>coefficients</th>\n",
       "    </tr>\n",
       "  </thead>\n",
       "  <tbody>\n",
       "    <tr>\n",
       "      <th>12</th>\n",
       "      <td>dest_encoded</td>\n",
       "      <td>-9373.008164</td>\n",
       "    </tr>\n",
       "    <tr>\n",
       "      <th>8</th>\n",
       "      <td>flight_number</td>\n",
       "      <td>-5888.884106</td>\n",
       "    </tr>\n",
       "    <tr>\n",
       "      <th>13</th>\n",
       "      <td>distance</td>\n",
       "      <td>2948.021220</td>\n",
       "    </tr>\n",
       "    <tr>\n",
       "      <th>3</th>\n",
       "      <td>day_of_week</td>\n",
       "      <td>-1039.862825</td>\n",
       "    </tr>\n",
       "    <tr>\n",
       "      <th>1</th>\n",
       "      <td>month</td>\n",
       "      <td>-212.203436</td>\n",
       "    </tr>\n",
       "    <tr>\n",
       "      <th>7</th>\n",
       "      <td>airline_encoded</td>\n",
       "      <td>71.707069</td>\n",
       "    </tr>\n",
       "    <tr>\n",
       "      <th>6</th>\n",
       "      <td>scheduled_arrival_time_mins</td>\n",
       "      <td>2.796172</td>\n",
       "    </tr>\n",
       "    <tr>\n",
       "      <th>0</th>\n",
       "      <td>year</td>\n",
       "      <td>-2.582991</td>\n",
       "    </tr>\n",
       "    <tr>\n",
       "      <th>4</th>\n",
       "      <td>actual_departure_time_mins</td>\n",
       "      <td>2.290157</td>\n",
       "    </tr>\n",
       "    <tr>\n",
       "      <th>2</th>\n",
       "      <td>day_of_month</td>\n",
       "      <td>0.000000</td>\n",
       "    </tr>\n",
       "    <tr>\n",
       "      <th>5</th>\n",
       "      <td>scheduled_departure_time_mins</td>\n",
       "      <td>0.000000</td>\n",
       "    </tr>\n",
       "    <tr>\n",
       "      <th>9</th>\n",
       "      <td>scheduled_flight_time_mins</td>\n",
       "      <td>0.000000</td>\n",
       "    </tr>\n",
       "    <tr>\n",
       "      <th>10</th>\n",
       "      <td>departure_delay</td>\n",
       "      <td>0.000000</td>\n",
       "    </tr>\n",
       "    <tr>\n",
       "      <th>11</th>\n",
       "      <td>origin_encoded</td>\n",
       "      <td>0.000000</td>\n",
       "    </tr>\n",
       "  </tbody>\n",
       "</table>\n",
       "</div>"
      ],
      "text/plain": [
       "                          feature  coefficients\n",
       "12                   dest_encoded  -9373.008164\n",
       "8                   flight_number  -5888.884106\n",
       "13                       distance   2948.021220\n",
       "3                     day_of_week  -1039.862825\n",
       "1                           month   -212.203436\n",
       "7                 airline_encoded     71.707069\n",
       "6     scheduled_arrival_time_mins      2.796172\n",
       "0                            year     -2.582991\n",
       "4      actual_departure_time_mins      2.290157\n",
       "2                    day_of_month      0.000000\n",
       "5   scheduled_departure_time_mins      0.000000\n",
       "9      scheduled_flight_time_mins      0.000000\n",
       "10                departure_delay      0.000000\n",
       "11                 origin_encoded      0.000000"
      ]
     },
     "execution_count": 55,
     "metadata": {},
     "output_type": "execute_result"
    }
   ],
   "source": [
    "coefficients_table"
   ]
  },
  {
   "cell_type": "markdown",
   "metadata": {},
   "source": [
    "# 4. Validating the model"
   ]
  },
  {
   "cell_type": "code",
   "execution_count": 24,
   "metadata": {},
   "outputs": [
    {
     "name": "stderr",
     "output_type": "stream",
     "text": [
      "[Stage 24:>                                                         (0 + 1) / 1]\r"
     ]
    },
    {
     "name": "stdout",
     "output_type": "stream",
     "text": [
      "+------------------+-------------+--------------------+\n",
      "|        prediction|arrival_delay|       features_norm|\n",
      "+------------------+-------------+--------------------+\n",
      "| 27.93160765941896|         20.0|(499,[0,1,2,3,4,5...|\n",
      "|-4.314880882052852|         11.0|(499,[0,1,2,3,4,5...|\n",
      "|25.980916829625887|         16.0|(499,[0,1,2,3,4,5...|\n",
      "|2.5066803821768975|         22.0|(499,[0,1,2,3,4,5...|\n",
      "| 54.56258475974316|         54.0|(499,[0,1,2,3,4,5...|\n",
      "+------------------+-------------+--------------------+\n",
      "only showing top 5 rows\n",
      "\n"
     ]
    },
    {
     "name": "stderr",
     "output_type": "stream",
     "text": [
      "                                                                                \r"
     ]
    }
   ],
   "source": [
    "# Make predictions on test data\n",
    "predictions = model.transform(test)\n",
    "predictions.select(\"prediction\", \"arrival_delay\", \"features_norm\").show(5)"
   ]
  },
  {
   "cell_type": "code",
   "execution_count": 25,
   "metadata": {},
   "outputs": [
    {
     "name": "stderr",
     "output_type": "stream",
     "text": [
      "[Stage 25:>                                                         (0 + 1) / 1]\r"
     ]
    },
    {
     "name": "stdout",
     "output_type": "stream",
     "text": [
      "+------+-----+------------+-----------+--------------------------+-----------------------------+---------------------------+---------------+-------------+--------------------------+---------------+----------------+----------------+--------+-------------+--------------------+--------------------+------------------+\n",
      "|  year|month|day_of_month|day_of_week|actual_departure_time_mins|scheduled_departure_time_mins|scheduled_arrival_time_mins|airline_encoded|flight_number|scheduled_flight_time_mins|departure_delay|  origin_encoded|    dest_encoded|distance|arrival_delay|            features|       features_norm|        prediction|\n",
      "+------+-----+------------+-----------+--------------------------+-----------------------------+---------------------------+---------------+-------------+--------------------------+---------------+----------------+----------------+--------+-------------+--------------------+--------------------+------------------+\n",
      "|1988.0| 10.0|         1.0|        6.0|                       3.0|                       1419.0|                       25.0| (14,[0],[1.0])|       1097.0|                      46.0|           24.0| (238,[1],[1.0])|(236,[90],[1.0])|   152.0|         20.0|(499,[0,1,2,3,4,5...|(499,[0,1,2,3,4,5...| 27.93160765941896|\n",
      "|1988.0| 10.0|         1.0|        6.0|                       9.0|                         10.0|                      350.0| (14,[1],[1.0])|        160.0|                     140.0|           -1.0|(238,[42],[1.0])| (236,[0],[1.0])|  1700.0|         11.0|(499,[0,1,2,3,4,5...|(499,[0,1,2,3,4,5...|-4.314880882052852|\n",
      "|1988.0| 10.0|         1.0|        6.0|                       9.0|                       1425.0|                       75.0| (14,[0],[1.0])|        896.0|                      90.0|           24.0| (238,[1],[1.0])|(236,[29],[1.0])|   554.0|         16.0|(499,[0,1,2,3,4,5...|(499,[0,1,2,3,4,5...|25.980916829625887|\n",
      "|1988.0| 10.0|         1.0|        6.0|                      10.0|                          5.0|                      328.0| (14,[5],[1.0])|        810.0|                     123.0|            5.0| (238,[4],[1.0])| (236,[7],[1.0])|  1605.0|         22.0|(499,[0,1,2,3,4,5...|(499,[0,1,2,3,4,5...|2.5066803821768975|\n",
      "|1988.0| 10.0|         1.0|        6.0|                      14.0|                       1411.0|                       50.0| (14,[0],[1.0])|        346.0|                      79.0|           43.0| (238,[1],[1.0])|(236,[20],[1.0])|   403.0|         54.0|(499,[0,1,2,3,4,5...|(499,[0,1,2,3,4,5...| 54.56258475974316|\n",
      "+------+-----+------------+-----------+--------------------------+-----------------------------+---------------------------+---------------+-------------+--------------------------+---------------+----------------+----------------+--------+-------------+--------------------+--------------------+------------------+\n",
      "only showing top 5 rows\n",
      "\n"
     ]
    },
    {
     "name": "stderr",
     "output_type": "stream",
     "text": [
      "                                                                                \r"
     ]
    }
   ],
   "source": [
    "# evalute model\n",
    "predictions.show(5)"
   ]
  },
  {
   "cell_type": "code",
   "execution_count": 26,
   "metadata": {},
   "outputs": [
    {
     "name": "stderr",
     "output_type": "stream",
     "text": [
      "                                                                                \r"
     ]
    },
    {
     "name": "stdout",
     "output_type": "stream",
     "text": [
      "MAE = 8.1552\n"
     ]
    },
    {
     "name": "stderr",
     "output_type": "stream",
     "text": [
      "                                                                                \r"
     ]
    },
    {
     "name": "stdout",
     "output_type": "stream",
     "text": [
      "MSE = 188.427\n"
     ]
    },
    {
     "name": "stderr",
     "output_type": "stream",
     "text": [
      "                                                                                \r"
     ]
    },
    {
     "name": "stdout",
     "output_type": "stream",
     "text": [
      "RMSE = 13.7269\n"
     ]
    },
    {
     "name": "stderr",
     "output_type": "stream",
     "text": [
      "[Stage 32:======================================================> (35 + 1) / 36]\r"
     ]
    },
    {
     "name": "stdout",
     "output_type": "stream",
     "text": [
      "R2 = 0.654543\n"
     ]
    },
    {
     "name": "stderr",
     "output_type": "stream",
     "text": [
      "                                                                                \r"
     ]
    }
   ],
   "source": [
    "# MAE, MSE, RMSE, R2\n",
    "\n",
    "from pyspark.ml.evaluation import RegressionEvaluator\n",
    "\n",
    "# Select (prediction, true label) and compute test error\n",
    "evaluator = RegressionEvaluator(labelCol=\"arrival_delay\", predictionCol=\"prediction\", metricName=\"mae\")\n",
    "mae = evaluator.evaluate(predictions)\n",
    "print(\"MAE = %g\" % mae)\n",
    "\n",
    "evaluator = RegressionEvaluator(labelCol=\"arrival_delay\", predictionCol=\"prediction\", metricName=\"mse\")\n",
    "mse = evaluator.evaluate(predictions)\n",
    "print(\"MSE = %g\" % mse)\n",
    "\n",
    "evaluator = RegressionEvaluator(labelCol=\"arrival_delay\", predictionCol=\"prediction\", metricName=\"rmse\")\n",
    "rmse = evaluator.evaluate(predictions)\n",
    "print(\"RMSE = %g\" % rmse)\n",
    "\n",
    "evaluator = RegressionEvaluator(labelCol=\"arrival_delay\", predictionCol=\"prediction\", metricName=\"r2\")\n",
    "r2 = evaluator.evaluate(predictions)\n",
    "print(\"R2 = %g\" % r2)\n",
    "\n"
   ]
  },
  {
   "cell_type": "code",
   "execution_count": 56,
   "metadata": {},
   "outputs": [],
   "source": [
    "spark.stop()"
   ]
  },
  {
   "cell_type": "code",
   "execution_count": null,
   "metadata": {},
   "outputs": [],
   "source": []
  }
 ],
 "metadata": {
  "kernelspec": {
   "display_name": "spark",
   "language": "python",
   "name": "python3"
  },
  "language_info": {
   "codemirror_mode": {
    "name": "ipython",
    "version": 3
   },
   "file_extension": ".py",
   "mimetype": "text/x-python",
   "name": "python",
   "nbconvert_exporter": "python",
   "pygments_lexer": "ipython3",
   "version": "3.8.18"
  }
 },
 "nbformat": 4,
 "nbformat_minor": 2
}
