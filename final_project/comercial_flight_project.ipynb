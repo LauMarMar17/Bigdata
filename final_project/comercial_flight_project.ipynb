{
 "cells": [
  {
   "cell_type": "markdown",
   "metadata": {},
   "source": [
    "# Spark Practical Work\n",
    "\n",
    "We are supposed to create a model capable of predicting the arrival delay time of a commercial flight based on several parameters known at the take-off time. Tasks:\n",
    "* Load the input data, previously stored at a known location.\n",
    "* Select, process and transform the input variables, to prepare them for training the model.\n",
    "* Perform some basic analysis of each input variable. \n",
    "* Create a ML model that predicts the arrival delay time.\n",
    "* Validate the created model and provide some measures of its accuracy.\n"
   ]
  },
  {
   "cell_type": "code",
   "execution_count": 1,
   "metadata": {},
   "outputs": [
    {
     "data": {
      "text/plain": [
       "'/home/dslab/workspaces/rrunix/spark/final_project'"
      ]
     },
     "execution_count": 1,
     "metadata": {},
     "output_type": "execute_result"
    }
   ],
   "source": [
    "import os\n",
    "os.getcwd()"
   ]
  },
  {
   "cell_type": "markdown",
   "metadata": {},
   "source": [
    "# 1. Load data"
   ]
  },
  {
   "cell_type": "code",
   "execution_count": 2,
   "metadata": {},
   "outputs": [],
   "source": [
    "# extract files into csv formats\n",
    "import bz2\n",
    "# extract every bz2 format file in ../BigData/data/project_data/ to csv file\n",
    "files = os.listdir(\"../BigData/data/project_data/\")\n",
    "def bz2_to_csv(files):\n",
    "\tfor file in files:\n",
    "\t\tif file.endswith(\".bz2\"):\n",
    "\t\t\tfile_path = \"../BigData/data/project_data/\" + file\n",
    "\t\t\twith bz2.open(file_path, \"rb\") as f:\n",
    "\t\t\t\tfile_content = f.read()\n",
    "\t\t\twith open(\"../BigData/data/project_data/\" + file[:-4], \"wb\") as f:\n",
    "\t\t\t\tf.write(file_content)\n",
    "\n",
    "bz2_to_csv(files)"
   ]
  },
  {
   "cell_type": "code",
   "execution_count": 3,
   "metadata": {},
   "outputs": [
    {
     "name": "stderr",
     "output_type": "stream",
     "text": [
      "23/12/24 15:18:10 WARN Utils: Your hostname, mordor resolves to a loopback address: 127.0.1.1; using 193.147.50.16 instead (on interface eno1np0)\n",
      "23/12/24 15:18:10 WARN Utils: Set SPARK_LOCAL_IP if you need to bind to another address\n",
      "Setting default log level to \"WARN\".\n",
      "To adjust logging level use sc.setLogLevel(newLevel). For SparkR, use setLogLevel(newLevel).\n",
      "23/12/24 15:18:11 WARN NativeCodeLoader: Unable to load native-hadoop library for your platform... using builtin-java classes where applicable\n"
     ]
    },
    {
     "name": "stdout",
     "output_type": "stream",
     "text": [
      "Spark Version: 3.5.0\n"
     ]
    }
   ],
   "source": [
    "# Create a SparkSession\n",
    "from pyspark.sql import SparkSession\n",
    "from pyspark import SparkContext\n",
    "\n",
    "sc = SparkContext(\"local\", \"ComercialFlights\")\n",
    "spark = SparkSession.builder \\\n",
    "            .appName(\"First Session\") \\\n",
    "            .master(\"local[*]\") \\\n",
    "            .getOrCreate()\n",
    "\n",
    "sc.setLogLevel(\"ERROR\")\n",
    "print(\"Spark Version: {}\".format(sc.version))"
   ]
  },
  {
   "cell_type": "code",
   "execution_count": 9,
   "metadata": {},
   "outputs": [
    {
     "name": "stderr",
     "output_type": "stream",
     "text": [
      "                                                                                \r"
     ]
    },
    {
     "name": "stdout",
     "output_type": "stream",
     "text": [
      "+----+-----+----------+---------+-------+----------+-------+----------+-------------+---------+-------+-----------------+--------------+-------+--------+--------+------+----+--------+------+-------+---------+----------------+--------+------------+------------+--------+-------------+-----------------+\n",
      "|Year|Month|DayofMonth|DayOfWeek|DepTime|CRSDepTime|ArrTime|CRSArrTime|UniqueCarrier|FlightNum|TailNum|ActualElapsedTime|CRSElapsedTime|AirTime|ArrDelay|DepDelay|Origin|Dest|Distance|TaxiIn|TaxiOut|Cancelled|CancellationCode|Diverted|CarrierDelay|WeatherDelay|NASDelay|SecurityDelay|LateAircraftDelay|\n",
      "+----+-----+----------+---------+-------+----------+-------+----------+-------------+---------+-------+-----------------+--------------+-------+--------+--------+------+----+--------+------+-------+---------+----------------+--------+------------+------------+--------+-------------+-----------------+\n",
      "|1988|    1|         9|        6|   1348|      1331|   1458|      1435|           PI|      942|     NA|               70|            64|     NA|      23|      17|   SYR| BWI|     273|    NA|     NA|        0|              NA|       0|          NA|          NA|      NA|           NA|               NA|\n",
      "|1988|    1|        10|        7|   1334|      1331|   1443|      1435|           PI|      942|     NA|               69|            64|     NA|       8|       3|   SYR| BWI|     273|    NA|     NA|        0|              NA|       0|          NA|          NA|      NA|           NA|               NA|\n",
      "|1988|    1|        11|        1|   1446|      1331|   1553|      1435|           PI|      942|     NA|               67|            64|     NA|      78|      75|   SYR| BWI|     273|    NA|     NA|        0|              NA|       0|          NA|          NA|      NA|           NA|               NA|\n",
      "|1988|    1|        12|        2|   1334|      1331|   1438|      1435|           PI|      942|     NA|               64|            64|     NA|       3|       3|   SYR| BWI|     273|    NA|     NA|        0|              NA|       0|          NA|          NA|      NA|           NA|               NA|\n",
      "|1988|    1|        13|        3|   1341|      1331|   1503|      1435|           PI|      942|     NA|               82|            64|     NA|      28|      10|   SYR| BWI|     273|    NA|     NA|        0|              NA|       0|          NA|          NA|      NA|           NA|               NA|\n",
      "+----+-----+----------+---------+-------+----------+-------+----------+-------------+---------+-------+-----------------+--------------+-------+--------+--------+------+----+--------+------+-------+---------+----------------+--------+------------+------------+--------+-------------+-----------------+\n",
      "only showing top 5 rows\n",
      "\n"
     ]
    }
   ],
   "source": [
    "# Use DataFrames to read csv files\n",
    "# read all csv files in ../BigData/data/project_data/ to pyspark dataframe\n",
    "csv_files = os.listdir(\"../BigData/data/project_data/\")\n",
    "def csv_to_df(csv_files):\n",
    "\tdf_pyspark =[]\n",
    "\tfor file in csv_files:\n",
    "\t\tfile_path = \"../BigData/data/project_data/\" + file\n",
    "\t\tdf = spark.read.csv(file_path, header=True, inferSchema=True)\n",
    "\t\tdf_pyspark.append(df)\n",
    "\treturn df_pyspark\n",
    "\n",
    "df_pyspark = csv_to_df(csv_files)\n",
    "\n",
    "# unir todos los dataframes en uno solo\n",
    "from functools import reduce\n",
    "from pyspark.sql import DataFrame\n",
    "def unionAll(*dfs):\n",
    "\treturn reduce(DataFrame.unionAll, dfs)\n",
    "\n",
    "df = unionAll(*df_pyspark)\n",
    "df.show(5)\n",
    "\n",
    "\t\t\n",
    "\t"
   ]
  },
  {
   "cell_type": "code",
   "execution_count": 10,
   "metadata": {},
   "outputs": [
    {
     "name": "stdout",
     "output_type": "stream",
     "text": [
      "root\n",
      " |-- Year: integer (nullable = true)\n",
      " |-- Month: integer (nullable = true)\n",
      " |-- DayofMonth: integer (nullable = true)\n",
      " |-- DayOfWeek: integer (nullable = true)\n",
      " |-- DepTime: string (nullable = true)\n",
      " |-- CRSDepTime: integer (nullable = true)\n",
      " |-- ArrTime: string (nullable = true)\n",
      " |-- CRSArrTime: integer (nullable = true)\n",
      " |-- UniqueCarrier: string (nullable = true)\n",
      " |-- FlightNum: integer (nullable = true)\n",
      " |-- TailNum: string (nullable = true)\n",
      " |-- ActualElapsedTime: string (nullable = true)\n",
      " |-- CRSElapsedTime: string (nullable = true)\n",
      " |-- AirTime: string (nullable = true)\n",
      " |-- ArrDelay: string (nullable = true)\n",
      " |-- DepDelay: string (nullable = true)\n",
      " |-- Origin: string (nullable = true)\n",
      " |-- Dest: string (nullable = true)\n",
      " |-- Distance: string (nullable = true)\n",
      " |-- TaxiIn: string (nullable = true)\n",
      " |-- TaxiOut: string (nullable = true)\n",
      " |-- Cancelled: integer (nullable = true)\n",
      " |-- CancellationCode: string (nullable = true)\n",
      " |-- Diverted: integer (nullable = true)\n",
      " |-- CarrierDelay: string (nullable = true)\n",
      " |-- WeatherDelay: string (nullable = true)\n",
      " |-- NASDelay: string (nullable = true)\n",
      " |-- SecurityDelay: string (nullable = true)\n",
      " |-- LateAircraftDelay: string (nullable = true)\n",
      "\n"
     ]
    }
   ],
   "source": [
    "df.printSchema()"
   ]
  },
  {
   "cell_type": "code",
   "execution_count": 21,
   "metadata": {},
   "outputs": [
    {
     "name": "stderr",
     "output_type": "stream",
     "text": [
      "[Stage 44:===================================================>  (131 + 6) / 137]\r"
     ]
    },
    {
     "name": "stdout",
     "output_type": "stream",
     "text": [
      "25952068\n",
      "29\n"
     ]
    },
    {
     "name": "stderr",
     "output_type": "stream",
     "text": [
      "                                                                                \r"
     ]
    }
   ],
   "source": [
    "# comprobar el numero de filas de df \n",
    "print(df.count())\n",
    "# comprobar el numero de columnas de df\n",
    "print(len(df.columns))"
   ]
  },
  {
   "cell_type": "markdown",
   "metadata": {},
   "source": [
    "# 2. Process data"
   ]
  },
  {
   "cell_type": "markdown",
   "metadata": {},
   "source": [
    "The dataset has 29 columns. We won't use all of them. The ones that should be droped are: \n",
    "* ArrTime\n",
    "* ActualElapsedTime\n",
    "* AirTime\n",
    "* TaxiIn\n",
    "* Diverted\n",
    "* CarrierDelay\n",
    "* WeatherDelay\n",
    "* NASDelay\n",
    "* SecurityDelay\n",
    "* LateAircraftDelay\n",
    "\n",
    "Meaning of the variables that we keep: \n",
    "1. Year 1987-2008 \n",
    "2. Month 1-12 \n",
    "3. DayofMonth 1-31 \n",
    "4. DayOfWeek 1 (Monday) - 7 (Sunday)\n",
    "5. DepTime actual departure time (local, hhm m) \n",
    "6. CRSDepTime scheduled departure time (local, hhmm) \n",
    "7. CRSArrTime scheduled arrival time (local, hhmm) \n",
    "8. UniqueCarrier Airline code \n",
    "9. FlightNum flight number \n",
    "10. TailNum plane tail number \n",
    "11. CRSElapsedTime in minutes (estimated flight time)\n",
    "12. ArrDelay arrival delay, in minutes -- TARGET VARIABLE\n",
    "13. DepDelay departure delay, in minutes \n",
    "14. Origin origin IATA airport code \n",
    "15. Dest destination IATA airport code \n",
    "16. Distance in miles \n",
    "17. TaxiOut taxi out time in minutes (tiempo que tarda el avión desde la puerta de embarque hasta el despegue\")\n",
    "18. Cancelled was the flight cancelled? \n",
    "19. CancellationCode reason for cancellation (A = carrier, B = weather, C = NAS, D = security) "
   ]
  },
  {
   "cell_type": "code",
   "execution_count": 70,
   "metadata": {},
   "outputs": [],
   "source": [
    "from pyspark.sql.functions import *\n",
    "from pyspark.ml.feature import StringIndexer\n",
    "\n",
    "# rename columns:\n",
    "def edit_column_names(df):\n",
    "    df =  df.withColumnRenamed('DayofMonth','day_of_month').\\\n",
    "                withColumnRenamed('DayOfWeek','day_of_week').\\\n",
    "                withColumnRenamed('DepTime','actual_departure_time').\\\n",
    "                withColumnRenamed('CRSDepTime','scheduled_departure_time').\\\n",
    "                withColumnRenamed('ArrTime','actual_arrival_time').\\\n",
    "                withColumnRenamed('CRSArrTime','scheduled_arrival_time').\\\n",
    "                withColumnRenamed('UniqueCarrier','airline_code').\\\n",
    "                withColumnRenamed('FlightNum','flight_number').\\\n",
    "                withColumnRenamed('TailNum','plane_number').\\\n",
    "                withColumnRenamed('ActualElapsedTime','actual_flight_time').\\\n",
    "                withColumnRenamed('CRSElapsedTime','scheduled_flight_time').\\\n",
    "                withColumnRenamed('AirTime','air_time').\\\n",
    "                withColumnRenamed('ArrDelay','arrival_delay').\\\n",
    "                withColumnRenamed('DepDelay','departure_delay').\\\n",
    "                withColumnRenamed('TaxiIn','taxi_in').\\\n",
    "                withColumnRenamed('TaxiOut','taxi_out').\\\n",
    "                withColumnRenamed('CancellationCode','cancellation_code').\\\n",
    "                withColumnRenamed('CarrierDelay','carrier_delay').\\\n",
    "                withColumnRenamed('WeatherDelay','weather_delay').\\\n",
    "                withColumnRenamed('NASDelay','nas_delay').\\\n",
    "                withColumnRenamed('SecurityDelay','security_delay').\\\n",
    "                withColumnRenamed('LateAircraftDelay','late_aircraft_delay')\n",
    "    for col in df.columns:\n",
    "        df = df.withColumnRenamed(col, col.lower())\n",
    "    return df\n",
    "\n",
    "# select columns:\n",
    "def my_columns (df):\n",
    "    df = df.select('year','month','day_of_month', 'day_of_week', 'actual_departure_time',\n",
    "                   'scheduled_departure_time', 'scheduled_arrival_time', 'airline_code',\n",
    "                   'flight_number', 'plane_number', 'scheduled_flight_time', 'arrival_delay',\n",
    "                   'departure_delay', 'origin', 'dest', 'distance', 'taxi_out', 'cancelled',\n",
    "                   'cancellation_code')\n",
    "    return df\n",
    "\n",
    "# combine to create dates:\n",
    "def add_date_column(df):\n",
    "    df = df.withColumn('date', to_date(concat(col('day_of_month'), lit(' '),\n",
    "                                              col('month'), lit(' '), col('year')), 'd M yyyy'))\n",
    "    return df\n",
    "\n",
    "# some strings to float:\n",
    "def string_to_float(df):\n",
    "    df = df.withColumn('arrival_delay', col('arrival_delay').cast('float'))\n",
    "    df = df.withColumn('departure_delay', col('departure_delay').cast('float'))\n",
    "    df = df.withColumn('taxi_out', col('taxi_out').cast('float'))\n",
    "    df = df.withColumn('distance', col('distance').cast('float'))\n",
    "    return df\n",
    "\n",
    "# encode categorical features:\n",
    "def encode_categorical_features(df):\n",
    "    indexer = StringIndexer(inputCols=['airline_code', 'origin', 'dest', 'cancellation_code', 'plane_number'],\n",
    "                            outputCols=['airline_index', 'origin_index', 'dest_index', 'cancellation_index', 'plane_index'])\n",
    "    \n",
    "    df = indexer.fit(df).transform(df)\n",
    "    return df\n",
    "    \n",
    "\n",
    "# convert time to minutes:\n",
    "def convert_time_to_minutes(df):\n",
    "    # for actual_departure_time, scheduled_departure_time, scheduled_arrival_time, scheduled_flight_time transform to minutes\n",
    "    # take the first two digits and multiply by 60 and add the last two digits\n",
    "    df = df.withColumn('actual_departure_hour', (col('actual_departure_time') / 100).cast('int'))\n",
    "    df = df.withColumn('scheduled_departure_hour', (col('scheduled_departure_time') / 100).cast('int'))\n",
    "    df = df.withColumn('scheduled_arrival_hour', (col('scheduled_arrival_time') / 100).cast('int'))\n",
    "    df = df.withColumn('scheduled_flight_hour', (col('scheduled_flight_time') / 100).cast('int'))\n",
    "    \n",
    "    df = df.withColumn('actual_departure_time_mins', (col('actual_departure_hour') * 60) + (col('actual_departure_time') % 100))\n",
    "    df = df.withColumn('scheduled_departure_time_mins', (col('scheduled_departure_hour') * 60) + (col('scheduled_departure_time') % 100))\n",
    "    df = df.withColumn('scheduled_arrival_time_mins', (col('scheduled_arrival_hour') * 60) + (col('scheduled_arrival_time') % 100))\n",
    "    df = df.withColumn('scheduled_flight_time_mins', (col('scheduled_flight_hour') * 60) + (col('scheduled_flight_time') % 100))\n",
    "    \n",
    "    # drop actual_departure_hour, scheduled_departure_hour, scheduled_arrival_hour, scheduled_flight_hour\n",
    "    \n",
    "    df = df.drop('actual_departure_hour', 'scheduled_departure_hour', 'scheduled_arrival_hour', 'scheduled_flight_hour')\n",
    "    \n",
    "    return df\n",
    "\n",
    "# handle missing values:\n",
    "def handle_missing_values(df):\n",
    "    # eliminar filas donde actual_departure_time es null\n",
    "    df = df.filter(df.actual_departure_time.isNotNull())\n",
    "    # eliminar filas donde scheduled_flight_time es null\n",
    "    df = df.filter(df.scheduled_flight_time.isNotNull())\n",
    "    return df\n",
    "\n",
    "def my_df(df):\n",
    "    # select columns\n",
    "    df = df.select('date','year','month','day_of_month', 'day_of_week', 'actual_departure_time_mins',\n",
    "                   'scheduled_departure_time_mins', 'scheduled_arrival_time_mins', 'airline_index',\n",
    "                   'flight_number', 'scheduled_flight_time_mins',\n",
    "                   'origin_index', 'dest_index', 'distance', 'taxi_out', 'cancelled', 'departure_delay')\n",
    "    return df\n",
    "    \n",
    "\n",
    "# standarize df\n",
    "def standarize_dataframe(df):\n",
    "    temp = edit_column_names(df)\n",
    "    temp = my_columns(temp)\n",
    "    temp = string_to_float(temp)\n",
    "    temp = add_date_column(temp)\n",
    "    temp = encode_categorical_features(temp)\n",
    "    temp = convert_time_to_minutes(temp)\n",
    "    temp = handle_missing_values(temp)\n",
    "    temp = my_df(temp)\n",
    "\n",
    "    return temp\n",
    "\n"
   ]
  },
  {
   "cell_type": "code",
   "execution_count": 59,
   "metadata": {},
   "outputs": [
    {
     "name": "stderr",
     "output_type": "stream",
     "text": [
      "                                                                                \r"
     ]
    },
    {
     "name": "stdout",
     "output_type": "stream",
     "text": [
      "+----------+----+-----+------------+-----------+--------------------------+-----------------------------+---------------------------+-------------+-------------+--------------------------+---------------+------------+----------+--------+--------+---------+\n",
      "|      date|year|month|day_of_month|day_of_week|actual_departure_time_mins|scheduled_departure_time_mins|scheduled_arrival_time_mins|airline_index|flight_number|scheduled_flight_time_mins|departure_delay|origin_index|dest_index|distance|taxi_out|cancelled|\n",
      "+----------+----+-----+------------+-----------+--------------------------+-----------------------------+---------------------------+-------------+-------------+--------------------------+---------------+------------+----------+--------+--------+---------+\n",
      "|1988-01-09|1988|    1|           9|          6|                     828.0|                          811|                        875|          8.0|          942|                      64.0|           17.0|        63.0|      23.0|   273.0|    NULL|        0|\n",
      "|1988-01-10|1988|    1|          10|          7|                     814.0|                          811|                        875|          8.0|          942|                      64.0|            3.0|        63.0|      23.0|   273.0|    NULL|        0|\n",
      "|1988-01-11|1988|    1|          11|          1|                     886.0|                          811|                        875|          8.0|          942|                      64.0|           75.0|        63.0|      23.0|   273.0|    NULL|        0|\n",
      "|1988-01-12|1988|    1|          12|          2|                     814.0|                          811|                        875|          8.0|          942|                      64.0|            3.0|        63.0|      23.0|   273.0|    NULL|        0|\n",
      "|1988-01-13|1988|    1|          13|          3|                     821.0|                          811|                        875|          8.0|          942|                      64.0|           10.0|        63.0|      23.0|   273.0|    NULL|        0|\n",
      "+----------+----+-----+------------+-----------+--------------------------+-----------------------------+---------------------------+-------------+-------------+--------------------------+---------------+------------+----------+--------+--------+---------+\n",
      "only showing top 5 rows\n",
      "\n"
     ]
    }
   ],
   "source": [
    "new_df = standarize_dataframe(df)\n",
    "new_df.show(5)"
   ]
  },
  {
   "cell_type": "code",
   "execution_count": 60,
   "metadata": {},
   "outputs": [
    {
     "name": "stdout",
     "output_type": "stream",
     "text": [
      "root\n",
      " |-- date: date (nullable = true)\n",
      " |-- year: integer (nullable = true)\n",
      " |-- month: integer (nullable = true)\n",
      " |-- day_of_month: integer (nullable = true)\n",
      " |-- day_of_week: integer (nullable = true)\n",
      " |-- actual_departure_time_mins: double (nullable = true)\n",
      " |-- scheduled_departure_time_mins: integer (nullable = true)\n",
      " |-- scheduled_arrival_time_mins: integer (nullable = true)\n",
      " |-- airline_index: double (nullable = false)\n",
      " |-- flight_number: integer (nullable = true)\n",
      " |-- scheduled_flight_time_mins: double (nullable = true)\n",
      " |-- departure_delay: float (nullable = true)\n",
      " |-- origin_index: double (nullable = false)\n",
      " |-- dest_index: double (nullable = false)\n",
      " |-- distance: float (nullable = true)\n",
      " |-- taxi_out: float (nullable = true)\n",
      " |-- cancelled: integer (nullable = true)\n",
      "\n"
     ]
    }
   ],
   "source": [
    "new_df.printSchema()"
   ]
  },
  {
   "cell_type": "code",
   "execution_count": 61,
   "metadata": {},
   "outputs": [
    {
     "data": {
      "text/plain": [
       "['date',\n",
       " 'year',\n",
       " 'month',\n",
       " 'day_of_month',\n",
       " 'day_of_week',\n",
       " 'actual_departure_time_mins',\n",
       " 'scheduled_departure_time_mins',\n",
       " 'scheduled_arrival_time_mins',\n",
       " 'airline_index',\n",
       " 'flight_number',\n",
       " 'scheduled_flight_time_mins',\n",
       " 'departure_delay',\n",
       " 'origin_index',\n",
       " 'dest_index',\n",
       " 'distance',\n",
       " 'taxi_out',\n",
       " 'cancelled']"
      ]
     },
     "execution_count": 61,
     "metadata": {},
     "output_type": "execute_result"
    }
   ],
   "source": [
    "new_df.columns"
   ]
  },
  {
   "cell_type": "code",
   "execution_count": 62,
   "metadata": {},
   "outputs": [
    {
     "name": "stderr",
     "output_type": "stream",
     "text": [
      "[Stage 66:====================================================>   (13 + 1) / 14]\r"
     ]
    },
    {
     "name": "stdout",
     "output_type": "stream",
     "text": [
      "+----+----+-----+------------+-----------+--------------------------+-----------------------------+---------------------------+-------------+-------------+--------------------------+---------------+------------+----------+--------+--------+---------+\n",
      "|date|year|month|day_of_month|day_of_week|actual_departure_time_mins|scheduled_departure_time_mins|scheduled_arrival_time_mins|airline_index|flight_number|scheduled_flight_time_mins|departure_delay|origin_index|dest_index|distance|taxi_out|cancelled|\n",
      "+----+----+-----+------------+-----------+--------------------------+-----------------------------+---------------------------+-------------+-------------+--------------------------+---------------+------------+----------+--------+--------+---------+\n",
      "|   0|   0|    0|           0|          0|                         0|                            0|                          0|            0|            0|                         0|              0|           0|         0|       0|       0|        0|\n",
      "+----+----+-----+------------+-----------+--------------------------+-----------------------------+---------------------------+-------------+-------------+--------------------------+---------------+------------+----------+--------+--------+---------+\n",
      "\n"
     ]
    },
    {
     "name": "stderr",
     "output_type": "stream",
     "text": [
      "                                                                                \r"
     ]
    }
   ],
   "source": [
    "# contar el número de variables nan en cada columna\n",
    "new_df.select([count(when(col(c) == \"NA\", c)).alias(c) for c in new_df.columns]).show()"
   ]
  },
  {
   "cell_type": "code",
   "execution_count": 68,
   "metadata": {},
   "outputs": [
    {
     "name": "stderr",
     "output_type": "stream",
     "text": [
      "[Stage 72:====================================================>   (13 + 1) / 14]\r"
     ]
    },
    {
     "name": "stdout",
     "output_type": "stream",
     "text": [
      "+----+----+-----+------------+-----------+--------------------------+-----------------------------+---------------------------+-------------+-------------+--------------------------+---------------+------------+----------+--------+--------+---------+\n",
      "|date|year|month|day_of_month|day_of_week|actual_departure_time_mins|scheduled_departure_time_mins|scheduled_arrival_time_mins|airline_index|flight_number|scheduled_flight_time_mins|departure_delay|origin_index|dest_index|distance|taxi_out|cancelled|\n",
      "+----+----+-----+------------+-----------+--------------------------+-----------------------------+---------------------------+-------------+-------------+--------------------------+---------------+------------+----------+--------+--------+---------+\n",
      "|   0|   0|    0|           0|          0|                    518228|                            0|                          0|            0|            0|                      5586|         518228|           0|         0|   22204|10533076|        0|\n",
      "+----+----+-----+------------+-----------+--------------------------+-----------------------------+---------------------------+-------------+-------------+--------------------------+---------------+------------+----------+--------+--------+---------+\n",
      "\n"
     ]
    },
    {
     "name": "stderr",
     "output_type": "stream",
     "text": [
      "                                                                                \r"
     ]
    }
   ],
   "source": [
    "# contar valores NULL en cada columna\n",
    "new_df.select([count(when(col(c).isNull(), c)).alias(c) for c in new_df.columns]).show()"
   ]
  },
  {
   "cell_type": "markdown",
   "metadata": {},
   "source": [
    "* El 0.019 % de actual_departure_time es nan\t\t--> eliminamos filas\n",
    "* el 0.4 % de plane_number es nan\t\t--> No usamos esta variable\n",
    "* mucho menos del 0.02 % de schedule_flig_time\t\t--> eliminamos filas con nulos\n",
    "* 0.81% de cancellation_code es nan \t\t--> No usamos esta variable\n",
    "\n",
    "AHORA APARECE COMO QUE NO HAY NINGUNO PORQUE YA LOS HE QUITADO, PERO SI QUE HABÍA\n",
    "\n",
    "taxi_out tiene muchos valores NULL"
   ]
  },
  {
   "cell_type": "code",
   "execution_count": 66,
   "metadata": {},
   "outputs": [
    {
     "name": "stdout",
     "output_type": "stream",
     "text": [
      "+----------+----+-----+------------+-----------+--------------------------+-----------------------------+---------------------------+-------------+-------------+--------------------------+---------------+------------+----------+--------+--------+---------+\n",
      "|      date|year|month|day_of_month|day_of_week|actual_departure_time_mins|scheduled_departure_time_mins|scheduled_arrival_time_mins|airline_index|flight_number|scheduled_flight_time_mins|departure_delay|origin_index|dest_index|distance|taxi_out|cancelled|\n",
      "+----------+----+-----+------------+-----------+--------------------------+-----------------------------+---------------------------+-------------+-------------+--------------------------+---------------+------------+----------+--------+--------+---------+\n",
      "|1988-01-09|1988|    1|           9|          6|                     828.0|                          811|                        875|          8.0|          942|                      64.0|           17.0|        63.0|      23.0|   273.0|    NULL|        0|\n",
      "|1988-01-10|1988|    1|          10|          7|                     814.0|                          811|                        875|          8.0|          942|                      64.0|            3.0|        63.0|      23.0|   273.0|    NULL|        0|\n",
      "|1988-01-11|1988|    1|          11|          1|                     886.0|                          811|                        875|          8.0|          942|                      64.0|           75.0|        63.0|      23.0|   273.0|    NULL|        0|\n",
      "|1988-01-12|1988|    1|          12|          2|                     814.0|                          811|                        875|          8.0|          942|                      64.0|            3.0|        63.0|      23.0|   273.0|    NULL|        0|\n",
      "|1988-01-13|1988|    1|          13|          3|                     821.0|                          811|                        875|          8.0|          942|                      64.0|           10.0|        63.0|      23.0|   273.0|    NULL|        0|\n",
      "|1988-01-14|1988|    1|          14|          4|                     812.0|                          811|                        875|          8.0|          942|                      64.0|            1.0|        63.0|      23.0|   273.0|    NULL|        0|\n",
      "|1988-01-15|1988|    1|          15|          5|                     811.0|                          811|                        875|          8.0|          942|                      64.0|            0.0|        63.0|      23.0|   273.0|    NULL|        0|\n",
      "|1988-01-16|1988|    1|          16|          6|                     807.0|                          811|                        875|          8.0|          942|                      64.0|           -4.0|        63.0|      23.0|   273.0|    NULL|        0|\n",
      "|1988-01-17|1988|    1|          17|          7|                     811.0|                          811|                        875|          8.0|          942|                      64.0|            0.0|        63.0|      23.0|   273.0|    NULL|        0|\n",
      "|1988-01-18|1988|    1|          18|          1|                     829.0|                          811|                        875|          8.0|          942|                      64.0|           18.0|        63.0|      23.0|   273.0|    NULL|        0|\n",
      "|1988-01-19|1988|    1|          19|          2|                     817.0|                          811|                        875|          8.0|          942|                      64.0|            6.0|        63.0|      23.0|   273.0|    NULL|        0|\n",
      "|1988-01-20|1988|    1|          20|          3|                     817.0|                          811|                        875|          8.0|          942|                      64.0|            6.0|        63.0|      23.0|   273.0|    NULL|        0|\n",
      "|1988-01-21|1988|    1|          21|          4|                     810.0|                          811|                        875|          8.0|          942|                      64.0|           -1.0|        63.0|      23.0|   273.0|    NULL|        0|\n",
      "|1988-01-22|1988|    1|          22|          5|                     811.0|                          811|                        875|          8.0|          942|                      64.0|            0.0|        63.0|      23.0|   273.0|    NULL|        0|\n",
      "|1988-01-23|1988|    1|          23|          6|                     813.0|                          811|                        875|          8.0|          942|                      64.0|            2.0|        63.0|      23.0|   273.0|    NULL|        0|\n",
      "|1988-01-24|1988|    1|          24|          7|                     808.0|                          811|                        875|          8.0|          942|                      64.0|           -3.0|        63.0|      23.0|   273.0|    NULL|        0|\n",
      "|1988-01-25|1988|    1|          25|          1|                     810.0|                          811|                        875|          8.0|          942|                      64.0|           -1.0|        63.0|      23.0|   273.0|    NULL|        0|\n",
      "|1988-01-26|1988|    1|          26|          2|                     847.0|                          811|                        875|          8.0|          942|                      64.0|           36.0|        63.0|      23.0|   273.0|    NULL|        0|\n",
      "|1988-01-27|1988|    1|          27|          3|                     812.0|                          811|                        875|          8.0|          942|                      64.0|            1.0|        63.0|      23.0|   273.0|    NULL|        0|\n",
      "|1988-01-28|1988|    1|          28|          4|                     811.0|                          811|                        875|          8.0|          942|                      64.0|            0.0|        63.0|      23.0|   273.0|    NULL|        0|\n",
      "+----------+----+-----+------------+-----------+--------------------------+-----------------------------+---------------------------+-------------+-------------+--------------------------+---------------+------------+----------+--------+--------+---------+\n",
      "only showing top 20 rows\n",
      "\n"
     ]
    }
   ],
   "source": [
    "new_df.show()"
   ]
  },
  {
   "cell_type": "code",
   "execution_count": 67,
   "metadata": {},
   "outputs": [
    {
     "name": "stdout",
     "output_type": "stream",
     "text": [
      "+--------------------+\n",
      "|            features|\n",
      "+--------------------+\n",
      "|[1.0,6.0,828.0,81...|\n",
      "|[1.0,7.0,814.0,81...|\n",
      "|[1.0,1.0,886.0,81...|\n",
      "|[1.0,2.0,814.0,81...|\n",
      "|[1.0,3.0,821.0,81...|\n",
      "+--------------------+\n",
      "only showing top 5 rows\n",
      "\n"
     ]
    }
   ],
   "source": [
    "from pyspark.ml.feature import VectorAssembler\n",
    "\n",
    "featureassembler = VectorAssembler(inputCols=['month', 'day_of_week', 'actual_departure_time_mins',\n",
    "                   'scheduled_departure_time_mins', 'scheduled_arrival_time_mins', 'airline_index',\n",
    "                   'flight_number', 'scheduled_flight_time_mins', 'departure_delay',\n",
    "                   'origin_index', 'dest_index', 'distance',  'cancelled'], \n",
    "                outputCol='features')\n",
    "# no he incluido TaxiOut porque tiene muchos valores nulos (pero lo mismo deberíamos)\n",
    "\n",
    "output = featureassembler.transform(new_df)\n",
    "output.select('features').show(5)"
   ]
  },
  {
   "cell_type": "code",
   "execution_count": 71,
   "metadata": {},
   "outputs": [
    {
     "name": "stdout",
     "output_type": "stream",
     "text": [
      "+----------+----+-----+------------+-----------+--------------------------+-----------------------------+---------------------------+-------------+-------------+--------------------------+---------------+------------+----------+--------+--------+---------+--------------------+\n",
      "|      date|year|month|day_of_month|day_of_week|actual_departure_time_mins|scheduled_departure_time_mins|scheduled_arrival_time_mins|airline_index|flight_number|scheduled_flight_time_mins|departure_delay|origin_index|dest_index|distance|taxi_out|cancelled|            features|\n",
      "+----------+----+-----+------------+-----------+--------------------------+-----------------------------+---------------------------+-------------+-------------+--------------------------+---------------+------------+----------+--------+--------+---------+--------------------+\n",
      "|1988-01-09|1988|    1|           9|          6|                     828.0|                          811|                        875|          8.0|          942|                      64.0|           17.0|        63.0|      23.0|   273.0|    NULL|        0|[1.0,6.0,828.0,81...|\n",
      "|1988-01-10|1988|    1|          10|          7|                     814.0|                          811|                        875|          8.0|          942|                      64.0|            3.0|        63.0|      23.0|   273.0|    NULL|        0|[1.0,7.0,814.0,81...|\n",
      "|1988-01-11|1988|    1|          11|          1|                     886.0|                          811|                        875|          8.0|          942|                      64.0|           75.0|        63.0|      23.0|   273.0|    NULL|        0|[1.0,1.0,886.0,81...|\n",
      "|1988-01-12|1988|    1|          12|          2|                     814.0|                          811|                        875|          8.0|          942|                      64.0|            3.0|        63.0|      23.0|   273.0|    NULL|        0|[1.0,2.0,814.0,81...|\n",
      "|1988-01-13|1988|    1|          13|          3|                     821.0|                          811|                        875|          8.0|          942|                      64.0|           10.0|        63.0|      23.0|   273.0|    NULL|        0|[1.0,3.0,821.0,81...|\n",
      "+----------+----+-----+------------+-----------+--------------------------+-----------------------------+---------------------------+-------------+-------------+--------------------------+---------------+------------+----------+--------+--------+---------+--------------------+\n",
      "only showing top 5 rows\n",
      "\n"
     ]
    }
   ],
   "source": [
    "output.show(5)"
   ]
  },
  {
   "cell_type": "code",
   "execution_count": 69,
   "metadata": {},
   "outputs": [
    {
     "ename": "AnalysisException",
     "evalue": "[UNRESOLVED_COLUMN.WITH_SUGGESTION] A column or function parameter with name `arrival_delay` cannot be resolved. Did you mean one of the following? [`departure_delay`, `origin_index`, `airline_index`, `cancelled`, `date`].;\n'Project [features#27866, 'arrival_delay]\n+- Project [date#26724, year#25755, month#25785, day_of_month#25815, day_of_week#25845, actual_departure_time_mins#27070, scheduled_departure_time_mins#27101, scheduled_arrival_time_mins#27133, airline_index#26911, flight_number#26025, scheduled_flight_time_mins#27166, departure_delay#26664, origin_index#26912, dest_index#26913, distance#26704, taxi_out#26684, cancelled#26385, UDF(struct(month_double_VectorAssembler_65e4c87d18d1, cast(month#25785 as double), day_of_week_double_VectorAssembler_65e4c87d18d1, cast(day_of_week#25845 as double), actual_departure_time_mins, actual_departure_time_mins#27070, scheduled_departure_time_mins_double_VectorAssembler_65e4c87d18d1, cast(scheduled_departure_time_mins#27101 as double), scheduled_arrival_time_mins_double_VectorAssembler_65e4c87d18d1, cast(scheduled_arrival_time_mins#27133 as double), airline_index, airline_index#26911, flight_number_double_VectorAssembler_65e4c87d18d1, cast(flight_number#26025 as double), scheduled_flight_time_mins, scheduled_flight_time_mins#27166, departure_delay_double_VectorAssembler_65e4c87d18d1, cast(departure_delay#26664 as double), origin_index, origin_index#26912, dest_index, dest_index#26913, distance_double_VectorAssembler_65e4c87d18d1, cast(distance#26704 as double), ... 2 more fields)) AS features#27866]\n   +- Project [date#26724, year#25755, month#25785, day_of_month#25815, day_of_week#25845, actual_departure_time_mins#27070, scheduled_departure_time_mins#27101, scheduled_arrival_time_mins#27133, airline_index#26911, flight_number#26025, scheduled_flight_time_mins#27166, departure_delay#26664, origin_index#26912, dest_index#26913, distance#26704, taxi_out#26684, cancelled#26385]\n      +- Filter isnotnull(scheduled_flight_time#26115)\n         +- Filter isnotnull(actual_departure_time#25875)\n            +- Project [year#25755, month#25785, day_of_month#25815, day_of_week#25845, actual_departure_time#25875, scheduled_departure_time#25905, scheduled_arrival_time#25965, airline_code#25995, flight_number#26025, plane_number#26055, scheduled_flight_time#26115, arrival_delay#26644, departure_delay#26664, origin#26235, dest#26265, distance#26704, taxi_out#26684, cancelled#26385, cancellation_code#26415, date#26724, airline_index#26911, origin_index#26912, dest_index#26913, cancellation_index#26914, ... 5 more fields]\n               +- Project [year#25755, month#25785, day_of_month#25815, day_of_week#25845, actual_departure_time#25875, scheduled_departure_time#25905, scheduled_arrival_time#25965, airline_code#25995, flight_number#26025, plane_number#26055, scheduled_flight_time#26115, arrival_delay#26644, departure_delay#26664, origin#26235, dest#26265, distance#26704, taxi_out#26684, cancelled#26385, cancellation_code#26415, date#26724, airline_index#26911, origin_index#26912, dest_index#26913, cancellation_index#26914, ... 9 more fields]\n                  +- Project [year#25755, month#25785, day_of_month#25815, day_of_week#25845, actual_departure_time#25875, scheduled_departure_time#25905, scheduled_arrival_time#25965, airline_code#25995, flight_number#26025, plane_number#26055, scheduled_flight_time#26115, arrival_delay#26644, departure_delay#26664, origin#26235, dest#26265, distance#26704, taxi_out#26684, cancelled#26385, cancellation_code#26415, date#26724, airline_index#26911, origin_index#26912, dest_index#26913, cancellation_index#26914, ... 8 more fields]\n                     +- Project [year#25755, month#25785, day_of_month#25815, day_of_week#25845, actual_departure_time#25875, scheduled_departure_time#25905, scheduled_arrival_time#25965, airline_code#25995, flight_number#26025, plane_number#26055, scheduled_flight_time#26115, arrival_delay#26644, departure_delay#26664, origin#26235, dest#26265, distance#26704, taxi_out#26684, cancelled#26385, cancellation_code#26415, date#26724, airline_index#26911, origin_index#26912, dest_index#26913, cancellation_index#26914, ... 7 more fields]\n                        +- Project [year#25755, month#25785, day_of_month#25815, day_of_week#25845, actual_departure_time#25875, scheduled_departure_time#25905, scheduled_arrival_time#25965, airline_code#25995, flight_number#26025, plane_number#26055, scheduled_flight_time#26115, arrival_delay#26644, departure_delay#26664, origin#26235, dest#26265, distance#26704, taxi_out#26684, cancelled#26385, cancellation_code#26415, date#26724, airline_index#26911, origin_index#26912, dest_index#26913, cancellation_index#26914, ... 6 more fields]\n                           +- Project [year#25755, month#25785, day_of_month#25815, day_of_week#25845, actual_departure_time#25875, scheduled_departure_time#25905, scheduled_arrival_time#25965, airline_code#25995, flight_number#26025, plane_number#26055, scheduled_flight_time#26115, arrival_delay#26644, departure_delay#26664, origin#26235, dest#26265, distance#26704, taxi_out#26684, cancelled#26385, cancellation_code#26415, date#26724, airline_index#26911, origin_index#26912, dest_index#26913, cancellation_index#26914, ... 5 more fields]\n                              +- Project [year#25755, month#25785, day_of_month#25815, day_of_week#25845, actual_departure_time#25875, scheduled_departure_time#25905, scheduled_arrival_time#25965, airline_code#25995, flight_number#26025, plane_number#26055, scheduled_flight_time#26115, arrival_delay#26644, departure_delay#26664, origin#26235, dest#26265, distance#26704, taxi_out#26684, cancelled#26385, cancellation_code#26415, date#26724, airline_index#26911, origin_index#26912, dest_index#26913, cancellation_index#26914, ... 4 more fields]\n                                 +- Project [year#25755, month#25785, day_of_month#25815, day_of_week#25845, actual_departure_time#25875, scheduled_departure_time#25905, scheduled_arrival_time#25965, airline_code#25995, flight_number#26025, plane_number#26055, scheduled_flight_time#26115, arrival_delay#26644, departure_delay#26664, origin#26235, dest#26265, distance#26704, taxi_out#26684, cancelled#26385, cancellation_code#26415, date#26724, airline_index#26911, origin_index#26912, dest_index#26913, cancellation_index#26914, ... 3 more fields]\n                                    +- Project [year#25755, month#25785, day_of_month#25815, day_of_week#25845, actual_departure_time#25875, scheduled_departure_time#25905, scheduled_arrival_time#25965, airline_code#25995, flight_number#26025, plane_number#26055, scheduled_flight_time#26115, arrival_delay#26644, departure_delay#26664, origin#26235, dest#26265, distance#26704, taxi_out#26684, cancelled#26385, cancellation_code#26415, date#26724, airline_index#26911, origin_index#26912, dest_index#26913, cancellation_index#26914, ... 2 more fields]\n                                       +- Project [year#25755, month#25785, day_of_month#25815, day_of_week#25845, actual_departure_time#25875, scheduled_departure_time#25905, scheduled_arrival_time#25965, airline_code#25995, flight_number#26025, plane_number#26055, scheduled_flight_time#26115, arrival_delay#26644, departure_delay#26664, origin#26235, dest#26265, distance#26704, taxi_out#26684, cancelled#26385, cancellation_code#26415, date#26724, UDF(cast(airline_code#25995 as string)) AS airline_index#26911, UDF(cast(origin#26235 as string)) AS origin_index#26912, UDF(cast(dest#26265 as string)) AS dest_index#26913, UDF(cast(cancellation_code#26415 as string)) AS cancellation_index#26914, UDF(cast(plane_number#26055 as string)) AS plane_index#26915]\n                                          +- Project [year#25755, month#25785, day_of_month#25815, day_of_week#25845, actual_departure_time#25875, scheduled_departure_time#25905, scheduled_arrival_time#25965, airline_code#25995, flight_number#26025, plane_number#26055, scheduled_flight_time#26115, arrival_delay#26644, departure_delay#26664, origin#26235, dest#26265, distance#26704, taxi_out#26684, cancelled#26385, cancellation_code#26415, to_date(concat(cast(day_of_month#25815 as string),  , cast(month#25785 as string),  , cast(year#25755 as string)), Some(d M yyyy), Some(Etc/UTC), false) AS date#26724]\n                                             +- Project [year#25755, month#25785, day_of_month#25815, day_of_week#25845, actual_departure_time#25875, scheduled_departure_time#25905, scheduled_arrival_time#25965, airline_code#25995, flight_number#26025, plane_number#26055, scheduled_flight_time#26115, arrival_delay#26644, departure_delay#26664, origin#26235, dest#26265, cast(distance#26295 as float) AS distance#26704, taxi_out#26684, cancelled#26385, cancellation_code#26415]\n                                                +- Project [year#25755, month#25785, day_of_month#25815, day_of_week#25845, actual_departure_time#25875, scheduled_departure_time#25905, scheduled_arrival_time#25965, airline_code#25995, flight_number#26025, plane_number#26055, scheduled_flight_time#26115, arrival_delay#26644, departure_delay#26664, origin#26235, dest#26265, distance#26295, cast(taxi_out#26355 as float) AS taxi_out#26684, cancelled#26385, cancellation_code#26415]\n                                                   +- Project [year#25755, month#25785, day_of_month#25815, day_of_week#25845, actual_departure_time#25875, scheduled_departure_time#25905, scheduled_arrival_time#25965, airline_code#25995, flight_number#26025, plane_number#26055, scheduled_flight_time#26115, arrival_delay#26644, cast(departure_delay#26205 as float) AS departure_delay#26664, origin#26235, dest#26265, distance#26295, taxi_out#26355, cancelled#26385, cancellation_code#26415]\n                                                      +- Project [year#25755, month#25785, day_of_month#25815, day_of_week#25845, actual_departure_time#25875, scheduled_departure_time#25905, scheduled_arrival_time#25965, airline_code#25995, flight_number#26025, plane_number#26055, scheduled_flight_time#26115, cast(arrival_delay#26175 as float) AS arrival_delay#26644, departure_delay#26205, origin#26235, dest#26265, distance#26295, taxi_out#26355, cancelled#26385, cancellation_code#26415]\n                                                         +- Project [year#25755, month#25785, day_of_month#25815, day_of_week#25845, actual_departure_time#25875, scheduled_departure_time#25905, scheduled_arrival_time#25965, airline_code#25995, flight_number#26025, plane_number#26055, scheduled_flight_time#26115, arrival_delay#26175, departure_delay#26205, origin#26235, dest#26265, distance#26295, taxi_out#26355, cancelled#26385, cancellation_code#26415]\n                                                            +- Project [year#25755, month#25785, day_of_month#25815, day_of_week#25845, actual_departure_time#25875, scheduled_departure_time#25905, actual_arrival_time#25935, scheduled_arrival_time#25965, airline_code#25995, flight_number#26025, plane_number#26055, actual_flight_time#26085, scheduled_flight_time#26115, air_time#26145, arrival_delay#26175, departure_delay#26205, origin#26235, dest#26265, distance#26295, taxi_in#26325, taxi_out#26355, cancelled#26385, cancellation_code#26415, diverted#26445, ... 5 more fields]\n                                                               +- Project [year#25755, month#25785, day_of_month#25815, day_of_week#25845, actual_departure_time#25875, scheduled_departure_time#25905, actual_arrival_time#25935, scheduled_arrival_time#25965, airline_code#25995, flight_number#26025, plane_number#26055, actual_flight_time#26085, scheduled_flight_time#26115, air_time#26145, arrival_delay#26175, departure_delay#26205, origin#26235, dest#26265, distance#26295, taxi_in#26325, taxi_out#26355, cancelled#26385, cancellation_code#26415, diverted#26445, ... 5 more fields]\n                                                                  +- Project [year#25755, month#25785, day_of_month#25815, day_of_week#25845, actual_departure_time#25875, scheduled_departure_time#25905, actual_arrival_time#25935, scheduled_arrival_time#25965, airline_code#25995, flight_number#26025, plane_number#26055, actual_flight_time#26085, scheduled_flight_time#26115, air_time#26145, arrival_delay#26175, departure_delay#26205, origin#26235, dest#26265, distance#26295, taxi_in#26325, taxi_out#26355, cancelled#26385, cancellation_code#26415, diverted#26445, ... 5 more fields]\n                                                                     +- Project [year#25755, month#25785, day_of_month#25815, day_of_week#25845, actual_departure_time#25875, scheduled_departure_time#25905, actual_arrival_time#25935, scheduled_arrival_time#25965, airline_code#25995, flight_number#26025, plane_number#26055, actual_flight_time#26085, scheduled_flight_time#26115, air_time#26145, arrival_delay#26175, departure_delay#26205, origin#26235, dest#26265, distance#26295, taxi_in#26325, taxi_out#26355, cancelled#26385, cancellation_code#26415, diverted#26445, ... 5 more fields]\n                                                                        +- Project [year#25755, month#25785, day_of_month#25815, day_of_week#25845, actual_departure_time#25875, scheduled_departure_time#25905, actual_arrival_time#25935, scheduled_arrival_time#25965, airline_code#25995, flight_number#26025, plane_number#26055, actual_flight_time#26085, scheduled_flight_time#26115, air_time#26145, arrival_delay#26175, departure_delay#26205, origin#26235, dest#26265, distance#26295, taxi_in#26325, taxi_out#26355, cancelled#26385, cancellation_code#26415, diverted#26445, ... 5 more fields]\n                                                                           +- Project [year#25755, month#25785, day_of_month#25815, day_of_week#25845, actual_departure_time#25875, scheduled_departure_time#25905, actual_arrival_time#25935, scheduled_arrival_time#25965, airline_code#25995, flight_number#26025, plane_number#26055, actual_flight_time#26085, scheduled_flight_time#26115, air_time#26145, arrival_delay#26175, departure_delay#26205, origin#26235, dest#26265, distance#26295, taxi_in#26325, taxi_out#26355, cancelled#26385, cancellation_code#26415, Diverted#119 AS diverted#26445, ... 5 more fields]\n                                                                              +- Project [year#25755, month#25785, day_of_month#25815, day_of_week#25845, actual_departure_time#25875, scheduled_departure_time#25905, actual_arrival_time#25935, scheduled_arrival_time#25965, airline_code#25995, flight_number#26025, plane_number#26055, actual_flight_time#26085, scheduled_flight_time#26115, air_time#26145, arrival_delay#26175, departure_delay#26205, origin#26235, dest#26265, distance#26295, taxi_in#26325, taxi_out#26355, cancelled#26385, cancellation_code#25575 AS cancellation_code#26415, Diverted#119, ... 5 more fields]\n                                                                                 +- Project [year#25755, month#25785, day_of_month#25815, day_of_week#25845, actual_departure_time#25875, scheduled_departure_time#25905, actual_arrival_time#25935, scheduled_arrival_time#25965, airline_code#25995, flight_number#26025, plane_number#26055, actual_flight_time#26085, scheduled_flight_time#26115, air_time#26145, arrival_delay#26175, departure_delay#26205, origin#26235, dest#26265, distance#26295, taxi_in#26325, taxi_out#26355, Cancelled#117 AS cancelled#26385, cancellation_code#25575, Diverted#119, ... 5 more fields]\n                                                                                    +- Project [year#25755, month#25785, day_of_month#25815, day_of_week#25845, actual_departure_time#25875, scheduled_departure_time#25905, actual_arrival_time#25935, scheduled_arrival_time#25965, airline_code#25995, flight_number#26025, plane_number#26055, actual_flight_time#26085, scheduled_flight_time#26115, air_time#26145, arrival_delay#26175, departure_delay#26205, origin#26235, dest#26265, distance#26295, taxi_in#26325, taxi_out#25545 AS taxi_out#26355, Cancelled#117, cancellation_code#25575, Diverted#119, ... 5 more fields]\n                                                                                       +- Project [year#25755, month#25785, day_of_month#25815, day_of_week#25845, actual_departure_time#25875, scheduled_departure_time#25905, actual_arrival_time#25935, scheduled_arrival_time#25965, airline_code#25995, flight_number#26025, plane_number#26055, actual_flight_time#26085, scheduled_flight_time#26115, air_time#26145, arrival_delay#26175, departure_delay#26205, origin#26235, dest#26265, distance#26295, taxi_in#25515 AS taxi_in#26325, taxi_out#25545, Cancelled#117, cancellation_code#25575, Diverted#119, ... 5 more fields]\n                                                                                          +- Project [year#25755, month#25785, day_of_month#25815, day_of_week#25845, actual_departure_time#25875, scheduled_departure_time#25905, actual_arrival_time#25935, scheduled_arrival_time#25965, airline_code#25995, flight_number#26025, plane_number#26055, actual_flight_time#26085, scheduled_flight_time#26115, air_time#26145, arrival_delay#26175, departure_delay#26205, origin#26235, dest#26265, Distance#114 AS distance#26295, taxi_in#25515, taxi_out#25545, Cancelled#117, cancellation_code#25575, Diverted#119, ... 5 more fields]\n                                                                                             +- Project [year#25755, month#25785, day_of_month#25815, day_of_week#25845, actual_departure_time#25875, scheduled_departure_time#25905, actual_arrival_time#25935, scheduled_arrival_time#25965, airline_code#25995, flight_number#26025, plane_number#26055, actual_flight_time#26085, scheduled_flight_time#26115, air_time#26145, arrival_delay#26175, departure_delay#26205, origin#26235, Dest#113 AS dest#26265, Distance#114, taxi_in#25515, taxi_out#25545, Cancelled#117, cancellation_code#25575, Diverted#119, ... 5 more fields]\n                                                                                                +- Project [year#25755, month#25785, day_of_month#25815, day_of_week#25845, actual_departure_time#25875, scheduled_departure_time#25905, actual_arrival_time#25935, scheduled_arrival_time#25965, airline_code#25995, flight_number#26025, plane_number#26055, actual_flight_time#26085, scheduled_flight_time#26115, air_time#26145, arrival_delay#26175, departure_delay#26205, Origin#112 AS origin#26235, Dest#113, Distance#114, taxi_in#25515, taxi_out#25545, Cancelled#117, cancellation_code#25575, Diverted#119, ... 5 more fields]\n                                                                                                   +- Project [year#25755, month#25785, day_of_month#25815, day_of_week#25845, actual_departure_time#25875, scheduled_departure_time#25905, actual_arrival_time#25935, scheduled_arrival_time#25965, airline_code#25995, flight_number#26025, plane_number#26055, actual_flight_time#26085, scheduled_flight_time#26115, air_time#26145, arrival_delay#26175, departure_delay#25485 AS departure_delay#26205, Origin#112, Dest#113, Distance#114, taxi_in#25515, taxi_out#25545, Cancelled#117, cancellation_code#25575, Diverted#119, ... 5 more fields]\n                                                                                                      +- Project [year#25755, month#25785, day_of_month#25815, day_of_week#25845, actual_departure_time#25875, scheduled_departure_time#25905, actual_arrival_time#25935, scheduled_arrival_time#25965, airline_code#25995, flight_number#26025, plane_number#26055, actual_flight_time#26085, scheduled_flight_time#26115, air_time#26145, arrival_delay#25455 AS arrival_delay#26175, departure_delay#25485, Origin#112, Dest#113, Distance#114, taxi_in#25515, taxi_out#25545, Cancelled#117, cancellation_code#25575, Diverted#119, ... 5 more fields]\n                                                                                                         +- Project [year#25755, month#25785, day_of_month#25815, day_of_week#25845, actual_departure_time#25875, scheduled_departure_time#25905, actual_arrival_time#25935, scheduled_arrival_time#25965, airline_code#25995, flight_number#26025, plane_number#26055, actual_flight_time#26085, scheduled_flight_time#26115, air_time#25425 AS air_time#26145, arrival_delay#25455, departure_delay#25485, Origin#112, Dest#113, Distance#114, taxi_in#25515, taxi_out#25545, Cancelled#117, cancellation_code#25575, Diverted#119, ... 5 more fields]\n                                                                                                            +- Project [year#25755, month#25785, day_of_month#25815, day_of_week#25845, actual_departure_time#25875, scheduled_departure_time#25905, actual_arrival_time#25935, scheduled_arrival_time#25965, airline_code#25995, flight_number#26025, plane_number#26055, actual_flight_time#26085, scheduled_flight_time#25395 AS scheduled_flight_time#26115, air_time#25425, arrival_delay#25455, departure_delay#25485, Origin#112, Dest#113, Distance#114, taxi_in#25515, taxi_out#25545, Cancelled#117, cancellation_code#25575, Diverted#119, ... 5 more fields]\n                                                                                                               +- Project [year#25755, month#25785, day_of_month#25815, day_of_week#25845, actual_departure_time#25875, scheduled_departure_time#25905, actual_arrival_time#25935, scheduled_arrival_time#25965, airline_code#25995, flight_number#26025, plane_number#26055, actual_flight_time#25365 AS actual_flight_time#26085, scheduled_flight_time#25395, air_time#25425, arrival_delay#25455, departure_delay#25485, Origin#112, Dest#113, Distance#114, taxi_in#25515, taxi_out#25545, Cancelled#117, cancellation_code#25575, Diverted#119, ... 5 more fields]\n                                                                                                                  +- Project [year#25755, month#25785, day_of_month#25815, day_of_week#25845, actual_departure_time#25875, scheduled_departure_time#25905, actual_arrival_time#25935, scheduled_arrival_time#25965, airline_code#25995, flight_number#26025, plane_number#25335 AS plane_number#26055, actual_flight_time#25365, scheduled_flight_time#25395, air_time#25425, arrival_delay#25455, departure_delay#25485, Origin#112, Dest#113, Distance#114, taxi_in#25515, taxi_out#25545, Cancelled#117, cancellation_code#25575, Diverted#119, ... 5 more fields]\n                                                                                                                     +- Project [year#25755, month#25785, day_of_month#25815, day_of_week#25845, actual_departure_time#25875, scheduled_departure_time#25905, actual_arrival_time#25935, scheduled_arrival_time#25965, airline_code#25995, flight_number#25305 AS flight_number#26025, plane_number#25335, actual_flight_time#25365, scheduled_flight_time#25395, air_time#25425, arrival_delay#25455, departure_delay#25485, Origin#112, Dest#113, Distance#114, taxi_in#25515, taxi_out#25545, Cancelled#117, cancellation_code#25575, Diverted#119, ... 5 more fields]\n                                                                                                                        +- Project [year#25755, month#25785, day_of_month#25815, day_of_week#25845, actual_departure_time#25875, scheduled_departure_time#25905, actual_arrival_time#25935, scheduled_arrival_time#25965, airline_code#25275 AS airline_code#25995, flight_number#25305, plane_number#25335, actual_flight_time#25365, scheduled_flight_time#25395, air_time#25425, arrival_delay#25455, departure_delay#25485, Origin#112, Dest#113, Distance#114, taxi_in#25515, taxi_out#25545, Cancelled#117, cancellation_code#25575, Diverted#119, ... 5 more fields]\n                                                                                                                           +- Project [year#25755, month#25785, day_of_month#25815, day_of_week#25845, actual_departure_time#25875, scheduled_departure_time#25905, actual_arrival_time#25935, scheduled_arrival_time#25245 AS scheduled_arrival_time#25965, airline_code#25275, flight_number#25305, plane_number#25335, actual_flight_time#25365, scheduled_flight_time#25395, air_time#25425, arrival_delay#25455, departure_delay#25485, Origin#112, Dest#113, Distance#114, taxi_in#25515, taxi_out#25545, Cancelled#117, cancellation_code#25575, Diverted#119, ... 5 more fields]\n                                                                                                                              +- Project [year#25755, month#25785, day_of_month#25815, day_of_week#25845, actual_departure_time#25875, scheduled_departure_time#25905, actual_arrival_time#25215 AS actual_arrival_time#25935, scheduled_arrival_time#25245, airline_code#25275, flight_number#25305, plane_number#25335, actual_flight_time#25365, scheduled_flight_time#25395, air_time#25425, arrival_delay#25455, departure_delay#25485, Origin#112, Dest#113, Distance#114, taxi_in#25515, taxi_out#25545, Cancelled#117, cancellation_code#25575, Diverted#119, ... 5 more fields]\n                                                                                                                                 +- Project [year#25755, month#25785, day_of_month#25815, day_of_week#25845, actual_departure_time#25875, scheduled_departure_time#25185 AS scheduled_departure_time#25905, actual_arrival_time#25215, scheduled_arrival_time#25245, airline_code#25275, flight_number#25305, plane_number#25335, actual_flight_time#25365, scheduled_flight_time#25395, air_time#25425, arrival_delay#25455, departure_delay#25485, Origin#112, Dest#113, Distance#114, taxi_in#25515, taxi_out#25545, Cancelled#117, cancellation_code#25575, Diverted#119, ... 5 more fields]\n                                                                                                                                    +- Project [year#25755, month#25785, day_of_month#25815, day_of_week#25845, actual_departure_time#25155 AS actual_departure_time#25875, scheduled_departure_time#25185, actual_arrival_time#25215, scheduled_arrival_time#25245, airline_code#25275, flight_number#25305, plane_number#25335, actual_flight_time#25365, scheduled_flight_time#25395, air_time#25425, arrival_delay#25455, departure_delay#25485, Origin#112, Dest#113, Distance#114, taxi_in#25515, taxi_out#25545, Cancelled#117, cancellation_code#25575, Diverted#119, ... 5 more fields]\n                                                                                                                                       +- Project [year#25755, month#25785, day_of_month#25815, day_of_week#25125 AS day_of_week#25845, actual_departure_time#25155, scheduled_departure_time#25185, actual_arrival_time#25215, scheduled_arrival_time#25245, airline_code#25275, flight_number#25305, plane_number#25335, actual_flight_time#25365, scheduled_flight_time#25395, air_time#25425, arrival_delay#25455, departure_delay#25485, Origin#112, Dest#113, Distance#114, taxi_in#25515, taxi_out#25545, Cancelled#117, cancellation_code#25575, Diverted#119, ... 5 more fields]\n                                                                                                                                          +- Project [year#25755, month#25785, day_of_month#25095 AS day_of_month#25815, day_of_week#25125, actual_departure_time#25155, scheduled_departure_time#25185, actual_arrival_time#25215, scheduled_arrival_time#25245, airline_code#25275, flight_number#25305, plane_number#25335, actual_flight_time#25365, scheduled_flight_time#25395, air_time#25425, arrival_delay#25455, departure_delay#25485, Origin#112, Dest#113, Distance#114, taxi_in#25515, taxi_out#25545, Cancelled#117, cancellation_code#25575, Diverted#119, ... 5 more fields]\n                                                                                                                                             +- Project [year#25755, Month#97 AS month#25785, day_of_month#25095, day_of_week#25125, actual_departure_time#25155, scheduled_departure_time#25185, actual_arrival_time#25215, scheduled_arrival_time#25245, airline_code#25275, flight_number#25305, plane_number#25335, actual_flight_time#25365, scheduled_flight_time#25395, air_time#25425, arrival_delay#25455, departure_delay#25485, Origin#112, Dest#113, Distance#114, taxi_in#25515, taxi_out#25545, Cancelled#117, cancellation_code#25575, Diverted#119, ... 5 more fields]\n                                                                                                                                                +- Project [Year#96 AS year#25755, Month#97, day_of_month#25095, day_of_week#25125, actual_departure_time#25155, scheduled_departure_time#25185, actual_arrival_time#25215, scheduled_arrival_time#25245, airline_code#25275, flight_number#25305, plane_number#25335, actual_flight_time#25365, scheduled_flight_time#25395, air_time#25425, arrival_delay#25455, departure_delay#25485, Origin#112, Dest#113, Distance#114, taxi_in#25515, taxi_out#25545, Cancelled#117, cancellation_code#25575, Diverted#119, ... 5 more fields]\n                                                                                                                                                   +- Project [Year#96, Month#97, day_of_month#25095, day_of_week#25125, actual_departure_time#25155, scheduled_departure_time#25185, actual_arrival_time#25215, scheduled_arrival_time#25245, airline_code#25275, flight_number#25305, plane_number#25335, actual_flight_time#25365, scheduled_flight_time#25395, air_time#25425, arrival_delay#25455, departure_delay#25485, Origin#112, Dest#113, Distance#114, taxi_in#25515, taxi_out#25545, Cancelled#117, cancellation_code#25575, Diverted#119, ... 5 more fields]\n                                                                                                                                                      +- Project [Year#96, Month#97, day_of_month#25095, day_of_week#25125, actual_departure_time#25155, scheduled_departure_time#25185, actual_arrival_time#25215, scheduled_arrival_time#25245, airline_code#25275, flight_number#25305, plane_number#25335, actual_flight_time#25365, scheduled_flight_time#25395, air_time#25425, arrival_delay#25455, departure_delay#25485, Origin#112, Dest#113, Distance#114, taxi_in#25515, taxi_out#25545, Cancelled#117, cancellation_code#25575, Diverted#119, ... 5 more fields]\n                                                                                                                                                         +- Project [Year#96, Month#97, day_of_month#25095, day_of_week#25125, actual_departure_time#25155, scheduled_departure_time#25185, actual_arrival_time#25215, scheduled_arrival_time#25245, airline_code#25275, flight_number#25305, plane_number#25335, actual_flight_time#25365, scheduled_flight_time#25395, air_time#25425, arrival_delay#25455, departure_delay#25485, Origin#112, Dest#113, Distance#114, taxi_in#25515, taxi_out#25545, Cancelled#117, cancellation_code#25575, Diverted#119, ... 5 more fields]\n                                                                                                                                                            +- Project [Year#96, Month#97, day_of_month#25095, day_of_week#25125, actual_departure_time#25155, scheduled_departure_time#25185, actual_arrival_time#25215, scheduled_arrival_time#25245, airline_code#25275, flight_number#25305, plane_number#25335, actual_flight_time#25365, scheduled_flight_time#25395, air_time#25425, arrival_delay#25455, departure_delay#25485, Origin#112, Dest#113, Distance#114, taxi_in#25515, taxi_out#25545, Cancelled#117, cancellation_code#25575, Diverted#119, ... 5 more fields]\n                                                                                                                                                               +- Project [Year#96, Month#97, day_of_month#25095, day_of_week#25125, actual_departure_time#25155, scheduled_departure_time#25185, actual_arrival_time#25215, scheduled_arrival_time#25245, airline_code#25275, flight_number#25305, plane_number#25335, actual_flight_time#25365, scheduled_flight_time#25395, air_time#25425, arrival_delay#25455, departure_delay#25485, Origin#112, Dest#113, Distance#114, taxi_in#25515, taxi_out#25545, Cancelled#117, cancellation_code#25575, Diverted#119, ... 5 more fields]\n                                                                                                                                                                  +- Project [Year#96, Month#97, day_of_month#25095, day_of_week#25125, actual_departure_time#25155, scheduled_departure_time#25185, actual_arrival_time#25215, scheduled_arrival_time#25245, airline_code#25275, flight_number#25305, plane_number#25335, actual_flight_time#25365, scheduled_flight_time#25395, air_time#25425, arrival_delay#25455, departure_delay#25485, Origin#112, Dest#113, Distance#114, taxi_in#25515, taxi_out#25545, Cancelled#117, CancellationCode#118 AS cancellation_code#25575, Diverted#119, ... 5 more fields]\n                                                                                                                                                                     +- Project [Year#96, Month#97, day_of_month#25095, day_of_week#25125, actual_departure_time#25155, scheduled_departure_time#25185, actual_arrival_time#25215, scheduled_arrival_time#25245, airline_code#25275, flight_number#25305, plane_number#25335, actual_flight_time#25365, scheduled_flight_time#25395, air_time#25425, arrival_delay#25455, departure_delay#25485, Origin#112, Dest#113, Distance#114, taxi_in#25515, TaxiOut#116 AS taxi_out#25545, Cancelled#117, CancellationCode#118, Diverted#119, ... 5 more fields]\n                                                                                                                                                                        +- Project [Year#96, Month#97, day_of_month#25095, day_of_week#25125, actual_departure_time#25155, scheduled_departure_time#25185, actual_arrival_time#25215, scheduled_arrival_time#25245, airline_code#25275, flight_number#25305, plane_number#25335, actual_flight_time#25365, scheduled_flight_time#25395, air_time#25425, arrival_delay#25455, departure_delay#25485, Origin#112, Dest#113, Distance#114, TaxiIn#115 AS taxi_in#25515, TaxiOut#116, Cancelled#117, CancellationCode#118, Diverted#119, ... 5 more fields]\n                                                                                                                                                                           +- Project [Year#96, Month#97, day_of_month#25095, day_of_week#25125, actual_departure_time#25155, scheduled_departure_time#25185, actual_arrival_time#25215, scheduled_arrival_time#25245, airline_code#25275, flight_number#25305, plane_number#25335, actual_flight_time#25365, scheduled_flight_time#25395, air_time#25425, arrival_delay#25455, DepDelay#111 AS departure_delay#25485, Origin#112, Dest#113, Distance#114, TaxiIn#115, TaxiOut#116, Cancelled#117, CancellationCode#118, Diverted#119, ... 5 more fields]\n                                                                                                                                                                              +- Project [Year#96, Month#97, day_of_month#25095, day_of_week#25125, actual_departure_time#25155, scheduled_departure_time#25185, actual_arrival_time#25215, scheduled_arrival_time#25245, airline_code#25275, flight_number#25305, plane_number#25335, actual_flight_time#25365, scheduled_flight_time#25395, air_time#25425, ArrDelay#110 AS arrival_delay#25455, DepDelay#111, Origin#112, Dest#113, Distance#114, TaxiIn#115, TaxiOut#116, Cancelled#117, CancellationCode#118, Diverted#119, ... 5 more fields]\n                                                                                                                                                                                 +- Project [Year#96, Month#97, day_of_month#25095, day_of_week#25125, actual_departure_time#25155, scheduled_departure_time#25185, actual_arrival_time#25215, scheduled_arrival_time#25245, airline_code#25275, flight_number#25305, plane_number#25335, actual_flight_time#25365, scheduled_flight_time#25395, AirTime#109 AS air_time#25425, ArrDelay#110, DepDelay#111, Origin#112, Dest#113, Distance#114, TaxiIn#115, TaxiOut#116, Cancelled#117, CancellationCode#118, Diverted#119, ... 5 more fields]\n                                                                                                                                                                                    +- Project [Year#96, Month#97, day_of_month#25095, day_of_week#25125, actual_departure_time#25155, scheduled_departure_time#25185, actual_arrival_time#25215, scheduled_arrival_time#25245, airline_code#25275, flight_number#25305, plane_number#25335, actual_flight_time#25365, CRSElapsedTime#529 AS scheduled_flight_time#25395, AirTime#109, ArrDelay#110, DepDelay#111, Origin#112, Dest#113, Distance#114, TaxiIn#115, TaxiOut#116, Cancelled#117, CancellationCode#118, Diverted#119, ... 5 more fields]\n                                                                                                                                                                                       +- Project [Year#96, Month#97, day_of_month#25095, day_of_week#25125, actual_departure_time#25155, scheduled_departure_time#25185, actual_arrival_time#25215, scheduled_arrival_time#25245, airline_code#25275, flight_number#25305, plane_number#25335, ActualElapsedTime#107 AS actual_flight_time#25365, CRSElapsedTime#529, AirTime#109, ArrDelay#110, DepDelay#111, Origin#112, Dest#113, Distance#114, TaxiIn#115, TaxiOut#116, Cancelled#117, CancellationCode#118, Diverted#119, ... 5 more fields]\n                                                                                                                                                                                          +- Project [Year#96, Month#97, day_of_month#25095, day_of_week#25125, actual_departure_time#25155, scheduled_departure_time#25185, actual_arrival_time#25215, scheduled_arrival_time#25245, airline_code#25275, flight_number#25305, TailNum#106 AS plane_number#25335, ActualElapsedTime#107, CRSElapsedTime#529, AirTime#109, ArrDelay#110, DepDelay#111, Origin#112, Dest#113, Distance#114, TaxiIn#115, TaxiOut#116, Cancelled#117, CancellationCode#118, Diverted#119, ... 5 more fields]\n                                                                                                                                                                                             +- Project [Year#96, Month#97, day_of_month#25095, day_of_week#25125, actual_departure_time#25155, scheduled_departure_time#25185, actual_arrival_time#25215, scheduled_arrival_time#25245, airline_code#25275, FlightNum#105 AS flight_number#25305, TailNum#106, ActualElapsedTime#107, CRSElapsedTime#529, AirTime#109, ArrDelay#110, DepDelay#111, Origin#112, Dest#113, Distance#114, TaxiIn#115, TaxiOut#116, Cancelled#117, CancellationCode#118, Diverted#119, ... 5 more fields]\n                                                                                                                                                                                                +- Project [Year#96, Month#97, day_of_month#25095, day_of_week#25125, actual_departure_time#25155, scheduled_departure_time#25185, actual_arrival_time#25215, scheduled_arrival_time#25245, UniqueCarrier#104 AS airline_code#25275, FlightNum#105, TailNum#106, ActualElapsedTime#107, CRSElapsedTime#529, AirTime#109, ArrDelay#110, DepDelay#111, Origin#112, Dest#113, Distance#114, TaxiIn#115, TaxiOut#116, Cancelled#117, CancellationCode#118, Diverted#119, ... 5 more fields]\n                                                                                                                                                                                                   +- Project [Year#96, Month#97, day_of_month#25095, day_of_week#25125, actual_departure_time#25155, scheduled_departure_time#25185, actual_arrival_time#25215, CRSArrTime#103 AS scheduled_arrival_time#25245, UniqueCarrier#104, FlightNum#105, TailNum#106, ActualElapsedTime#107, CRSElapsedTime#529, AirTime#109, ArrDelay#110, DepDelay#111, Origin#112, Dest#113, Distance#114, TaxiIn#115, TaxiOut#116, Cancelled#117, CancellationCode#118, Diverted#119, ... 5 more fields]\n                                                                                                                                                                                                      +- Project [Year#96, Month#97, day_of_month#25095, day_of_week#25125, actual_departure_time#25155, scheduled_departure_time#25185, ArrTime#102 AS actual_arrival_time#25215, CRSArrTime#103, UniqueCarrier#104, FlightNum#105, TailNum#106, ActualElapsedTime#107, CRSElapsedTime#529, AirTime#109, ArrDelay#110, DepDelay#111, Origin#112, Dest#113, Distance#114, TaxiIn#115, TaxiOut#116, Cancelled#117, CancellationCode#118, Diverted#119, ... 5 more fields]\n                                                                                                                                                                                                         +- Project [Year#96, Month#97, day_of_month#25095, day_of_week#25125, actual_departure_time#25155, CRSDepTime#101 AS scheduled_departure_time#25185, ArrTime#102, CRSArrTime#103, UniqueCarrier#104, FlightNum#105, TailNum#106, ActualElapsedTime#107, CRSElapsedTime#529, AirTime#109, ArrDelay#110, DepDelay#111, Origin#112, Dest#113, Distance#114, TaxiIn#115, TaxiOut#116, Cancelled#117, CancellationCode#118, Diverted#119, ... 5 more fields]\n                                                                                                                                                                                                            +- Project [Year#96, Month#97, day_of_month#25095, day_of_week#25125, DepTime#100 AS actual_departure_time#25155, CRSDepTime#101, ArrTime#102, CRSArrTime#103, UniqueCarrier#104, FlightNum#105, TailNum#106, ActualElapsedTime#107, CRSElapsedTime#529, AirTime#109, ArrDelay#110, DepDelay#111, Origin#112, Dest#113, Distance#114, TaxiIn#115, TaxiOut#116, Cancelled#117, CancellationCode#118, Diverted#119, ... 5 more fields]\n                                                                                                                                                                                                               +- Project [Year#96, Month#97, day_of_month#25095, DayOfWeek#99 AS day_of_week#25125, DepTime#100, CRSDepTime#101, ArrTime#102, CRSArrTime#103, UniqueCarrier#104, FlightNum#105, TailNum#106, ActualElapsedTime#107, CRSElapsedTime#529, AirTime#109, ArrDelay#110, DepDelay#111, Origin#112, Dest#113, Distance#114, TaxiIn#115, TaxiOut#116, Cancelled#117, CancellationCode#118, Diverted#119, ... 5 more fields]\n                                                                                                                                                                                                                  +- Project [Year#96, Month#97, DayofMonth#98 AS day_of_month#25095, DayOfWeek#99, DepTime#100, CRSDepTime#101, ArrTime#102, CRSArrTime#103, UniqueCarrier#104, FlightNum#105, TailNum#106, ActualElapsedTime#107, CRSElapsedTime#529, AirTime#109, ArrDelay#110, DepDelay#111, Origin#112, Dest#113, Distance#114, TaxiIn#115, TaxiOut#116, Cancelled#117, CancellationCode#118, Diverted#119, ... 5 more fields]\n                                                                                                                                                                                                                     +- Union false, false\n                                                                                                                                                                                                                        :- Project [Year#96, Month#97, DayofMonth#98, DayOfWeek#99, DepTime#100, CRSDepTime#101, ArrTime#102, CRSArrTime#103, UniqueCarrier#104, FlightNum#105, TailNum#106, ActualElapsedTime#107, cast(CRSElapsedTime#108 as string) AS CRSElapsedTime#529, AirTime#109, ArrDelay#110, DepDelay#111, Origin#112, Dest#113, Distance#114, TaxiIn#115, TaxiOut#116, Cancelled#117, CancellationCode#118, Diverted#119, ... 5 more fields]\n                                                                                                                                                                                                                        :  +- Relation [Year#96,Month#97,DayofMonth#98,DayOfWeek#99,DepTime#100,CRSDepTime#101,ArrTime#102,CRSArrTime#103,UniqueCarrier#104,FlightNum#105,TailNum#106,ActualElapsedTime#107,CRSElapsedTime#108,AirTime#109,ArrDelay#110,DepDelay#111,Origin#112,Dest#113,Distance#114,TaxiIn#115,TaxiOut#116,Cancelled#117,CancellationCode#118,Diverted#119,... 5 more fields] csv\n                                                                                                                                                                                                                        :- Project [Year#171, Month#172, DayofMonth#173, DayOfWeek#174, DepTime#175, CRSDepTime#176, ArrTime#177, CRSArrTime#178, UniqueCarrier#179, FlightNum#180, TailNum#181, ActualElapsedTime#182, CRSElapsedTime#183, AirTime#184, ArrDelay#185, DepDelay#186, Origin#187, Dest#188, cast(Distance#189 as string) AS Distance#530, TaxiIn#190, TaxiOut#191, Cancelled#192, CancellationCode#193, Diverted#194, ... 5 more fields]\n                                                                                                                                                                                                                        :  +- Relation [Year#171,Month#172,DayofMonth#173,DayOfWeek#174,DepTime#175,CRSDepTime#176,ArrTime#177,CRSArrTime#178,UniqueCarrier#179,FlightNum#180,TailNum#181,ActualElapsedTime#182,CRSElapsedTime#183,AirTime#184,ArrDelay#185,DepDelay#186,Origin#187,Dest#188,Distance#189,TaxiIn#190,TaxiOut#191,Cancelled#192,CancellationCode#193,Diverted#194,... 5 more fields] csv\n                                                                                                                                                                                                                        :- Project [Year#246, Month#247, DayofMonth#248, DayOfWeek#249, DepTime#250, CRSDepTime#251, ArrTime#252, CRSArrTime#253, UniqueCarrier#254, FlightNum#255, TailNum#256, ActualElapsedTime#257, cast(CRSElapsedTime#258 as string) AS CRSElapsedTime#562, AirTime#259, ArrDelay#260, DepDelay#261, Origin#262, Dest#263, Distance#264, TaxiIn#265, TaxiOut#266, Cancelled#267, CancellationCode#268, Diverted#269, ... 5 more fields]\n                                                                                                                                                                                                                        :  +- Relation [Year#246,Month#247,DayofMonth#248,DayOfWeek#249,DepTime#250,CRSDepTime#251,ArrTime#252,CRSArrTime#253,UniqueCarrier#254,FlightNum#255,TailNum#256,ActualElapsedTime#257,CRSElapsedTime#258,AirTime#259,ArrDelay#260,DepDelay#261,Origin#262,Dest#263,Distance#264,TaxiIn#265,TaxiOut#266,Cancelled#267,CancellationCode#268,Diverted#269,... 5 more fields] csv\n                                                                                                                                                                                                                        :- Project [Year#321, Month#322, DayofMonth#323, DayOfWeek#324, DepTime#325, CRSDepTime#326, ArrTime#327, CRSArrTime#328, UniqueCarrier#329, FlightNum#330, TailNum#331, ActualElapsedTime#332, CRSElapsedTime#333, AirTime#334, ArrDelay#335, DepDelay#336, Origin#337, Dest#338, cast(Distance#339 as string) AS Distance#593, cast(TaxiIn#340 as string) AS TaxiIn#594, cast(TaxiOut#341 as string) AS TaxiOut#595, Cancelled#342, CancellationCode#343, Diverted#344, ... 5 more fields]\n                                                                                                                                                                                                                        :  +- Relation [Year#321,Month#322,DayofMonth#323,DayOfWeek#324,DepTime#325,CRSDepTime#326,ArrTime#327,CRSArrTime#328,UniqueCarrier#329,FlightNum#330,TailNum#331,ActualElapsedTime#332,CRSElapsedTime#333,AirTime#334,ArrDelay#335,DepDelay#336,Origin#337,Dest#338,Distance#339,TaxiIn#340,TaxiOut#341,Cancelled#342,CancellationCode#343,Diverted#344,... 5 more fields] csv\n                                                                                                                                                                                                                        :- Project [Year#396, Month#397, DayofMonth#398, DayOfWeek#399, DepTime#400, CRSDepTime#401, ArrTime#402, CRSArrTime#403, UniqueCarrier#404, FlightNum#405, TailNum#406, ActualElapsedTime#407, CRSElapsedTime#408, AirTime#409, ArrDelay#410, DepDelay#411, Origin#412, Dest#413, cast(Distance#414 as string) AS Distance#626, TaxiIn#415, TaxiOut#416, Cancelled#417, CancellationCode#418, Diverted#419, ... 5 more fields]\n                                                                                                                                                                                                                        :  +- Relation [Year#396,Month#397,DayofMonth#398,DayOfWeek#399,DepTime#400,CRSDepTime#401,ArrTime#402,CRSArrTime#403,UniqueCarrier#404,FlightNum#405,TailNum#406,ActualElapsedTime#407,CRSElapsedTime#408,AirTime#409,ArrDelay#410,DepDelay#411,Origin#412,Dest#413,Distance#414,TaxiIn#415,TaxiOut#416,Cancelled#417,CancellationCode#418,Diverted#419,... 5 more fields] csv\n                                                                                                                                                                                                                        +- Project [Year#471, Month#472, DayofMonth#473, DayOfWeek#474, DepTime#475, CRSDepTime#476, ArrTime#477, CRSArrTime#478, UniqueCarrier#479, FlightNum#480, TailNum#481, ActualElapsedTime#482, CRSElapsedTime#483, AirTime#484, ArrDelay#485, DepDelay#486, Origin#487, Dest#488, cast(Distance#489 as string) AS Distance#657, cast(TaxiIn#490 as string) AS TaxiIn#658, cast(TaxiOut#491 as string) AS TaxiOut#659, Cancelled#492, CancellationCode#493, Diverted#494, ... 5 more fields]\n                                                                                                                                                                                                                           +- Relation [Year#471,Month#472,DayofMonth#473,DayOfWeek#474,DepTime#475,CRSDepTime#476,ArrTime#477,CRSArrTime#478,UniqueCarrier#479,FlightNum#480,TailNum#481,ActualElapsedTime#482,CRSElapsedTime#483,AirTime#484,ArrDelay#485,DepDelay#486,Origin#487,Dest#488,Distance#489,TaxiIn#490,TaxiOut#491,Cancelled#492,CancellationCode#493,Diverted#494,... 5 more fields] csv\n",
     "output_type": "error",
     "traceback": [
      "\u001b[0;31m---------------------------------------------------------------------------\u001b[0m",
      "\u001b[0;31mAnalysisException\u001b[0m                         Traceback (most recent call last)",
      "Input \u001b[0;32mIn [69]\u001b[0m, in \u001b[0;36m<cell line: 1>\u001b[0;34m()\u001b[0m\n\u001b[0;32m----> 1\u001b[0m final_data \u001b[38;5;241m=\u001b[39m \u001b[43moutput\u001b[49m\u001b[38;5;241;43m.\u001b[39;49m\u001b[43mselect\u001b[49m\u001b[43m(\u001b[49m\u001b[38;5;124;43m'\u001b[39;49m\u001b[38;5;124;43mfeatures\u001b[39;49m\u001b[38;5;124;43m'\u001b[39;49m\u001b[43m,\u001b[49m\u001b[43m \u001b[49m\u001b[38;5;124;43m'\u001b[39;49m\u001b[38;5;124;43marrival_delay\u001b[39;49m\u001b[38;5;124;43m'\u001b[39;49m\u001b[43m)\u001b[49m\n\u001b[1;32m      2\u001b[0m final_data\u001b[38;5;241m.\u001b[39mshow(\u001b[38;5;241m5\u001b[39m)\n",
      "File \u001b[0;32m~/anaconda3/envs/spark/lib/python3.8/site-packages/pyspark/sql/dataframe.py:3223\u001b[0m, in \u001b[0;36mDataFrame.select\u001b[0;34m(self, *cols)\u001b[0m\n\u001b[1;32m   3178\u001b[0m \u001b[38;5;28;01mdef\u001b[39;00m \u001b[38;5;21mselect\u001b[39m(\u001b[38;5;28mself\u001b[39m, \u001b[38;5;241m*\u001b[39mcols: \u001b[38;5;124m\"\u001b[39m\u001b[38;5;124mColumnOrName\u001b[39m\u001b[38;5;124m\"\u001b[39m) \u001b[38;5;241m-\u001b[39m\u001b[38;5;241m>\u001b[39m \u001b[38;5;124m\"\u001b[39m\u001b[38;5;124mDataFrame\u001b[39m\u001b[38;5;124m\"\u001b[39m:  \u001b[38;5;66;03m# type: ignore[misc]\u001b[39;00m\n\u001b[1;32m   3179\u001b[0m \u001b[38;5;250m    \u001b[39m\u001b[38;5;124;03m\"\"\"Projects a set of expressions and returns a new :class:`DataFrame`.\u001b[39;00m\n\u001b[1;32m   3180\u001b[0m \n\u001b[1;32m   3181\u001b[0m \u001b[38;5;124;03m    .. versionadded:: 1.3.0\u001b[39;00m\n\u001b[0;32m   (...)\u001b[0m\n\u001b[1;32m   3221\u001b[0m \u001b[38;5;124;03m    +-----+---+\u001b[39;00m\n\u001b[1;32m   3222\u001b[0m \u001b[38;5;124;03m    \"\"\"\u001b[39;00m\n\u001b[0;32m-> 3223\u001b[0m     jdf \u001b[38;5;241m=\u001b[39m \u001b[38;5;28;43mself\u001b[39;49m\u001b[38;5;241;43m.\u001b[39;49m\u001b[43m_jdf\u001b[49m\u001b[38;5;241;43m.\u001b[39;49m\u001b[43mselect\u001b[49m\u001b[43m(\u001b[49m\u001b[38;5;28;43mself\u001b[39;49m\u001b[38;5;241;43m.\u001b[39;49m\u001b[43m_jcols\u001b[49m\u001b[43m(\u001b[49m\u001b[38;5;241;43m*\u001b[39;49m\u001b[43mcols\u001b[49m\u001b[43m)\u001b[49m\u001b[43m)\u001b[49m\n\u001b[1;32m   3224\u001b[0m     \u001b[38;5;28;01mreturn\u001b[39;00m DataFrame(jdf, \u001b[38;5;28mself\u001b[39m\u001b[38;5;241m.\u001b[39msparkSession)\n",
      "File \u001b[0;32m~/anaconda3/envs/spark/lib/python3.8/site-packages/py4j/java_gateway.py:1322\u001b[0m, in \u001b[0;36mJavaMember.__call__\u001b[0;34m(self, *args)\u001b[0m\n\u001b[1;32m   1316\u001b[0m command \u001b[38;5;241m=\u001b[39m proto\u001b[38;5;241m.\u001b[39mCALL_COMMAND_NAME \u001b[38;5;241m+\u001b[39m\\\n\u001b[1;32m   1317\u001b[0m     \u001b[38;5;28mself\u001b[39m\u001b[38;5;241m.\u001b[39mcommand_header \u001b[38;5;241m+\u001b[39m\\\n\u001b[1;32m   1318\u001b[0m     args_command \u001b[38;5;241m+\u001b[39m\\\n\u001b[1;32m   1319\u001b[0m     proto\u001b[38;5;241m.\u001b[39mEND_COMMAND_PART\n\u001b[1;32m   1321\u001b[0m answer \u001b[38;5;241m=\u001b[39m \u001b[38;5;28mself\u001b[39m\u001b[38;5;241m.\u001b[39mgateway_client\u001b[38;5;241m.\u001b[39msend_command(command)\n\u001b[0;32m-> 1322\u001b[0m return_value \u001b[38;5;241m=\u001b[39m \u001b[43mget_return_value\u001b[49m\u001b[43m(\u001b[49m\n\u001b[1;32m   1323\u001b[0m \u001b[43m    \u001b[49m\u001b[43manswer\u001b[49m\u001b[43m,\u001b[49m\u001b[43m \u001b[49m\u001b[38;5;28;43mself\u001b[39;49m\u001b[38;5;241;43m.\u001b[39;49m\u001b[43mgateway_client\u001b[49m\u001b[43m,\u001b[49m\u001b[43m \u001b[49m\u001b[38;5;28;43mself\u001b[39;49m\u001b[38;5;241;43m.\u001b[39;49m\u001b[43mtarget_id\u001b[49m\u001b[43m,\u001b[49m\u001b[43m \u001b[49m\u001b[38;5;28;43mself\u001b[39;49m\u001b[38;5;241;43m.\u001b[39;49m\u001b[43mname\u001b[49m\u001b[43m)\u001b[49m\n\u001b[1;32m   1325\u001b[0m \u001b[38;5;28;01mfor\u001b[39;00m temp_arg \u001b[38;5;129;01min\u001b[39;00m temp_args:\n\u001b[1;32m   1326\u001b[0m     \u001b[38;5;28;01mif\u001b[39;00m \u001b[38;5;28mhasattr\u001b[39m(temp_arg, \u001b[38;5;124m\"\u001b[39m\u001b[38;5;124m_detach\u001b[39m\u001b[38;5;124m\"\u001b[39m):\n",
      "File \u001b[0;32m~/anaconda3/envs/spark/lib/python3.8/site-packages/pyspark/errors/exceptions/captured.py:185\u001b[0m, in \u001b[0;36mcapture_sql_exception.<locals>.deco\u001b[0;34m(*a, **kw)\u001b[0m\n\u001b[1;32m    181\u001b[0m converted \u001b[38;5;241m=\u001b[39m convert_exception(e\u001b[38;5;241m.\u001b[39mjava_exception)\n\u001b[1;32m    182\u001b[0m \u001b[38;5;28;01mif\u001b[39;00m \u001b[38;5;129;01mnot\u001b[39;00m \u001b[38;5;28misinstance\u001b[39m(converted, UnknownException):\n\u001b[1;32m    183\u001b[0m     \u001b[38;5;66;03m# Hide where the exception came from that shows a non-Pythonic\u001b[39;00m\n\u001b[1;32m    184\u001b[0m     \u001b[38;5;66;03m# JVM exception message.\u001b[39;00m\n\u001b[0;32m--> 185\u001b[0m     \u001b[38;5;28;01mraise\u001b[39;00m converted \u001b[38;5;28;01mfrom\u001b[39;00m \u001b[38;5;28;01mNone\u001b[39;00m\n\u001b[1;32m    186\u001b[0m \u001b[38;5;28;01melse\u001b[39;00m:\n\u001b[1;32m    187\u001b[0m     \u001b[38;5;28;01mraise\u001b[39;00m\n",
      "\u001b[0;31mAnalysisException\u001b[0m: [UNRESOLVED_COLUMN.WITH_SUGGESTION] A column or function parameter with name `arrival_delay` cannot be resolved. Did you mean one of the following? [`departure_delay`, `origin_index`, `airline_index`, `cancelled`, `date`].;\n'Project [features#27866, 'arrival_delay]\n+- Project [date#26724, year#25755, month#25785, day_of_month#25815, day_of_week#25845, actual_departure_time_mins#27070, scheduled_departure_time_mins#27101, scheduled_arrival_time_mins#27133, airline_index#26911, flight_number#26025, scheduled_flight_time_mins#27166, departure_delay#26664, origin_index#26912, dest_index#26913, distance#26704, taxi_out#26684, cancelled#26385, UDF(struct(month_double_VectorAssembler_65e4c87d18d1, cast(month#25785 as double), day_of_week_double_VectorAssembler_65e4c87d18d1, cast(day_of_week#25845 as double), actual_departure_time_mins, actual_departure_time_mins#27070, scheduled_departure_time_mins_double_VectorAssembler_65e4c87d18d1, cast(scheduled_departure_time_mins#27101 as double), scheduled_arrival_time_mins_double_VectorAssembler_65e4c87d18d1, cast(scheduled_arrival_time_mins#27133 as double), airline_index, airline_index#26911, flight_number_double_VectorAssembler_65e4c87d18d1, cast(flight_number#26025 as double), scheduled_flight_time_mins, scheduled_flight_time_mins#27166, departure_delay_double_VectorAssembler_65e4c87d18d1, cast(departure_delay#26664 as double), origin_index, origin_index#26912, dest_index, dest_index#26913, distance_double_VectorAssembler_65e4c87d18d1, cast(distance#26704 as double), ... 2 more fields)) AS features#27866]\n   +- Project [date#26724, year#25755, month#25785, day_of_month#25815, day_of_week#25845, actual_departure_time_mins#27070, scheduled_departure_time_mins#27101, scheduled_arrival_time_mins#27133, airline_index#26911, flight_number#26025, scheduled_flight_time_mins#27166, departure_delay#26664, origin_index#26912, dest_index#26913, distance#26704, taxi_out#26684, cancelled#26385]\n      +- Filter isnotnull(scheduled_flight_time#26115)\n         +- Filter isnotnull(actual_departure_time#25875)\n            +- Project [year#25755, month#25785, day_of_month#25815, day_of_week#25845, actual_departure_time#25875, scheduled_departure_time#25905, scheduled_arrival_time#25965, airline_code#25995, flight_number#26025, plane_number#26055, scheduled_flight_time#26115, arrival_delay#26644, departure_delay#26664, origin#26235, dest#26265, distance#26704, taxi_out#26684, cancelled#26385, cancellation_code#26415, date#26724, airline_index#26911, origin_index#26912, dest_index#26913, cancellation_index#26914, ... 5 more fields]\n               +- Project [year#25755, month#25785, day_of_month#25815, day_of_week#25845, actual_departure_time#25875, scheduled_departure_time#25905, scheduled_arrival_time#25965, airline_code#25995, flight_number#26025, plane_number#26055, scheduled_flight_time#26115, arrival_delay#26644, departure_delay#26664, origin#26235, dest#26265, distance#26704, taxi_out#26684, cancelled#26385, cancellation_code#26415, date#26724, airline_index#26911, origin_index#26912, dest_index#26913, cancellation_index#26914, ... 9 more fields]\n                  +- Project [year#25755, month#25785, day_of_month#25815, day_of_week#25845, actual_departure_time#25875, scheduled_departure_time#25905, scheduled_arrival_time#25965, airline_code#25995, flight_number#26025, plane_number#26055, scheduled_flight_time#26115, arrival_delay#26644, departure_delay#26664, origin#26235, dest#26265, distance#26704, taxi_out#26684, cancelled#26385, cancellation_code#26415, date#26724, airline_index#26911, origin_index#26912, dest_index#26913, cancellation_index#26914, ... 8 more fields]\n                     +- Project [year#25755, month#25785, day_of_month#25815, day_of_week#25845, actual_departure_time#25875, scheduled_departure_time#25905, scheduled_arrival_time#25965, airline_code#25995, flight_number#26025, plane_number#26055, scheduled_flight_time#26115, arrival_delay#26644, departure_delay#26664, origin#26235, dest#26265, distance#26704, taxi_out#26684, cancelled#26385, cancellation_code#26415, date#26724, airline_index#26911, origin_index#26912, dest_index#26913, cancellation_index#26914, ... 7 more fields]\n                        +- Project [year#25755, month#25785, day_of_month#25815, day_of_week#25845, actual_departure_time#25875, scheduled_departure_time#25905, scheduled_arrival_time#25965, airline_code#25995, flight_number#26025, plane_number#26055, scheduled_flight_time#26115, arrival_delay#26644, departure_delay#26664, origin#26235, dest#26265, distance#26704, taxi_out#26684, cancelled#26385, cancellation_code#26415, date#26724, airline_index#26911, origin_index#26912, dest_index#26913, cancellation_index#26914, ... 6 more fields]\n                           +- Project [year#25755, month#25785, day_of_month#25815, day_of_week#25845, actual_departure_time#25875, scheduled_departure_time#25905, scheduled_arrival_time#25965, airline_code#25995, flight_number#26025, plane_number#26055, scheduled_flight_time#26115, arrival_delay#26644, departure_delay#26664, origin#26235, dest#26265, distance#26704, taxi_out#26684, cancelled#26385, cancellation_code#26415, date#26724, airline_index#26911, origin_index#26912, dest_index#26913, cancellation_index#26914, ... 5 more fields]\n                              +- Project [year#25755, month#25785, day_of_month#25815, day_of_week#25845, actual_departure_time#25875, scheduled_departure_time#25905, scheduled_arrival_time#25965, airline_code#25995, flight_number#26025, plane_number#26055, scheduled_flight_time#26115, arrival_delay#26644, departure_delay#26664, origin#26235, dest#26265, distance#26704, taxi_out#26684, cancelled#26385, cancellation_code#26415, date#26724, airline_index#26911, origin_index#26912, dest_index#26913, cancellation_index#26914, ... 4 more fields]\n                                 +- Project [year#25755, month#25785, day_of_month#25815, day_of_week#25845, actual_departure_time#25875, scheduled_departure_time#25905, scheduled_arrival_time#25965, airline_code#25995, flight_number#26025, plane_number#26055, scheduled_flight_time#26115, arrival_delay#26644, departure_delay#26664, origin#26235, dest#26265, distance#26704, taxi_out#26684, cancelled#26385, cancellation_code#26415, date#26724, airline_index#26911, origin_index#26912, dest_index#26913, cancellation_index#26914, ... 3 more fields]\n                                    +- Project [year#25755, month#25785, day_of_month#25815, day_of_week#25845, actual_departure_time#25875, scheduled_departure_time#25905, scheduled_arrival_time#25965, airline_code#25995, flight_number#26025, plane_number#26055, scheduled_flight_time#26115, arrival_delay#26644, departure_delay#26664, origin#26235, dest#26265, distance#26704, taxi_out#26684, cancelled#26385, cancellation_code#26415, date#26724, airline_index#26911, origin_index#26912, dest_index#26913, cancellation_index#26914, ... 2 more fields]\n                                       +- Project [year#25755, month#25785, day_of_month#25815, day_of_week#25845, actual_departure_time#25875, scheduled_departure_time#25905, scheduled_arrival_time#25965, airline_code#25995, flight_number#26025, plane_number#26055, scheduled_flight_time#26115, arrival_delay#26644, departure_delay#26664, origin#26235, dest#26265, distance#26704, taxi_out#26684, cancelled#26385, cancellation_code#26415, date#26724, UDF(cast(airline_code#25995 as string)) AS airline_index#26911, UDF(cast(origin#26235 as string)) AS origin_index#26912, UDF(cast(dest#26265 as string)) AS dest_index#26913, UDF(cast(cancellation_code#26415 as string)) AS cancellation_index#26914, UDF(cast(plane_number#26055 as string)) AS plane_index#26915]\n                                          +- Project [year#25755, month#25785, day_of_month#25815, day_of_week#25845, actual_departure_time#25875, scheduled_departure_time#25905, scheduled_arrival_time#25965, airline_code#25995, flight_number#26025, plane_number#26055, scheduled_flight_time#26115, arrival_delay#26644, departure_delay#26664, origin#26235, dest#26265, distance#26704, taxi_out#26684, cancelled#26385, cancellation_code#26415, to_date(concat(cast(day_of_month#25815 as string),  , cast(month#25785 as string),  , cast(year#25755 as string)), Some(d M yyyy), Some(Etc/UTC), false) AS date#26724]\n                                             +- Project [year#25755, month#25785, day_of_month#25815, day_of_week#25845, actual_departure_time#25875, scheduled_departure_time#25905, scheduled_arrival_time#25965, airline_code#25995, flight_number#26025, plane_number#26055, scheduled_flight_time#26115, arrival_delay#26644, departure_delay#26664, origin#26235, dest#26265, cast(distance#26295 as float) AS distance#26704, taxi_out#26684, cancelled#26385, cancellation_code#26415]\n                                                +- Project [year#25755, month#25785, day_of_month#25815, day_of_week#25845, actual_departure_time#25875, scheduled_departure_time#25905, scheduled_arrival_time#25965, airline_code#25995, flight_number#26025, plane_number#26055, scheduled_flight_time#26115, arrival_delay#26644, departure_delay#26664, origin#26235, dest#26265, distance#26295, cast(taxi_out#26355 as float) AS taxi_out#26684, cancelled#26385, cancellation_code#26415]\n                                                   +- Project [year#25755, month#25785, day_of_month#25815, day_of_week#25845, actual_departure_time#25875, scheduled_departure_time#25905, scheduled_arrival_time#25965, airline_code#25995, flight_number#26025, plane_number#26055, scheduled_flight_time#26115, arrival_delay#26644, cast(departure_delay#26205 as float) AS departure_delay#26664, origin#26235, dest#26265, distance#26295, taxi_out#26355, cancelled#26385, cancellation_code#26415]\n                                                      +- Project [year#25755, month#25785, day_of_month#25815, day_of_week#25845, actual_departure_time#25875, scheduled_departure_time#25905, scheduled_arrival_time#25965, airline_code#25995, flight_number#26025, plane_number#26055, scheduled_flight_time#26115, cast(arrival_delay#26175 as float) AS arrival_delay#26644, departure_delay#26205, origin#26235, dest#26265, distance#26295, taxi_out#26355, cancelled#26385, cancellation_code#26415]\n                                                         +- Project [year#25755, month#25785, day_of_month#25815, day_of_week#25845, actual_departure_time#25875, scheduled_departure_time#25905, scheduled_arrival_time#25965, airline_code#25995, flight_number#26025, plane_number#26055, scheduled_flight_time#26115, arrival_delay#26175, departure_delay#26205, origin#26235, dest#26265, distance#26295, taxi_out#26355, cancelled#26385, cancellation_code#26415]\n                                                            +- Project [year#25755, month#25785, day_of_month#25815, day_of_week#25845, actual_departure_time#25875, scheduled_departure_time#25905, actual_arrival_time#25935, scheduled_arrival_time#25965, airline_code#25995, flight_number#26025, plane_number#26055, actual_flight_time#26085, scheduled_flight_time#26115, air_time#26145, arrival_delay#26175, departure_delay#26205, origin#26235, dest#26265, distance#26295, taxi_in#26325, taxi_out#26355, cancelled#26385, cancellation_code#26415, diverted#26445, ... 5 more fields]\n                                                               +- Project [year#25755, month#25785, day_of_month#25815, day_of_week#25845, actual_departure_time#25875, scheduled_departure_time#25905, actual_arrival_time#25935, scheduled_arrival_time#25965, airline_code#25995, flight_number#26025, plane_number#26055, actual_flight_time#26085, scheduled_flight_time#26115, air_time#26145, arrival_delay#26175, departure_delay#26205, origin#26235, dest#26265, distance#26295, taxi_in#26325, taxi_out#26355, cancelled#26385, cancellation_code#26415, diverted#26445, ... 5 more fields]\n                                                                  +- Project [year#25755, month#25785, day_of_month#25815, day_of_week#25845, actual_departure_time#25875, scheduled_departure_time#25905, actual_arrival_time#25935, scheduled_arrival_time#25965, airline_code#25995, flight_number#26025, plane_number#26055, actual_flight_time#26085, scheduled_flight_time#26115, air_time#26145, arrival_delay#26175, departure_delay#26205, origin#26235, dest#26265, distance#26295, taxi_in#26325, taxi_out#26355, cancelled#26385, cancellation_code#26415, diverted#26445, ... 5 more fields]\n                                                                     +- Project [year#25755, month#25785, day_of_month#25815, day_of_week#25845, actual_departure_time#25875, scheduled_departure_time#25905, actual_arrival_time#25935, scheduled_arrival_time#25965, airline_code#25995, flight_number#26025, plane_number#26055, actual_flight_time#26085, scheduled_flight_time#26115, air_time#26145, arrival_delay#26175, departure_delay#26205, origin#26235, dest#26265, distance#26295, taxi_in#26325, taxi_out#26355, cancelled#26385, cancellation_code#26415, diverted#26445, ... 5 more fields]\n                                                                        +- Project [year#25755, month#25785, day_of_month#25815, day_of_week#25845, actual_departure_time#25875, scheduled_departure_time#25905, actual_arrival_time#25935, scheduled_arrival_time#25965, airline_code#25995, flight_number#26025, plane_number#26055, actual_flight_time#26085, scheduled_flight_time#26115, air_time#26145, arrival_delay#26175, departure_delay#26205, origin#26235, dest#26265, distance#26295, taxi_in#26325, taxi_out#26355, cancelled#26385, cancellation_code#26415, diverted#26445, ... 5 more fields]\n                                                                           +- Project [year#25755, month#25785, day_of_month#25815, day_of_week#25845, actual_departure_time#25875, scheduled_departure_time#25905, actual_arrival_time#25935, scheduled_arrival_time#25965, airline_code#25995, flight_number#26025, plane_number#26055, actual_flight_time#26085, scheduled_flight_time#26115, air_time#26145, arrival_delay#26175, departure_delay#26205, origin#26235, dest#26265, distance#26295, taxi_in#26325, taxi_out#26355, cancelled#26385, cancellation_code#26415, Diverted#119 AS diverted#26445, ... 5 more fields]\n                                                                              +- Project [year#25755, month#25785, day_of_month#25815, day_of_week#25845, actual_departure_time#25875, scheduled_departure_time#25905, actual_arrival_time#25935, scheduled_arrival_time#25965, airline_code#25995, flight_number#26025, plane_number#26055, actual_flight_time#26085, scheduled_flight_time#26115, air_time#26145, arrival_delay#26175, departure_delay#26205, origin#26235, dest#26265, distance#26295, taxi_in#26325, taxi_out#26355, cancelled#26385, cancellation_code#25575 AS cancellation_code#26415, Diverted#119, ... 5 more fields]\n                                                                                 +- Project [year#25755, month#25785, day_of_month#25815, day_of_week#25845, actual_departure_time#25875, scheduled_departure_time#25905, actual_arrival_time#25935, scheduled_arrival_time#25965, airline_code#25995, flight_number#26025, plane_number#26055, actual_flight_time#26085, scheduled_flight_time#26115, air_time#26145, arrival_delay#26175, departure_delay#26205, origin#26235, dest#26265, distance#26295, taxi_in#26325, taxi_out#26355, Cancelled#117 AS cancelled#26385, cancellation_code#25575, Diverted#119, ... 5 more fields]\n                                                                                    +- Project [year#25755, month#25785, day_of_month#25815, day_of_week#25845, actual_departure_time#25875, scheduled_departure_time#25905, actual_arrival_time#25935, scheduled_arrival_time#25965, airline_code#25995, flight_number#26025, plane_number#26055, actual_flight_time#26085, scheduled_flight_time#26115, air_time#26145, arrival_delay#26175, departure_delay#26205, origin#26235, dest#26265, distance#26295, taxi_in#26325, taxi_out#25545 AS taxi_out#26355, Cancelled#117, cancellation_code#25575, Diverted#119, ... 5 more fields]\n                                                                                       +- Project [year#25755, month#25785, day_of_month#25815, day_of_week#25845, actual_departure_time#25875, scheduled_departure_time#25905, actual_arrival_time#25935, scheduled_arrival_time#25965, airline_code#25995, flight_number#26025, plane_number#26055, actual_flight_time#26085, scheduled_flight_time#26115, air_time#26145, arrival_delay#26175, departure_delay#26205, origin#26235, dest#26265, distance#26295, taxi_in#25515 AS taxi_in#26325, taxi_out#25545, Cancelled#117, cancellation_code#25575, Diverted#119, ... 5 more fields]\n                                                                                          +- Project [year#25755, month#25785, day_of_month#25815, day_of_week#25845, actual_departure_time#25875, scheduled_departure_time#25905, actual_arrival_time#25935, scheduled_arrival_time#25965, airline_code#25995, flight_number#26025, plane_number#26055, actual_flight_time#26085, scheduled_flight_time#26115, air_time#26145, arrival_delay#26175, departure_delay#26205, origin#26235, dest#26265, Distance#114 AS distance#26295, taxi_in#25515, taxi_out#25545, Cancelled#117, cancellation_code#25575, Diverted#119, ... 5 more fields]\n                                                                                             +- Project [year#25755, month#25785, day_of_month#25815, day_of_week#25845, actual_departure_time#25875, scheduled_departure_time#25905, actual_arrival_time#25935, scheduled_arrival_time#25965, airline_code#25995, flight_number#26025, plane_number#26055, actual_flight_time#26085, scheduled_flight_time#26115, air_time#26145, arrival_delay#26175, departure_delay#26205, origin#26235, Dest#113 AS dest#26265, Distance#114, taxi_in#25515, taxi_out#25545, Cancelled#117, cancellation_code#25575, Diverted#119, ... 5 more fields]\n                                                                                                +- Project [year#25755, month#25785, day_of_month#25815, day_of_week#25845, actual_departure_time#25875, scheduled_departure_time#25905, actual_arrival_time#25935, scheduled_arrival_time#25965, airline_code#25995, flight_number#26025, plane_number#26055, actual_flight_time#26085, scheduled_flight_time#26115, air_time#26145, arrival_delay#26175, departure_delay#26205, Origin#112 AS origin#26235, Dest#113, Distance#114, taxi_in#25515, taxi_out#25545, Cancelled#117, cancellation_code#25575, Diverted#119, ... 5 more fields]\n                                                                                                   +- Project [year#25755, month#25785, day_of_month#25815, day_of_week#25845, actual_departure_time#25875, scheduled_departure_time#25905, actual_arrival_time#25935, scheduled_arrival_time#25965, airline_code#25995, flight_number#26025, plane_number#26055, actual_flight_time#26085, scheduled_flight_time#26115, air_time#26145, arrival_delay#26175, departure_delay#25485 AS departure_delay#26205, Origin#112, Dest#113, Distance#114, taxi_in#25515, taxi_out#25545, Cancelled#117, cancellation_code#25575, Diverted#119, ... 5 more fields]\n                                                                                                      +- Project [year#25755, month#25785, day_of_month#25815, day_of_week#25845, actual_departure_time#25875, scheduled_departure_time#25905, actual_arrival_time#25935, scheduled_arrival_time#25965, airline_code#25995, flight_number#26025, plane_number#26055, actual_flight_time#26085, scheduled_flight_time#26115, air_time#26145, arrival_delay#25455 AS arrival_delay#26175, departure_delay#25485, Origin#112, Dest#113, Distance#114, taxi_in#25515, taxi_out#25545, Cancelled#117, cancellation_code#25575, Diverted#119, ... 5 more fields]\n                                                                                                         +- Project [year#25755, month#25785, day_of_month#25815, day_of_week#25845, actual_departure_time#25875, scheduled_departure_time#25905, actual_arrival_time#25935, scheduled_arrival_time#25965, airline_code#25995, flight_number#26025, plane_number#26055, actual_flight_time#26085, scheduled_flight_time#26115, air_time#25425 AS air_time#26145, arrival_delay#25455, departure_delay#25485, Origin#112, Dest#113, Distance#114, taxi_in#25515, taxi_out#25545, Cancelled#117, cancellation_code#25575, Diverted#119, ... 5 more fields]\n                                                                                                            +- Project [year#25755, month#25785, day_of_month#25815, day_of_week#25845, actual_departure_time#25875, scheduled_departure_time#25905, actual_arrival_time#25935, scheduled_arrival_time#25965, airline_code#25995, flight_number#26025, plane_number#26055, actual_flight_time#26085, scheduled_flight_time#25395 AS scheduled_flight_time#26115, air_time#25425, arrival_delay#25455, departure_delay#25485, Origin#112, Dest#113, Distance#114, taxi_in#25515, taxi_out#25545, Cancelled#117, cancellation_code#25575, Diverted#119, ... 5 more fields]\n                                                                                                               +- Project [year#25755, month#25785, day_of_month#25815, day_of_week#25845, actual_departure_time#25875, scheduled_departure_time#25905, actual_arrival_time#25935, scheduled_arrival_time#25965, airline_code#25995, flight_number#26025, plane_number#26055, actual_flight_time#25365 AS actual_flight_time#26085, scheduled_flight_time#25395, air_time#25425, arrival_delay#25455, departure_delay#25485, Origin#112, Dest#113, Distance#114, taxi_in#25515, taxi_out#25545, Cancelled#117, cancellation_code#25575, Diverted#119, ... 5 more fields]\n                                                                                                                  +- Project [year#25755, month#25785, day_of_month#25815, day_of_week#25845, actual_departure_time#25875, scheduled_departure_time#25905, actual_arrival_time#25935, scheduled_arrival_time#25965, airline_code#25995, flight_number#26025, plane_number#25335 AS plane_number#26055, actual_flight_time#25365, scheduled_flight_time#25395, air_time#25425, arrival_delay#25455, departure_delay#25485, Origin#112, Dest#113, Distance#114, taxi_in#25515, taxi_out#25545, Cancelled#117, cancellation_code#25575, Diverted#119, ... 5 more fields]\n                                                                                                                     +- Project [year#25755, month#25785, day_of_month#25815, day_of_week#25845, actual_departure_time#25875, scheduled_departure_time#25905, actual_arrival_time#25935, scheduled_arrival_time#25965, airline_code#25995, flight_number#25305 AS flight_number#26025, plane_number#25335, actual_flight_time#25365, scheduled_flight_time#25395, air_time#25425, arrival_delay#25455, departure_delay#25485, Origin#112, Dest#113, Distance#114, taxi_in#25515, taxi_out#25545, Cancelled#117, cancellation_code#25575, Diverted#119, ... 5 more fields]\n                                                                                                                        +- Project [year#25755, month#25785, day_of_month#25815, day_of_week#25845, actual_departure_time#25875, scheduled_departure_time#25905, actual_arrival_time#25935, scheduled_arrival_time#25965, airline_code#25275 AS airline_code#25995, flight_number#25305, plane_number#25335, actual_flight_time#25365, scheduled_flight_time#25395, air_time#25425, arrival_delay#25455, departure_delay#25485, Origin#112, Dest#113, Distance#114, taxi_in#25515, taxi_out#25545, Cancelled#117, cancellation_code#25575, Diverted#119, ... 5 more fields]\n                                                                                                                           +- Project [year#25755, month#25785, day_of_month#25815, day_of_week#25845, actual_departure_time#25875, scheduled_departure_time#25905, actual_arrival_time#25935, scheduled_arrival_time#25245 AS scheduled_arrival_time#25965, airline_code#25275, flight_number#25305, plane_number#25335, actual_flight_time#25365, scheduled_flight_time#25395, air_time#25425, arrival_delay#25455, departure_delay#25485, Origin#112, Dest#113, Distance#114, taxi_in#25515, taxi_out#25545, Cancelled#117, cancellation_code#25575, Diverted#119, ... 5 more fields]\n                                                                                                                              +- Project [year#25755, month#25785, day_of_month#25815, day_of_week#25845, actual_departure_time#25875, scheduled_departure_time#25905, actual_arrival_time#25215 AS actual_arrival_time#25935, scheduled_arrival_time#25245, airline_code#25275, flight_number#25305, plane_number#25335, actual_flight_time#25365, scheduled_flight_time#25395, air_time#25425, arrival_delay#25455, departure_delay#25485, Origin#112, Dest#113, Distance#114, taxi_in#25515, taxi_out#25545, Cancelled#117, cancellation_code#25575, Diverted#119, ... 5 more fields]\n                                                                                                                                 +- Project [year#25755, month#25785, day_of_month#25815, day_of_week#25845, actual_departure_time#25875, scheduled_departure_time#25185 AS scheduled_departure_time#25905, actual_arrival_time#25215, scheduled_arrival_time#25245, airline_code#25275, flight_number#25305, plane_number#25335, actual_flight_time#25365, scheduled_flight_time#25395, air_time#25425, arrival_delay#25455, departure_delay#25485, Origin#112, Dest#113, Distance#114, taxi_in#25515, taxi_out#25545, Cancelled#117, cancellation_code#25575, Diverted#119, ... 5 more fields]\n                                                                                                                                    +- Project [year#25755, month#25785, day_of_month#25815, day_of_week#25845, actual_departure_time#25155 AS actual_departure_time#25875, scheduled_departure_time#25185, actual_arrival_time#25215, scheduled_arrival_time#25245, airline_code#25275, flight_number#25305, plane_number#25335, actual_flight_time#25365, scheduled_flight_time#25395, air_time#25425, arrival_delay#25455, departure_delay#25485, Origin#112, Dest#113, Distance#114, taxi_in#25515, taxi_out#25545, Cancelled#117, cancellation_code#25575, Diverted#119, ... 5 more fields]\n                                                                                                                                       +- Project [year#25755, month#25785, day_of_month#25815, day_of_week#25125 AS day_of_week#25845, actual_departure_time#25155, scheduled_departure_time#25185, actual_arrival_time#25215, scheduled_arrival_time#25245, airline_code#25275, flight_number#25305, plane_number#25335, actual_flight_time#25365, scheduled_flight_time#25395, air_time#25425, arrival_delay#25455, departure_delay#25485, Origin#112, Dest#113, Distance#114, taxi_in#25515, taxi_out#25545, Cancelled#117, cancellation_code#25575, Diverted#119, ... 5 more fields]\n                                                                                                                                          +- Project [year#25755, month#25785, day_of_month#25095 AS day_of_month#25815, day_of_week#25125, actual_departure_time#25155, scheduled_departure_time#25185, actual_arrival_time#25215, scheduled_arrival_time#25245, airline_code#25275, flight_number#25305, plane_number#25335, actual_flight_time#25365, scheduled_flight_time#25395, air_time#25425, arrival_delay#25455, departure_delay#25485, Origin#112, Dest#113, Distance#114, taxi_in#25515, taxi_out#25545, Cancelled#117, cancellation_code#25575, Diverted#119, ... 5 more fields]\n                                                                                                                                             +- Project [year#25755, Month#97 AS month#25785, day_of_month#25095, day_of_week#25125, actual_departure_time#25155, scheduled_departure_time#25185, actual_arrival_time#25215, scheduled_arrival_time#25245, airline_code#25275, flight_number#25305, plane_number#25335, actual_flight_time#25365, scheduled_flight_time#25395, air_time#25425, arrival_delay#25455, departure_delay#25485, Origin#112, Dest#113, Distance#114, taxi_in#25515, taxi_out#25545, Cancelled#117, cancellation_code#25575, Diverted#119, ... 5 more fields]\n                                                                                                                                                +- Project [Year#96 AS year#25755, Month#97, day_of_month#25095, day_of_week#25125, actual_departure_time#25155, scheduled_departure_time#25185, actual_arrival_time#25215, scheduled_arrival_time#25245, airline_code#25275, flight_number#25305, plane_number#25335, actual_flight_time#25365, scheduled_flight_time#25395, air_time#25425, arrival_delay#25455, departure_delay#25485, Origin#112, Dest#113, Distance#114, taxi_in#25515, taxi_out#25545, Cancelled#117, cancellation_code#25575, Diverted#119, ... 5 more fields]\n                                                                                                                                                   +- Project [Year#96, Month#97, day_of_month#25095, day_of_week#25125, actual_departure_time#25155, scheduled_departure_time#25185, actual_arrival_time#25215, scheduled_arrival_time#25245, airline_code#25275, flight_number#25305, plane_number#25335, actual_flight_time#25365, scheduled_flight_time#25395, air_time#25425, arrival_delay#25455, departure_delay#25485, Origin#112, Dest#113, Distance#114, taxi_in#25515, taxi_out#25545, Cancelled#117, cancellation_code#25575, Diverted#119, ... 5 more fields]\n                                                                                                                                                      +- Project [Year#96, Month#97, day_of_month#25095, day_of_week#25125, actual_departure_time#25155, scheduled_departure_time#25185, actual_arrival_time#25215, scheduled_arrival_time#25245, airline_code#25275, flight_number#25305, plane_number#25335, actual_flight_time#25365, scheduled_flight_time#25395, air_time#25425, arrival_delay#25455, departure_delay#25485, Origin#112, Dest#113, Distance#114, taxi_in#25515, taxi_out#25545, Cancelled#117, cancellation_code#25575, Diverted#119, ... 5 more fields]\n                                                                                                                                                         +- Project [Year#96, Month#97, day_of_month#25095, day_of_week#25125, actual_departure_time#25155, scheduled_departure_time#25185, actual_arrival_time#25215, scheduled_arrival_time#25245, airline_code#25275, flight_number#25305, plane_number#25335, actual_flight_time#25365, scheduled_flight_time#25395, air_time#25425, arrival_delay#25455, departure_delay#25485, Origin#112, Dest#113, Distance#114, taxi_in#25515, taxi_out#25545, Cancelled#117, cancellation_code#25575, Diverted#119, ... 5 more fields]\n                                                                                                                                                            +- Project [Year#96, Month#97, day_of_month#25095, day_of_week#25125, actual_departure_time#25155, scheduled_departure_time#25185, actual_arrival_time#25215, scheduled_arrival_time#25245, airline_code#25275, flight_number#25305, plane_number#25335, actual_flight_time#25365, scheduled_flight_time#25395, air_time#25425, arrival_delay#25455, departure_delay#25485, Origin#112, Dest#113, Distance#114, taxi_in#25515, taxi_out#25545, Cancelled#117, cancellation_code#25575, Diverted#119, ... 5 more fields]\n                                                                                                                                                               +- Project [Year#96, Month#97, day_of_month#25095, day_of_week#25125, actual_departure_time#25155, scheduled_departure_time#25185, actual_arrival_time#25215, scheduled_arrival_time#25245, airline_code#25275, flight_number#25305, plane_number#25335, actual_flight_time#25365, scheduled_flight_time#25395, air_time#25425, arrival_delay#25455, departure_delay#25485, Origin#112, Dest#113, Distance#114, taxi_in#25515, taxi_out#25545, Cancelled#117, cancellation_code#25575, Diverted#119, ... 5 more fields]\n                                                                                                                                                                  +- Project [Year#96, Month#97, day_of_month#25095, day_of_week#25125, actual_departure_time#25155, scheduled_departure_time#25185, actual_arrival_time#25215, scheduled_arrival_time#25245, airline_code#25275, flight_number#25305, plane_number#25335, actual_flight_time#25365, scheduled_flight_time#25395, air_time#25425, arrival_delay#25455, departure_delay#25485, Origin#112, Dest#113, Distance#114, taxi_in#25515, taxi_out#25545, Cancelled#117, CancellationCode#118 AS cancellation_code#25575, Diverted#119, ... 5 more fields]\n                                                                                                                                                                     +- Project [Year#96, Month#97, day_of_month#25095, day_of_week#25125, actual_departure_time#25155, scheduled_departure_time#25185, actual_arrival_time#25215, scheduled_arrival_time#25245, airline_code#25275, flight_number#25305, plane_number#25335, actual_flight_time#25365, scheduled_flight_time#25395, air_time#25425, arrival_delay#25455, departure_delay#25485, Origin#112, Dest#113, Distance#114, taxi_in#25515, TaxiOut#116 AS taxi_out#25545, Cancelled#117, CancellationCode#118, Diverted#119, ... 5 more fields]\n                                                                                                                                                                        +- Project [Year#96, Month#97, day_of_month#25095, day_of_week#25125, actual_departure_time#25155, scheduled_departure_time#25185, actual_arrival_time#25215, scheduled_arrival_time#25245, airline_code#25275, flight_number#25305, plane_number#25335, actual_flight_time#25365, scheduled_flight_time#25395, air_time#25425, arrival_delay#25455, departure_delay#25485, Origin#112, Dest#113, Distance#114, TaxiIn#115 AS taxi_in#25515, TaxiOut#116, Cancelled#117, CancellationCode#118, Diverted#119, ... 5 more fields]\n                                                                                                                                                                           +- Project [Year#96, Month#97, day_of_month#25095, day_of_week#25125, actual_departure_time#25155, scheduled_departure_time#25185, actual_arrival_time#25215, scheduled_arrival_time#25245, airline_code#25275, flight_number#25305, plane_number#25335, actual_flight_time#25365, scheduled_flight_time#25395, air_time#25425, arrival_delay#25455, DepDelay#111 AS departure_delay#25485, Origin#112, Dest#113, Distance#114, TaxiIn#115, TaxiOut#116, Cancelled#117, CancellationCode#118, Diverted#119, ... 5 more fields]\n                                                                                                                                                                              +- Project [Year#96, Month#97, day_of_month#25095, day_of_week#25125, actual_departure_time#25155, scheduled_departure_time#25185, actual_arrival_time#25215, scheduled_arrival_time#25245, airline_code#25275, flight_number#25305, plane_number#25335, actual_flight_time#25365, scheduled_flight_time#25395, air_time#25425, ArrDelay#110 AS arrival_delay#25455, DepDelay#111, Origin#112, Dest#113, Distance#114, TaxiIn#115, TaxiOut#116, Cancelled#117, CancellationCode#118, Diverted#119, ... 5 more fields]\n                                                                                                                                                                                 +- Project [Year#96, Month#97, day_of_month#25095, day_of_week#25125, actual_departure_time#25155, scheduled_departure_time#25185, actual_arrival_time#25215, scheduled_arrival_time#25245, airline_code#25275, flight_number#25305, plane_number#25335, actual_flight_time#25365, scheduled_flight_time#25395, AirTime#109 AS air_time#25425, ArrDelay#110, DepDelay#111, Origin#112, Dest#113, Distance#114, TaxiIn#115, TaxiOut#116, Cancelled#117, CancellationCode#118, Diverted#119, ... 5 more fields]\n                                                                                                                                                                                    +- Project [Year#96, Month#97, day_of_month#25095, day_of_week#25125, actual_departure_time#25155, scheduled_departure_time#25185, actual_arrival_time#25215, scheduled_arrival_time#25245, airline_code#25275, flight_number#25305, plane_number#25335, actual_flight_time#25365, CRSElapsedTime#529 AS scheduled_flight_time#25395, AirTime#109, ArrDelay#110, DepDelay#111, Origin#112, Dest#113, Distance#114, TaxiIn#115, TaxiOut#116, Cancelled#117, CancellationCode#118, Diverted#119, ... 5 more fields]\n                                                                                                                                                                                       +- Project [Year#96, Month#97, day_of_month#25095, day_of_week#25125, actual_departure_time#25155, scheduled_departure_time#25185, actual_arrival_time#25215, scheduled_arrival_time#25245, airline_code#25275, flight_number#25305, plane_number#25335, ActualElapsedTime#107 AS actual_flight_time#25365, CRSElapsedTime#529, AirTime#109, ArrDelay#110, DepDelay#111, Origin#112, Dest#113, Distance#114, TaxiIn#115, TaxiOut#116, Cancelled#117, CancellationCode#118, Diverted#119, ... 5 more fields]\n                                                                                                                                                                                          +- Project [Year#96, Month#97, day_of_month#25095, day_of_week#25125, actual_departure_time#25155, scheduled_departure_time#25185, actual_arrival_time#25215, scheduled_arrival_time#25245, airline_code#25275, flight_number#25305, TailNum#106 AS plane_number#25335, ActualElapsedTime#107, CRSElapsedTime#529, AirTime#109, ArrDelay#110, DepDelay#111, Origin#112, Dest#113, Distance#114, TaxiIn#115, TaxiOut#116, Cancelled#117, CancellationCode#118, Diverted#119, ... 5 more fields]\n                                                                                                                                                                                             +- Project [Year#96, Month#97, day_of_month#25095, day_of_week#25125, actual_departure_time#25155, scheduled_departure_time#25185, actual_arrival_time#25215, scheduled_arrival_time#25245, airline_code#25275, FlightNum#105 AS flight_number#25305, TailNum#106, ActualElapsedTime#107, CRSElapsedTime#529, AirTime#109, ArrDelay#110, DepDelay#111, Origin#112, Dest#113, Distance#114, TaxiIn#115, TaxiOut#116, Cancelled#117, CancellationCode#118, Diverted#119, ... 5 more fields]\n                                                                                                                                                                                                +- Project [Year#96, Month#97, day_of_month#25095, day_of_week#25125, actual_departure_time#25155, scheduled_departure_time#25185, actual_arrival_time#25215, scheduled_arrival_time#25245, UniqueCarrier#104 AS airline_code#25275, FlightNum#105, TailNum#106, ActualElapsedTime#107, CRSElapsedTime#529, AirTime#109, ArrDelay#110, DepDelay#111, Origin#112, Dest#113, Distance#114, TaxiIn#115, TaxiOut#116, Cancelled#117, CancellationCode#118, Diverted#119, ... 5 more fields]\n                                                                                                                                                                                                   +- Project [Year#96, Month#97, day_of_month#25095, day_of_week#25125, actual_departure_time#25155, scheduled_departure_time#25185, actual_arrival_time#25215, CRSArrTime#103 AS scheduled_arrival_time#25245, UniqueCarrier#104, FlightNum#105, TailNum#106, ActualElapsedTime#107, CRSElapsedTime#529, AirTime#109, ArrDelay#110, DepDelay#111, Origin#112, Dest#113, Distance#114, TaxiIn#115, TaxiOut#116, Cancelled#117, CancellationCode#118, Diverted#119, ... 5 more fields]\n                                                                                                                                                                                                      +- Project [Year#96, Month#97, day_of_month#25095, day_of_week#25125, actual_departure_time#25155, scheduled_departure_time#25185, ArrTime#102 AS actual_arrival_time#25215, CRSArrTime#103, UniqueCarrier#104, FlightNum#105, TailNum#106, ActualElapsedTime#107, CRSElapsedTime#529, AirTime#109, ArrDelay#110, DepDelay#111, Origin#112, Dest#113, Distance#114, TaxiIn#115, TaxiOut#116, Cancelled#117, CancellationCode#118, Diverted#119, ... 5 more fields]\n                                                                                                                                                                                                         +- Project [Year#96, Month#97, day_of_month#25095, day_of_week#25125, actual_departure_time#25155, CRSDepTime#101 AS scheduled_departure_time#25185, ArrTime#102, CRSArrTime#103, UniqueCarrier#104, FlightNum#105, TailNum#106, ActualElapsedTime#107, CRSElapsedTime#529, AirTime#109, ArrDelay#110, DepDelay#111, Origin#112, Dest#113, Distance#114, TaxiIn#115, TaxiOut#116, Cancelled#117, CancellationCode#118, Diverted#119, ... 5 more fields]\n                                                                                                                                                                                                            +- Project [Year#96, Month#97, day_of_month#25095, day_of_week#25125, DepTime#100 AS actual_departure_time#25155, CRSDepTime#101, ArrTime#102, CRSArrTime#103, UniqueCarrier#104, FlightNum#105, TailNum#106, ActualElapsedTime#107, CRSElapsedTime#529, AirTime#109, ArrDelay#110, DepDelay#111, Origin#112, Dest#113, Distance#114, TaxiIn#115, TaxiOut#116, Cancelled#117, CancellationCode#118, Diverted#119, ... 5 more fields]\n                                                                                                                                                                                                               +- Project [Year#96, Month#97, day_of_month#25095, DayOfWeek#99 AS day_of_week#25125, DepTime#100, CRSDepTime#101, ArrTime#102, CRSArrTime#103, UniqueCarrier#104, FlightNum#105, TailNum#106, ActualElapsedTime#107, CRSElapsedTime#529, AirTime#109, ArrDelay#110, DepDelay#111, Origin#112, Dest#113, Distance#114, TaxiIn#115, TaxiOut#116, Cancelled#117, CancellationCode#118, Diverted#119, ... 5 more fields]\n                                                                                                                                                                                                                  +- Project [Year#96, Month#97, DayofMonth#98 AS day_of_month#25095, DayOfWeek#99, DepTime#100, CRSDepTime#101, ArrTime#102, CRSArrTime#103, UniqueCarrier#104, FlightNum#105, TailNum#106, ActualElapsedTime#107, CRSElapsedTime#529, AirTime#109, ArrDelay#110, DepDelay#111, Origin#112, Dest#113, Distance#114, TaxiIn#115, TaxiOut#116, Cancelled#117, CancellationCode#118, Diverted#119, ... 5 more fields]\n                                                                                                                                                                                                                     +- Union false, false\n                                                                                                                                                                                                                        :- Project [Year#96, Month#97, DayofMonth#98, DayOfWeek#99, DepTime#100, CRSDepTime#101, ArrTime#102, CRSArrTime#103, UniqueCarrier#104, FlightNum#105, TailNum#106, ActualElapsedTime#107, cast(CRSElapsedTime#108 as string) AS CRSElapsedTime#529, AirTime#109, ArrDelay#110, DepDelay#111, Origin#112, Dest#113, Distance#114, TaxiIn#115, TaxiOut#116, Cancelled#117, CancellationCode#118, Diverted#119, ... 5 more fields]\n                                                                                                                                                                                                                        :  +- Relation [Year#96,Month#97,DayofMonth#98,DayOfWeek#99,DepTime#100,CRSDepTime#101,ArrTime#102,CRSArrTime#103,UniqueCarrier#104,FlightNum#105,TailNum#106,ActualElapsedTime#107,CRSElapsedTime#108,AirTime#109,ArrDelay#110,DepDelay#111,Origin#112,Dest#113,Distance#114,TaxiIn#115,TaxiOut#116,Cancelled#117,CancellationCode#118,Diverted#119,... 5 more fields] csv\n                                                                                                                                                                                                                        :- Project [Year#171, Month#172, DayofMonth#173, DayOfWeek#174, DepTime#175, CRSDepTime#176, ArrTime#177, CRSArrTime#178, UniqueCarrier#179, FlightNum#180, TailNum#181, ActualElapsedTime#182, CRSElapsedTime#183, AirTime#184, ArrDelay#185, DepDelay#186, Origin#187, Dest#188, cast(Distance#189 as string) AS Distance#530, TaxiIn#190, TaxiOut#191, Cancelled#192, CancellationCode#193, Diverted#194, ... 5 more fields]\n                                                                                                                                                                                                                        :  +- Relation [Year#171,Month#172,DayofMonth#173,DayOfWeek#174,DepTime#175,CRSDepTime#176,ArrTime#177,CRSArrTime#178,UniqueCarrier#179,FlightNum#180,TailNum#181,ActualElapsedTime#182,CRSElapsedTime#183,AirTime#184,ArrDelay#185,DepDelay#186,Origin#187,Dest#188,Distance#189,TaxiIn#190,TaxiOut#191,Cancelled#192,CancellationCode#193,Diverted#194,... 5 more fields] csv\n                                                                                                                                                                                                                        :- Project [Year#246, Month#247, DayofMonth#248, DayOfWeek#249, DepTime#250, CRSDepTime#251, ArrTime#252, CRSArrTime#253, UniqueCarrier#254, FlightNum#255, TailNum#256, ActualElapsedTime#257, cast(CRSElapsedTime#258 as string) AS CRSElapsedTime#562, AirTime#259, ArrDelay#260, DepDelay#261, Origin#262, Dest#263, Distance#264, TaxiIn#265, TaxiOut#266, Cancelled#267, CancellationCode#268, Diverted#269, ... 5 more fields]\n                                                                                                                                                                                                                        :  +- Relation [Year#246,Month#247,DayofMonth#248,DayOfWeek#249,DepTime#250,CRSDepTime#251,ArrTime#252,CRSArrTime#253,UniqueCarrier#254,FlightNum#255,TailNum#256,ActualElapsedTime#257,CRSElapsedTime#258,AirTime#259,ArrDelay#260,DepDelay#261,Origin#262,Dest#263,Distance#264,TaxiIn#265,TaxiOut#266,Cancelled#267,CancellationCode#268,Diverted#269,... 5 more fields] csv\n                                                                                                                                                                                                                        :- Project [Year#321, Month#322, DayofMonth#323, DayOfWeek#324, DepTime#325, CRSDepTime#326, ArrTime#327, CRSArrTime#328, UniqueCarrier#329, FlightNum#330, TailNum#331, ActualElapsedTime#332, CRSElapsedTime#333, AirTime#334, ArrDelay#335, DepDelay#336, Origin#337, Dest#338, cast(Distance#339 as string) AS Distance#593, cast(TaxiIn#340 as string) AS TaxiIn#594, cast(TaxiOut#341 as string) AS TaxiOut#595, Cancelled#342, CancellationCode#343, Diverted#344, ... 5 more fields]\n                                                                                                                                                                                                                        :  +- Relation [Year#321,Month#322,DayofMonth#323,DayOfWeek#324,DepTime#325,CRSDepTime#326,ArrTime#327,CRSArrTime#328,UniqueCarrier#329,FlightNum#330,TailNum#331,ActualElapsedTime#332,CRSElapsedTime#333,AirTime#334,ArrDelay#335,DepDelay#336,Origin#337,Dest#338,Distance#339,TaxiIn#340,TaxiOut#341,Cancelled#342,CancellationCode#343,Diverted#344,... 5 more fields] csv\n                                                                                                                                                                                                                        :- Project [Year#396, Month#397, DayofMonth#398, DayOfWeek#399, DepTime#400, CRSDepTime#401, ArrTime#402, CRSArrTime#403, UniqueCarrier#404, FlightNum#405, TailNum#406, ActualElapsedTime#407, CRSElapsedTime#408, AirTime#409, ArrDelay#410, DepDelay#411, Origin#412, Dest#413, cast(Distance#414 as string) AS Distance#626, TaxiIn#415, TaxiOut#416, Cancelled#417, CancellationCode#418, Diverted#419, ... 5 more fields]\n                                                                                                                                                                                                                        :  +- Relation [Year#396,Month#397,DayofMonth#398,DayOfWeek#399,DepTime#400,CRSDepTime#401,ArrTime#402,CRSArrTime#403,UniqueCarrier#404,FlightNum#405,TailNum#406,ActualElapsedTime#407,CRSElapsedTime#408,AirTime#409,ArrDelay#410,DepDelay#411,Origin#412,Dest#413,Distance#414,TaxiIn#415,TaxiOut#416,Cancelled#417,CancellationCode#418,Diverted#419,... 5 more fields] csv\n                                                                                                                                                                                                                        +- Project [Year#471, Month#472, DayofMonth#473, DayOfWeek#474, DepTime#475, CRSDepTime#476, ArrTime#477, CRSArrTime#478, UniqueCarrier#479, FlightNum#480, TailNum#481, ActualElapsedTime#482, CRSElapsedTime#483, AirTime#484, ArrDelay#485, DepDelay#486, Origin#487, Dest#488, cast(Distance#489 as string) AS Distance#657, cast(TaxiIn#490 as string) AS TaxiIn#658, cast(TaxiOut#491 as string) AS TaxiOut#659, Cancelled#492, CancellationCode#493, Diverted#494, ... 5 more fields]\n                                                                                                                                                                                                                           +- Relation [Year#471,Month#472,DayofMonth#473,DayOfWeek#474,DepTime#475,CRSDepTime#476,ArrTime#477,CRSArrTime#478,UniqueCarrier#479,FlightNum#480,TailNum#481,ActualElapsedTime#482,CRSElapsedTime#483,AirTime#484,ArrDelay#485,DepDelay#486,Origin#487,Dest#488,Distance#489,TaxiIn#490,TaxiOut#491,Cancelled#492,CancellationCode#493,Diverted#494,... 5 more fields] csv\n"
     ]
    }
   ],
   "source": [
    "final_data = output.select('features', 'arrival_delay')\n",
    "final_data.show(5)"
   ]
  },
  {
   "cell_type": "markdown",
   "metadata": {},
   "source": [
    "# 3. Linear Regression"
   ]
  },
  {
   "cell_type": "code",
   "execution_count": null,
   "metadata": {},
   "outputs": [],
   "source": [
    "from pyspark.ml.regression import LinearRegression\n",
    "# train test split\n",
    "train_data, test_data = final_data.randomSplit([0.75, 0.25])\n",
    "regressor = LinearRegression(featuresCol='features', labelCol='arrival_delay')\n",
    "regressor = regressor.fit(train_data)\n"
   ]
  },
  {
   "cell_type": "code",
   "execution_count": null,
   "metadata": {},
   "outputs": [],
   "source": [
    "regressor.coefficients"
   ]
  },
  {
   "cell_type": "code",
   "execution_count": null,
   "metadata": {},
   "outputs": [],
   "source": [
    "regressor.intercept"
   ]
  },
  {
   "cell_type": "code",
   "execution_count": null,
   "metadata": {},
   "outputs": [],
   "source": [
    "# evalute model\n",
    "pred_results = regressor.evaluate(test_data)\n",
    "pred_results.predictions.show(5)"
   ]
  },
  {
   "cell_type": "code",
   "execution_count": null,
   "metadata": {},
   "outputs": [],
   "source": [
    "pred_results.meanAbsoluteError \n",
    "pred_results.meanSquaredError\n",
    "pred_results.rootMeanSquaredError\n",
    "pred_results.r2"
   ]
  },
  {
   "cell_type": "code",
   "execution_count": 10,
   "metadata": {},
   "outputs": [],
   "source": [
    "spark.stop()"
   ]
  },
  {
   "cell_type": "code",
   "execution_count": null,
   "metadata": {},
   "outputs": [],
   "source": []
  }
 ],
 "metadata": {
  "kernelspec": {
   "display_name": "spark",
   "language": "python",
   "name": "python3"
  },
  "language_info": {
   "codemirror_mode": {
    "name": "ipython",
    "version": 3
   },
   "file_extension": ".py",
   "mimetype": "text/x-python",
   "name": "python",
   "nbconvert_exporter": "python",
   "pygments_lexer": "ipython3",
   "version": "3.8.18"
  }
 },
 "nbformat": 4,
 "nbformat_minor": 2
}
