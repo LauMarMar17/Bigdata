{
 "cells": [
  {
   "cell_type": "markdown",
   "metadata": {},
   "source": [
    "# Spark Practical Work\n",
    "\n",
    "We are supposed to create a model capable of predicting the arrival delay time of a commercial flight based on several parameters known at the take-off time. Tasks:\n",
    "* Load the input data, previously stored at a known location.\n",
    "* Select, process and transform the input variables, to prepare them for training the model.\n",
    "* Perform some basic analysis of each input variable. \n",
    "* Create a ML model that predicts the arrival delay time.\n",
    "* Validate the created model and provide some measures of its accuracy.\n"
   ]
  },
  {
   "cell_type": "code",
   "execution_count": 1,
   "metadata": {},
   "outputs": [
    {
     "data": {
      "text/plain": [
       "'/home/dslab/workspaces/rrunix/spark/final_project'"
      ]
     },
     "execution_count": 1,
     "metadata": {},
     "output_type": "execute_result"
    }
   ],
   "source": [
    "import os\n",
    "os.getcwd()"
   ]
  },
  {
   "cell_type": "markdown",
   "metadata": {},
   "source": [
    "# 1. Load data"
   ]
  },
  {
   "cell_type": "code",
   "execution_count": 2,
   "metadata": {},
   "outputs": [],
   "source": [
    "# extract files into csv formats\n",
    "# import bz2\n",
    "# files = os.listdir(\"../BigData/data/project_data/\")\n",
    "# def bz2_to_csv(files):\n",
    "# \tfor file in files:\n",
    "# \t\tif file.endswith(\".bz2\"):\n",
    "# \t\t\tfile_path = \"../BigData/data/project_data/\" + file\n",
    "# \t\t\twith bz2.open(file_path, \"rb\") as f:\n",
    "# \t\t\t\tfile_content = f.read()\n",
    "# \t\t\twith open(\"../BigData/data/project_data/\" + file[:-4], \"wb\") as f:\n",
    "# \t\t\t\tf.write(file_content)\n",
    "\n",
    "# bz2_to_csv(files)"
   ]
  },
  {
   "cell_type": "code",
   "execution_count": 3,
   "metadata": {},
   "outputs": [
    {
     "name": "stderr",
     "output_type": "stream",
     "text": [
      "23/12/25 09:22:39 WARN Utils: Your hostname, mordor resolves to a loopback address: 127.0.1.1; using 193.147.50.16 instead (on interface eno1np0)\n",
      "23/12/25 09:22:39 WARN Utils: Set SPARK_LOCAL_IP if you need to bind to another address\n",
      "Setting default log level to \"WARN\".\n",
      "To adjust logging level use sc.setLogLevel(newLevel). For SparkR, use setLogLevel(newLevel).\n",
      "23/12/25 09:22:40 WARN NativeCodeLoader: Unable to load native-hadoop library for your platform... using builtin-java classes where applicable\n"
     ]
    },
    {
     "name": "stdout",
     "output_type": "stream",
     "text": [
      "Spark Version: 3.5.0\n"
     ]
    }
   ],
   "source": [
    "# Create a SparkSession\n",
    "from pyspark.sql import SparkSession\n",
    "from pyspark import SparkContext\n",
    "\n",
    "sc = SparkContext(\"local\", \"ComercialFlights\")\n",
    "spark = SparkSession.builder \\\n",
    "            .appName(\"First Session\") \\\n",
    "            .master(\"local[*]\") \\\n",
    "            .getOrCreate()\n",
    "\n",
    "sc.setLogLevel(\"ERROR\")\n",
    "print(\"Spark Version: {}\".format(sc.version))"
   ]
  },
  {
   "cell_type": "code",
   "execution_count": 4,
   "metadata": {},
   "outputs": [
    {
     "name": "stderr",
     "output_type": "stream",
     "text": [
      "                                                                                \r"
     ]
    },
    {
     "name": "stdout",
     "output_type": "stream",
     "text": [
      "+----+-----+----------+---------+-------+----------+-------+----------+-------------+---------+-------+-----------------+--------------+-------+--------+--------+------+----+--------+------+-------+---------+----------------+--------+------------+------------+--------+-------------+-----------------+\n",
      "|Year|Month|DayofMonth|DayOfWeek|DepTime|CRSDepTime|ArrTime|CRSArrTime|UniqueCarrier|FlightNum|TailNum|ActualElapsedTime|CRSElapsedTime|AirTime|ArrDelay|DepDelay|Origin|Dest|Distance|TaxiIn|TaxiOut|Cancelled|CancellationCode|Diverted|CarrierDelay|WeatherDelay|NASDelay|SecurityDelay|LateAircraftDelay|\n",
      "+----+-----+----------+---------+-------+----------+-------+----------+-------------+---------+-------+-----------------+--------------+-------+--------+--------+------+----+--------+------+-------+---------+----------------+--------+------------+------------+--------+-------------+-----------------+\n",
      "|1988|    1|         9|        6|   1348|      1331|   1458|      1435|           PI|      942|     NA|               70|            64|     NA|      23|      17|   SYR| BWI|     273|    NA|     NA|        0|              NA|       0|          NA|          NA|      NA|           NA|               NA|\n",
      "|1988|    1|        10|        7|   1334|      1331|   1443|      1435|           PI|      942|     NA|               69|            64|     NA|       8|       3|   SYR| BWI|     273|    NA|     NA|        0|              NA|       0|          NA|          NA|      NA|           NA|               NA|\n",
      "|1988|    1|        11|        1|   1446|      1331|   1553|      1435|           PI|      942|     NA|               67|            64|     NA|      78|      75|   SYR| BWI|     273|    NA|     NA|        0|              NA|       0|          NA|          NA|      NA|           NA|               NA|\n",
      "|1988|    1|        12|        2|   1334|      1331|   1438|      1435|           PI|      942|     NA|               64|            64|     NA|       3|       3|   SYR| BWI|     273|    NA|     NA|        0|              NA|       0|          NA|          NA|      NA|           NA|               NA|\n",
      "|1988|    1|        13|        3|   1341|      1331|   1503|      1435|           PI|      942|     NA|               82|            64|     NA|      28|      10|   SYR| BWI|     273|    NA|     NA|        0|              NA|       0|          NA|          NA|      NA|           NA|               NA|\n",
      "+----+-----+----------+---------+-------+----------+-------+----------+-------------+---------+-------+-----------------+--------------+-------+--------+--------+------+----+--------+------+-------+---------+----------------+--------+------------+------------+--------+-------------+-----------------+\n",
      "only showing top 5 rows\n",
      "\n"
     ]
    }
   ],
   "source": [
    "# Use DataFrames to read csv files\n",
    "# read all csv files in ../BigData/data/project_data/ to pyspark dataframe\n",
    "from functools import reduce\n",
    "from pyspark.sql import DataFrame\n",
    "\n",
    "def csv_to_df(csv_files):\n",
    "\tdf_pyspark =[]\n",
    "\tfor file in csv_files:\n",
    "\t\tfile_path = \"../BigData/data/project_data/\" + file\n",
    "\t\tdf = spark.read.csv(file_path, header=True, inferSchema=True)\n",
    "\t\tdf_pyspark.append(df)\n",
    "\treturn df_pyspark\n",
    "\n",
    "csv_files = os.listdir(\"../BigData/data/project_data/\")\n",
    "df_pyspark = csv_to_df(csv_files)\n",
    "\n",
    "# merge all pyspark dataframes into one\n",
    "def unionAll(*dfs):\n",
    "\treturn reduce(DataFrame.unionAll, dfs)\n",
    "\n",
    "df = unionAll(*df_pyspark)\n",
    "df.show(5)\n",
    "\n",
    "\t\t\n",
    "\t"
   ]
  },
  {
   "cell_type": "code",
   "execution_count": 5,
   "metadata": {},
   "outputs": [
    {
     "name": "stdout",
     "output_type": "stream",
     "text": [
      "root\n",
      " |-- Year: integer (nullable = true)\n",
      " |-- Month: integer (nullable = true)\n",
      " |-- DayofMonth: integer (nullable = true)\n",
      " |-- DayOfWeek: integer (nullable = true)\n",
      " |-- DepTime: string (nullable = true)\n",
      " |-- CRSDepTime: integer (nullable = true)\n",
      " |-- ArrTime: string (nullable = true)\n",
      " |-- CRSArrTime: integer (nullable = true)\n",
      " |-- UniqueCarrier: string (nullable = true)\n",
      " |-- FlightNum: integer (nullable = true)\n",
      " |-- TailNum: string (nullable = true)\n",
      " |-- ActualElapsedTime: string (nullable = true)\n",
      " |-- CRSElapsedTime: string (nullable = true)\n",
      " |-- AirTime: string (nullable = true)\n",
      " |-- ArrDelay: string (nullable = true)\n",
      " |-- DepDelay: string (nullable = true)\n",
      " |-- Origin: string (nullable = true)\n",
      " |-- Dest: string (nullable = true)\n",
      " |-- Distance: string (nullable = true)\n",
      " |-- TaxiIn: string (nullable = true)\n",
      " |-- TaxiOut: string (nullable = true)\n",
      " |-- Cancelled: integer (nullable = true)\n",
      " |-- CancellationCode: string (nullable = true)\n",
      " |-- Diverted: integer (nullable = true)\n",
      " |-- CarrierDelay: string (nullable = true)\n",
      " |-- WeatherDelay: string (nullable = true)\n",
      " |-- NASDelay: string (nullable = true)\n",
      " |-- SecurityDelay: string (nullable = true)\n",
      " |-- LateAircraftDelay: string (nullable = true)\n",
      "\n"
     ]
    }
   ],
   "source": [
    "df.printSchema()"
   ]
  },
  {
   "cell_type": "code",
   "execution_count": 9,
   "metadata": {},
   "outputs": [
    {
     "name": "stderr",
     "output_type": "stream",
     "text": [
      "[Stage 16:====================================================>   (13 + 1) / 14]\r"
     ]
    },
    {
     "name": "stdout",
     "output_type": "stream",
     "text": [
      "Number of rows:  25952068\n",
      "Number of columns:  29\n"
     ]
    },
    {
     "name": "stderr",
     "output_type": "stream",
     "text": [
      "                                                                                \r"
     ]
    }
   ],
   "source": [
    "# comprobar el numero de filas de df \n",
    "n_rows = df.count()\n",
    "n_cols1 = len(df.columns)\n",
    "\n",
    "print(\"Number of rows: \", n_rows)\n",
    "# comprobar el numero de columnas de df\n",
    "print(\"Number of columns: \", n_cols1)"
   ]
  },
  {
   "cell_type": "markdown",
   "metadata": {},
   "source": [
    "# 2. Process data"
   ]
  },
  {
   "cell_type": "markdown",
   "metadata": {},
   "source": [
    "The dataset has 29 columns. We won't use all of them. The ones that should be droped are: \n",
    "* ArrTime\n",
    "* ActualElapsedTime\n",
    "* AirTime\n",
    "* TaxiIn\n",
    "* Diverted\n",
    "* CarrierDelay\n",
    "* WeatherDelay\n",
    "* NASDelay\n",
    "* SecurityDelay\n",
    "* LateAircraftDelay\n",
    "\n",
    "Meaning of the variables that we keep: \n",
    "1. Year 1987-2008 \n",
    "2. Month 1-12 \n",
    "3. DayofMonth 1-31 \n",
    "4. DayOfWeek 1 (Monday) - 7 (Sunday)\n",
    "5. DepTime actual departure time (local, hhm m) \n",
    "6. CRSDepTime scheduled departure time (local, hhmm) \n",
    "7. CRSArrTime scheduled arrival time (local, hhmm) \n",
    "8. UniqueCarrier Airline code \n",
    "9. FlightNum flight number \n",
    "10. TailNum plane tail number \n",
    "11. CRSElapsedTime in minutes (estimated flight time)\n",
    "12. ArrDelay arrival delay, in minutes -- TARGET VARIABLE\n",
    "13. DepDelay departure delay, in minutes \n",
    "14. Origin origin IATA airport code \n",
    "15. Dest destination IATA airport code \n",
    "16. Distance in miles \n",
    "17. TaxiOut taxi out time in minutes (tiempo que tarda el avión desde la puerta de embarque hasta el despegue\")\n",
    "18. Cancelled was the flight cancelled? \n",
    "19. CancellationCode reason for cancellation (A = carrier, B = weather, C = NAS, D = security) "
   ]
  },
  {
   "cell_type": "markdown",
   "metadata": {},
   "source": [
    "### Useful functions"
   ]
  },
  {
   "cell_type": "code",
   "execution_count": 44,
   "metadata": {},
   "outputs": [],
   "source": [
    "from pyspark.sql.functions import *\n",
    "from pyspark.ml.feature import StringIndexer\n",
    "\n",
    "# rename columns:\n",
    "def edit_column_names(df):\n",
    "    df =  df.withColumnRenamed('DayofMonth','day_of_month').\\\n",
    "                withColumnRenamed('DayOfWeek','day_of_week').\\\n",
    "                withColumnRenamed('DepTime','actual_departure_time').\\\n",
    "                withColumnRenamed('CRSDepTime','scheduled_departure_time').\\\n",
    "                withColumnRenamed('ArrTime','actual_arrival_time').\\\n",
    "                withColumnRenamed('CRSArrTime','scheduled_arrival_time').\\\n",
    "                withColumnRenamed('UniqueCarrier','airline_code').\\\n",
    "                withColumnRenamed('FlightNum','flight_number').\\\n",
    "                withColumnRenamed('TailNum','plane_number').\\\n",
    "                withColumnRenamed('ActualElapsedTime','actual_flight_time').\\\n",
    "                withColumnRenamed('CRSElapsedTime','scheduled_flight_time').\\\n",
    "                withColumnRenamed('AirTime','air_time').\\\n",
    "                withColumnRenamed('ArrDelay','arrival_delay').\\\n",
    "                withColumnRenamed('DepDelay','departure_delay').\\\n",
    "                withColumnRenamed('TaxiIn','taxi_in').\\\n",
    "                withColumnRenamed('TaxiOut','taxi_out').\\\n",
    "                withColumnRenamed('CancellationCode','cancellation_code').\\\n",
    "                withColumnRenamed('CarrierDelay','carrier_delay').\\\n",
    "                withColumnRenamed('WeatherDelay','weather_delay').\\\n",
    "                withColumnRenamed('NASDelay','nas_delay').\\\n",
    "                withColumnRenamed('SecurityDelay','security_delay').\\\n",
    "                withColumnRenamed('LateAircraftDelay','late_aircraft_delay')\n",
    "    for col in df.columns:\n",
    "        df = df.withColumnRenamed(col, col.lower())\n",
    "    return df\n",
    "\n",
    "# select columns:\n",
    "def my_columns (df):\n",
    "    df = df.select('year','month','day_of_month', 'day_of_week', 'actual_departure_time',\n",
    "                   'scheduled_departure_time', 'scheduled_arrival_time', 'airline_code',\n",
    "                   'flight_number', 'plane_number', 'scheduled_flight_time', 'arrival_delay',\n",
    "                   'departure_delay', 'origin', 'dest', 'distance', 'taxi_out', 'cancelled',\n",
    "                   'cancellation_code')\n",
    "    return df\n",
    "\n",
    "# # combine to create dates:\n",
    "# def add_date_column(df):\n",
    "#     df = df.withColumn('date', to_date(concat(col('day_of_month'), lit(' '),\n",
    "#                                               col('month'), lit(' '), col('year')), 'd M yyyy'))\n",
    "#     return df\n",
    "\n",
    "# some strings to float:\n",
    "def string_to_float(df):\n",
    "    df = df.withColumn('arrival_delay', col('arrival_delay').cast('float'))\n",
    "    df = df.withColumn('departure_delay', col('departure_delay').cast('float'))\n",
    "    df = df.withColumn('taxi_out', col('taxi_out').cast('float'))\n",
    "    df = df.withColumn('distance', col('distance').cast('float'))\n",
    "    return df\n",
    "\n",
    "# encode categorical features:\n",
    "def encode_categorical_features(df):\n",
    "    indexer = StringIndexer(inputCols=['airline_code', 'origin', 'dest', 'cancellation_code', 'plane_number'],\n",
    "                            outputCols=['airline_index', 'origin_index', 'dest_index', 'cancellation_index', 'plane_index'])\n",
    "    \n",
    "    df = indexer.fit(df).transform(df)\n",
    "    return df\n",
    "    \n",
    "\n",
    "# convert time to minutes:\n",
    "def convert_time_to_minutes(df):\n",
    "    # for actual_departure_time, scheduled_departure_time, scheduled_arrival_time, scheduled_flight_time transform to minutes\n",
    "    # take the first two digits and multiply by 60 and add the last two digits\n",
    "    df = df.withColumn('actual_departure_hour', (col('actual_departure_time') / 100).cast('int'))\n",
    "    df = df.withColumn('scheduled_departure_hour', (col('scheduled_departure_time') / 100).cast('int'))\n",
    "    df = df.withColumn('scheduled_arrival_hour', (col('scheduled_arrival_time') / 100).cast('int'))\n",
    "    df = df.withColumn('scheduled_flight_hour', (col('scheduled_flight_time') / 100).cast('int'))\n",
    "    \n",
    "    df = df.withColumn('actual_departure_time_mins', (col('actual_departure_hour') * 60) + (col('actual_departure_time') % 100))\n",
    "    df = df.withColumn('scheduled_departure_time_mins', (col('scheduled_departure_hour') * 60) + (col('scheduled_departure_time') % 100))\n",
    "    df = df.withColumn('scheduled_arrival_time_mins', (col('scheduled_arrival_hour') * 60) + (col('scheduled_arrival_time') % 100))\n",
    "    df = df.withColumn('scheduled_flight_time_mins', (col('scheduled_flight_hour') * 60) + (col('scheduled_flight_time') % 100))\n",
    "    \n",
    "    # drop actual_departure_hour, scheduled_departure_hour, scheduled_arrival_hour, scheduled_flight_hour\n",
    "    \n",
    "    df = df.drop('actual_departure_hour', 'scheduled_departure_hour', 'scheduled_arrival_hour', 'scheduled_flight_hour')\n",
    "    \n",
    "    return df\n",
    "\n",
    "# handle missing values:\n",
    "def handle_missing_values(df):\n",
    "    # eliminar filas donde actual_departure_time es null\n",
    "    df = df.filter(df.actual_departure_time.isNotNull())\n",
    "    # eliminar filas donde scheduled_flight_time es null\n",
    "    df = df.filter(df.scheduled_flight_time.isNotNull())\n",
    "    return df\n",
    "\n",
    "def my_df(df):\n",
    "    # select columns\n",
    "    df = df.select('year', 'month', 'day_of_month', 'day_of_week', 'actual_departure_time_mins',\n",
    " \t\t\t\t\t'scheduled_departure_time_mins', 'scheduled_arrival_time_mins', 'airline_index',\n",
    " \t\t\t\t\t'flight_number', 'scheduled_flight_time_mins', 'departure_delay',\n",
    " \t\t\t\t\t'origin_index', 'dest_index', 'distance', 'cancelled',\n",
    " \t\t\t\t\t'arrival_delay')\n",
    "    return df\n",
    "\n",
    "def drop_cancelled(df):\n",
    "    df = df.filter(df.cancelled == 0)\n",
    "    return df\n",
    "    \n",
    "\n",
    "# # standarize df\n",
    "# def standarize_dataframe(df):\n",
    "#     temp = edit_column_names(df)\n",
    "#     temp = my_columns(temp)\n",
    "#     temp = string_to_float(temp)\n",
    "#     temp = add_date_column(temp)\n",
    "#     temp = encode_categorical_features(temp)\n",
    "#     temp = convert_time_to_minutes(temp)\n",
    "#     temp = handle_missing_values(temp)\n",
    "#     temp = my_df(temp)\n",
    "\n",
    "#     return temp\n",
    "\n"
   ]
  },
  {
   "cell_type": "markdown",
   "metadata": {},
   "source": [
    "###"
   ]
  },
  {
   "cell_type": "code",
   "execution_count": 11,
   "metadata": {},
   "outputs": [
    {
     "name": "stdout",
     "output_type": "stream",
     "text": [
      "+----+-----+------------+-----------+---------------------+------------------------+----------------------+------------+-------------+------------+---------------------+-------------+---------------+------+----+--------+--------+---------+-----------------+\n",
      "|year|month|day_of_month|day_of_week|actual_departure_time|scheduled_departure_time|scheduled_arrival_time|airline_code|flight_number|plane_number|scheduled_flight_time|arrival_delay|departure_delay|origin|dest|distance|taxi_out|cancelled|cancellation_code|\n",
      "+----+-----+------------+-----------+---------------------+------------------------+----------------------+------------+-------------+------------+---------------------+-------------+---------------+------+----+--------+--------+---------+-----------------+\n",
      "|1988|    1|           9|          6|                 1348|                    1331|                  1435|          PI|          942|          NA|                   64|           23|             17|   SYR| BWI|     273|      NA|        0|               NA|\n",
      "|1988|    1|          10|          7|                 1334|                    1331|                  1435|          PI|          942|          NA|                   64|            8|              3|   SYR| BWI|     273|      NA|        0|               NA|\n",
      "|1988|    1|          11|          1|                 1446|                    1331|                  1435|          PI|          942|          NA|                   64|           78|             75|   SYR| BWI|     273|      NA|        0|               NA|\n",
      "|1988|    1|          12|          2|                 1334|                    1331|                  1435|          PI|          942|          NA|                   64|            3|              3|   SYR| BWI|     273|      NA|        0|               NA|\n",
      "|1988|    1|          13|          3|                 1341|                    1331|                  1435|          PI|          942|          NA|                   64|           28|             10|   SYR| BWI|     273|      NA|        0|               NA|\n",
      "+----+-----+------------+-----------+---------------------+------------------------+----------------------+------------+-------------+------------+---------------------+-------------+---------------+------+----+--------+--------+---------+-----------------+\n",
      "only showing top 5 rows\n",
      "\n"
     ]
    }
   ],
   "source": [
    "# renamed columns:\n",
    "df1 = edit_column_names(df)\n",
    "\n",
    "# delete columns that we are not supposed to use:\n",
    "df2 = my_columns(df1)\n",
    "df2.show(5)"
   ]
  },
  {
   "cell_type": "code",
   "execution_count": 13,
   "metadata": {},
   "outputs": [
    {
     "name": "stdout",
     "output_type": "stream",
     "text": [
      "root\n",
      " |-- year: integer (nullable = true)\n",
      " |-- month: integer (nullable = true)\n",
      " |-- day_of_month: integer (nullable = true)\n",
      " |-- day_of_week: integer (nullable = true)\n",
      " |-- actual_departure_time: string (nullable = true)\n",
      " |-- scheduled_departure_time: integer (nullable = true)\n",
      " |-- scheduled_arrival_time: integer (nullable = true)\n",
      " |-- airline_code: string (nullable = true)\n",
      " |-- flight_number: integer (nullable = true)\n",
      " |-- plane_number: string (nullable = true)\n",
      " |-- scheduled_flight_time: string (nullable = true)\n",
      " |-- arrival_delay: float (nullable = true)\n",
      " |-- departure_delay: float (nullable = true)\n",
      " |-- origin: string (nullable = true)\n",
      " |-- dest: string (nullable = true)\n",
      " |-- distance: float (nullable = true)\n",
      " |-- taxi_out: float (nullable = true)\n",
      " |-- cancelled: integer (nullable = true)\n",
      " |-- cancellation_code: string (nullable = true)\n",
      "\n"
     ]
    }
   ],
   "source": [
    "# convert strings to float: arrival_delay, departure_delay, taxi_out, distance\n",
    "df3 = string_to_float(df2)\n",
    "df3.printSchema()"
   ]
  },
  {
   "cell_type": "code",
   "execution_count": 14,
   "metadata": {},
   "outputs": [
    {
     "name": "stderr",
     "output_type": "stream",
     "text": [
      "                                                                                \r"
     ]
    },
    {
     "name": "stdout",
     "output_type": "stream",
     "text": [
      "root\n",
      " |-- year: integer (nullable = true)\n",
      " |-- month: integer (nullable = true)\n",
      " |-- day_of_month: integer (nullable = true)\n",
      " |-- day_of_week: integer (nullable = true)\n",
      " |-- actual_departure_time: string (nullable = true)\n",
      " |-- scheduled_departure_time: integer (nullable = true)\n",
      " |-- scheduled_arrival_time: integer (nullable = true)\n",
      " |-- airline_code: string (nullable = true)\n",
      " |-- flight_number: integer (nullable = true)\n",
      " |-- plane_number: string (nullable = true)\n",
      " |-- scheduled_flight_time: string (nullable = true)\n",
      " |-- arrival_delay: float (nullable = true)\n",
      " |-- departure_delay: float (nullable = true)\n",
      " |-- origin: string (nullable = true)\n",
      " |-- dest: string (nullable = true)\n",
      " |-- distance: float (nullable = true)\n",
      " |-- taxi_out: float (nullable = true)\n",
      " |-- cancelled: integer (nullable = true)\n",
      " |-- cancellation_code: string (nullable = true)\n",
      " |-- airline_index: double (nullable = false)\n",
      " |-- origin_index: double (nullable = false)\n",
      " |-- dest_index: double (nullable = false)\n",
      " |-- cancellation_index: double (nullable = false)\n",
      " |-- plane_index: double (nullable = false)\n",
      "\n"
     ]
    }
   ],
   "source": [
    "# encode categorical features: airline_code, origin, dest, cancellation_code, plane_number (When null --> 0.0)\n",
    "df4 = encode_categorical_features(df3)\n",
    "df4.printSchema()"
   ]
  },
  {
   "cell_type": "code",
   "execution_count": 15,
   "metadata": {},
   "outputs": [
    {
     "name": "stdout",
     "output_type": "stream",
     "text": [
      "+----+-----+------------+-----------+---------------------+------------------------+----------------------+------------+-------------+------------+---------------------+-------------+---------------+------+----+--------+--------+---------+-----------------+-------------+------------+----------+------------------+-----------+--------------------------+-----------------------------+---------------------------+--------------------------+\n",
      "|year|month|day_of_month|day_of_week|actual_departure_time|scheduled_departure_time|scheduled_arrival_time|airline_code|flight_number|plane_number|scheduled_flight_time|arrival_delay|departure_delay|origin|dest|distance|taxi_out|cancelled|cancellation_code|airline_index|origin_index|dest_index|cancellation_index|plane_index|actual_departure_time_mins|scheduled_departure_time_mins|scheduled_arrival_time_mins|scheduled_flight_time_mins|\n",
      "+----+-----+------------+-----------+---------------------+------------------------+----------------------+------------+-------------+------------+---------------------+-------------+---------------+------+----+--------+--------+---------+-----------------+-------------+------------+----------+------------------+-----------+--------------------------+-----------------------------+---------------------------+--------------------------+\n",
      "|1988|    1|           9|          6|                 1348|                    1331|                  1435|          PI|          942|          NA|                   64|         23.0|           17.0|   SYR| BWI|   273.0|    NULL|        0|               NA|          8.0|        63.0|      23.0|               0.0|        0.0|                     828.0|                          811|                        875|                      64.0|\n",
      "|1988|    1|          10|          7|                 1334|                    1331|                  1435|          PI|          942|          NA|                   64|          8.0|            3.0|   SYR| BWI|   273.0|    NULL|        0|               NA|          8.0|        63.0|      23.0|               0.0|        0.0|                     814.0|                          811|                        875|                      64.0|\n",
      "|1988|    1|          11|          1|                 1446|                    1331|                  1435|          PI|          942|          NA|                   64|         78.0|           75.0|   SYR| BWI|   273.0|    NULL|        0|               NA|          8.0|        63.0|      23.0|               0.0|        0.0|                     886.0|                          811|                        875|                      64.0|\n",
      "|1988|    1|          12|          2|                 1334|                    1331|                  1435|          PI|          942|          NA|                   64|          3.0|            3.0|   SYR| BWI|   273.0|    NULL|        0|               NA|          8.0|        63.0|      23.0|               0.0|        0.0|                     814.0|                          811|                        875|                      64.0|\n",
      "|1988|    1|          13|          3|                 1341|                    1331|                  1435|          PI|          942|          NA|                   64|         28.0|           10.0|   SYR| BWI|   273.0|    NULL|        0|               NA|          8.0|        63.0|      23.0|               0.0|        0.0|                     821.0|                          811|                        875|                      64.0|\n",
      "+----+-----+------------+-----------+---------------------+------------------------+----------------------+------------+-------------+------------+---------------------+-------------+---------------+------+----+--------+--------+---------+-----------------+-------------+------------+----------+------------------+-----------+--------------------------+-----------------------------+---------------------------+--------------------------+\n",
      "only showing top 5 rows\n",
      "\n"
     ]
    }
   ],
   "source": [
    "# convert time (hh:mm) to minutes: actual_departure_time, scheduled_departure_time, scheduled_arrival_time, scheduled_flight_time\n",
    "df5 = convert_time_to_minutes(df4)\n",
    "df5.show(5)"
   ]
  },
  {
   "cell_type": "code",
   "execution_count": 31,
   "metadata": {},
   "outputs": [
    {
     "data": {
      "text/plain": [
       "['year',\n",
       " 'month',\n",
       " 'day_of_month',\n",
       " 'day_of_week',\n",
       " 'actual_departure_time',\n",
       " 'scheduled_departure_time',\n",
       " 'scheduled_arrival_time',\n",
       " 'airline_code',\n",
       " 'flight_number',\n",
       " 'plane_number',\n",
       " 'scheduled_flight_time',\n",
       " 'arrival_delay',\n",
       " 'departure_delay',\n",
       " 'origin',\n",
       " 'dest',\n",
       " 'distance',\n",
       " 'taxi_out',\n",
       " 'cancelled',\n",
       " 'cancellation_code',\n",
       " 'airline_index',\n",
       " 'origin_index',\n",
       " 'dest_index',\n",
       " 'cancellation_index',\n",
       " 'plane_index',\n",
       " 'actual_departure_time_mins',\n",
       " 'scheduled_departure_time_mins',\n",
       " 'scheduled_arrival_time_mins',\n",
       " 'scheduled_flight_time_mins']"
      ]
     },
     "execution_count": 31,
     "metadata": {},
     "output_type": "execute_result"
    }
   ],
   "source": [
    "df5.columns"
   ]
  },
  {
   "cell_type": "code",
   "execution_count": 42,
   "metadata": {},
   "outputs": [
    {
     "name": "stderr",
     "output_type": "stream",
     "text": [
      "[Stage 39:==============> (13 + 1) / 14][Stage 41:>                 (0 + 0) / 1]\r"
     ]
    },
    {
     "name": "stdout",
     "output_type": "stream",
     "text": [
      "+----+-----+------------+-----------+---------------------+------------------------+----------------------+------------+-------------+------------+---------------------+-------------+---------------+------+----+--------+--------+---------+-----------------+-------------+------------+----------+------------------+-----------+--------------------------+-----------------------------+---------------------------+--------------------------+\n",
      "|year|month|day_of_month|day_of_week|actual_departure_time|scheduled_departure_time|scheduled_arrival_time|airline_code|flight_number|plane_number|scheduled_flight_time|arrival_delay|departure_delay|origin|dest|distance|taxi_out|cancelled|cancellation_code|airline_index|origin_index|dest_index|cancellation_index|plane_index|actual_departure_time_mins|scheduled_departure_time_mins|scheduled_arrival_time_mins|scheduled_flight_time_mins|\n",
      "+----+-----+------------+-----------+---------------------+------------------------+----------------------+------------+-------------+------------+---------------------+-------------+---------------+------+----+--------+--------+---------+-----------------+-------------+------------+----------+------------------+-----------+--------------------------+-----------------------------+---------------------------+--------------------------+\n",
      "|   0|    0|           0|          0|               518228|                       0|                     0|           0|            0|    10404192|                 5586|            0|              0|     0|   0|       0|       0|        0|         21173634|            0|           0|         0|                 0|          0|                         0|                            0|                          0|                         0|\n",
      "+----+-----+------------+-----------+---------------------+------------------------+----------------------+------------+-------------+------------+---------------------+-------------+---------------+------+----+--------+--------+---------+-----------------+-------------+------------+----------+------------------+-----------+--------------------------+-----------------------------+---------------------------+--------------------------+\n",
      "\n"
     ]
    },
    {
     "name": "stderr",
     "output_type": "stream",
     "text": [
      "                                                                                \r"
     ]
    }
   ],
   "source": [
    "# check for missing values (NULL, NAN, NA)\n",
    "# count Na values in each column\n",
    "from pyspark.sql.functions import isnan, when, count, col\n",
    "\n",
    "df5.select([count(when(col(c) == \"NA\", c)).alias(c) for c in df5.columns]).show()"
   ]
  },
  {
   "cell_type": "code",
   "execution_count": 43,
   "metadata": {},
   "outputs": [
    {
     "name": "stderr",
     "output_type": "stream",
     "text": [
      "[Stage 44:====================================================>   (13 + 1) / 14]\r"
     ]
    },
    {
     "name": "stdout",
     "output_type": "stream",
     "text": [
      "+----+-----+------------+-----------+---------------------+------------------------+----------------------+------------+-------------+------------+---------------------+-------------+---------------+------+----+--------+--------+---------+-----------------+-------------+------------+----------+------------------+-----------+--------------------------+-----------------------------+---------------------------+--------------------------+\n",
      "|year|month|day_of_month|day_of_week|actual_departure_time|scheduled_departure_time|scheduled_arrival_time|airline_code|flight_number|plane_number|scheduled_flight_time|arrival_delay|departure_delay|origin|dest|distance|taxi_out|cancelled|cancellation_code|airline_index|origin_index|dest_index|cancellation_index|plane_index|actual_departure_time_mins|scheduled_departure_time_mins|scheduled_arrival_time_mins|scheduled_flight_time_mins|\n",
      "+----+-----+------------+-----------+---------------------+------------------------+----------------------+------------+-------------+------------+---------------------+-------------+---------------+------+----+--------+--------+---------+-----------------+-------------+------------+----------+------------------+-----------+--------------------------+-----------------------------+---------------------------+--------------------------+\n",
      "|   0|    0|           0|          0|                    0|                       0|                     0|           0|            0|       84904|                    0|       584730|         518228|     0|   0|   22204|10533076|        0|          4649550|            0|           0|         0|                 0|          0|                    518228|                            0|                          0|                      5586|\n",
      "+----+-----+------------+-----------+---------------------+------------------------+----------------------+------------+-------------+------------+---------------------+-------------+---------------+------+----+--------+--------+---------+-----------------+-------------+------------+----------+------------------+-----------+--------------------------+-----------------------------+---------------------------+--------------------------+\n",
      "\n"
     ]
    },
    {
     "name": "stderr",
     "output_type": "stream",
     "text": [
      "                                                                                \r"
     ]
    }
   ],
   "source": [
    "# count NULL values in each column\n",
    "df5.select([count(when(col(c).isNull(), c)).alias(c) for c in df5.columns]).show()"
   ]
  },
  {
   "cell_type": "markdown",
   "metadata": {},
   "source": [
    "__Missing Values__\n",
    "\n",
    "_NA_\n",
    "* actual_departure_time: 518228 --- (0.0199%) ---> DROP\n",
    "* plane_number: 10404192 --- (0.4009%) ---> DROP COLLUMN (dont keep plane_index either bc it has the same info)\n",
    "* scheduled_flight_time: 5586 --- (0.0002%) --> DROP\n",
    "* cancellation_code: 21173634 --- (0.8158%) ---> DROP COLLUMN (dont keep cancellation_index either bc it has the same info)\n",
    "\n",
    "_NULL_\n",
    "* plane_number: 84904 --- (0.0032%) ---> DROP COLLUMN .\n",
    "* arrival_delay: 584730 --- (0.0225%) ---> REMOVE ROWS (ES LA TARGET) .\n",
    "* departure_delay: 518228 --- (0.0199%) ---> IMPUT MEAN OF THE AIRLINE __train/test__\n",
    "* distance: 22204 --- (0.0008%) ---> BUSCAR OTROS VUELOS CON MISMO ORIGINY DEST Y PONER LA MEDIA __train/test__\n",
    "* taxi_out: 10533076 --- (0.4058%) ---> DROP COLLUMN .\n",
    "* cancellation_code: 4649550 --- (0.1791%) ---> DROP COLLUMN .\n",
    "* actual_departure_time_mins: 518228 --- (0.0199%) ---> schedule_departure_time + deparutre delay __train/test__\n",
    "* scheduled_flight_time_mins: 5586 --- (0.0002%) ---> REMOVE ROWS ."
   ]
  },
  {
   "cell_type": "code",
   "execution_count": 47,
   "metadata": {},
   "outputs": [
    {
     "name": "stdout",
     "output_type": "stream",
     "text": [
      "+----+-----+------------+-----------+--------------------------+-----------------------------+---------------------------+-------------+-------------+--------------------------+---------------+------------+----------+--------+---------+-------------+\n",
      "|year|month|day_of_month|day_of_week|actual_departure_time_mins|scheduled_departure_time_mins|scheduled_arrival_time_mins|airline_index|flight_number|scheduled_flight_time_mins|departure_delay|origin_index|dest_index|distance|cancelled|arrival_delay|\n",
      "+----+-----+------------+-----------+--------------------------+-----------------------------+---------------------------+-------------+-------------+--------------------------+---------------+------------+----------+--------+---------+-------------+\n",
      "|1988|    1|           9|          6|                     828.0|                          811|                        875|          8.0|          942|                      64.0|           17.0|        63.0|      23.0|   273.0|        0|         23.0|\n",
      "|1988|    1|          10|          7|                     814.0|                          811|                        875|          8.0|          942|                      64.0|            3.0|        63.0|      23.0|   273.0|        0|          8.0|\n",
      "|1988|    1|          11|          1|                     886.0|                          811|                        875|          8.0|          942|                      64.0|           75.0|        63.0|      23.0|   273.0|        0|         78.0|\n",
      "|1988|    1|          12|          2|                     814.0|                          811|                        875|          8.0|          942|                      64.0|            3.0|        63.0|      23.0|   273.0|        0|          3.0|\n",
      "|1988|    1|          13|          3|                     821.0|                          811|                        875|          8.0|          942|                      64.0|           10.0|        63.0|      23.0|   273.0|        0|         28.0|\n",
      "+----+-----+------------+-----------+--------------------------+-----------------------------+---------------------------+-------------+-------------+--------------------------+---------------+------------+----------+--------+---------+-------------+\n",
      "only showing top 5 rows\n",
      "\n"
     ]
    }
   ],
   "source": [
    "# keep only useful columns: 'year', 'month', 'day_of_month', 'day_of_week', 'actual_departure_time_mins',\n",
    "# \t\t\t\t\t\t\t'scheduled_departure_time_mins', 'scheduled_arrival_time_mins', 'airline_index',\n",
    "# \t\t\t\t\t\t\t'flight_number', 'scheduled_flight_time_mins', 'departure_delay',\n",
    "# \t\t\t\t\t\t\t'origin_index', 'dest_index', 'distance', 'cancelled',\n",
    "# \t\t\t\t\t\t\t'arrival_delay',\n",
    "\n",
    "df6 = my_df(df5)\n",
    "df6.show(5)"
   ]
  },
  {
   "cell_type": "code",
   "execution_count": 50,
   "metadata": {},
   "outputs": [],
   "source": [
    "# handle nulls\n",
    "def drop_nulls(df):\n",
    "\t# remove rows in arrival_delay where arrival_delay is null\n",
    "\tdf = df.filter(df.arrival_delay.isNotNull())\n",
    "\t# remove rows in scheduled_flight_time_mins where departure_delay is null\n",
    "\tdf = df.filter(df.scheduled_flight_time_mins.isNotNull())\n",
    "\t# remove rows in distance where distance is null\n",
    "\tdf = df.filter(df.distance.isNotNull())\n",
    "\treturn df\n",
    "\n",
    "df7 = drop_nulls(df6)"
   ]
  },
  {
   "cell_type": "code",
   "execution_count": 51,
   "metadata": {},
   "outputs": [
    {
     "name": "stderr",
     "output_type": "stream",
     "text": [
      "[Stage 54:====================================================>   (13 + 1) / 14]\r"
     ]
    },
    {
     "name": "stdout",
     "output_type": "stream",
     "text": [
      "+----+-----+------------+-----------+--------------------------+-----------------------------+---------------------------+-------------+-------------+--------------------------+---------------+------------+----------+--------+---------+-------------+\n",
      "|year|month|day_of_month|day_of_week|actual_departure_time_mins|scheduled_departure_time_mins|scheduled_arrival_time_mins|airline_index|flight_number|scheduled_flight_time_mins|departure_delay|origin_index|dest_index|distance|cancelled|arrival_delay|\n",
      "+----+-----+------------+-----------+--------------------------+-----------------------------+---------------------------+-------------+-------------+--------------------------+---------------+------------+----------+--------+---------+-------------+\n",
      "|   0|    0|           0|          0|                         0|                            0|                          0|            0|            0|                         0|              0|           0|         0|       0|        0|            0|\n",
      "+----+-----+------------+-----------+--------------------------+-----------------------------+---------------------------+-------------+-------------+--------------------------+---------------+------------+----------+--------+---------+-------------+\n",
      "\n"
     ]
    },
    {
     "name": "stderr",
     "output_type": "stream",
     "text": [
      "                                                                                \r"
     ]
    }
   ],
   "source": [
    "# count NULL values in each column\n",
    "df7.select([count(when(col(c).isNull(), c)).alias(c) for c in df7.columns]).show()"
   ]
  },
  {
   "cell_type": "code",
   "execution_count": 54,
   "metadata": {},
   "outputs": [
    {
     "name": "stdout",
     "output_type": "stream",
     "text": [
      "Number of rows before:  25952068\n",
      "Number of rows now:  25345340 ( 606728  rows dropped )\n",
      "Number of columns before:  29\n",
      "Number of columns now:  16 ( 13  columns dropped )\n"
     ]
    }
   ],
   "source": [
    "# drop cancelled flights (cancelled = 1)\n",
    " df8 = drop_cancelled(df7)\n",
    " n_rows2 = df8.count()\n",
    " n_cols2 = len(df8.columns)\n",
    "\n",
    "print(\"Number of rows before: \", n_rows)\n",
    "print(\"Number of rows now: \", n_rows2, \"(\", n_rows - n_rows2, \" rows dropped )\")\n",
    "\n",
    "# comprobar el numero de columnas de df\n",
    "print(\"Number of columns before: \", n_cols1)\n",
    "print(\"Number of columns now: \", n_cols2, \"(\", n_cols1 - n_cols2, \" columns dropped )\")\n",
    "\n"
   ]
  },
  {
   "cell_type": "code",
   "execution_count": 55,
   "metadata": {},
   "outputs": [
    {
     "name": "stdout",
     "output_type": "stream",
     "text": [
      "root\n",
      " |-- year: integer (nullable = true)\n",
      " |-- month: integer (nullable = true)\n",
      " |-- day_of_month: integer (nullable = true)\n",
      " |-- day_of_week: integer (nullable = true)\n",
      " |-- actual_departure_time_mins: double (nullable = true)\n",
      " |-- scheduled_departure_time_mins: integer (nullable = true)\n",
      " |-- scheduled_arrival_time_mins: integer (nullable = true)\n",
      " |-- airline_index: double (nullable = false)\n",
      " |-- flight_number: integer (nullable = true)\n",
      " |-- scheduled_flight_time_mins: double (nullable = true)\n",
      " |-- departure_delay: float (nullable = true)\n",
      " |-- origin_index: double (nullable = false)\n",
      " |-- dest_index: double (nullable = false)\n",
      " |-- distance: float (nullable = true)\n",
      " |-- cancelled: integer (nullable = true)\n",
      " |-- arrival_delay: float (nullable = true)\n",
      "\n"
     ]
    }
   ],
   "source": [
    "df8.printSchema()"
   ]
  },
  {
   "cell_type": "code",
   "execution_count": 56,
   "metadata": {},
   "outputs": [
    {
     "name": "stdout",
     "output_type": "stream",
     "text": [
      "+----+-----+------------+-----------+--------------------------+-----------------------------+---------------------------+-------------+-------------+--------------------------+---------------+------------+----------+--------+---------+-------------+\n",
      "|year|month|day_of_month|day_of_week|actual_departure_time_mins|scheduled_departure_time_mins|scheduled_arrival_time_mins|airline_index|flight_number|scheduled_flight_time_mins|departure_delay|origin_index|dest_index|distance|cancelled|arrival_delay|\n",
      "+----+-----+------------+-----------+--------------------------+-----------------------------+---------------------------+-------------+-------------+--------------------------+---------------+------------+----------+--------+---------+-------------+\n",
      "|1988|    1|           9|          6|                     828.0|                          811|                        875|          8.0|          942|                      64.0|           17.0|        63.0|      23.0|   273.0|        0|         23.0|\n",
      "|1988|    1|          10|          7|                     814.0|                          811|                        875|          8.0|          942|                      64.0|            3.0|        63.0|      23.0|   273.0|        0|          8.0|\n",
      "|1988|    1|          11|          1|                     886.0|                          811|                        875|          8.0|          942|                      64.0|           75.0|        63.0|      23.0|   273.0|        0|         78.0|\n",
      "|1988|    1|          12|          2|                     814.0|                          811|                        875|          8.0|          942|                      64.0|            3.0|        63.0|      23.0|   273.0|        0|          3.0|\n",
      "|1988|    1|          13|          3|                     821.0|                          811|                        875|          8.0|          942|                      64.0|           10.0|        63.0|      23.0|   273.0|        0|         28.0|\n",
      "+----+-----+------------+-----------+--------------------------+-----------------------------+---------------------------+-------------+-------------+--------------------------+---------------+------------+----------+--------+---------+-------------+\n",
      "only showing top 5 rows\n",
      "\n"
     ]
    }
   ],
   "source": [
    "df8.show(5)"
   ]
  },
  {
   "cell_type": "markdown",
   "metadata": {},
   "source": [
    "# 3. Creating the Model\n",
    "\n",
    "__VECTOR ASSEMBLER__"
   ]
  },
  {
   "cell_type": "code",
   "execution_count": 59,
   "metadata": {},
   "outputs": [
    {
     "name": "stderr",
     "output_type": "stream",
     "text": [
      "                                                                                \r"
     ]
    }
   ],
   "source": [
    "from pyspark.ml.feature import VectorAssembler\n",
    "from pyspark.ml.feature import Normalizer\n",
    "from pyspark.ml import Pipeline\n",
    "from pyspark.ml.regression import LinearRegression\n",
    "\n",
    "# Split the data (Train/Test)(0.7, 0.3)\n",
    "train, test = df8.randomSplit([0.7, 0.3], seed=42)\n",
    "\n",
    "# Create a VectorAssembler\n",
    "my_features = ['year', 'month', 'day_of_month', 'day_of_week', 'actual_departure_time_mins',\n",
    "               'scheduled_departure_time_mins', 'scheduled_arrival_time_mins', 'airline_index',\n",
    "               'flight_number', 'scheduled_flight_time_mins', 'departure_delay',\n",
    "               'origin_index', 'dest_index', 'distance', 'cancelled']\n",
    "featureassembler = VectorAssembler(inputCols=my_features, outputCol=\"features\")\n",
    "\n",
    "# Create a Normalizer\n",
    "normalizer = Normalizer(inputCol=\"features\", outputCol=\"features_norm\", p=1.0)\n",
    "\n",
    "# Create LinearRegression\n",
    "lr = LinearRegression(labelCol=\"arrival_delay\", featuresCol=\"features_norm\", maxIter=10, regParam=0.3, elasticNetParam=0.8)\n",
    "\n",
    "# Create a pipeline\n",
    "pipeline = Pipeline(stages=[featureassembler, normalizer, lr])\n",
    "\n",
    "# Fit the pipeline on training data\n",
    "model = pipeline.fit(train)\n"
   ]
  },
  {
   "cell_type": "code",
   "execution_count": 64,
   "metadata": {},
   "outputs": [
    {
     "name": "stdout",
     "output_type": "stream",
     "text": [
      "Coefficients: [-7.641549166493271,-389.31388309605893,0.0,-1048.8045729249613,0.0,0.0,0.0,225.98892437091425,0.3854630303632286,-147.59234929323068,6347.9680462580545,0.0,-16.33496898106161,0.0,0.0]\n",
      "Intercept: 5.3294728541366245\n"
     ]
    }
   ],
   "source": [
    "# coefficients and intercept for linear regression\n",
    "print(\"Coefficients: \" + str(model.stages[2].coefficients))\n",
    "print(\"Intercept: \" + str(model.stages[2].intercept))\n"
   ]
  },
  {
   "cell_type": "markdown",
   "metadata": {},
   "source": [
    "# 4. Validating the model"
   ]
  },
  {
   "cell_type": "code",
   "execution_count": 61,
   "metadata": {},
   "outputs": [
    {
     "name": "stderr",
     "output_type": "stream",
     "text": [
      "[Stage 69:>                                                         (0 + 1) / 1]\r"
     ]
    },
    {
     "name": "stdout",
     "output_type": "stream",
     "text": [
      "+------------------+-------------+--------------------+\n",
      "|        prediction|arrival_delay|       features_norm|\n",
      "+------------------+-------------+--------------------+\n",
      "| 8.629841200589368|         13.0|[0.34907813871817...|\n",
      "| 27.74944779478431|         18.0|[0.34658298465829...|\n",
      "|3.6894928381296768|         -8.0|[0.30898352502331...|\n",
      "|135.26770922739655|        114.0|[0.34122897356676...|\n",
      "|-4.942867547229427|         13.0|[0.74013402829486...|\n",
      "+------------------+-------------+--------------------+\n",
      "only showing top 5 rows\n",
      "\n"
     ]
    },
    {
     "name": "stderr",
     "output_type": "stream",
     "text": [
      "                                                                                \r"
     ]
    }
   ],
   "source": [
    "# Make predictions on test data\n",
    "predictions = model.transform(test)\n",
    "predictions.select(\"prediction\", \"arrival_delay\", \"features_norm\").show(5)"
   ]
  },
  {
   "cell_type": "code",
   "execution_count": 63,
   "metadata": {},
   "outputs": [
    {
     "name": "stderr",
     "output_type": "stream",
     "text": [
      "[Stage 70:>                                                         (0 + 1) / 1]\r"
     ]
    },
    {
     "name": "stdout",
     "output_type": "stream",
     "text": [
      "+----+-----+------------+-----------+--------------------------+-----------------------------+---------------------------+-------------+-------------+--------------------------+---------------+------------+----------+--------+---------+-------------+--------------------+--------------------+------------------+\n",
      "|year|month|day_of_month|day_of_week|actual_departure_time_mins|scheduled_departure_time_mins|scheduled_arrival_time_mins|airline_index|flight_number|scheduled_flight_time_mins|departure_delay|origin_index|dest_index|distance|cancelled|arrival_delay|            features|       features_norm|        prediction|\n",
      "+----+-----+------------+-----------+--------------------------+-----------------------------+---------------------------+-------------+-------------+--------------------------+---------------+------------+----------+--------+---------+-------------+--------------------+--------------------+------------------+\n",
      "|1988|    1|           1|          5|                       2.0|                         1435|                         65|         22.0|         1751|                      70.0|            7.0|         3.0|       8.0|   337.0|        0|         13.0|[1988.0,1.0,1.0,5...|[0.34907813871817...| 8.629841200589368|\n",
      "|1988|    1|           1|          5|                       3.0|                         1418|                         25|          0.0|         1596|                      67.0|           25.0|         1.0|       0.0|   606.0|        0|         18.0|[1988.0,1.0,1.0,5...|[0.34658298465829...| 27.74944779478431|\n",
      "|1988|    1|           1|          5|                       4.0|                         1439|                        310|          2.0|          954|                     151.0|            5.0|        76.0|       0.0|  1498.0|        0|         -8.0|[1988.0,1.0,1.0,5...|[0.30898352502331...|3.6894928381296768|\n",
      "|1988|    1|           1|          5|                       7.0|                         1320|                         35|          2.0|          291|                     195.0|          127.0|         0.0|       8.0|  1846.0|        0|        114.0|[1988.0,1.0,1.0,5...|[0.34122897356676...|135.26770922739655|\n",
      "|1988|    1|           1|          5|                      10.0|                           10|                         60|         11.0|           99|                      50.0|            0.0|        73.0|     117.0|   261.0|        0|         13.0|[1988.0,1.0,1.0,5...|[0.74013402829486...|-4.942867547229427|\n",
      "+----+-----+------------+-----------+--------------------------+-----------------------------+---------------------------+-------------+-------------+--------------------------+---------------+------------+----------+--------+---------+-------------+--------------------+--------------------+------------------+\n",
      "only showing top 5 rows\n",
      "\n"
     ]
    },
    {
     "name": "stderr",
     "output_type": "stream",
     "text": [
      "                                                                                \r"
     ]
    }
   ],
   "source": [
    "# evalute model\n",
    "predictions.show(5)"
   ]
  },
  {
   "cell_type": "code",
   "execution_count": 65,
   "metadata": {},
   "outputs": [
    {
     "name": "stderr",
     "output_type": "stream",
     "text": [
      "                                                                                \r"
     ]
    },
    {
     "name": "stdout",
     "output_type": "stream",
     "text": [
      "MAE = 9.20746\n"
     ]
    },
    {
     "name": "stderr",
     "output_type": "stream",
     "text": [
      "                                                                                \r"
     ]
    },
    {
     "name": "stdout",
     "output_type": "stream",
     "text": [
      "MSE = 254.213\n"
     ]
    },
    {
     "name": "stderr",
     "output_type": "stream",
     "text": [
      "                                                                                \r"
     ]
    },
    {
     "name": "stdout",
     "output_type": "stream",
     "text": [
      "RMSE = 15.944\n"
     ]
    },
    {
     "name": "stderr",
     "output_type": "stream",
     "text": [
      "[Stage 77:====================================================>   (13 + 1) / 14]\r"
     ]
    },
    {
     "name": "stdout",
     "output_type": "stream",
     "text": [
      "R2 = 0.720329\n"
     ]
    },
    {
     "name": "stderr",
     "output_type": "stream",
     "text": [
      "                                                                                \r"
     ]
    }
   ],
   "source": [
    "# MAE, MSE, RMSE, R2\n",
    "\n",
    "from pyspark.ml.evaluation import RegressionEvaluator\n",
    "\n",
    "# Select (prediction, true label) and compute test error\n",
    "evaluator = RegressionEvaluator(labelCol=\"arrival_delay\", predictionCol=\"prediction\", metricName=\"mae\")\n",
    "mae = evaluator.evaluate(predictions)\n",
    "print(\"MAE = %g\" % mae)\n",
    "\n",
    "evaluator = RegressionEvaluator(labelCol=\"arrival_delay\", predictionCol=\"prediction\", metricName=\"mse\")\n",
    "mse = evaluator.evaluate(predictions)\n",
    "print(\"MSE = %g\" % mse)\n",
    "\n",
    "evaluator = RegressionEvaluator(labelCol=\"arrival_delay\", predictionCol=\"prediction\", metricName=\"rmse\")\n",
    "rmse = evaluator.evaluate(predictions)\n",
    "print(\"RMSE = %g\" % rmse)\n",
    "\n",
    "evaluator = RegressionEvaluator(labelCol=\"arrival_delay\", predictionCol=\"prediction\", metricName=\"r2\")\n",
    "r2 = evaluator.evaluate(predictions)\n",
    "print(\"R2 = %g\" % r2)\n",
    "\n"
   ]
  },
  {
   "cell_type": "code",
   "execution_count": 66,
   "metadata": {},
   "outputs": [],
   "source": [
    "spark.stop()"
   ]
  },
  {
   "cell_type": "code",
   "execution_count": null,
   "metadata": {},
   "outputs": [],
   "source": []
  }
 ],
 "metadata": {
  "kernelspec": {
   "display_name": "spark",
   "language": "python",
   "name": "python3"
  },
  "language_info": {
   "codemirror_mode": {
    "name": "ipython",
    "version": 3
   },
   "file_extension": ".py",
   "mimetype": "text/x-python",
   "name": "python",
   "nbconvert_exporter": "python",
   "pygments_lexer": "ipython3",
   "version": "3.8.18"
  }
 },
 "nbformat": 4,
 "nbformat_minor": 2
}
