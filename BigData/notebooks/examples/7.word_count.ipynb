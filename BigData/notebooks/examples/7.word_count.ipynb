{
 "cells": [
  {
   "cell_type": "code",
   "execution_count": 1,
   "id": "2990e92a-337e-4818-9aa6-dd8af555606e",
   "metadata": {
    "editable": true,
    "slideshow": {
     "slide_type": ""
    },
    "tags": []
   },
   "outputs": [
    {
     "name": "stderr",
     "output_type": "stream",
     "text": [
      "23/11/28 19:19:59 WARN Utils: Your hostname, user-HP-EliteBook-840-G7-Notebook-PC resolves to a loopback address: 127.0.1.1; using 192.168.1.141 instead (on interface wlp0s20f3)\n"
     ]
    }
   ],
   "source": [
    "# Create Spark Context with SparkConf\n",
    "from pyspark import SparkConf, SparkContext\n",
    "conf = SparkConf()\n",
    "conf.setMaster(\"local\").setAppName(\"BookWordCount\")\n",
    "sc = SparkContext.getOrCreate(conf)\n",
    "sc.setLogLevel(\"ERROR\")"
   ]
  },
  {
   "cell_type": "code",
   "execution_count": 3,
   "id": "403d1917-7f39-41e9-9bfc-b7ffcf122206",
   "metadata": {},
   "outputs": [],
   "source": [
    "book_name = \"alice\"\n",
    "\n",
    "bookRDD = sc.textFile(book_name+\".txt\")\n",
    "\n",
    "wordsRDD = bookRDD.flatMap(lambda x: x.split(' ')).filter(lambda x: x != \"\")\n",
    "\n",
    "wordPairRDD = wordsRDD.map(lambda x: (x,1))\n",
    "\n",
    "countedWordsRDD = wordPairRDD.reduceByKey(lambda x,y : x+y)\n",
    "\n",
    "countedWordsRDD = countedWordsRDD.sortBy(lambda x: x[1], ascending=False)\n",
    "\n",
    "output_path = \"./\"+book_name+\"_wc_output\"\n",
    "countedWordsRDD.saveAsTextFile(output_path)\n"
   ]
  },
  {
   "cell_type": "code",
   "execution_count": 14,
   "id": "cc98506e-cf88-4a5d-a4a7-be45fb11ed5b",
   "metadata": {
    "editable": true,
    "slideshow": {
     "slide_type": ""
    },
    "tags": []
   },
   "outputs": [],
   "source": [
    "# Stop the SparkContext\n",
    "sc.stop()"
   ]
  }
 ],
 "metadata": {
  "kernelspec": {
   "display_name": "pyspark_venv",
   "language": "python",
   "name": "pyspark_venv"
  },
  "language_info": {
   "codemirror_mode": {
    "name": "ipython",
    "version": 3
   },
   "file_extension": ".py",
   "mimetype": "text/x-python",
   "name": "python",
   "nbconvert_exporter": "python",
   "pygments_lexer": "ipython3",
   "version": "3.10.12"
  }
 },
 "nbformat": 4,
 "nbformat_minor": 5
}
