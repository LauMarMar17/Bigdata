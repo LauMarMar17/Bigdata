{
 "cells": [
  {
   "cell_type": "code",
   "execution_count": 2,
   "id": "fe53ad95-21ef-45ca-b9ab-13302c0a9540",
   "metadata": {},
   "outputs": [
    {
     "name": "stderr",
     "output_type": "stream",
     "text": [
      "23/12/15 11:51:42 WARN Utils: Your hostname, user-HP-EliteBook-840-G7-Notebook-PC resolves to a loopback address: 127.0.1.1; using 192.168.1.141 instead (on interface wlp0s20f3)\n"
     ]
    }
   ],
   "source": [
    "from pyspark.sql import SparkSession\n",
    "from pyspark.ml.feature import VectorAssembler\n",
    "\n",
    "# Create a Spark session\n",
    "spark = SparkSession.builder.appName(\"VectorAssemblerExample\").getOrCreate()"
   ]
  },
  {
   "cell_type": "code",
   "execution_count": 3,
   "id": "76795e33-eb53-49b5-bea8-84a562ce96b6",
   "metadata": {},
   "outputs": [
    {
     "name": "stdout",
     "output_type": "stream",
     "text": [
      "Cluster Centers: \n",
      "[ 0.76452001 -2.14321857]\n",
      "[5.08886461 1.76928179]\n"
     ]
    }
   ],
   "source": [
    "from pyspark.ml.feature import VectorAssembler\n",
    "from pyspark.ml.clustering import KMeans\n",
    "\n",
    "# Sample data\n",
    "data = [(1.60193653, -1.8679101),\n",
    "        (-1.1328963, -1.9607465),\n",
    "        (2.40675869, -1.5994823),\n",
    "        (0.09330145, -2.9446696),\n",
    "        (1.3795901, -2.5489864),\n",
    "        (-0.42065496, -2.8165693),\n",
    "        (0.55753398, -2.0145494),\n",
    "        (1.3066549, -2.3208153),\n",
    "        (0.66224722, -0.9406476),\n",
    "        (1.19072851, -2.4178092),\n",
    "        (4.67961769, 1.6375689),\n",
    "        (5.03015133, 1.4575724),\n",
    "        (6.1003413, 2.1673923),\n",
    "        (4.20259176, 1.8237144),\n",
    "        (4.93339445, 1.8983999),\n",
    "        (6.70975052, 1.5899655),\n",
    "        (5.01461979, 1.6051478),\n",
    "        (5.00005277, 1.6855351),\n",
    "        (4.12926186, 2.0582398)]\n",
    "\n",
    "columns = [\"x1\", \"x2\"]\n",
    "\n",
    "df2 = spark.createDataFrame(data, columns)\n",
    "\n",
    "# Create a VectorAssembler\n",
    "assembler = VectorAssembler(inputCols=[\"x1\", \"x2\"], outputCol=\"features\")\n",
    "dataset = assembler.transform(df2)\n",
    "\n",
    "# Create K-Means model\n",
    "kmeans = KMeans(featuresCol=\"features\", k=2)\n",
    "model = kmeans.fit(dataset)\n",
    "\n",
    "# Print cluster centers\n",
    "print(\"Cluster Centers: \")\n",
    "for center in model.clusterCenters():\n",
    "    print(center)\n",
    "\n",
    "# Stop the Spark session\n",
    "spark.stop()\n",
    "\n",
    "##### USE THE MODEL EXAMPLE"
   ]
  },
  {
   "cell_type": "code",
   "execution_count": null,
   "id": "6272b467-787f-43d4-aefa-603f9bfd8d0f",
   "metadata": {},
   "outputs": [],
   "source": []
  }
 ],
 "metadata": {
  "kernelspec": {
   "display_name": "Python 3 (ipykernel)",
   "language": "python",
   "name": "python3"
  },
  "language_info": {
   "codemirror_mode": {
    "name": "ipython",
    "version": 3
   },
   "file_extension": ".py",
   "mimetype": "text/x-python",
   "name": "python",
   "nbconvert_exporter": "python",
   "pygments_lexer": "ipython3",
   "version": "3.10.12"
  }
 },
 "nbformat": 4,
 "nbformat_minor": 5
}
