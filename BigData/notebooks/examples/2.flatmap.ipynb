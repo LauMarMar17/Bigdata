{
 "cells": [
  {
   "cell_type": "code",
   "execution_count": 1,
   "id": "2990e92a-337e-4818-9aa6-dd8af555606e",
   "metadata": {
    "editable": true,
    "slideshow": {
     "slide_type": ""
    },
    "tags": []
   },
   "outputs": [
    {
     "name": "stderr",
     "output_type": "stream",
     "text": [
      "23/11/28 19:06:33 WARN Utils: Your hostname, user-HP-EliteBook-840-G7-Notebook-PC resolves to a loopback address: 127.0.1.1; using 192.168.1.141 instead (on interface wlp0s20f3)\n"
     ]
    }
   ],
   "source": [
    "# Create Spark Context with SparkConf\n",
    "from pyspark import SparkConf, SparkContext\n",
    "conf = SparkConf()\n",
    "conf.setMaster(\"local\").setAppName(\"DifferenceMapAndFlatMap\")\n",
    "sc = SparkContext.getOrCreate(conf)\n",
    "sc.setLogLevel(\"ERROR\")"
   ]
  },
  {
   "cell_type": "code",
   "execution_count": 2,
   "id": "4ad3ca9e-8e97-4302-8c97-75a95cdde8ef",
   "metadata": {},
   "outputs": [
    {
     "name": "stdout",
     "output_type": "stream",
     "text": [
      "\n",
      "flatMap output:\n",
      "['Hello', 'world', 'PySpark', 'is', 'great']\n",
      "\n",
      "map output:\n",
      "[['Hello', 'world'], ['PySpark', 'is', 'great']]\n"
     ]
    }
   ],
   "source": [
    "# Create an RDD with some sentences\n",
    "sentencesRDD = sc.parallelize([\"Hello world\", \"PySpark is great\"])\n",
    "\n",
    "# Split each sentence into words with FLATMAP\n",
    "flatMapResult = sentencesRDD.flatMap(lambda sentence: sentence.split(\" \"))\n",
    "\n",
    "# Getting the same result as above but using only MAP\n",
    "mapResult = sentencesRDD.map(lambda sentence: sentence.split(\" \"))\n",
    "\n",
    "print(\"\\nflatMap output:\")\n",
    "print(flatMapResult.collect())\n",
    "\n",
    "print(\"\\nmap output:\")\n",
    "print(mapResult.collect())\n"
   ]
  },
  {
   "cell_type": "code",
   "execution_count": 3,
   "id": "cc98506e-cf88-4a5d-a4a7-be45fb11ed5b",
   "metadata": {
    "editable": true,
    "slideshow": {
     "slide_type": ""
    },
    "tags": []
   },
   "outputs": [],
   "source": [
    "# Stop the SparkContext\n",
    "sc.stop()"
   ]
  }
 ],
 "metadata": {
  "kernelspec": {
   "display_name": "pyspark_venv",
   "language": "python",
   "name": "pyspark_venv"
  },
  "language_info": {
   "codemirror_mode": {
    "name": "ipython",
    "version": 3
   },
   "file_extension": ".py",
   "mimetype": "text/x-python",
   "name": "python",
   "nbconvert_exporter": "python",
   "pygments_lexer": "ipython3",
   "version": "3.10.12"
  }
 },
 "nbformat": 4,
 "nbformat_minor": 5
}
