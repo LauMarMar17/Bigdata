{
 "cells": [
  {
   "cell_type": "code",
   "execution_count": 1,
   "id": "2990e92a-337e-4818-9aa6-dd8af555606e",
   "metadata": {
    "editable": true,
    "slideshow": {
     "slide_type": ""
    },
    "tags": []
   },
   "outputs": [
    {
     "name": "stderr",
     "output_type": "stream",
     "text": [
      "23/12/23 08:37:25 WARN Utils: Your hostname, mordor resolves to a loopback address: 127.0.1.1; using 193.147.50.16 instead (on interface eno1np0)\n",
      "23/12/23 08:37:25 WARN Utils: Set SPARK_LOCAL_IP if you need to bind to another address\n",
      "Setting default log level to \"WARN\".\n",
      "To adjust logging level use sc.setLogLevel(newLevel). For SparkR, use setLogLevel(newLevel).\n",
      "23/12/23 08:37:26 WARN NativeCodeLoader: Unable to load native-hadoop library for your platform... using builtin-java classes where applicable\n"
     ]
    }
   ],
   "source": [
    "# Create Spark Context with SparkConf\n",
    "from pyspark import SparkConf, SparkContext\n",
    "conf = SparkConf()\n",
    "conf.setMaster(\"local\").setAppName(\"DifferenceMapAndFlatMap\")\n",
    "sc = SparkContext.getOrCreate(conf)\n",
    "sc.setLogLevel(\"ERROR\")"
   ]
  },
  {
   "cell_type": "code",
   "execution_count": 6,
   "id": "f5bfdc44-bbe6-43c4-a2c0-26aa0b6daddb",
   "metadata": {
    "editable": true,
    "slideshow": {
     "slide_type": ""
    },
    "tags": []
   },
   "outputs": [
    {
     "name": "stdout",
     "output_type": "stream",
     "text": [
      "Sorted RDD:\n",
      "[5, 4, 3, 2, 1]\n",
      "\n",
      "Unified RDD:\n",
      "[1, 2, 3, 4, 5, 4, 5, 6, 7, 8]\n",
      "\n",
      "Intersected RDD:\n",
      "[4, 5]\n",
      "\n",
      "Subtracted RDD:\n",
      "[2, 1, 3]\n",
      "\n",
      "Union - Intersection (sorted)\n",
      "[1, 2, 3, 4, 5, 6, 7, 8]\n"
     ]
    }
   ],
   "source": [
    "# Sample data as RDDs\n",
    "myRDD1 = sc.parallelize([1, 2, 3, 4, 5])\n",
    "myRDD2 = sc.parallelize([4, 5, 6, 7, 8])\n",
    "\n",
    "# Sorted RDD\n",
    "mySortedRDD = myRDD1.sortBy(lambda x: x, ascending=False)\n",
    "print(\"Sorted RDD:\")\n",
    "print(mySortedRDD.collect())\n",
    "\n",
    "# Unified RDD\n",
    "myUnifiedRDD = myRDD1.union(myRDD2)\n",
    "print(\"\\nUnified RDD:\")\n",
    "print(myUnifiedRDD.collect())\n",
    "\n",
    "# Intersected RDD\n",
    "myIntersectedRDD = myRDD1.intersection(myRDD2)\n",
    "print(\"\\nIntersected RDD:\")\n",
    "print(myIntersectedRDD.collect())\n",
    "\n",
    "# Subtracted RDD\n",
    "mySubtractedRDD = myRDD1.subtract(myRDD2)\n",
    "print(\"\\nSubtracted RDD:\")\n",
    "print(mySubtractedRDD.collect())\n",
    "\n",
    "# Substract from RDD1 the intersection. Then Unify with RDD2\n",
    "mySubtractedRDD1 = myRDD1.subtract(myIntersectedRDD)\n",
    "myUnifiedRDD1_2 = mySubtractedRDD1.union(myRDD2)\n",
    "myUnifiedRDD1_2_sorted = myUnifiedRDD1_2.sortBy(lambda x: x, ascending=True)\n",
    "print(\"\\nUnion - Intersection (sorted)\")\n",
    "print(myUnifiedRDD1_2_sorted.collect())"
   ]
  },
  {
   "cell_type": "code",
   "execution_count": 7,
   "id": "cc98506e-cf88-4a5d-a4a7-be45fb11ed5b",
   "metadata": {
    "editable": true,
    "slideshow": {
     "slide_type": ""
    },
    "tags": []
   },
   "outputs": [],
   "source": [
    "# Stop the SparkContext\n",
    "sc.stop()"
   ]
  },
  {
   "cell_type": "code",
   "execution_count": null,
   "id": "1343d15c-65ac-425d-aec3-09534c1684cf",
   "metadata": {},
   "outputs": [],
   "source": []
  }
 ],
 "metadata": {
  "kernelspec": {
   "display_name": "spark",
   "language": "python",
   "name": "python3"
  },
  "language_info": {
   "codemirror_mode": {
    "name": "ipython",
    "version": 3
   },
   "file_extension": ".py",
   "mimetype": "text/x-python",
   "name": "python",
   "nbconvert_exporter": "python",
   "pygments_lexer": "ipython3",
   "version": "3.8.18"
  }
 },
 "nbformat": 4,
 "nbformat_minor": 5
}
