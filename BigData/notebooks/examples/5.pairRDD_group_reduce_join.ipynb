{
 "cells": [
  {
   "cell_type": "code",
   "execution_count": 1,
   "id": "2990e92a-337e-4818-9aa6-dd8af555606e",
   "metadata": {
    "editable": true,
    "slideshow": {
     "slide_type": ""
    },
    "tags": []
   },
   "outputs": [
    {
     "name": "stderr",
     "output_type": "stream",
     "text": [
      "23/11/28 19:16:23 WARN Utils: Your hostname, user-HP-EliteBook-840-G7-Notebook-PC resolves to a loopback address: 127.0.1.1; using 192.168.1.141 instead (on interface wlp0s20f3)\n"
     ]
    }
   ],
   "source": [
    "# Create Spark Context with SparkConf\n",
    "from pyspark import SparkConf, SparkContext\n",
    "conf = SparkConf()\n",
    "conf.setMaster(\"local\").setAppName(\"DifferenceMapAndFlatMap\")\n",
    "sc = SparkContext.getOrCreate(conf)\n",
    "sc.setLogLevel(\"ERROR\")"
   ]
  },
  {
   "cell_type": "code",
   "execution_count": 2,
   "id": "f5bfdc44-bbe6-43c4-a2c0-26aa0b6daddb",
   "metadata": {
    "editable": true,
    "slideshow": {
     "slide_type": ""
    },
    "tags": []
   },
   "outputs": [
    {
     "name": "stdout",
     "output_type": "stream",
     "text": [
      "\n",
      "Grouped RDD without unpack elements:\n",
      "('Alice', <pyspark.resultiterable.ResultIterable object at 0x7ff0bc214070>)\n",
      "('Bob', <pyspark.resultiterable.ResultIterable object at 0x7ff0bc215ea0>)\n",
      "('Charlie', <pyspark.resultiterable.ResultIterable object at 0x7ff0bc215f00>)\n",
      "\n",
      "Grouped RDD with unpacked elements:\n",
      "Alice: [25, 28]\n",
      "Bob: [30, 32]\n",
      "Charlie: [13]\n",
      "\n",
      "Reduced RDD:\n",
      "[('Alice', 53), ('Bob', 62), ('Charlie', 13)]\n"
     ]
    }
   ],
   "source": [
    "data = [(\"Alice\", 25), (\"Bob\", 30), (\"Alice\", 28), (\"Bob\", 32),(\"Charlie\", 13)]\n",
    "myPairRDD = sc.parallelize(data)\n",
    "\n",
    "# Grouping by key\n",
    "myGroupedRDD = myPairRDD.groupByKey()\n",
    "items = myGroupedRDD.collect()\n",
    "\n",
    "print('\\nGrouped RDD without unpack elements:')\n",
    "for item in items:\n",
    "    print(item)\n",
    "\n",
    "print('\\nGrouped RDD with unpacked elements:')\n",
    "for key, values in items:\n",
    "    print(f\"{key}: {list(values)}\")\n",
    "\n",
    "# Reducing by key\n",
    "myReducedRDD = myPairRDD.reduceByKey(lambda x, y: x + y)\n",
    "print('\\nReduced RDD:')\n",
    "print(myReducedRDD .collect())"
   ]
  },
  {
   "cell_type": "code",
   "execution_count": 4,
   "id": "ce591e18-ab92-4d0c-ac8a-31b0e39a204b",
   "metadata": {},
   "outputs": [
    {
     "name": "stdout",
     "output_type": "stream",
     "text": [
      "\n",
      "Joined RDD:\n",
      "[(102, ('Bob', 'Engineering_department')), (102, ('Elsa', 'Engineering_department')), (101, ('Alice', 'HR_department'))]\n"
     ]
    }
   ],
   "source": [
    "# Joining by key\n",
    "RDD1 = sc.parallelize([(101, \"Alice\"), (102, \"Bob\"), (103, \"Charlie\"),(102, \"Elsa\")])\n",
    "RDD2 = sc.parallelize([(101, \"HR_department\"), (102, \"Engineering_department\")])\n",
    "\n",
    "myJoinedRDD = RDD1.join(RDD2)\n",
    "print(\"\\nJoined RDD:\")\n",
    "print(myJoinedRDD.collect())"
   ]
  },
  {
   "cell_type": "code",
   "execution_count": 5,
   "id": "cc98506e-cf88-4a5d-a4a7-be45fb11ed5b",
   "metadata": {
    "editable": true,
    "slideshow": {
     "slide_type": ""
    },
    "tags": []
   },
   "outputs": [],
   "source": [
    "# Stop the SparkContext\n",
    "sc.stop()"
   ]
  }
 ],
 "metadata": {
  "kernelspec": {
   "display_name": "pyspark_venv",
   "language": "python",
   "name": "pyspark_venv"
  },
  "language_info": {
   "codemirror_mode": {
    "name": "ipython",
    "version": 3
   },
   "file_extension": ".py",
   "mimetype": "text/x-python",
   "name": "python",
   "nbconvert_exporter": "python",
   "pygments_lexer": "ipython3",
   "version": "3.10.12"
  }
 },
 "nbformat": 4,
 "nbformat_minor": 5
}
