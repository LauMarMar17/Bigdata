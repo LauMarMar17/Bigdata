{
 "cells": [
  {
   "cell_type": "code",
   "execution_count": 1,
   "id": "2990e92a-337e-4818-9aa6-dd8af555606e",
   "metadata": {
    "editable": true,
    "slideshow": {
     "slide_type": ""
    },
    "tags": []
   },
   "outputs": [
    {
     "name": "stderr",
     "output_type": "stream",
     "text": [
      "23/12/23 08:51:22 WARN Utils: Your hostname, mordor resolves to a loopback address: 127.0.1.1; using 193.147.50.16 instead (on interface eno1np0)\n",
      "23/12/23 08:51:22 WARN Utils: Set SPARK_LOCAL_IP if you need to bind to another address\n",
      "Setting default log level to \"WARN\".\n",
      "To adjust logging level use sc.setLogLevel(newLevel). For SparkR, use setLogLevel(newLevel).\n",
      "23/12/23 08:51:22 WARN NativeCodeLoader: Unable to load native-hadoop library for your platform... using builtin-java classes where applicable\n"
     ]
    }
   ],
   "source": [
    "# Create Spark Context with SparkConf\n",
    "from pyspark import SparkConf, SparkContext\n",
    "conf = SparkConf()\n",
    "conf.setMaster(\"local\").setAppName(\"DifferenceMapAndFlatMap\")\n",
    "sc = SparkContext.getOrCreate(conf)\n",
    "sc.setLogLevel(\"ERROR\")"
   ]
  },
  {
   "cell_type": "code",
   "execution_count": 2,
   "id": "f5bfdc44-bbe6-43c4-a2c0-26aa0b6daddb",
   "metadata": {
    "editable": true,
    "slideshow": {
     "slide_type": ""
    },
    "tags": []
   },
   "outputs": [
    {
     "name": "stdout",
     "output_type": "stream",
     "text": [
      "Filtered RDD (Age >= 30):\n"
     ]
    },
    {
     "name": "stderr",
     "output_type": "stream",
     "text": [
      "                                                                                \r"
     ]
    },
    {
     "name": "stdout",
     "output_type": "stream",
     "text": [
      "[('Bob', 30), ('Charlie', 35), ('David', 32), ('David', 32)]\n",
      "\n",
      "Distinct RDD:\n",
      "[('Alice', 25), ('Bob', 30), ('Charlie', 35), ('Alice', 28), ('David', 32)]\n",
      "\n",
      "Sampled RDD:\n",
      "[('Alice', 25), ('Bob', 30), ('Alice', 28), ('David', 32)]\n",
      "\n",
      "Filtered, duplicated removed and sampled RDD:\n",
      "[('Bob', 30), ('Charlie', 35)]\n"
     ]
    }
   ],
   "source": [
    "# Sample typical data as an RDD\n",
    "data = [(\"Alice\", 25), (\"Bob\", 30), (\"Charlie\", 35), (\"Alice\", 28), (\"David\", 32),(\"David\", 32)]\n",
    "myRDD = sc.parallelize(data)\n",
    "\n",
    "# Filtered RDD\n",
    "myFilteredRDD = myRDD.filter(lambda x: x[1] >= 30)\n",
    "print(\"Filtered RDD (Age >= 30):\")\n",
    "print(myFilteredRDD.collect())\n",
    "\n",
    "# Distinct operation using RDD\n",
    "myDistinctRDD = myRDD.distinct()\n",
    "print(\"\\nDistinct RDD:\")\n",
    "print(myDistinctRDD.collect())\n",
    "\n",
    "# Sampled RDD\n",
    "mySampledRDD = myRDD.sample(withReplacement=False, fraction=0.5, seed=42)\n",
    "print(\"\\nSampled RDD:\")\n",
    "print(mySampledRDD.collect())\n",
    "\n",
    "# All together\n",
    "myProcessedRDD = myRDD.filter(lambda x: x[1] >= 30).distinct().sample(withReplacement=False, fraction=0.5, seed=42)\n",
    "print(\"\\nFiltered, duplicated removed and sampled RDD:\")\n",
    "print(myProcessedRDD.collect())"
   ]
  },
  {
   "cell_type": "code",
   "execution_count": 3,
   "id": "adf448d1-6005-48fe-9ec5-bb969e5b04a0",
   "metadata": {},
   "outputs": [
    {
     "name": "stdout",
     "output_type": "stream",
     "text": [
      "\n",
      "Taking 2 distinct RDD items:\n",
      "[('Alice', 25), ('Bob', 30)]\n",
      "\n",
      "Total distinct items:\n",
      "5\n",
      "\n",
      "Sum of all distinct items values:\n",
      "150\n"
     ]
    }
   ],
   "source": [
    "print(\"\\nTaking 2 distinct RDD items:\")\n",
    "print(myDistinctRDD.take(2))\n",
    "\n",
    "print(\"\\nTotal distinct items:\")\n",
    "print(myDistinctRDD.count())\n",
    "\n",
    "print(\"\\nSum of all distinct items values:\")\n",
    "# this doesnt work: myDistinctRDD.reduce(lambda x, y: x[1] + y[1]) WHY?\n",
    "print(myDistinctRDD.map(lambda x: x[1]).reduce(lambda x, y: x + y))"
   ]
  },
  {
   "cell_type": "code",
   "execution_count": 4,
   "id": "cc98506e-cf88-4a5d-a4a7-be45fb11ed5b",
   "metadata": {
    "editable": true,
    "slideshow": {
     "slide_type": ""
    },
    "tags": []
   },
   "outputs": [],
   "source": [
    "# Stop the SparkContext\n",
    "sc.stop()"
   ]
  },
  {
   "cell_type": "code",
   "execution_count": null,
   "id": "495e2547",
   "metadata": {},
   "outputs": [],
   "source": []
  }
 ],
 "metadata": {
  "kernelspec": {
   "display_name": "Python 3 (ipykernel)",
   "language": "python",
   "name": "python3"
  },
  "language_info": {
   "codemirror_mode": {
    "name": "ipython",
    "version": 3
   },
   "file_extension": ".py",
   "mimetype": "text/x-python",
   "name": "python",
   "nbconvert_exporter": "python",
   "pygments_lexer": "ipython3",
   "version": "3.8.18"
  }
 },
 "nbformat": 4,
 "nbformat_minor": 5
}
