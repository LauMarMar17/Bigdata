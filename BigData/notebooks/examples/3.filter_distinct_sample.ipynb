{
 "cells": [
  {
   "cell_type": "code",
   "execution_count": 1,
   "id": "2990e92a-337e-4818-9aa6-dd8af555606e",
   "metadata": {
    "editable": true,
    "slideshow": {
     "slide_type": ""
    },
    "tags": []
   },
   "outputs": [
    {
     "name": "stderr",
     "output_type": "stream",
     "text": [
      "23/12/23 08:31:03 WARN Utils: Your hostname, mordor resolves to a loopback address: 127.0.1.1; using 193.147.50.16 instead (on interface eno1np0)\n",
      "23/12/23 08:31:03 WARN Utils: Set SPARK_LOCAL_IP if you need to bind to another address\n",
      "Setting default log level to \"WARN\".\n",
      "To adjust logging level use sc.setLogLevel(newLevel). For SparkR, use setLogLevel(newLevel).\n",
      "23/12/23 08:31:04 WARN NativeCodeLoader: Unable to load native-hadoop library for your platform... using builtin-java classes where applicable\n"
     ]
    }
   ],
   "source": [
    "# Create Spark Context with SparkConf\n",
    "from pyspark import SparkConf, SparkContext\n",
    "conf = SparkConf()\n",
    "conf.setMaster(\"local\").setAppName(\"DifferenceMapAndFlatMap\")\n",
    "sc = SparkContext.getOrCreate(conf)\n",
    "sc.setLogLevel(\"ERROR\")"
   ]
  },
  {
   "cell_type": "code",
   "execution_count": 2,
   "id": "f5bfdc44-bbe6-43c4-a2c0-26aa0b6daddb",
   "metadata": {
    "editable": true,
    "slideshow": {
     "slide_type": ""
    },
    "tags": []
   },
   "outputs": [
    {
     "name": "stdout",
     "output_type": "stream",
     "text": [
      "Original data: \n",
      "[('Alice', 25), ('Bob', 30), ('Charlie', 35), ('Alice', 28), ('David', 32), ('David', 32)]\n",
      "\n",
      "Filtered RDD (Age >= 30):\n"
     ]
    },
    {
     "name": "stderr",
     "output_type": "stream",
     "text": [
      "                                                                                \r"
     ]
    },
    {
     "name": "stdout",
     "output_type": "stream",
     "text": [
      "[('Bob', 30), ('Charlie', 35), ('David', 32), ('David', 32)]\n",
      "\n",
      "Distinct RDD:\n",
      "[('Alice', 25), ('Bob', 30), ('Charlie', 35), ('Alice', 28), ('David', 32)]\n",
      "\n",
      "Sampled RDD:\n",
      "[('Alice', 25), ('Bob', 30), ('Alice', 28), ('David', 32)]\n",
      "\n",
      "Filtered, duplicated removed:\n",
      "[('Bob', 30), ('Charlie', 35), ('David', 32)]\n",
      "\n",
      "Filtered, duplicated removed and sampled RDD:\n",
      "[('Bob', 30), ('Charlie', 35)]\n"
     ]
    }
   ],
   "source": [
    "# Sample typical data as an RDD\n",
    "data = [(\"Alice\", 25), (\"Bob\", 30), (\"Charlie\", 35), (\"Alice\", 28), (\"David\", 32),(\"David\", 32)]\n",
    "myRDD = sc.parallelize(data)\n",
    "\n",
    "print(\"Original data: \")\n",
    "print(data)\n",
    "# Filtered RDD\n",
    "myFilteredRDD = myRDD.filter(lambda x: x[1] >= 30)\n",
    "print(\"\\nFiltered RDD (Age >= 30):\")\n",
    "print(myFilteredRDD.collect())\n",
    "\n",
    "# Distinct operation using RDD\n",
    "myDistinctRDD = myRDD.distinct()\n",
    "print(\"\\nDistinct RDD:\")\n",
    "print(myDistinctRDD.collect())\n",
    "\n",
    "# Sampled RDD\n",
    "mySampledRDD = myRDD.sample(withReplacement=False, fraction=0.5, seed=42)\n",
    "print(\"\\nSampled RDD:\")\n",
    "print(mySampledRDD.collect())\n",
    "\n",
    "\n",
    "# All together\n",
    "myProcessedRDD = myRDD.filter(lambda x: x[1] >= 30).distinct()\n",
    "print(\"\\nFiltered, duplicated removed:\")\n",
    "print(myProcessedRDD.collect())\n",
    "\n",
    "myNewSampledRDD = myProcessedRDD.sample(withReplacement=False, fraction=0.5, seed=42)\n",
    "print(\"\\nFiltered, duplicated removed and sampled RDD:\")\n",
    "print(myNewSampledRDD.collect())"
   ]
  },
  {
   "cell_type": "code",
   "execution_count": 3,
   "id": "cc98506e-cf88-4a5d-a4a7-be45fb11ed5b",
   "metadata": {
    "editable": true,
    "slideshow": {
     "slide_type": ""
    },
    "tags": []
   },
   "outputs": [],
   "source": [
    "# Stop the SparkContext\n",
    "sc.stop()"
   ]
  },
  {
   "cell_type": "code",
   "execution_count": null,
   "id": "f9138b03-bee8-4101-9102-2020fff98f20",
   "metadata": {},
   "outputs": [],
   "source": []
  }
 ],
 "metadata": {
  "kernelspec": {
   "display_name": "spark",
   "language": "python",
   "name": "python3"
  },
  "language_info": {
   "codemirror_mode": {
    "name": "ipython",
    "version": 3
   },
   "file_extension": ".py",
   "mimetype": "text/x-python",
   "name": "python",
   "nbconvert_exporter": "python",
   "pygments_lexer": "ipython3",
   "version": "3.8.18"
  }
 },
 "nbformat": 4,
 "nbformat_minor": 5
}
