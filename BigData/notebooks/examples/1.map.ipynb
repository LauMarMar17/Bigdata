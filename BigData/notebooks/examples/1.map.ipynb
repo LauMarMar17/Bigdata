{
 "cells": [
  {
   "cell_type": "code",
   "execution_count": 3,
   "id": "2990e92a-337e-4818-9aa6-dd8af555606e",
   "metadata": {
    "editable": true,
    "slideshow": {
     "slide_type": ""
    },
    "tags": []
   },
   "outputs": [
    {
     "ename": "ModuleNotFoundError",
     "evalue": "No module named 'pyspark'",
     "output_type": "error",
     "traceback": [
      "\u001b[1;31m---------------------------------------------------------------------------\u001b[0m",
      "\u001b[1;31mModuleNotFoundError\u001b[0m                       Traceback (most recent call last)",
      "\u001b[1;32mc:\\Users\\laura\\VSC\\BigData\\1.map.ipynb Cell 2\u001b[0m line \u001b[0;36m2\n\u001b[0;32m      <a href='vscode-notebook-cell:/c%3A/Users/laura/VSC/BigData/1.map.ipynb#W0sZmlsZQ%3D%3D?line=0'>1</a>\u001b[0m \u001b[39m# Create Spark Context with SparkConf\u001b[39;00m\n\u001b[1;32m----> <a href='vscode-notebook-cell:/c%3A/Users/laura/VSC/BigData/1.map.ipynb#W0sZmlsZQ%3D%3D?line=1'>2</a>\u001b[0m \u001b[39mfrom\u001b[39;00m \u001b[39mpyspark\u001b[39;00m \u001b[39mimport\u001b[39;00m SparkConf, SparkContext\n\u001b[0;32m      <a href='vscode-notebook-cell:/c%3A/Users/laura/VSC/BigData/1.map.ipynb#W0sZmlsZQ%3D%3D?line=2'>3</a>\u001b[0m conf \u001b[39m=\u001b[39m SparkConf()\n\u001b[0;32m      <a href='vscode-notebook-cell:/c%3A/Users/laura/VSC/BigData/1.map.ipynb#W0sZmlsZQ%3D%3D?line=3'>4</a>\u001b[0m conf\u001b[39m.\u001b[39msetMaster(\u001b[39m\"\u001b[39m\u001b[39mlocal[*]\u001b[39m\u001b[39m\"\u001b[39m)\u001b[39m.\u001b[39msetAppName(\u001b[39m\"\u001b[39m\u001b[39mMapApp\u001b[39m\u001b[39m\"\u001b[39m)\n",
      "\u001b[1;31mModuleNotFoundError\u001b[0m: No module named 'pyspark'"
     ]
    }
   ],
   "source": [
    "# Create Spark Context with SparkConf\n",
    "from pyspark import SparkConf, SparkContext\n",
    "conf = SparkConf()\n",
    "conf.setMaster(\"local[*]\").setAppName(\"MapApp\")\n",
    "sc = SparkContext.getOrCreate(conf)\n",
    "sc.setLogLevel(\"ERROR\")"
   ]
  },
  {
   "cell_type": "code",
   "execution_count": 2,
   "id": "f5bfdc44-bbe6-43c4-a2c0-26aa0b6daddb",
   "metadata": {},
   "outputs": [
    {
     "name": "stdout",
     "output_type": "stream",
     "text": [
      "map output:\n",
      "[['Hello', 'world'], ['PySpark', 'is', 'great']]\n"
     ]
    }
   ],
   "source": [
    "# Create an RDD with some sentences\n",
    "sentencesRDD = sc.parallelize([\"Hello world\", \"PySpark is great\"])\n",
    "\n",
    "# Split each sentence into words with MAP\n",
    "mapResult = sentencesRDD.map(lambda sentence: sentence.split(\" \"))\n",
    "\n",
    "# Collect and print\n",
    "print(\"map output:\") \n",
    "print(mapResult.collect())\n"
   ]
  },
  {
   "cell_type": "code",
   "execution_count": 3,
   "id": "cc98506e-cf88-4a5d-a4a7-be45fb11ed5b",
   "metadata": {
    "editable": true,
    "slideshow": {
     "slide_type": ""
    },
    "tags": []
   },
   "outputs": [],
   "source": [
    "# Stop the SparkContext\n",
    "sc.stop()"
   ]
  },
  {
   "cell_type": "code",
   "execution_count": null,
   "id": "18b92fbe-38b0-4a68-abfb-19619d125f11",
   "metadata": {},
   "outputs": [],
   "source": []
  }
 ],
 "metadata": {
  "kernelspec": {
   "display_name": "Python 3",
   "language": "python",
   "name": "python3"
  },
  "language_info": {
   "codemirror_mode": {
    "name": "ipython",
    "version": 3
   },
   "file_extension": ".py",
   "mimetype": "text/x-python",
   "name": "python",
   "nbconvert_exporter": "python",
   "pygments_lexer": "ipython3",
   "version": "3.9.12"
  }
 },
 "nbformat": 4,
 "nbformat_minor": 5
}
