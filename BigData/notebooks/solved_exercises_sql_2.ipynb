{
 "cells": [
  {
   "cell_type": "code",
   "execution_count": 3,
   "id": "481a8156-ec69-4785-889f-7c2c6473944b",
   "metadata": {},
   "outputs": [
    {
     "name": "stderr",
     "output_type": "stream",
     "text": [
      "23/12/09 14:38:40 WARN Utils: Your hostname, user-HP-EliteBook-840-G7-Notebook-PC resolves to a loopback address: 127.0.1.1; using 192.168.1.141 instead (on interface wlp0s20f3)\n"
     ]
    }
   ],
   "source": [
    "from pyspark.sql import SparkSession\n",
    "from pyspark.sql.functions import *\n",
    "\n",
    "# Create a SparkSession\n",
    "spark = SparkSession.builder.appName(\"App\").getOrCreate()\n",
    "spark.sparkContext.setLogLevel(\"ERROR\")"
   ]
  },
  {
   "cell_type": "code",
   "execution_count": 4,
   "id": "d4e554dc-380c-4b17-9176-320c5ede7c34",
   "metadata": {},
   "outputs": [
    {
     "name": "stdout",
     "output_type": "stream",
     "text": [
      "Project summary\n",
      "+------------+---------+------------+------------------+\n",
      "|project_name|num_pages|content_size|     mean_requests|\n",
      "+------------+---------+------------+------------------+\n",
      "|     cbk-zam|      174|     3976932|1.1781609195402298|\n",
      "|        co.b|       13|       59223|1.1538461538461537|\n",
      "|        cs.n|       95|      423117| 1.063157894736842|\n",
      "|          en|  2245124|299984572954| 4.458697158820627|\n",
      "|  be-x-old.d|        1|        6584|               1.0|\n",
      "|          cr|       38|      729029|1.3421052631578947|\n",
      "|        as.d|        7|       34520|1.4285714285714286|\n",
      "|        dv.n|        1|        6584|               1.0|\n",
      "|        cr.d|        1|       13604|               1.0|\n",
      "|         crh|      195|     3587699|1.1384615384615384|\n",
      "|       ast.q|        4|       37021|               1.0|\n",
      "|       als.n|        1|        6584|               1.0|\n",
      "|       ang.q|        9|       47678|               1.0|\n",
      "|        am.d|       14|      119050|               1.0|\n",
      "|        af.q|       11|       27529|               1.0|\n",
      "|        cy.d|      108|     4400825|2.4722222222222223|\n",
      "|       an.mw|        1|      138260|              11.0|\n",
      "|       be.mw|        1|       88180|               6.0|\n",
      "|        cs.d|      278|     3450557|1.4640287769784173|\n",
      "|        cy.s|       14|       63061|               1.0|\n",
      "+------------+---------+------------+------------------+\n",
      "only showing top 20 rows\n",
      "\n",
      "Most visited\n",
      "+------------+--------------------+------------+------------+------------------+\n",
      "|project_name|          page_title|num_requests|content_size|     mean_requests|\n",
      "+------------+--------------------+------------+------------+------------------+\n",
      "|     cbk-zam|                1849|           2|       39051|1.1781609195402298|\n",
      "|     cbk-zam|                1867|           2|       38689|1.1781609195402298|\n",
      "|     cbk-zam|                1883|           2|       40513|1.1781609195402298|\n",
      "|     cbk-zam|                1896|           2|       30645|1.1781609195402298|\n",
      "|     cbk-zam|                1904|           2|       18105|1.1781609195402298|\n",
      "|     cbk-zam|                1973|           2|       47370|1.1781609195402298|\n",
      "|     cbk-zam|                1974|           2|       46179|1.1781609195402298|\n",
      "|     cbk-zam|                1978|           3|       55402|1.1781609195402298|\n",
      "|     cbk-zam|                1983|           2|       42557|1.1781609195402298|\n",
      "|     cbk-zam|     20_de_Diciembre|           2|       45268|1.1781609195402298|\n",
      "|     cbk-zam|         24_de_Enero|           2|       46136|1.1781609195402298|\n",
      "|     cbk-zam|     26_de_Diciembre|           2|       46004|1.1781609195402298|\n",
      "|     cbk-zam|         28_de_Enero|           2|       46137|1.1781609195402298|\n",
      "|     cbk-zam|              Brasil|           3|      109245|1.1781609195402298|\n",
      "|     cbk-zam|             Corazon|           2|       28292|1.1781609195402298|\n",
      "|     cbk-zam|   El_Primero_Pagina|           4|      115502|1.1781609195402298|\n",
      "|     cbk-zam|               Enero|           3|       23211|1.1781609195402298|\n",
      "|     cbk-zam|Especial:Contribu...|           2|       34184|1.1781609195402298|\n",
      "|     cbk-zam|Estados_Unidos_de...|           2|      104406|1.1781609195402298|\n",
      "|     cbk-zam|           Jerusalem|           2|      127862|1.1781609195402298|\n",
      "+------------+--------------------+------------+------------+------------------+\n",
      "only showing top 20 rows\n",
      "\n"
     ]
    }
   ],
   "source": [
    "# Exercise 3\n",
    "\n",
    "inputDf = spark.read.format(\"csv\").option(\"delimiter\", \" \").load(\"pagecounts-20100806-030000\")\n",
    "inputDf = inputDf \\\n",
    "    .withColumnRenamed(\"_c0\", \"project_name\") \\\n",
    "    .withColumnRenamed(\"_c1\", \"page_title\") \\\n",
    "    .withColumnRenamed(\"_c2\", \"num_requests\") \\\n",
    "    .withColumnRenamed(\"_c3\", \"content_size\") \\\n",
    "    .withColumn(\"num_requests\", col(\"num_requests\").cast(\"long\")) \\\n",
    "    .withColumn(\"content_size\", col(\"content_size\").cast(\"long\"))\n",
    "\n",
    "print(\"Project summary\")\n",
    "projectSummary = inputDf.groupBy(\"project_name\") \\\n",
    "    .agg(\n",
    "        count(\"page_title\").alias(\"num_pages\"),\n",
    "        sum(\"content_size\").alias(\"content_size\"),\n",
    "        avg(\"num_requests\").alias(\"mean_requests\"))\n",
    "projectSummary.show()\n",
    "\n",
    "print(\"Most visited\")\n",
    "inputDf.join(projectSummary.select(\"project_name\", \"mean_requests\"), \"project_name\") \\\n",
    "    .filter(col(\"num_requests\") > col(\"mean_requests\")).show()\n",
    "#    .orderBy(col(\"num_requests\").desc()) \\\n",
    "    \n"
   ]
  },
  {
   "cell_type": "code",
   "execution_count": 5,
   "id": "6fb0f4a4-2ccf-4a01-bb60-fc8cdac03ad7",
   "metadata": {},
   "outputs": [
    {
     "name": "stdout",
     "output_type": "stream",
     "text": [
      "+---+------------+----------+---+-------+-----------+\n",
      "| id|        name|   surname|age|country|local_phone|\n",
      "+---+------------+----------+---+-------+-----------+\n",
      "|  1|       Simón|   Bolivar| 47|    VEN|489 895 965|\n",
      "|  2|       Fidel|    Castro| 90|     CU|956 268 348|\n",
      "|  3|        Jose|   Doroteo| 45|    MEX|985 621 444|\n",
      "|  4|     Ernesto|   Guevara| 39|     AR|895 325 481|\n",
      "|  5|        Hugo|    Chávez| 58|     VE|489 895 965|\n",
      "|  6|      Camilo|Cienfuegos| 27|    CUB|956 268 348|\n",
      "|  7|    Emiliano|    Zapata| 39|     ME|985 621 444|\n",
      "|  8|Juan Domingo|     Perón| 78|    ARG|985 621 444|\n",
      "+---+------------+----------+---+-------+-----------+\n",
      "\n",
      "+---+------------+----------+---+-------+-----------+----------+\n",
      "| id|        name|   surname|age|country|local_phone|phone_code|\n",
      "+---+------------+----------+---+-------+-----------+----------+\n",
      "|  1|       Simón|   Bolivar| 47|    VEN|489 895 965|       +58|\n",
      "|  2|       Fidel|    Castro| 90|     CU|956 268 348|       +53|\n",
      "|  3|        Jose|   Doroteo| 45|    MEX|985 621 444|       +52|\n",
      "|  4|     Ernesto|   Guevara| 39|     AR|895 325 481|       +54|\n",
      "|  5|        Hugo|    Chávez| 58|     VE|489 895 965|       +58|\n",
      "|  6|      Camilo|Cienfuegos| 27|    CUB|956 268 348|       +53|\n",
      "|  7|    Emiliano|    Zapata| 39|     ME|985 621 444|       +52|\n",
      "|  8|Juan Domingo|     Perón| 78|    ARG|985 621 444|       +54|\n",
      "+---+------------+----------+---+-------+-----------+----------+\n",
      "\n"
     ]
    }
   ],
   "source": [
    "# Exercise 4\n",
    "\n",
    "columns = [\"id\",\"name\",\"surname\",\"age\",\"country\",\"local_phone\"]\n",
    "input_data = [(1,\"Simón\",\"Bolivar\",47,\"VEN\",\"489 895 965\"),\n",
    "    (2,\"Fidel\",\"Castro\",90,\"CU\",\"956 268 348\"),\n",
    "    (3,\"Jose\",\"Doroteo\",45,\"MEX\",\"985 621 444\"),\n",
    "    (4,\"Ernesto\",\"Guevara\",39,\"AR\",\"895 325 481\"),\n",
    "    (5,\"Hugo\",\"Chávez\",58,\"VE\",\"489 895 965\"),\n",
    "    (6,\"Camilo\",\"Cienfuegos\",27,\"CUB\",\"956 268 348\"),\n",
    "    (7,\"Emiliano\",\"Zapata\",39,\"ME\",\"985 621 444\"),\n",
    "    (8,\"Juan Domingo\",\"Perón\",78,\"ARG\",\"985 621 444\"),\n",
    "  ]\n",
    "\n",
    "\n",
    "from pyspark.sql.functions import udf\n",
    "from pyspark.sql.types import StringType\n",
    "\n",
    "df = spark.createDataFrame(input_data).toDF(*columns)\n",
    "df.show()\n",
    "\n",
    "states = {\"VEN VE\":\"+58\", \"CU CUB\":\"+53\", \"ME MEX\":\"+52\", \"AR ARG\":\"+54\"}\n",
    "transformed_states = {}\n",
    "\n",
    "for key, value in states.items():\n",
    "    codes = key.split()\n",
    "    for code in codes:\n",
    "        transformed_states[code] = value\n",
    "\n",
    "# print(transformed_states)\n",
    "\n",
    "def country_convert_to_udf(code):\n",
    "    return transformed_states[code]\n",
    "\n",
    "country_convert = udf(country_convert_to_udf, StringType())\n",
    "\n",
    "mod_df = df.withColumn('phone_code', country_convert(col('country')))\n",
    "mod_df.show()"
   ]
  },
  {
   "cell_type": "code",
   "execution_count": null,
   "id": "3ec77f83-107e-4249-8a9a-6dd45f89d680",
   "metadata": {},
   "outputs": [],
   "source": []
  }
 ],
 "metadata": {
  "kernelspec": {
   "display_name": "Python 3 (ipykernel)",
   "language": "python",
   "name": "python3"
  },
  "language_info": {
   "codemirror_mode": {
    "name": "ipython",
    "version": 3
   },
   "file_extension": ".py",
   "mimetype": "text/x-python",
   "name": "python",
   "nbconvert_exporter": "python",
   "pygments_lexer": "ipython3",
   "version": "3.10.12"
  }
 },
 "nbformat": 4,
 "nbformat_minor": 5
}
