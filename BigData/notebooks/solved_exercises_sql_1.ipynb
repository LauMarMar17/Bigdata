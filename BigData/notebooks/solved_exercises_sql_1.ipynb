{
 "cells": [
  {
   "cell_type": "code",
   "execution_count": 1,
   "id": "481a8156-ec69-4785-889f-7c2c6473944b",
   "metadata": {},
   "outputs": [
    {
     "name": "stderr",
     "output_type": "stream",
     "text": [
      "23/12/10 13:48:32 WARN Utils: Your hostname, user-HP-EliteBook-840-G7-Notebook-PC resolves to a loopback address: 127.0.1.1; using 192.168.1.141 instead (on interface wlp0s20f3)\n",
      "23/12/10 13:48:32 WARN Utils: Set SPARK_LOCAL_IP if you need to bind to another address\n",
      "Setting default log level to \"WARN\".\n",
      "To adjust logging level use sc.setLogLevel(newLevel). For SparkR, use setLogLevel(newLevel).\n",
      "23/12/10 13:48:34 WARN Utils: Service 'SparkUI' could not bind on port 4040. Attempting port 4041.\n",
      "23/12/10 13:48:34 WARN Utils: Service 'SparkUI' could not bind on port 4041. Attempting port 4042.\n",
      "23/12/10 13:48:34 WARN Utils: Service 'SparkUI' could not bind on port 4042. Attempting port 4043.\n",
      "23/12/10 13:48:34 WARN Utils: Service 'SparkUI' could not bind on port 4043. Attempting port 4044.\n",
      "23/12/10 13:48:34 WARN Utils: Service 'SparkUI' could not bind on port 4044. Attempting port 4045.\n"
     ]
    }
   ],
   "source": [
    "from pyspark.sql import SparkSession\n",
    "from pyspark.sql.functions import *\n",
    "\n",
    "# Create a SparkSession\n",
    "spark = SparkSession.builder.appName(\"App\").getOrCreate()\n",
    "spark.sparkContext.setLogLevel(\"WARN\")"
   ]
  },
  {
   "cell_type": "code",
   "execution_count": 2,
   "id": "3364208b-2c1f-40bb-baff-f20acde568ef",
   "metadata": {},
   "outputs": [
    {
     "name": "stdout",
     "output_type": "stream",
     "text": [
      "root\n",
      " |-- project_name: string (nullable = true)\n",
      " |-- page_title: string (nullable = true)\n",
      " |-- num_requests: long (nullable = true)\n",
      " |-- content_size: long (nullable = true)\n",
      "\n",
      "+------------+-----------------------------------------------+------------+------------+\n",
      "|project_name|page_title                                     |num_requests|content_size|\n",
      "+------------+-----------------------------------------------+------------+------------+\n",
      "|aa.b        |Main_Page                                      |1           |4881        |\n",
      "|aa.b        |Special:Contributions/Beau                     |1           |4938        |\n",
      "|aa.b        |Special:WhatLinksHere/MediaWiki:Makesysopsubmit|1           |4550        |\n",
      "|aa.b        |User:Ahoerstemeier                             |1           |4388        |\n",
      "|aa.b        |User:Monobi                                    |1           |5500        |\n",
      "|aa.d        |Special:Contributions/Les_Meloures             |1           |4949        |\n",
      "|aa          |%D0%90%D1%80%D0%B3%D0%B0%D0%B7%D0%BC           |1           |655         |\n",
      "|aa          |Amiga_600                                      |1           |655         |\n",
      "|aa          |DJ_Dlee                                        |1           |653         |\n",
      "|aa          |Main_Page                                      |2           |9494        |\n",
      "|aa          |MediaWiki:Nstab-main                           |1           |4593        |\n",
      "|aa          |MediaWiki:nstab-main                           |1           |594         |\n",
      "|aa          |North_Vanlaiphai                               |1           |12849       |\n",
      "|aa          |User:Sevela.p                                  |1           |4394        |\n",
      "|ab.mw       |ab                                             |3           |150597      |\n",
      "+------------+-----------------------------------------------+------------+------------+\n",
      "only showing top 15 rows\n",
      "\n"
     ]
    }
   ],
   "source": [
    "# Exercise 1\n",
    "\n",
    "inputDf = spark.read.format(\"csv\").option(\"delimiter\", \" \").load(\"pagecounts-20100806-030000\")\n",
    "\n",
    "inputDf = inputDf \\\n",
    "    .withColumnRenamed(\"_c0\", \"project_name\") \\\n",
    "    .withColumnRenamed(\"_c1\", \"page_title\") \\\n",
    "    .withColumnRenamed(\"_c2\", \"num_requests\") \\\n",
    "    .withColumnRenamed(\"_c3\", \"content_size\") \\\n",
    "    .withColumn(\"num_requests\", col(\"num_requests\").cast(\"long\")) \\\n",
    "    .withColumn(\"content_size\", col(\"content_size\").cast(\"long\"))\n",
    "\n",
    "inputDf.printSchema()\n",
    "inputDf.show(15, truncate=False)"
   ]
  },
  {
   "cell_type": "code",
   "execution_count": 3,
   "id": "9c0a2a5c-d7d5-43ea-8d5c-42b3548c69ea",
   "metadata": {},
   "outputs": [
    {
     "name": "stderr",
     "output_type": "stream",
     "text": [
      "                                                                                \r"
     ]
    },
    {
     "name": "stdout",
     "output_type": "stream",
     "text": [
      "Total number of elements: 4729148\n",
      "Complete list of project names\n"
     ]
    },
    {
     "name": "stderr",
     "output_type": "stream",
     "text": [
      "                                                                                \r"
     ]
    },
    {
     "name": "stdout",
     "output_type": "stream",
     "text": [
      "['aa', 'aa.b', 'aa.d', 'ab', 'ab.mw', 'ace', 'af', 'af.b', 'af.d', 'af.mw', 'af.q', 'af.v', 'ak', 'ak.b', 'als', 'als.b', 'als.d', 'als.mw', 'als.n', 'als.q', 'am', 'am.d', 'am.q', 'an', 'an.d', 'an.mw', 'ang', 'ang.b', 'ang.d', 'ang.mw', 'ang.q', 'ar', 'ar.b', 'ar.d', 'ar.mw', 'ar.n', 'ar.q', 'ar.s', 'ar.v', 'arc', 'arz', 'arz.d', 'arz.s', 'as', 'as.b', 'as.d', 'ast', 'ast.b', 'ast.d', 'ast.mw', 'ast.q', 'av', 'av.d', 'ay', 'ay.b', 'ay.d', 'az', 'az.b', 'az.d', 'az.mw', 'az.q', 'az.s', 'ba', 'ba.b', 'ba.mw', 'bar', 'bar.d', 'bat-smg', 'bat-smg.d', 'bcl', 'bcl.d', 'be', 'be-x-old', 'be-x-old.d', 'be.b', 'be.d', 'be.mw', 'be.q', 'beta.v', 'bg', 'bg.b', 'bg.d', 'bg.mw', 'bg.n', 'bg.q', 'bg.s', 'bg.v', 'bh', 'bi', 'bi.b', 'bi.d', 'bm', 'bm.b', 'bm.d', 'bm.q', 'bn', 'bn.b', 'bn.d', 'bn.mw', 'bn.q', 'bn.s', 'bo', 'bo.b', 'bo.d', 'bpy', 'br', 'br.d', 'br.mw', 'br.q', 'bs', 'bs.b', 'bs.d', 'bs.mw', 'bs.n', 'bs.q', 'bs.s', 'bug', 'bug.d', 'bxr', 'ca', 'ca.b', 'ca.d', 'ca.mw', 'ca.n', 'ca.q', 'ca.s', 'ca.v', 'cbk-zam', 'cdo', 'cdo.d', 'ce', 'ce.d', 'ceb', 'ceb.d', 'ceb.mw', 'ch', 'ch.b', 'ch.d', 'cho', 'chr', 'chr.d', 'chy', 'ckb', 'co', 'co.b', 'co.d', 'co.mw', 'co.q', 'commons', 'commons.m', 'cr', 'cr.d', 'cr.q', 'crh', 'cs', 'cs.b', 'cs.d', 'cs.mw', 'cs.n', 'cs.q', 'cs.s', 'cs.v', 'csb', 'csb.d', 'cu', 'cv', 'cv.b', 'cv.d', 'cv.mw', 'cy', 'cy.b', 'cy.d', 'cy.mw', 'cy.q', 'cy.s', 'cz', 'da', 'da.b', 'da.d', 'da.mw', 'da.q', 'da.s', 'de', 'de.b', 'de.d', 'de.mw', 'de.n', 'de.q', 'de.s', 'de.v', 'diq', 'diq.d', 'dk', 'dsb', 'dv', 'dv.d', 'dv.n', 'dz', 'dz.d', 'ee', 'ee.d', 'el', 'el.b', 'el.d', 'el.mw', 'el.q', 'el.s', 'el.v', 'eml', 'en', 'en.b', 'en.d', 'en.mw', 'en.n', 'en.q', 'en.s', 'en.v', 'en2', 'eo', 'eo.b', 'eo.d', 'eo.mw', 'eo.q', 'eo.s', 'es', 'es.b', 'es.d', 'es.mw', 'es.n', 'es.q', 'es.s', 'es.v', 'et', 'et.b', 'et.d', 'et.mw', 'et.q', 'et.s', 'eu', 'eu.b', 'eu.d', 'eu.mw', 'eu.q', 'ext', 'fa', 'fa.b', 'fa.d', 'fa.q', 'fa.s', 'ff', 'fi', 'fi.b', 'fi.d', 'fi.mw', 'fi.n', 'fi.q', 'fi.s', 'fi.v', 'fiu-vro', 'fiu-vro.b', 'fj', 'fj.d', 'fo', 'fo.d', 'fo.s', 'fo.v', 'fr', 'fr.b', 'fr.d', 'fr.mw', 'fr.n', 'fr.q', 'fr.s', 'fr.v', 'frp', 'frp.d', 'fur', 'fur.b', 'fur.d', 'fy', 'fy.b', 'fy.d', 'fy.mw', 'ga', 'ga.b', 'ga.d', 'ga.mw', 'ga.q', 'ga.s', 'gan', 'gan.d', 'gd', 'gd.d', 'gd.mw', 'gl', 'gl.b', 'gl.d', 'gl.mw', 'gl.q', 'gl.s', 'glk', 'gn', 'gn.b', 'gn.d', 'got', 'got.b', 'gu', 'gu.b', 'gu.d', 'gu.q', 'gu.v', 'gv', 'gv.d', 'gv.mw', 'ha', 'hak', 'haw', 'haw.d', 'he', 'he.b', 'he.d', 'he.mw', 'he.n', 'he.q', 'he.s', 'hi', 'hi.b', 'hi.d', 'hi.q', 'hif', 'ho', 'hr', 'hr.b', 'hr.d', 'hr.mw', 'hr.n', 'hr.q', 'hr.s', 'hsb', 'hsb.d', 'hsb.mw', 'ht', 'ht.d', 'ht.mw', 'ht.s', 'hu', 'hu.b', 'hu.d', 'hu.mw', 'hu.n', 'hu.q', 'hu.s', 'hy', 'hy.b', 'hy.d', 'hy.mw', 'hy.q', 'hy.s', 'hz', 'ia', 'ia.b', 'ia.d', 'ia.mw', 'id', 'id.b', 'id.d', 'id.mw', 'id.n', 'id.q', 'id.s', 'id.v', 'ie', 'ie.b', 'ie.d', 'ig', 'ig.d', 'ii', 'ik', 'ik.d', 'ilo', 'ilo.mw', 'incubator.m', 'io', 'io.d', 'io.mw', 'is', 'is.b', 'is.d', 'is.mw', 'is.q', 'is.s', 'it', 'it.b', 'it.d', 'it.mw', 'it.n', 'it.q', 'it.s', 'it.v', 'iu', 'iu.d', 'ja', 'ja.b', 'ja.d', 'ja.mw', 'ja.n', 'ja.q', 'ja.s', 'ja.v', 'jbo', 'jbo.d', 'jp', 'jp.mw', 'jv', 'jv.d', 'jv.mw', 'ka', 'ka.b', 'ka.d', 'ka.mw', 'ka.q', 'kaa', 'kaa.b', 'kaa.d', 'kaa.n', 'kaa.q', 'kaa.s', 'kab', 'kg', 'ki', 'kj', 'kk', 'kk.d', 'kk.q', 'kl', 'kl.d', 'km', 'km.b', 'km.d', 'kn', 'kn.b', 'kn.d', 'kn.q', 'kn.s', 'kn.v', 'ko', 'ko.b', 'ko.d', 'ko.mw', 'ko.q', 'ko.s', 'kr', 'kr.q', 'krc', 'krc.d', 'ks', 'ks.b', 'ks.d', 'ks.q', 'ksh', 'ksh.d', 'ksh.mw', 'ku', 'ku.b', 'ku.d', 'ku.mw', 'ku.q', 'kv', 'kv.b', 'kw', 'kw.d', 'kw.q', 'ky', 'ky.b', 'ky.d', 'ky.q', 'la', 'la.b', 'la.d', 'la.mw', 'la.n', 'la.q', 'la.s', 'la.v', 'lad', 'lb', 'lb.b', 'lb.d', 'lb.mw', 'lb.q', 'lb.s', 'lbe', 'lg', 'li', 'li.d', 'li.q', 'li.s', 'lij', 'lmo', 'lmo.d', 'ln', 'ln.b', 'ln.d', 'lo', 'lo.d', 'lt', 'lt.b', 'lt.d', 'lt.mw', 'lt.q', 'lt.s', 'lv', 'lv.b', 'lv.d', 'lv.mw', 'm', 'map-bms', 'mdf', 'meta', 'meta.m', 'mg', 'mg.b', 'mg.d', 'mh.d', 'mhr', 'mi', 'mi.b', 'mi.d', 'mk', 'mk.b', 'mk.d', 'mk.s', 'ml', 'ml.b', 'ml.d', 'ml.mw', 'ml.n', 'ml.q', 'ml.s', 'ml.v', 'mn', 'mn.b', 'mn.d', 'mo', 'mr', 'mr.b', 'mr.d', 'mr.mw', 'mr.q', 'ms', 'ms.b', 'ms.d', 'ms.mw', 'mt', 'mt.d', 'mt.mw', 'mus', 'mwl', 'mwl.q', 'my', 'my.d', 'myv', 'mzn', 'mzn.d', 'na', 'na.b', 'na.d', 'na.q', 'nah', 'nah.b', 'nah.d', 'nah.mw', 'nan', 'nap', 'nap.d', 'nap.mw', 'nb', 'nds', 'nds-nl', 'nds.d', 'nds.q', 'ne', 'ne.b', 'ne.d', 'new', 'new.d', 'ng', 'nl', 'nl.b', 'nl.d', 'nl.mw', 'nl.n', 'nl.q', 'nl.s', 'nn', 'nn.b', 'nn.d', 'nn.mw', 'nn.q', 'no', 'no.b', 'no.d', 'no.mw', 'no.n', 'no.q', 'no.s', 'nostalgia', 'nov', 'nov.d', 'nrm', 'nv', 'nv.d', 'ny', 'oc', 'oc.b', 'oc.d', 'oc.mw', 'om', 'om.d', 'or', 'or.d', 'os', 'os.q', 'os.v', 'outreach.m', 'pa', 'pa.b', 'pa.d', 'pag', 'pam', 'pam.b', 'pam.d', 'pam.mw', 'pam.s', 'pap', 'pap.d', 'pcd', 'pdc', 'pi', 'pi.d', 'pih', 'pl', 'pl.b', 'pl.d', 'pl.mw', 'pl.n', 'pl.q', 'pl.s', 'pms', 'pms.d', 'pms.mw', 'pnb', 'pnt', 'ps', 'ps.b', 'ps.d', 'ps.mw', 'ps.q', 'ps.s', 'pt', 'pt.b', 'pt.d', 'pt.mw', 'pt.n', 'pt.q', 'pt.s', 'pt.v', 'qu', 'qu.b', 'qu.d', 'qu.mw', 'qu.q', 'quality.m', 'rm', 'rm.b', 'rm.d', 'rmy', 'rn', 'rn.d', 'ro', 'ro.b', 'ro.d', 'ro.mw', 'ro.n', 'ro.q', 'ro.s', 'roa-rup', 'roa-rup.d', 'roa-tara', 'ru', 'ru.b', 'ru.d', 'ru.mw', 'ru.n', 'ru.q', 'ru.s', 'ru.v', 'rw', 'rw.d', 'sa', 'sa.b', 'sa.d', 'sa.s', 'sah', 'sah.d', 'sc', 'sc.d', 'sc.mw', 'scn', 'scn.d', 'sco', 'sco.d', 'sd', 'sd.d', 'sd.n', 'se', 'se.b', 'se.d', 'sg', 'sg.d', 'sh', 'sh.d', 'sh.mw', 'sh.v', 'si', 'si.b', 'si.d', 'si.s', 'simple', 'simple.b', 'simple.d', 'simple.mw', 'simple.n', 'simple.q', 'simple.s', 'sk', 'sk.b', 'sk.d', 'sk.mw', 'sk.q', 'sk.s', 'sl', 'sl.b', 'sl.d', 'sl.mw', 'sl.q', 'sl.s', 'sm', 'sn', 'so', 'so.b', 'so.d', 'sources', 'species', 'species.m', 'sq', 'sq.b', 'sq.d', 'sq.q', 'sr', 'sr.b', 'sr.d', 'sr.mw', 'sr.n', 'sr.q', 'sr.s', 'srn', 'ss', 'ss.d', 'st', 'st.d', 'stq', 'strategy.m', 'su', 'su.b', 'su.d', 'su.q', 'sv', 'sv.b', 'sv.d', 'sv.mw', 'sv.n', 'sv.q', 'sv.s', 'sv.v', 'sw', 'sw.b', 'sw.d', 'sw.mw', 'sw.n', 'sw.v', 'szl', 'szl.q', 'ta', 'ta.b', 'ta.d', 'ta.n', 'ta.q', 'ta.s', 'te', 'te.b', 'te.d', 'te.mw', 'te.q', 'te.s', 'test', 'tet', 'tet.d', 'tg', 'tg.d', 'th', 'th.b', 'th.d', 'th.mw', 'th.n', 'th.q', 'th.s', 'ti', 'ti.d', 'tk', 'tk.b', 'tk.d', 'tk.q', 'tl', 'tl.b', 'tl.d', 'tl.mw', 'tl.n', 'tn', 'tn.d', 'to', 'to.d', 'to.mw', 'tpi', 'tpi.d', 'tr', 'tr.b', 'tr.d', 'tr.mw', 'tr.n', 'tr.q', 'tr.s', 'ts', 'ts.d', 'tt', 'tt.b', 'tt.d', 'tt.mw', 'tt.q', 'tum', 'tw', 'tw.d', 'ty', 'udm', 'ug', 'ug.d', 'ug.q', 'uk', 'uk.b', 'uk.d', 'uk.mw', 'uk.n', 'uk.q', 'uk.s', 'uk.v', 'ur', 'ur.b', 'ur.d', 'ur.mw', 'ur.q', 'usability.m', 'uz', 'uz.b', 'uz.d', 'uz.mw', 'uz.q', 've', 'vec', 'vec.d', 'vec.n', 'vi', 'vi.b', 'vi.d', 'vi.mw', 'vi.q', 'vi.s', 'vi.v', 'vls', 'vo', 'vo.b', 'vo.d', 'vo.q', 'wa', 'wa.b', 'wa.d', 'war', 'war.d', 'war.mw', 'wo', 'wo.d', 'wo.q', 'wuu', 'www', 'www.b', 'www.d', 'www.n', 'www.q', 'www.w', 'xal', 'xh', 'xh.b', 'xh.d', 'yi', 'yi.d', 'yi.s', 'yo', 'yo.b', 'yo.d', 'yo.mw', 'za', 'za.b', 'za.d', 'za.q', 'zea', 'zh', 'zh-classical', 'zh-min-nan', 'zh-min-nan.b', 'zh-min-nan.d', 'zh-min-nan.q', 'zh-min-nan.s', 'zh-tw', 'zh-yue', 'zh-yue.d', 'zh-yue.n', 'zh.b', 'zh.d', 'zh.mw', 'zh.n', 'zh.q', 'zh.s', 'zh.v', 'zu', 'zu.b', 'zu.d']\n"
     ]
    },
    {
     "name": "stderr",
     "output_type": "stream",
     "text": [
      "                                                                                \r"
     ]
    },
    {
     "name": "stdout",
     "output_type": "stream",
     "text": [
      "+------------+------------+\n",
      "|project_name|total_size  |\n",
      "+------------+------------+\n",
      "|en          |299984572954|\n",
      "+------------+------------+\n",
      "\n"
     ]
    },
    {
     "name": "stderr",
     "output_type": "stream",
     "text": [
      "                                                                                \r"
     ]
    },
    {
     "name": "stdout",
     "output_type": "stream",
     "text": [
      "+------------+------------------------+------------+------------+\n",
      "|project_name|page_title              |num_requests|content_size|\n",
      "+------------+------------------------+------------+------------+\n",
      "|en          |Special:Random          |405305      |218224631   |\n",
      "|en          |Special:Search          |222902      |561104989   |\n",
      "|en          |Main_Page               |222302      |5025224410  |\n",
      "|en          |404_error               |42051       |135095134   |\n",
      "|en          |Special:Export/Wikipedia|32765       |107400209   |\n",
      "+------------+------------------------+------------+------------+\n",
      "only showing top 5 rows\n",
      "\n"
     ]
    }
   ],
   "source": [
    "# Exercise 2\n",
    "\n",
    "print(\"Total number of elements:\", inputDf.count())\n",
    "\n",
    "print(\"Complete list of project names\")\n",
    "projectList = inputDf.select(\"project_name\").distinct().rdd.map(lambda r: r[0]).collect()\n",
    "print(projectList)\n",
    "\n",
    "inputDf.filter(col(\"project_name\") == \"en\") \\\n",
    "    .groupBy(\"project_name\") \\\n",
    "    .agg(sum(\"content_size\").alias(\"total_size\")) \\\n",
    "    .show(truncate=False)\n",
    "\n",
    "inputDf.filter(col(\"project_name\") == \"en\") \\\n",
    "    .orderBy(col(\"num_requests\").desc()) \\\n",
    "    .show(5, truncate=False)\n"
   ]
  },
  {
   "cell_type": "code",
   "execution_count": 4,
   "id": "c0b91d11-a363-47eb-9722-dacf8687d143",
   "metadata": {},
   "outputs": [
    {
     "name": "stderr",
     "output_type": "stream",
     "text": [
      "                                                                                \r"
     ]
    },
    {
     "name": "stdout",
     "output_type": "stream",
     "text": [
      "Total number of elements: 4729148\n",
      "Complete list of project names\n"
     ]
    },
    {
     "name": "stderr",
     "output_type": "stream",
     "text": [
      "                                                                                \r"
     ]
    },
    {
     "name": "stdout",
     "output_type": "stream",
     "text": [
      "['cbk-zam', 'co.b', 'cs.n', 'en', 'be-x-old.d', 'cr', 'as.d', 'dv.n', 'cr.d', 'crh', 'ast.q', 'als.n', 'ang.q', 'am.d', 'af.q', 'cy.d', 'an.mw', 'be.mw', 'cs.d', 'cy.s', 'bug.d', 'chr', 'cv', 'ba', 'en.v', 'ang', 'de.b', 'dv.d', 'av.d', 'bn.q', 'dz.d', 'bcl', 'bg.v', 'ceb', 'chr.d', 'arz.d', 'az.d', 'cs.q', 'cs.s', 'en.s', 'am.q', 'ay', 'bg.s', 'arz.s', 'ast.mw', 'bn.b', 'el.s', 'ce.d', 'arc', 'br.mw', 'da.s', 'bg.n', 'en.n', 'als', 'ast.d', 'da.d', 'da.q', 'en.mw', 'bug', 'cs.mw', 'cdo.d', 'bar.d', 'be', 'br.q', 'de.s', 'cs', 'bat-smg', 'bs.n', 'ar.d', 'ar.v', 'ckb', 'bi.b', 'bar', 'cy.b', 'bg.mw', 'co.q', 'ar.q', 'co', 'ast.b', 'az.mw', 'de', 'br', 'da.b', 'ab', 'ch.d', 'diq.d', 'bo.d', 'ar.s', 'ee.d', 'br.d', 'cho', 'cv.b', 'el.mw', 'el', 'bs.b', 'af', 'de.d', 'en.d', 'bo.b', 'an.d', 'ar', 'als.mw', 'ce', 'cv.d', 'af.v', 'cv.mw', 'bn.d', 'bo', 'bs.q', 'bn', 'csb.d', 'de.n', 'dv', 'ace', 'aa.b', 'bm', 'ca', 'ang.b', 'de.mw', 'ast', 'bg.d', 'ca.n', 'be.d', 'bg.q', 'ee', 'ay.d', 'bn.s', 'el.v', 'als.q', 'ang.d', 'bcl.d', 'cs.b', 'ab.mw', 'as.b', 'co.d', 'ch', 'diq', 'de.v', 'csb', 'cy.mw', 'ak.b', 'ang.mw', 'ca.v', 'als.d', 'ceb.d', 'af.d', 'be-x-old', 'en.b', 'ay.b', 'bs.s', 'en2', 'ca.d', 'el.d', 'beta.v', 'bm.d', 'bi', 'bg', 'eml', 'an', 'commons.m', 'bg.b', 'cu', 'ar.mw', 'cy', 'dz', 'cz', 'chy', 'commons', 'bi.d', 'bpy', 'bs', 'af.b', 'als.b', 'cr.q', 'ak', 'cdo', 'bm.q', 'az', 'az.q', 'ba.mw', 'bat-smg.d', 'ca.q', 'co.mw', 'as', 'am', 'av', 'ca.s', 'da.mw', 'ba.b', 'de.q', 'el.q', 'bs.d', 'be.b', 'ar.b', 'bxr', 'dk', 'dsb', 'bm.b', 'ch.b', 'ar.n', 'cs.v', 'bh', 'bn.mw', 'aa.d', 'az.s', 'af.mw', 'arz', 'bs.mw', 'ca.mw', 'cy.q', 'be.q', 'en.q', 'ceb.mw', 'da', 'az.b', 'el.b', 'aa', 'ca.b', 'es.mw', 'eo.s', 'es.v', 'eo.b', 'es.n', 'eo.q', 'eo.d', 'es', 'eo.mw', 'es.d', 'es.b', 'es.q', 'eo', 'es.s', 'fr.n', 'ja.n', 'hr.n', 'ie.b', 'eu.mw', 'hu.n', 'fy.b', 'got', 'ia.d', 'ik.d', 'fy', 'hi.d', 'hsb', 'hu.b', 'is.b', 'ja.q', 'et.d', 'fi.b', 'gl.s', 'ja.mw', 'et.b', 'gu.d', 'haw', 'ia.mw', 'gd.mw', 'haw.d', 'got.b', 'hy', 'ext', 'gv', 'io', 'hr.q', 'fr.d', 'io.mw', 'gl', 'he.d', 'eu.d', 'fa.s', 'ga.b', 'it.s', 'ho', 'is.mw', 'ja.d', 'gan', 'ga.q', 'fy.d', 'ii', 'fi.q', 'hak', 'fj.d', 'ha', 'ht.s', 'fi.v', 'it.n', 'fr.mw', 'hy.q', 'hz', 'fi.s', 'fo.v', 'hr.mw', 'gv.mw', 'ia', 'ja.v', 'hy.b', 'ik', 'gu.v', 'hsb.mw', 'hy.d', 'fa.d', 'he.n', 'fj', 'ilo', 'id.s', 'is', 'fa.b', 'hr.d', 'gl.mw', 'hr', 'fo.s', 'eu', 'it.d', 'ilo.mw', 'it', 'hu.d', 'glk', 'id.d', 'fi.mw', 'fi.n', 'id.q', 'io.d', 'fa.q', 'eu.q', 'is.d', 'fi.d', 'id.b', 'hu', 'gn.b', 'he.s', 'id.n', 'fy.mw', 'incubator.m', 'fiu-vro', 'gu', 'ja.s', 'fur.b', 'gu.b', 'hi.q', 'ga.mw', 'ga', 'eu.b', 'gl.d', 'ie.d', 'iu', 'gd.d', 'hu.q', 'gl.q', 'et.q', 'gu.q', 'ht.mw', 'he.q', 'frp.d', 'ht', 'et.mw', 'iu.d', 'ia.b', 'frp', 'ff', 'he.mw', 'fa', 'et.s', 'fiu-vro.b', 'id.v', 'it.mw', 'fr.b', 'fo', 'gn.d', 'hy.mw', 'hi', 'fr.q', 'fur', 'is.s', 'et', 'gn', 'hi.b', 'ig', 'it.q', 'fo.d', 'fur.d', 'it.v', 'fr', 'hr.s', 'hsb.d', 'id.mw', 'it.b', 'hr.b', 'fr.v', 'ga.d', 'gan.d', 'ie', 'gl.b', 'he.b', 'ja', 'hif', 'gd', 'ht.d', 'id', 'ga.s', 'gv.d', 'is.q', 'hu.s', 'fr.s', 'fi', 'hu.mw', 'hy.s', 'ig.d', 'he', 'ja.b', 'mh.d', 'ro.b', 'nds.q', 'pi.d', 'kaa.d', 'pi', 'new.d', 'li.s', 'nostalgia', 'ky.b', 'ne', 'nah.d', 'nb', 'ps', 'km.d', 'pl.mw', 'pl.n', 'pms.mw', 'ml.s', 'rm.b', 'roa-rup.d', 'os.q', 'kn.b', 'ko.mw', 'kn.s', 'ro', 'mzn', 'ka', 'pl.q', 'lij', 'jp', 'jbo.d', 'kw', 'lt.mw', 'nv', 'km.b', 'kw.d', 'lv', 'ku.q', 'new', 'oc.b', 'pl', 'ps.b', 'no.d', 'ln', 'mg.d', 'kaa', 'rm', 'kn.v', 'roa-rup', 'myv', 'pl.b', 'ksh.d', 'pih', 'no.n', 'qu.q', 'ka.mw', 'lt.b', 'ml.q', 'kk', 'pam.s', 'm', 'jv.mw', 'pt', 'nl.d', 'pap.d', 'ks.q', 'meta', 'oc', 'ky.d', 'na.b', 'rn.d', 'mr.b', 'ro.mw', 'pt.d', 'kk.d', 'ko', 'lbe', 'ln.b', 'map-bms', 'ms', 'li.d', 'pam.b', 'ml.d', 'oc.mw', 'jv', 'lmo.d', 'kw.q', 'ml.mw', 'mr.q', 'mwl', 'mn.d', 'kn.d', 'lt.q', 'qu', 'nov.d', 'lmo', 'mr.d', 'pam', 'mr', 'kj', 'kv', 'mg', 'mhr', 'lb.q', 'lb.b', 'pt.b', 'nan', 'ru.s', 'nl.b', 'qu.mw', 'pdc', 'pt.s', 'ku.b', 'nn', 'kr.q', 'no.mw', 'ro.d', 'nn.d', 'na.d', 'pt.v', 'lg', 'ka.d', 'kaa.n', 'nl.n', 'kr', 'ky.q', 'ms.b', 'la.s', 'na.q', 'ne.b', 'ku', 'lb.d', 'mt.d', 'nrm', 'rn', 'ro.q', 'quality.m', 'kn', 'la.q', 'meta.m', 'nah', 'ne.d', 'ps.q', 'ps.mw', 'mk.b', 'my.d', 'no.q', 'kl.d', 'nl', 'os.v', 'mi.d', 'mus', 'km', 'lb.mw', 'lad', 'ml.v', 'mn.b', 'nah.b', 'kaa.s', 'ku.d', 'la.v', 'pt.n', 'ro.n', 'kl', 'lv.b', 'mn', 'ko.s', 'my', 'kaa.b', 'pms', 'nds', 'pl.d', 'jp.mw', 'mt', 'mzn.d', 'ru', 'ml.b', 'ksh.mw', 'lb.s', 'ml', 'os', 'ps.s', 'nap.d', 'ng', 'krc.d', 'ks.d', 'mk', 'mt.mw', 'kn.q', 'krc', 'lt', 'rmy', 'mdf', 'or.d', 'jv.d', 'ml.n', 'oc.d', 'outreach.m', 'kg', 'qu.d', 'ro.s', 'nov', 'la.mw', 'ka.q', 'pa', 'ru.d', 'ksh', 'no', 'lv.d', 'lt.s', 'nds.d', 'nl.mw', 'li.q', 'nds-nl', 'pa.d', 'ps.d', 'kaa.q', 'li', 'mk.s', 'lv.mw', 'ks.b', 'ku.mw', 'la.n', 'pam.mw', 'mr.mw', 'rm.d', 'la.b', 'pl.s', 'nah.mw', 'kk.q', 'ko.d', 'nn.q', 'ko.q', 'nv.d', 'mg.b', 'la.d', 'mi', 'ks', 'mk.d', 'pnt', 'nl.s', 'nn.b', 'ki', 'ky', 'no.s', 'om', 'pap', 'mi.b', 'ms.mw', 'ru.b', 'no.b', 'kv.b', 'lo.d', 'kab', 'ms.d', 'om.d', 'nn.mw', 'ru.q', 'pa.b', 'nap', 'jbo', 'mwl.q', 'pt.mw', 'la', 'ru.mw', 'nap.mw', 'or', 'pms.d', 'pnb', 'roa-tara', 'ny', 'pam.d', 'pcd', 'ru.v', 'lo', 'ln.d', 'qu.b', 'lb', 'na', 'nl.q', 'ka.b', 'pt.q', 'pag', 'ko.b', 'lt.d', 'mo', 'ru.n', 'sd.d', 'uk.v', 'ss', 'te.mw', 'tl.b', 'zh-tw', 'sl.mw', 'species', 'ty', 'vi', 'ts.d', 'sv.mw', 'ug.q', 'tt.d', 'sl', 'wuu', 'uz', 'sk.q', 'www.w', 'sw.n', 'uk.b', 'ur', 'ti', 'vi.d', 'zh.q', 'tl.n', 'tpi', 'sources', 'th.q', 'za', 'st', 'simple.d', 'simple.n', 'sk', 'yi', 'www.n', 'sr.s', 'tt.b', 'vec.n', 'tl', 'zh.d', 'zu.b', 'sr.n', 'sh', 'sd.n', 'sg', 'sw', 'sv.n', 'sv.b', 'sv.q', 'uk', 'uz.q', 'se.b', 'sk.mw', 'sl.s', 'species.m', 'tr.mw', 'ur.mw', 'to.d', 'th.d', 'th.s', 'uz.b', 'sa.b', 'tw', 'vi.mw', 'yi.d', 'si.b', 'sv.s', 'ur.q', 'zh-yue', 'scn.d', 'sv.d', 'sq.b', 'te.b', 'th.b', 'xh.b', 'tk.d', 'zh-min-nan.q', 'sq.q', 'sr', 'www.d', 'sah.d', 'sw.v', 'sa', 'sc', 'tr', 'zh.v', 'tt', 'sr.d', 'th.n', 'sd', 'th.mw', 'vo.q', 'su.q', 'tk', 'vls', 'simple.s', 'www.b', 'tk.q', 'sr.q', 'usability.m', 'tet', 'zh-min-nan.d', 'simple.b', 'uk.d', 'sk.s', 'te.d', 'xh.d', 'ta.b', 'zh-classical', 'te', 'zh-min-nan.b', 'zh.mw', 'su', 'sv.v', 'tt.q', 'sv', 'yo.d', 'zh.s', 'zh.n', 'srn', 'xal', 'rw', 'si.s', 'so.b', 'sl.d', 'tn.d', 'tw.d', 'uz.d', 'sg.d', 'sl.b', 'uk.q', 'sr.b', 'war.mw', 'tg', 've', 'tn', 'tl.d', 'zea', 'zh-min-nan', 'sw.mw', 'ti.d', 'si', 'xh', 'tpi.d', 'ta.n', 'th', 'sc.d', 'si.d', 'uz.mw', 'yo.mw', 'wa.b', 'za.q', 'scn', 'se.d', 'za.b', 'sk.d', 'zu.d', 'wo.q', 'tr.q', 'tr.n', 'simple.q', 'ts', 'tr.s', 'rw.d', 'sn', 'sw.d', 'yo', 'zh.b', 'tg.d', 'yi.s', 'su.d', 'ug.d', 'to.mw', 'tum', 'vi.b', 'vo', 'ta.q', 'uk.mw', 'uk.s', 'vi.s', 'vo.b', 'sh.v', 'ug', 'ss.d', 'vi.v', 'sah', 'sl.q', 'vec.d', 'zh-min-nan.s', 'wa', 'wo', 'wo.d', 'sco.d', 'tt.mw', 'zu', 'sh.d', 'tet.d', 'ur.d', 'vo.d', 'war', 'te.s', 'ta', 'za.d', 'szl', 'tr.d', 'so.d', 'ta.d', 'zh', 'so', 'sa.s', 'simple.mw', 'sc.mw', 'sh.mw', 'vec', 'se', 'ur.b', 'wa.d', 'st.d', 'sq.d', 'szl.q', 'sk.b', 'uk.n', 'www.q', 'su.b', 'tr.b', 'zh-yue.n', 'sm', 'stq', 'sa.d', 'simple', 'tk.b', 'war.d', 'sco', 'te.q', 'zh-yue.d', 'test', 'udm', 'vi.q', 'yo.b', 'to', 'ta.s', 'sr.mw', 'sq', 'tl.mw', 'www', 'strategy.m', 'sw.b']\n"
     ]
    },
    {
     "name": "stderr",
     "output_type": "stream",
     "text": [
      "                                                                                \r"
     ]
    },
    {
     "name": "stdout",
     "output_type": "stream",
     "text": [
      "+-----------------+\n",
      "|sum(content_size)|\n",
      "+-----------------+\n",
      "|     299984572954|\n",
      "+-----------------+\n",
      "\n"
     ]
    },
    {
     "name": "stderr",
     "output_type": "stream",
     "text": [
      "[Stage 21:==================================================>       (7 + 1) / 8]\r"
     ]
    },
    {
     "name": "stdout",
     "output_type": "stream",
     "text": [
      "+------------+--------------------+------------+------------+\n",
      "|project_name|          page_title|num_requests|content_size|\n",
      "+------------+--------------------+------------+------------+\n",
      "|          en|      Special:Random|      405305|   218224631|\n",
      "|          en|      Special:Search|      222902|   561104989|\n",
      "|          en|           Main_Page|      222302|  5025224410|\n",
      "|          en|           404_error|       42051|   135095134|\n",
      "|          en|Special:Export/Wi...|       32765|   107400209|\n",
      "+------------+--------------------+------------+------------+\n",
      "\n"
     ]
    },
    {
     "name": "stderr",
     "output_type": "stream",
     "text": [
      "                                                                                \r"
     ]
    }
   ],
   "source": [
    "# Exercise 2 with pure SQL\n",
    "\n",
    "inputDf.createOrReplaceTempView(\"myFakeTable\")\n",
    "n_elmnts = spark.sql(\"select count(*) from myFakeTable\").first()\n",
    "print(\"Total number of elements:\", n_elmnts[0])\n",
    "\n",
    "print(\"Complete list of project names\")\n",
    "list = spark.sql(\"select distinct project_name from myFakeTable\").collect()\n",
    "# Extract project names\n",
    "project_names = [row.project_name for row in list]\n",
    "# Print\n",
    "print(project_names)\n",
    "\n",
    "\n",
    "spark.sql(\"select sum(content_size) from myFakeTable where project_name = 'en'\").show()\n",
    "spark.sql(\"select * from myFakeTable where project_name = 'en' order by num_requests desc limit 5\").show()\n"
   ]
  },
  {
   "cell_type": "code",
   "execution_count": null,
   "id": "d4e554dc-380c-4b17-9176-320c5ede7c34",
   "metadata": {},
   "outputs": [],
   "source": []
  }
 ],
 "metadata": {
  "kernelspec": {
   "display_name": "Python 3 (ipykernel)",
   "language": "python",
   "name": "python3"
  },
  "language_info": {
   "codemirror_mode": {
    "name": "ipython",
    "version": 3
   },
   "file_extension": ".py",
   "mimetype": "text/x-python",
   "name": "python",
   "nbconvert_exporter": "python",
   "pygments_lexer": "ipython3",
   "version": "3.10.12"
  }
 },
 "nbformat": 4,
 "nbformat_minor": 5
}
