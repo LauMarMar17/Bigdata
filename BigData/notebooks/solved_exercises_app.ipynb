{
 "cells": [
  {
   "cell_type": "code",
   "execution_count": 1,
   "id": "2720c580-5cae-4e95-acc8-513899af8603",
   "metadata": {},
   "outputs": [
    {
     "name": "stderr",
     "output_type": "stream",
     "text": [
      "23/12/10 19:37:45 WARN Utils: Your hostname, user-HP-EliteBook-840-G7-Notebook-PC resolves to a loopback address: 127.0.1.1; using 192.168.1.141 instead (on interface wlp0s20f3)\n"
     ]
    }
   ],
   "source": [
    "# Create Spark Context with SparkConf\n",
    "from pyspark import SparkConf, SparkContext\n",
    "conf = SparkConf()\n",
    "sc = SparkContext.getOrCreate(conf)\n"
   ]
  },
  {
   "cell_type": "code",
   "execution_count": 2,
   "id": "04fd9644-c7c8-41c7-b3df-583e432404c5",
   "metadata": {},
   "outputs": [],
   "source": [
    "# Excercise 1\n",
    "# Add the phone prefix to the numbers using as reference the International Calling Codes\n",
    "# Use a Broadcast Variable\n",
    "\n",
    "input_data = [(\"Simón\",\"Bolivar\",\"VEN\",\"489 895 965\"),\n",
    "    (\"Fidel\",\"Castro\",\"CU\",\"956 268 348\"),\n",
    "    (\"Jose\",\"Doroteo\",\"MEX\",\"985 621 444\"),\n",
    "    (\"Ernesto\",\"Guevara\",\"AR\",\"895 325 481\"),\n",
    "    (\"Hugo\",\"Chávez\",\"VE\",\"489 895 965\"),\n",
    "    (\"Camilo\",\"Cienfuegos\",\"CUB\",\"956 268 348\"),\n",
    "    (\"Andrés Manuel\",\"López\",\"ME\",\"985 621 444\"),\n",
    "    (\"Juan Domingo\",\"Perón\",\"ARG\",\"985 621 444\"),\n",
    "  ]\n",
    "\n",
    "rdd = sc.parallelize(input_data)"
   ]
  },
  {
   "cell_type": "code",
   "execution_count": 3,
   "id": "bc7c1c82-9c5c-44b2-9112-626d2c57af2d",
   "metadata": {},
   "outputs": [
    {
     "name": "stdout",
     "output_type": "stream",
     "text": [
      "{'VEN': '+58', 'VE': '+58', 'CU': '+53', 'CUB': '+53', 'ME': '+52', 'MEX': '+52', 'AR': '+54', 'ARG': '+54'}\n",
      "\n",
      "\n",
      "('Simón', 'Bolivar', 'VEN', '+58 489 895 965')\n",
      "('Fidel', 'Castro', 'CU', '+53 956 268 348')\n",
      "('Jose', 'Doroteo', 'MEX', '+52 985 621 444')\n",
      "('Ernesto', 'Guevara', 'AR', '+54 895 325 481')\n",
      "('Hugo', 'Chávez', 'VE', '+58 489 895 965')\n",
      "('Camilo', 'Cienfuegos', 'CUB', '+53 956 268 348')\n",
      "('Andrés Manuel', 'López', 'ME', '+52 985 621 444')\n",
      "('Juan Domingo', 'Perón', 'ARG', '+54 985 621 444')\n"
     ]
    }
   ],
   "source": [
    "# Solution\n",
    "\n",
    "states = {\"VEN VE\":\"+58\", \"CU CUB\":\"+53\", \"ME MEX\":\"+52\", \"AR ARG\":\"+54\"}\n",
    "transformed_states = {}\n",
    "\n",
    "for key, value in states.items():\n",
    "    codes = key.split()\n",
    "    for code in codes:\n",
    "        transformed_states[code] = value\n",
    "\n",
    "print(transformed_states)\n",
    "broadcastStates = sc.broadcast(transformed_states)\n",
    "\n",
    "def country_convert(code):\n",
    "    return broadcastStates.value[code]\n",
    "\n",
    "result = rdd.map(lambda x: (x[0],x[1],x[2],country_convert(x[2])+\" \"+x[3])).collect()\n",
    "print('\\n')\n",
    "for item in result:\n",
    "    print(item)"
   ]
  },
  {
   "cell_type": "code",
   "execution_count": 4,
   "id": "d8203980-5c79-4ea4-aa71-89116ed64048",
   "metadata": {},
   "outputs": [],
   "source": [
    "# Excercise 2\n",
    "# Count the number of times the word 'to' appears in a line and the number of lines in the bible.txt file\n",
    "# Use Accumulators\n",
    "\n",
    "input_file_path=\"bible.txt\"\n",
    "rdd = sc.textFile(input_file_path)"
   ]
  },
  {
   "cell_type": "code",
   "execution_count": 6,
   "id": "3f77af43-8f73-4707-a7d5-9d87e9b5f54d",
   "metadata": {},
   "outputs": [
    {
     "name": "stdout",
     "output_type": "stream",
     "text": [
      "Number of lines containing the keyword 'to': 16548 in a total of 30383 lines\n"
     ]
    }
   ],
   "source": [
    "# Solution\n",
    "\n",
    "keyword = \"to\"\n",
    "accumulator_word = sc.accumulator(0)\n",
    "accumulator_lines = sc.accumulator(0)\n",
    "\n",
    "# Define a function to check if a line contains the keyword and update the accumulator\n",
    "def process_line(line):\n",
    "    global accumulator_word\n",
    "    global accumulator_lines\n",
    "    accumulator_lines += 1\n",
    "    if keyword in line:\n",
    "        accumulator_word += 1\n",
    "\n",
    "# Load file\n",
    "rdd = sc.textFile(input_file_path)\n",
    "\n",
    "# Use the accumulators\n",
    "rdd.foreach(process_line)\n",
    "\n",
    "print(\"Number of lines containing the keyword '{}': {} in a total of {} lines\" \\\n",
    "      .format(keyword, accumulator_word.value, accumulator_lines.value))"
   ]
  },
  {
   "cell_type": "code",
   "execution_count": 7,
   "id": "80da84d3-032d-4a1a-a122-9b15f3b19b4e",
   "metadata": {},
   "outputs": [],
   "source": [
    "# Excercise 3\n",
    "# Write the RDD containing the pagecounts dataset \n",
    "# Write the RDD but with only 2 partitions+\n",
    "# Use Repartition\n",
    "\n",
    "input_file_path=\"pagecounts\"\n",
    "rdd = sc.textFile(input_file_path)"
   ]
  },
  {
   "cell_type": "code",
   "execution_count": 8,
   "id": "603d6ca5-8429-4f45-b216-9086a8e22a7e",
   "metadata": {},
   "outputs": [],
   "source": [
    "# Solution\n",
    "\n",
    "reparted_rdd = rdd.repartition(2)\n",
    "\n",
    "output_directory = 'output'\n",
    "output_reparted_directory = 'output_reparted'\n",
    "\n",
    "rdd.saveAsTextFile(output_directory)\n",
    "reparted_rdd.saveAsTextFile(output_reparted_directory)"
   ]
  },
  {
   "cell_type": "code",
   "execution_count": 9,
   "id": "5f36a976-62ce-491f-887c-76e3f4ddb1d2",
   "metadata": {},
   "outputs": [],
   "source": [
    "# Excercise 4\n",
    "# Check the differences in computation time when using cache method on an rdd\n",
    "# read pagecount files and count lines with and without using cache method\n",
    "# show the time differences\n",
    "# Use Cache\n",
    "\n",
    "input_file_path=\"pagecounts\"\n",
    "rdd = sc.textFile(input_file_path)\n"
   ]
  },
  {
   "cell_type": "code",
   "execution_count": 10,
   "id": "81b44d20-0832-4ea2-916a-4539eaa32aa5",
   "metadata": {},
   "outputs": [
    {
     "name": "stdout",
     "output_type": "stream",
     "text": [
      "Execution time without cache: 5.474665 seconds\n",
      "Execution time with cache: 3.362903 seconds\n"
     ]
    }
   ],
   "source": [
    "# Solution\n",
    "import time\n",
    "\n",
    "cache_rdd = rdd.cache()\n",
    "\n",
    "start_time = time.time()\n",
    "cache_rdd.count()\n",
    "end_time = time.time()\n",
    "total_time = end_time - start_time\n",
    "print(f\"Execution time without cache: {total_time:.6f} seconds\")\n",
    "\n",
    "start_time = time.time()\n",
    "cache_rdd.count()\n",
    "end_time = time.time()\n",
    "total_time = end_time - start_time\n",
    "print(f\"Execution time with cache: {total_time:.6f} seconds\")\n",
    "\n",
    "# cache is the shorthand for persist(StorageLevel.MEMORY_ONLY)"
   ]
  },
  {
   "cell_type": "code",
   "execution_count": null,
   "id": "5f7c0626-6da3-45a3-b58b-5783c408bee5",
   "metadata": {},
   "outputs": [],
   "source": [
    "# Excercise 5\n",
    "# use spark-submit to launch the app.py file by yourself\n",
    "# :)"
   ]
  },
  {
   "cell_type": "code",
   "execution_count": 6,
   "id": "67d36129-0b5f-4c19-9f6d-f2f24cb38513",
   "metadata": {},
   "outputs": [],
   "source": [
    "sc.stop()"
   ]
  },
  {
   "cell_type": "code",
   "execution_count": null,
   "id": "32315f24-04f6-4cab-9830-40212fac9351",
   "metadata": {},
   "outputs": [],
   "source": []
  }
 ],
 "metadata": {
  "kernelspec": {
   "display_name": "Python 3 (ipykernel)",
   "language": "python",
   "name": "python3"
  },
  "language_info": {
   "codemirror_mode": {
    "name": "ipython",
    "version": 3
   },
   "file_extension": ".py",
   "mimetype": "text/x-python",
   "name": "python",
   "nbconvert_exporter": "python",
   "pygments_lexer": "ipython3",
   "version": "3.10.12"
  }
 },
 "nbformat": 4,
 "nbformat_minor": 5
}
