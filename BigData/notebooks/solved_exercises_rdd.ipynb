{
 "cells": [
  {
   "cell_type": "code",
   "execution_count": null,
   "id": "97072e7c-f604-4e34-a8bf-e249da6de9b1",
   "metadata": {
    "editable": true,
    "slideshow": {
     "slide_type": ""
    },
    "tags": []
   },
   "outputs": [],
   "source": [
    "# Create Spark Context with SparkConf\n",
    "from pyspark import SparkConf, SparkContext\n",
    "conf = SparkConf()\n",
    "conf.setMaster(\"local[*]\").setAppName(\"app\")\n",
    "sc = SparkContext.getOrCreate(conf)\n",
    "sc.setLogLevel(\"ERROR\")"
   ]
  },
  {
   "cell_type": "code",
   "execution_count": null,
   "id": "ae534bca-0f72-4863-8401-338818efd550",
   "metadata": {},
   "outputs": [],
   "source": [
    "inputFilePath=\"pagecounts\"\n",
    "rdd = sc.textFile(inputFilePath)"
   ]
  },
  {
   "cell_type": "code",
   "execution_count": null,
   "id": "7aea2eb3-1676-406d-9dfc-c09fb1360ba4",
   "metadata": {},
   "outputs": [],
   "source": [
    "# Exercise 1\n",
    "\n",
    "rdd1 = rdd.map(lambda line: line.split(' '))\n",
    "for line in rdd1.take(10):\n",
    "    print(line)\n",
    "    "
   ]
  },
  {
   "cell_type": "code",
   "execution_count": null,
   "id": "1c177878-0375-4a50-b86a-0e9a2529eebf",
   "metadata": {},
   "outputs": [],
   "source": [
    "# Exercise 2\n",
    "\n",
    "numLines = rdd.count()\n",
    "print('Number of pages:',numLines)\n"
   ]
  },
  {
   "cell_type": "code",
   "execution_count": null,
   "id": "178c213d-89c3-4f0b-90f4-4e0725a31a85",
   "metadata": {},
   "outputs": [],
   "source": [
    "# Exercise 3\n",
    "\n",
    "# using the mapped rdd\n",
    "enPages1 = rdd1.filter(lambda line: line[0].__eq__('en')) # this is the same as line[0] == 'en'\n",
    "# using the raw rdd\n",
    "enPages2 = rdd.filter(lambda line: line.startswith('en')) # :)\n",
    "enPages = enPages2\n",
    "\n",
    "numEnLines1 = enPages1.count()\n",
    "numEnLines2 = enPages2.count()\n",
    "print('\\nNumber of EN pages:',numEnLines1)\n",
    "print('\\nNumber of EN pages:',numEnLines2)\n"
   ]
  },
  {
   "cell_type": "code",
   "execution_count": null,
   "id": "d7fdf50e-fb57-4237-a0bb-d3df9a219e07",
   "metadata": {},
   "outputs": [],
   "source": [
    "# Exercise 4\n",
    "\n",
    "enPagesTuples = enPages.flatMap(lambda line: [(pieces[0], pieces[1], int(pieces[2]), int(pieces[3]))\n",
    "                                                 for pieces in [line.split(\" \")] if len(pieces) == 4])\n",
    "for line in enPagesTuples.take(10):\n",
    "    print(line)"
   ]
  },
  {
   "cell_type": "code",
   "execution_count": null,
   "id": "8ac6aa18-75dd-481a-a180-eff060ac13b0",
   "metadata": {},
   "outputs": [],
   "source": [
    "# Exercise 5\n",
    "\n",
    "topSortedEnPages = enPagesTuples.sortBy(lambda x: x[2], ascending=False) \\\n",
    ".take(5) \\\n",
    "\n",
    "for page in topSortedEnPages:\n",
    "    print(page)"
   ]
  },
  {
   "cell_type": "code",
   "execution_count": null,
   "id": "fbea2883-7ee7-4517-b303-432c044a50f8",
   "metadata": {},
   "outputs": [],
   "source": [
    "# Exercise 6\n",
    "\n",
    "import time\n",
    "start_time = time.time()\n",
    "\n",
    "top = enPagesTuples.sortBy(lambda x: x[2], ascending=False).first()\n",
    "\n",
    "end_time = time.time()\n",
    "elapsed_time = end_time - start_time\n",
    "\n",
    "print('Name: ' + top[1] + \"\\tNumber of Visists: \" + str(top[2]))\n",
    "print(f\"Execution time: {elapsed_time} seconds\")"
   ]
  },
  {
   "cell_type": "code",
   "execution_count": null,
   "id": "be37db9f-1dd8-4d25-8d10-86ad26aa951c",
   "metadata": {},
   "outputs": [],
   "source": [
    "# Exercise 6\n",
    "# Another option. Lower complexity\n",
    "\n",
    "import time\n",
    "start_time = time.time()\n",
    "\n",
    "maxValue = enPagesTuples.map(lambda x: x[2]).reduce(lambda x, y: max(x, y))\n",
    "top = enPagesTuples.filter(lambda x: x[2] == maxValue).first()\n",
    "\n",
    "end_time = time.time()\n",
    "elapsed_time = end_time - start_time\n",
    "\n",
    "print('Name: ' + top[1] + \"\\tNumber of Visists: \" + str(top[2]))\n",
    "print(f\"Execution time: {elapsed_time} seconds\")"
   ]
  },
  {
   "cell_type": "code",
   "execution_count": null,
   "id": "93b9760a-eb16-4f4b-88b3-bcc714c00408",
   "metadata": {},
   "outputs": [],
   "source": [
    "# Exercise 6\n",
    "# Yet another, even better option\n",
    "\n",
    "import time\n",
    "start_time = time.time()\n",
    "\n",
    "top = enPagesTuples.reduce(lambda t1, t2: t1 if t1[2] > t2[2] else t2)\n",
    "\n",
    "end_time = time.time()\n",
    "elapsed_time = end_time - start_time\n",
    "\n",
    "print('Name: ' + top[1] + \"\\tNumber of Visists: \" + str(top[2]))\n",
    "print(f\"Execution time: {elapsed_time} seconds\")"
   ]
  },
  {
   "cell_type": "code",
   "execution_count": null,
   "id": "2af1fea0-0ff4-40a3-8a31-68526bc9d921",
   "metadata": {},
   "outputs": [],
   "source": [
    "# Exercise 7\n",
    "\n",
    "from pyspark.rdd import RDD\n",
    "\n",
    "def histogram(page_rdd: RDD, n_bins: int) -> RDD:\n",
    "    # First, calculate the bounds (min and max)\n",
    "    bounds = page_rdd.map(lambda x: (x[2], x[2])).reduce(lambda t1, t2: (min(t1[0], t2[0]), max(t1[1], t2[1])))\n",
    "\n",
    "    hist_range = bounds[1] - bounds[0]\n",
    "    bin_width = hist_range / n_bins\n",
    "    print('bounds:' ,bounds)\n",
    "    for i in range(0,n_bins-1):\n",
    "        print(bounds[0]+bin_width*i,bounds[0]+ bin_width*(i+1))\n",
    "\n",
    "    histogram_result = page_rdd.map(lambda t: ((t[2] - bounds[0]) // bin_width) * bin_width + bounds[0]) \\\n",
    "            .groupBy(lambda x: x) \\\n",
    "            .map(lambda t: (t[0], len(list(t[1])))) \\\n",
    "            .sortBy(lambda x: x[0])\n",
    "    \n",
    "\n",
    "    return histogram_result\n",
    "    \n",
    "print('\\n Histogram bins:')\n",
    "for item in histogram(enPagesTuples, 20).collect():\n",
    "    print(item)"
   ]
  },
  {
   "cell_type": "code",
   "execution_count": null,
   "id": "de05e645-3d74-4f86-9e1e-6f94c16dfb89",
   "metadata": {},
   "outputs": [],
   "source": [
    "# Exercise 7 Pro\n",
    "\n",
    "from pyspark import RDD\n",
    "\n",
    "def create_histogram(page_rdd: RDD, n_bins: int):\n",
    "    # First, calculate the bounds (min and max)\n",
    "    bounds = page_rdd.map(lambda x: (x[2], x[2])) \\\n",
    "                    .reduce(lambda t1, t2: (min(t1[0], t2[0]), max(t1[1], t2[1])))\n",
    "\n",
    "    hist_range = bounds[1] - bounds[0]\n",
    "    bin_width = hist_range / n_bins\n",
    "\n",
    "    histogram_result = page_rdd.map(lambda t: ((t[2] - bounds[0]) // bin_width) * bin_width + bounds[0]) \\\n",
    "                           .groupBy(lambda x: x) \\\n",
    "                           .map(lambda t: (t[0], len(list(t[1])))) \\\n",
    "                           .sortBy(lambda x: x[0]) \\\n",
    "                           .collect()  # Collect the results to print\n",
    "\n",
    "    max_count = max(histogram_result, key=lambda x: x[1])[1]\n",
    "    print('Histogram:')\n",
    "    for bin_start, count in histogram_result:\n",
    "        bin_end = bin_start + bin_width\n",
    "        bar_length = int(40 * count / max_count)  # Adjust the scale for visualization\n",
    "        print(f\"{bin_start:.2f} - {bin_end:.2f}: {'*' * bar_length} ({count})\")\n",
    "\n",
    "# Assuming you have enPagesTuples and nBins defined elsewhere\n",
    "create_histogram(enPagesTuples, 20)"
   ]
  },
  {
   "cell_type": "code",
   "execution_count": null,
   "id": "cc98506e-cf88-4a5d-a4a7-be45fb11ed5b",
   "metadata": {
    "editable": true,
    "slideshow": {
     "slide_type": ""
    },
    "tags": []
   },
   "outputs": [],
   "source": [
    "# Stop the SparkContext\n",
    "sc.stop()"
   ]
  },
  {
   "cell_type": "code",
   "execution_count": null,
   "id": "2dfdb90f-9315-410d-89f8-be98f157a6c4",
   "metadata": {},
   "outputs": [],
   "source": []
  }
 ],
 "metadata": {
  "kernelspec": {
   "display_name": "Python 3 (ipykernel)",
   "language": "python",
   "name": "python3"
  },
  "language_info": {
   "codemirror_mode": {
    "name": "ipython",
    "version": 3
   },
   "file_extension": ".py",
   "mimetype": "text/x-python",
   "name": "python",
   "nbconvert_exporter": "python",
   "pygments_lexer": "ipython3",
   "version": "3.10.12"
  }
 },
 "nbformat": 4,
 "nbformat_minor": 5
}
